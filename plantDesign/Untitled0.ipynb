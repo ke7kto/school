{
 "metadata": {
  "name": "",
  "signature": "sha256:1134570025489da86df0b69934397636e883509147cc56abbab7cae23e586ac9"
 },
 "nbformat": 3,
 "nbformat_minor": 0,
 "worksheets": [
  {
   "cells": [
    {
     "cell_type": "code",
     "collapsed": false,
     "input": [
      "consts?"
     ],
     "language": "python",
     "metadata": {},
     "outputs": [],
     "prompt_number": 1
    },
    {
     "cell_type": "code",
     "collapsed": false,
     "input": [
      "Vol = 4/3*(consts.foot*20/2)**3*np.pi\n"
     ],
     "language": "python",
     "metadata": {},
     "outputs": [],
     "prompt_number": 5
    },
    {
     "cell_type": "code",
     "collapsed": false,
     "input": [
      "Vliq=Vol/2\n",
      "Vm = 0.1174 #m^3/kmol\n",
      "molLiq=Vliq/Vm*1000"
     ],
     "language": "python",
     "metadata": {},
     "outputs": [],
     "prompt_number": 10
    },
    {
     "cell_type": "code",
     "collapsed": false,
     "input": [
      "Vvap = Vol/2\n",
      "P = 10238\n",
      "T = 373.15\n",
      "Vmvap =consts.R*T/P\n",
      "molVap = Vvap/Vmvap"
     ],
     "language": "python",
     "metadata": {},
     "outputs": [],
     "prompt_number": 13
    },
    {
     "cell_type": "code",
     "collapsed": false,
     "input": [
      "print(\"There are {:,.5g} moles in the liquid and {:,.5g} moles\\\n",
      " in the vapor for a total of {:.5g} moles dichlorobenzene\".format(molLiq,molVap,molLiq+molVap))\n",
      "print(\"The pressure is {:,.5g} Pa ({:f} atm)\".format(P,P/consts.atm))"
     ],
     "language": "python",
     "metadata": {},
     "outputs": [
      {
       "output_type": "stream",
       "stream": "stdout",
       "text": [
        "There are 5.0517e+05 moles in the liquid and 195.7 moles in the vapor for a total of 5.0536e+05 moles dichlorobenzene\n",
        "The pressure is 10,238 Pa (0.101041 atm)\n"
       ]
      }
     ],
     "prompt_number": 26
    },
    {
     "cell_type": "code",
     "collapsed": false,
     "input": [
      "A = np.array([[110550, 0],[0,37380]])\n",
      "y = np.array([0.3,0.7])\n",
      "x = np.linalg.solve(A,y)\n",
      "P = 1/np.sum(x)\n",
      "x = x*P\n",
      "print(P,x)"
     ],
     "language": "python",
     "metadata": {},
     "outputs": [
      {
       "output_type": "stream",
       "stream": "stdout",
       "text": [
        "46641.1471913 [ 0.12657028  0.87342972]\n"
       ]
      }
     ],
     "prompt_number": 60
    },
    {
     "cell_type": "code",
     "collapsed": false,
     "input": [
      "A = np.array([[.285,1],[1,1]])\n",
      "b = np.array([0.5,1])\n",
      "x = np.linalg.solve(A,b)\n",
      "print(x*1000)"
     ],
     "language": "python",
     "metadata": {},
     "outputs": [
      {
       "output_type": "stream",
       "stream": "stdout",
       "text": [
        "[ 699.3006993  300.6993007]\n"
       ]
      }
     ],
     "prompt_number": 38
    },
    {
     "cell_type": "code",
     "collapsed": false,
     "input": [
      "x=0.208\n",
      "y = .475\n",
      "P = 189.8\n",
      "Psat = 198.5\n",
      "gamma = y*Psat/P/x\n",
      "print(gamma)"
     ],
     "language": "python",
     "metadata": {},
     "outputs": [
      {
       "output_type": "stream",
       "stream": "stdout",
       "text": [
        "2.3883313406824995\n"
       ]
      }
     ],
     "prompt_number": 39
    },
    {
     "cell_type": "code",
     "collapsed": false,
     "input": [
      "f=0.02\n",
      "D = 8*consts.inch\n",
      "l = 300*consts.foot\n",
      "k = 3+1\n",
      "V = np.array([500,1000,1500,2000,2500])*consts.gallon/60\n",
      "v = V/(np.pi*D**2/4)\n",
      "(v**2 / (2*consts.g) * (f*l/D+k) )/consts.foot + 50\n"
     ],
     "language": "python",
     "metadata": {},
     "outputs": [
      {
       "metadata": {},
       "output_type": "pyout",
       "prompt_number": 58,
       "text": [
        "array([  52.05762823,   58.2305129 ,   68.51865403,   82.9220516 ,\n",
        "        101.44070563])"
       ]
      }
     ],
     "prompt_number": 58
    },
    {
     "cell_type": "code",
     "collapsed": false,
     "input": [
      "dT = 290-150\n",
      "Tin = 300\n",
      "mcpHot = 2500*4\n",
      "mcpCool = 2000*4\n",
      "Tintermediate = Tin -2/2.5 * dT\n",
      "Qhot = (Tintermediate-100)*mcpHot\n",
      "Qcool = (350-290)*mcpCool"
     ],
     "language": "python",
     "metadata": {},
     "outputs": [],
     "prompt_number": 70
    },
    {
     "cell_type": "code",
     "collapsed": false,
     "input": [
      "print(\"Q hot: {:,.3g}\\nQ cold: {:,.3g}\\n\".format(Qhot,Qcool))"
     ],
     "language": "python",
     "metadata": {},
     "outputs": [
      {
       "output_type": "stream",
       "stream": "stdout",
       "text": [
        "Q hot: 8.8e+05\n",
        "Q cold: 4.8e+05\n",
        "\n"
       ]
      }
     ],
     "prompt_number": 73
    },
    {
     "cell_type": "code",
     "collapsed": false,
     "input": [
      "consts.foot"
     ],
     "language": "python",
     "metadata": {},
     "outputs": [
      {
       "metadata": {},
       "output_type": "pyout",
       "prompt_number": 48,
       "text": [
        "0.30479999999999996"
       ]
      }
     ],
     "prompt_number": 48
    },
    {
     "cell_type": "code",
     "collapsed": false,
     "input": [
      "print(\"{:,.0f}\".format(200*10000))\n",
      "print(\"{:,.0f}\".format(200*8000))"
     ],
     "language": "python",
     "metadata": {},
     "outputs": [
      {
       "output_type": "stream",
       "stream": "stdout",
       "text": [
        "2,000,000\n",
        "1,600,000\n"
       ]
      }
     ],
     "prompt_number": 78
    },
    {
     "cell_type": "code",
     "collapsed": false,
     "input": [],
     "language": "python",
     "metadata": {},
     "outputs": []
    }
   ],
   "metadata": {}
  }
 ]
}