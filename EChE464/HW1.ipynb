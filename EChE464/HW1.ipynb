{
 "metadata": {
  "name": "",
  "signature": "sha256:98c61939d82e1579460ffcd93ad372974fb763636287780e39ce990da984b1b3"
 },
 "nbformat": 3,
 "nbformat_minor": 0,
 "worksheets": [
  {
   "cells": [
    {
     "cell_type": "markdown",
     "metadata": {},
     "source": [
      "First, we need to generate a spline of the data, and remove the points that don't exist from the table. I will be using the Gibbs convention."
     ]
    },
    {
     "cell_type": "code",
     "collapsed": false,
     "input": [
      "%matplotlib qt\n",
      "import scipy.interpolate as sci\n",
      "import scipy.optimize as sco\n",
      "import scipy.constants as c\n",
      "import numpy as np\n",
      "from mpl_toolkits.mplot3d import Axes3D"
     ],
     "language": "python",
     "metadata": {},
     "outputs": [],
     "prompt_number": 1
    },
    {
     "cell_type": "code",
     "collapsed": false,
     "input": [
      "x = np.nan\n",
      "gamma = np.array([[73.7,72.5,71.2,68.4,65.3,62.2,59.0],\n",
      "                  [71.0,69.5,68.1,65.8,63.4,60.5,57.4],\n",
      "                  [65.0,64.3,63.5,62.2,40.4,58.2,55.5],\n",
      "                  [62.0,59.9,58.6,56.8,55.2,53.9,52.3],\n",
      "                  [52.2,51.1,50.3,48.8,47.5,46.6,46.0],\n",
      "                  [45.9,44.0,42.4,40.9,40.0,39.5,39.2],\n",
      "                  [35.9,34.8,33.8,32.5,31.4,31.1,31.0],\n",
      "                  [28.2,x   ,26.6,x   ,23.2,21.4,19.7]],np.float64)\n",
      "\n",
      "#Data for this problem set was taken from Vargaftik, Volkov and Voljack, International tables\n",
      "#of the surface tension of water,\n",
      "#Journal of Physical Chemistry Reference Data, Vol 12, No 3. 1983\n",
      "#www.nist.gov/data/PDFfiles/jpcrd231.pdf\n",
      "surfaceTensionH2O = np.array([75.64,74.95,74.23,73.5,72.75,71.99,71.20,\\\n",
      "                              70.41,69.6,68.78,67.94,67.1,66.24,65.36,64.47,63.58,62.67,61.75,60.82,59.87,58.91])\n",
      "TsforST = np.arange(0.,101,5)\n",
      "TsforST[0]=0.01\n",
      "stH2O = sci.interp1d(TsforST,surfaceTensionH2O)\n",
      "\n",
      "\n",
      "conc = np.array([0.007,0.021,0.050,0.104,0.246,0.489,1.006,11.04],np.float64)\n",
      "T = np.array([0,10,20,40,60,80,100])\n",
      "molNumUnits = \"millimole/m^2\"\n",
      "weights = np.ones(gamma.shape)\n",
      "mask = np.isnan(gamma)\n",
      "weights[mask]=0\n",
      "#gamma[mask]=20"
     ],
     "language": "python",
     "metadata": {},
     "outputs": [],
     "prompt_number": 2
    },
    {
     "cell_type": "markdown",
     "metadata": {},
     "source": [
      "Now, we need a relation between $\\gamma$ and everything else. We know that\n",
      "$\\renewcommand{\\d}[0]{\\mathrm{d}}$\n",
      "$$\\left|\\frac{\\mathrm{d}\\gamma}{\\mathrm{d}T}\\right|_{\\mu} = -\\bar{S}$$\n",
      "$$\\left|\\frac{\\mathrm{d}\\gamma}{\\mathrm{d}\\mu}\\right|_{T} = -\\Gamma$$\n",
      "with these two relations, we need only to relate concentration to chemical potential.\n",
      "\n",
      "$$\\mu = \\mu^{\\circ} + RT\\ln{(a)}$$\n",
      "$$a(C) = \\alpha C$$\n",
      "\n",
      "We will assume that the concentration is small enough for $\\alpha = 1$ in order to make this problem tractable. \n",
      "$$\\therefore a(C) = C\\Rightarrow\\mu = \\mu^{\\circ} + RT\\ln{(C)}$$\n",
      "and\n",
      "$$\\d\\mu = R\\ln{(C)} \\d T + \\frac{RT}{C} \\d C$$\n",
      "Limiting ourselves to isotherms eliminates the first term in the equation, while constant concentration eliminates the second\n"
     ]
    },
    {
     "cell_type": "code",
     "collapsed": false,
     "input": [
      "T2 = np.tile(T,(np.size(conc),1))[~mask].ravel()\n",
      "c2 = np.tile(conc,(np.size(T),1)).T[~mask].ravel()\n",
      "g2 = gamma[~mask].ravel()\n",
      "mu2 = c.R*c.C2K(T2) *np.log(c2)\n",
      "weights = weights[~mask]\n",
      "gammaF=sci.bisplrep(c.C2K(T2),mu2,g2,w=weights.ravel(),quiet=1)\n",
      "def gF(x,y,g=gammaF,dx=0,dy=0):\n",
      "    return sci.bisplev(c.C2K(x),y,gammaF,dx=dx,dy=dy)"
     ],
     "language": "python",
     "metadata": {},
     "outputs": [
      {
       "output_type": "stream",
       "stream": "stdout",
       "text": [
        "Warning:     The required storage space exceeds the available storage space.\n",
        "    Probably causes: nxest or nyest too small or s is too small. (fp>s)\n",
        "\tkx,ky=3,3 nx,ny=9,9 m=54 fp=320.604436 s=43.607695\n"
       ]
      }
     ],
     "prompt_number": 3
    },
    {
     "cell_type": "code",
     "collapsed": false,
     "input": [
      "Sbar = - gF(20,c.R*293*np.log(0.05),dx=1)\n",
      "Gamma = - gF(20,c.R*293*np.log(0.05),dy=1)\n",
      "print(\"Excess Entropy\",\"= {:.2f} mN/(m K)\\r\\nExcess Mole Number= {:.2e} {}\".format(Sbar,Gamma,molNumUnits))\n",
      "def myFunc(x):\n",
      "    return gF(20,x,dy=1)\n",
      "num = sco.minimize(myFunc,-300,method='Powell')"
     ],
     "language": "python",
     "metadata": {},
     "outputs": [
      {
       "output_type": "stream",
       "stream": "stdout",
       "text": [
        "Excess Entropy = 0.27 mN/(m K)\r\n",
        "Excess Mole Number= 2.47e-03 millimole/m^2\n"
       ]
      }
     ],
     "prompt_number": 4
    },
    {
     "cell_type": "markdown",
     "metadata": {},
     "source": [
      "b) Discuss the meaning of the number for $\\Gamma$ computed in (a) in terms of molecular distribution functions (density of n-butyric acid with z) as might be determined by an MD Simulation. Calculate a reasonable $\\Gamma_\\mathrm{Max}$ for $T=20^\\circ C$\n",
      "\n",
      "$\\Gamma$ is the excess surface energy per change in chemical potential of the system. \n",
      "$$\\left|\\frac{\\mathrm{d}\\gamma}{\\mathrm{d}\\mu}\\right|_{T} = -\\Gamma$$\n",
      "so an increase in the concentration at the surface will tend to reduce surface energy, which means that it is energetically favorable for the system to concentrate n-butyric acid at the surface. this means that the interface would be lined with n-butyric acid. "
     ]
    },
    {
     "cell_type": "code",
     "collapsed": false,
     "input": [
      "print(\"The maximum excess mole number is {:.2e} {} at 293 Kelvin\".format(-myFunc(num.x.item()),molNumUnits))"
     ],
     "language": "python",
     "metadata": {},
     "outputs": [
      {
       "output_type": "stream",
       "stream": "stdout",
       "text": [
        "The maximum excess mole number is 4.79e-03 millimole/m^2 at 293 Kelvin\n"
       ]
      }
     ],
     "prompt_number": 5
    },
    {
     "cell_type": "code",
     "collapsed": false,
     "input": [
      "Ts = np.linspace(0,100)\n",
      "concs = np.linspace(0.007,1)\n",
      "mus = c.R*c.C2K(Ts)*np.log(concs)\n",
      "X,Y = np.meshgrid(Ts,mus)\n",
      "zs = np.array([gF(Ts,mus) for Ts,mus in zip(np.ravel(X),np.ravel(Y))])\n",
      "Z = zs.reshape(X.shape)\n",
      "fig = plt.figure()\n",
      "ax = fig.add_subplot(111,projection='3d')\n",
      "ax.plot_surface(X,Y,Z)\n",
      "ax.scatter(T2,mu2,g2,c='red')\n",
      "ax.set_xlabel('Temp')\n",
      "ax.set_ylabel('Chemical Activity')\n",
      "ax.set_zlabel('$\\gamma$')\n"
     ],
     "language": "python",
     "metadata": {},
     "outputs": [
      {
       "metadata": {},
       "output_type": "pyout",
       "prompt_number": 6,
       "text": [
        "<matplotlib.text.Text at 0x7f242c097470>"
       ]
      }
     ],
     "prompt_number": 6
    },
    {
     "cell_type": "code",
     "collapsed": false,
     "input": [
      "fig=plt.figure(figsize=(10,4))\n",
      "fig.add_subplot(121)\n",
      "plt.plot(mus,-gF(20,mus,dy=1),label='Spline fit derivative')\n",
      "if num.success:\n",
      "    plt.plot(num.x,-gF(20,num.x,dy=1),'ro',label='Maximum')\n",
      "    plt.plot(c.R*c.C2K(20)*np.log(conc),-gF(20,c.R*c.C2K(20)*np.log(conc),dy=1),'bx',label='data')\n",
      "    plt.legend(loc=\"best\")\n",
      "fig.add_subplot(122)\n",
      "plt.plot(concs,-gF(20,mus,dy=1),label='Spline fit derivative')\n",
      "if num.success:\n",
      "    plt.plot(np.exp(num.x/(c.R*c.C2K(20))),-gF(20,num.x,dy=1),'ro',label='Maximum')\n",
      "    plt.plot(conc,-gF(20,c.R*c.C2K(20)*np.log(conc),dy=1),'bx',label='data')\n",
      "    plt.legend(loc=\"best\")"
     ],
     "language": "python",
     "metadata": {},
     "outputs": []
    },
    {
     "cell_type": "markdown",
     "metadata": {},
     "source": [
      "The thermodynamic variables that can be computed from this table include the following excess properties:\n",
      "Temperature, entropy, enthalpy, chemical potential, excess mole number. \n",
      "$$\\left|\\frac{\\mathrm{d}\\gamma}{\\mathrm{d}T}\\right|_{\\mu} = -\\bar{S}$$\n",
      "$$\\left|\\frac{\\mathrm{d}\\gamma}{\\mathrm{d}\\mu}\\right|_{T} = -\\Gamma$$\n",
      "$$\\gamma - T\\left|\\frac{\\d \\gamma}{\\d T}\\right| = \\bar{H}$$\n",
      "$$\\mu = \\mu^{\\circ} + RT\\ln{(a)}$$\n",
      "Taking $\\mu^{\\circ}=0$ (excess chemical potential) allows us to calculate the previous derivatives numerically. Doing a spline fit of the table results in the ability to take derivatives, which is important for our purposes. The error will be the smallest for chemical potential, and will be larger for the derivative based properties. The equation for enthalpy, while true, uses both the chemical potential and its derivative, so it should be used with a lot of caution.\n",
      "\n",
      "The limitations of the Langmuir isotherm include that it cannot accurately predict behavior around the critical micellar concentration, or above that concentration. It also cannot predict when the excess mol number will be negative, which can happen in reality."
     ]
    },
    {
     "cell_type": "code",
     "collapsed": false,
     "input": [
      "def excessEntropy(T,conc):\n",
      "    mu = c.R*c.C2K(T)*np.log(conc)\n",
      "    return -gF(T,mu,dx=1)\n",
      "def excessMolNum(T,conc):\n",
      "    mu = c.R*c.C2K(T)*np.log(conc)\n",
      "    return -gF(T,mu,dx=1)\n",
      "def excessChemicalPotential(T,conc):\n",
      "    return c.R*c.C2K(T)*np.log(conc)\n",
      "def excessEnthalpy(T,conc):\n",
      "    mu = c.R*c.C2K(T)*np.log(conc)\n",
      "    return gF(T,mu)- T * gF(T,mu,dx=1)"
     ],
     "language": "python",
     "metadata": {},
     "outputs": []
    },
    {
     "cell_type": "markdown",
     "metadata": {},
     "source": [
      "$$\\frac{\\pi}{kT\\Gamma} = 1 + B\\Gamma + C\\Gamma^2 +\\ldots$$\n",
      "$$\\frac{\\pi}{kT} = \\Gamma + B\\Gamma^2 + C\\Gamma^3 +\\ldots$$\n",
      "\n",
      "In order to do a least-squares regression, we define the sum of squares function $S$\n",
      "\n",
      "$$S(B,C,\\ldots) = \\sum_{i=1}^N (e_i)^2 = \\sum_{i=1}^N (\\frac{\\pi_i}{kT} -  \\Gamma_i - B\\Gamma_i^2 - C\\Gamma_i^3 - \\ldots)^2$$\n",
      "$$\\frac{\\partial S}{\\partial B} = \\sum_{i=1}^N 2(\\frac{\\pi_i}{kT} -  \\Gamma_i - B\\Gamma_i^2 - C\\Gamma_i^3 - \\ldots)(-\\Gamma^2)=0$$\n",
      "$$\\frac{\\partial S}{\\partial C} = \\sum_{i=1}^N 2(\\frac{\\pi_i}{kT} -  \\Gamma_i - B\\Gamma_i^2 - C\\Gamma_i^3 - \\ldots)(-\\Gamma^3)=0$$\n",
      "And so forth. This can be rewritten in the form:\n",
      "$$\\sum_{i=1}^N \\frac{\\pi_i}{kT} = \\sum_{i=1}^N \\Gamma_i^2 + \\sum_{i=1}^N B\\Gamma_i^3 + \\sum_{i=1}^N C\\Gamma_i^4 + \\ldots $$\n",
      "$$\\sum_{i=1}^N \\frac{\\pi_i}{kT} = \\sum_{i=1}^N \\Gamma_i^3 + \\sum_{i=1}^N B\\Gamma_i^4 + \\sum_{i=1}^N C\\Gamma_i^5 + \\ldots $$\n",
      "Or in matrix form:\n",
      "$$Y = Ax$$\n",
      "$$Y = \\begin{pmatrix}\n",
      "\\sum_{i=1}^N \\frac{\\pi_i}{kT}\\Gamma_i^2\\\\\n",
      "\\sum_{i=1}^N \\frac{\\pi_i}{kT}\\Gamma_i^3\\\\\n",
      "\\sum_{i=1}^N \\frac{\\pi_i}{kT}\\Gamma_i^4\\\\ \\ldots\\end{pmatrix}$$\n",
      "$$A = \\begin{pmatrix}B \\\\ C \\\\ D \\\\ \\ldots\\end{pmatrix}$$\n",
      "$$x = \\begin{pmatrix}\\sum_{i=1}^N \\Gamma_i^2 & \\sum_{i=1}^N\\Gamma_i^3 & \\sum_{i=1}^N\\Gamma_i^4 & \\ldots\\end{pmatrix}$$\n",
      "\n",
      "I will also assume a langmuir isotherm\n",
      "$$\\Gamma = \\frac{b C \\Gamma_\\mathrm{max}}{1 + b C}$$"
     ]
    },
    {
     "cell_type": "code",
     "collapsed": false,
     "input": [
      "def y(Temp,deg=2):\n",
      "    if(Temp in T):\n",
      "        c2 = np.array([0.007,0.021,0.050,0.104,0.246,0.489,1.006,11.04],np.float64)\n",
      "        gF2 = sci.interp1d(c2,gamma[:,np.argwhere(T==Temp)].ravel(),kind='linear')\n",
      "        yOut = np.zeros(deg)\n",
      "        for n in range(deg):\n",
      "            Gamma = -gF(Temp,c.R*c.C2K(Temp)*np.log(c2),dy=1)\n",
      "            yOut[n] = np.sum((stH2O(Temp) - gamma[:,np.argwhere(T==Temp)].ravel())\\\n",
      "                               /(c.k*c.C2K(Temp))*(Gamma**(n+2)))\n",
      "        return yOut\n",
      "    else:\n",
      "        return conc*0\n",
      "def x(Temp,deg=2):\n",
      "    c2 = np.array([0.007,0.021,0.050,0.104,0.246,0.489,1.006,11.04],np.float64)\n",
      "    if(Temp in T):\n",
      "        aOut = np.zeros((deg,deg))\n",
      "        Gamma = -gF(Temp,c.R*c.C2K(Temp)*np.log(c2),dy=1)\n",
      "        for n in range(deg):\n",
      "            for m in range(deg):\n",
      "                aOut[n,m] = np.sum(Gamma**(n+m+2))\n",
      "        return aOut\n",
      "    else:\n",
      "        return 0\n",
      "answer = np.linalg.solve(x(20),y(20))\n",
      "print(answer)\n",
      "Gamma = -gF(20,c.R*c.C2K(20)*np.log(np.array([0.007,0.021,0.050,0.104,0.246,0.489,1.006,11.04],np.float64)),dy=1)"
     ],
     "language": "python",
     "metadata": {},
     "outputs": []
    },
    {
     "cell_type": "markdown",
     "metadata": {},
     "source": [
      "This work was done with help from Lichao Liu and Rui, as well as a healthy contribution from J. Adin Mann, PhD."
     ]
    }
   ],
   "metadata": {}
  }
 ]
}