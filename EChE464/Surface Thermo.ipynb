{
 "metadata": {
  "name": "",
  "signature": "sha256:34996857697921721c46d791efa282cc7943cd1eee00f1f7fa272db4edd35ac3"
 },
 "nbformat": 3,
 "nbformat_minor": 0,
 "worksheets": [
  {
   "cells": [
    {
     "cell_type": "markdown",
     "metadata": {},
     "source": [
      "$\\newcommand{\\d}{\\mathrm{d}}$\n",
      "Consider two phases $\\alpha$ and $\\beta$ containing $n_1, n_2, \\ldots, n_k$ moles of components $1,2,\\ldots k$; let $\\sigma$ denote the plane interface between them. Let $E$, $S$ and $V$ be the energy, entropy and volume of the system; $A$ the area of $\\sigma$; $c_i^\\alpha$ and $c_i^\\beta$ the concentrations of $i$ in $\\alpha$ and $\\beta$ at great distance from $\\sigma$; $E^\\alpha, E^\\beta, S^\\alpha$ and $S^\\beta$ the energies and entropies per unit volume in $\\alpha$ and $\\beta$; and let $\\gamma$ be the boundary tension. At equilibrium the temperature $T$, pressure $P$, and chemical potential $\\mu_i$ are uniform throughout the system. Then three equations apply to the system:\n",
      "1. $$0 = - S \\d{T} + V \\d p - A\\d\\gamma - \\sum_{i=1}^{k} n_i \\d\\mu_i $$\n",
      "2. $$0 = - S^\\alpha\\d T + \\d p - \\sum_{i=1}^k c_i^\\alpha \\d\\mu_i$$\n",
      "3. $$0 = - s^\\beta\\d T + \\d p - \\sum_{i=1}^k c_i^\\beta \\d\\mu_i$$\n"
     ]
    },
    {
     "cell_type": "markdown",
     "metadata": {},
     "source": [
      "Equation 1 can be considered to express a functional relation between $\\gamma$ and the $k+2$ variables $T, p, \\mu_1, \\ldots \\mu_k$. Equations 2 and 3 indicate that only $k$ of these variables are independent. Equations 2 and 3 can be used to express any two of the variables $T, p, \\mu_1, \\ldots \\mu_k$ in terms of the remaining $k$ to obtain in Equation 1 a relation between one dependent and $k$ independent variables. Multiply Equation 2 by $\\lambda^\\alpha$, Equation 3 by $\\lambda^\\beta$, and subtract from Equation 1 to obtain:\n",
      "<ol start=\"4\"><li>$$A\\: \\d y = -(S - \\lambda^\\alpha S^\\alpha - \\lambda^\\beta S^\\beta)\\d T + (V - \\lambda^\\alpha - \\lambda^\\beta)\\d P - \\sum_{i=1}^{k}(n_1 - \\lambda^\\alpha c_i^\\alpha -  \\lambda^\\beta c_i^\\beta)\\d\\mu_i$$</li></ol>"
     ]
    },
    {
     "cell_type": "markdown",
     "metadata": {},
     "source": [
      "Elimination of two differentials is simply achieved by choosing $\\lambda^\\alpha$ and $\\lambda^\\beta$ to make their coefficients zero; the same result is obtained in more cumbersome fashion by using Equations 2 and 3 to eliminate them algebraically."
     ]
    },
    {
     "cell_type": "markdown",
     "metadata": {},
     "source": [
      "$\\newcommand{\\minuslab}[1]{\\lambda^\\alpha #1^\\alpha - \\lambda^\\beta #1^\\beta}$\n",
      "Define the quantities $E_d^s$, $S_d^s$, $V_d^s, n_{id}^s$ by \n",
      "- $E_d^s = E - \\minuslab{E}$\n",
      "- $S_d^s = S - \\minuslab{S}$\n",
      "- $V_d^s = V - \\lambda^\\alpha - \\lambda^\\beta$\n",
      "- $n_{id}^s = n_i - \\minuslab{c_i}$\n",
      "\n",
      "And the quantities $\\mathrm{E_d^s, S_d^s, \\tau_d^s, \\Gamma_{id}}$ by \n",
      "$\\newcommand{\\noArea}[1]{A\\mathrm{#1} = #1} $\n",
      "$\\newcommand{\\sGamma}{\\mathrm{\\Gamma}_{id}}$\n",
      "- $\\noArea{E_d^s}$\n",
      "- $\\noArea{S_d^s}$\n",
      "- $A\\tau_d^s = V_d^s$\n",
      "- $A\\mathrm{\\Gamma}_{id} = n_{id}^s$"
     ]
    },
    {
     "cell_type": "markdown",
     "metadata": {},
     "source": [
      "Then:\n",
      "<ol start=\"5\"><li>$$\\d\\gamma = - \\mathrm{S_d^s}\\d T + \\tau_d^s \\d P - \\sum_{i=1}^{k}\\sGamma \\d\\mu_i$$</li></ol>"
     ]
    },
    {
     "cell_type": "markdown",
     "metadata": {},
     "source": [
      "and this equation is basic in the sense that only independent differentials appear on the right hand side if $\\lambda^\\alpha$ and $\\lambda^\\beta$ are chosen to make any two of the quantities $\\mathrm{S_d^s}, \\tau_d^s, \\sGamma\\ldots\\mathrm{\\Gamma_{kd}}$ equal to zero."
     ]
    },
    {
     "cell_type": "markdown",
     "metadata": {},
     "source": [
      "$\\gamma$ is a property of the interface, independent of the amounts of phases $\\alpha$ and $\\beta$ present so long as these amounts are sufficient to extend to appreciable distances away from the interface. Its partial derivatives after the independent variables on which it depends, and therefore such quantities as $\\mathrm{s_d^s}$, $\\tau_d^s$ and $\\sGamma^s$ for a given convention $\\d$, also must be independent of the amounts of $\\alpha$ and $\\beta$ present. This physically obvious result is easily confirmed mathematically; changes in amounts of $\\alpha$ and $\\beta$ present correspond to replacing \n",
      "- $S$ by $\\newcommand{\\plusStuff}[1]{a#1^\\alpha + b#1^\\beta}$ $S + \\plusStuff{\\mathrm{s}}$\n",
      "- $V$ by $V + a+ b$\n",
      "- $n_i$ by $n_i + \\plusStuff{c_i}$"
     ]
    },
    {
     "cell_type": "markdown",
     "metadata": {},
     "source": [
      "It is also readily shown that if $\\lambda^\\alpha$ and $\\lambda^\\beta$ are chosen to make two specified differential coefficients vanish, teh remaining coefficients are independent of $a$ and $b$. The properties $S_d^s$, $\\tau_d^s$, $\\sGamma$, etc. are hence properties of the interface and the convention used to define them, and can be considered specific surface excess quantities."
     ]
    },
    {
     "cell_type": "code",
     "collapsed": false,
     "input": [
      "import numpy as np\n",
      "x = np.arange(-2,2,1e-2)\n",
      "y = np.tanh(x)\n",
      "plt.plot(1-y,x)"
     ],
     "language": "python",
     "metadata": {},
     "outputs": [
      {
       "metadata": {},
       "output_type": "pyout",
       "prompt_number": 11,
       "text": [
        "[<matplotlib.lines.Line2D at 0x7ff8c3665450>]"
       ]
      },
      {
       "metadata": {},
       "output_type": "display_data",
       "png": "[encoded data removed]",
       "text": [
        "<matplotlib.figure.Figure at 0x7ff8c80b9490>"
       ]
      }
     ],
     "prompt_number": 11
    },
    {
     "cell_type": "code",
     "collapsed": false,
     "input": [],
     "language": "python",
     "metadata": {},
     "outputs": []
    }
   ],
   "metadata": {}
  }
 ]
}