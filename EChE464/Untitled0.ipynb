{
 "metadata": {
  "name": "",
  "signature": "sha256:0cec427c1f5332148cb6dabff29ce326da6fadc1c6540155221ba7c348123202"
 },
 "nbformat": 3,
 "nbformat_minor": 0,
 "worksheets": [
  {
   "cells": [
    {
     "cell_type": "code",
     "collapsed": false,
     "input": [
      "from sympy import *\n",
      "from sympy.galgebra.ga import *\n",
      "from IPython.display import display\n",
      "init_printing(use_latex='png')"
     ],
     "language": "python",
     "metadata": {},
     "outputs": [],
     "prompt_number": 2
    },
    {
     "cell_type": "code",
     "collapsed": false,
     "input": [
      "pi = Symbol('\\Pi')\n",
      "k = Symbol('k_B')\n",
      "T = Symbol('T')\n",
      "piBar2 = pi/k/T\n",
      "piBar = Symbol('\\\\bar{\\Pi}')\n",
      "Abar = Symbol('\\\\bar{A}')\n",
      "Bbar = Symbol('\\\\bar{B}')\n",
      "Cbar = Symbol('\\\\bar{C}')\n",
      "Gamma = Symbol('\\Gamma')\n",
      "A = Symbol('A')\n",
      "B = Symbol('B')\n",
      "C = Symbol('C')\n",
      "\n",
      "eqn1 = solve(piEqZero,C)\n",
      "piGamma = A + B*Gamma + C*Gamma**2\n",
      "gammaPi = subs(piGamma,Gamma,pi)\n",
      "gammaPi"
     ],
     "language": "python",
     "metadata": {},
     "outputs": [
      {
       "ename": "NameError",
       "evalue": "name 'subs' is not defined",
       "output_type": "pyerr",
       "traceback": [
        "\u001b[0;31m---------------------------------------------------------------------------\u001b[0m\n\u001b[0;31mNameError\u001b[0m                                 Traceback (most recent call last)",
        "\u001b[0;32m<ipython-input-7-683c85a78664>\u001b[0m in \u001b[0;36m<module>\u001b[0;34m()\u001b[0m\n\u001b[1;32m     14\u001b[0m \u001b[0meqn1\u001b[0m \u001b[0;34m=\u001b[0m \u001b[0msolve\u001b[0m\u001b[0;34m(\u001b[0m\u001b[0mpiEqZero\u001b[0m\u001b[0;34m,\u001b[0m\u001b[0mC\u001b[0m\u001b[0;34m)\u001b[0m\u001b[0;34m\u001b[0m\u001b[0m\n\u001b[1;32m     15\u001b[0m \u001b[0mpiGamma\u001b[0m \u001b[0;34m=\u001b[0m \u001b[0mA\u001b[0m \u001b[0;34m+\u001b[0m \u001b[0mB\u001b[0m\u001b[0;34m*\u001b[0m\u001b[0mGamma\u001b[0m \u001b[0;34m+\u001b[0m \u001b[0mC\u001b[0m\u001b[0;34m*\u001b[0m\u001b[0mGamma\u001b[0m\u001b[0;34m**\u001b[0m\u001b[0;36m2\u001b[0m\u001b[0;34m\u001b[0m\u001b[0m\n\u001b[0;32m---> 16\u001b[0;31m \u001b[0mgammaPi\u001b[0m \u001b[0;34m=\u001b[0m \u001b[0msubs\u001b[0m\u001b[0;34m(\u001b[0m\u001b[0mpiGamma\u001b[0m\u001b[0;34m,\u001b[0m\u001b[0mGamma\u001b[0m\u001b[0;34m,\u001b[0m\u001b[0mpi\u001b[0m\u001b[0;34m)\u001b[0m\u001b[0;34m\u001b[0m\u001b[0m\n\u001b[0m\u001b[1;32m     17\u001b[0m \u001b[0mgammaPi\u001b[0m\u001b[0;34m\u001b[0m\u001b[0m\n",
        "\u001b[0;31mNameError\u001b[0m: name 'subs' is not defined"
       ]
      }
     ],
     "prompt_number": 7
    },
    {
     "cell_type": "code",
     "collapsed": false,
     "input": [
      "collect(collect(expand(piGamma.subs(Gamma,piBar + Bbar*piBar**2 + Cbar*piBar**3)-piBar),B),C)"
     ],
     "language": "python",
     "metadata": {},
     "outputs": [
      {
       "metadata": {},
       "output_type": "pyout",
       "png": "[encoded data removed]",
       "prompt_number": 4,
       "text": [
        "  \u239b       2          4                              5                      3  \n",
        "B\u22c5\u239d\\bar{B} \u22c5\\bar{\\Pi}  + 2\u22c5\\bar{B}\u22c5\\bar{C}\u22c5\\bar{\\Pi}  + 2\u22c5\\bar{B}\u22c5\\bar{\\Pi}  +\n",
        "\n",
        "        2          6                      4            2\u239e     \u239b       3       \n",
        " \\bar{C} \u22c5\\bar{\\Pi}  + 2\u22c5\\bar{C}\u22c5\\bar{\\Pi}  + \\bar{\\Pi} \u23a0 + C\u22c5\u239d\\bar{B} \u22c5\\bar{\\\n",
        "\n",
        "   6            2                  7            2          5                  \n",
        "Pi}  + 3\u22c5\\bar{B} \u22c5\\bar{C}\u22c5\\bar{\\Pi}  + 3\u22c5\\bar{B} \u22c5\\bar{\\Pi}  + 3\u22c5\\bar{B}\u22c5\\bar{\n",
        "\n",
        "  2          8                              6                      4          \n",
        "C} \u22c5\\bar{\\Pi}  + 6\u22c5\\bar{B}\u22c5\\bar{C}\u22c5\\bar{\\Pi}  + 3\u22c5\\bar{B}\u22c5\\bar{\\Pi}  + \\bar{C}\n",
        "\n",
        "3          9            2          7                      5            3\u239e     \n",
        " \u22c5\\bar{\\Pi}  + 3\u22c5\\bar{C} \u22c5\\bar{\\Pi}  + 3\u22c5\\bar{C}\u22c5\\bar{\\Pi}  + \\bar{\\Pi} \u23a0 + \\b\n",
        "\n",
        "               2                    3\n",
        "ar{B}\u22c5\\bar{\\Pi}  + \\bar{C}\u22c5\\bar{\\Pi} "
       ]
      }
     ],
     "prompt_number": 4
    },
    {
     "cell_type": "code",
     "collapsed": false,
     "input": [
      "collect(expand(piGamma.subs(Gamma,piBar + Bbar*piBar**2 + Cbar*piBar**3)-piBar),piBar)"
     ],
     "language": "python",
     "metadata": {},
     "outputs": [
      {
       "metadata": {},
       "output_type": "pyout",
       "png": "[encoded data removed]",
       "prompt_number": 5,
       "text": [
        "                   2          8            3          9            7 \u239b        \n",
        "3\u22c5C\u22c5\\bar{B}\u22c5\\bar{C} \u22c5\\bar{\\Pi}  + C\u22c5\\bar{C} \u22c5\\bar{\\Pi}  + \\bar{\\Pi} \u22c5\u239d3\u22c5C\u22c5\\bar\n",
        "\n",
        "   2                      2\u239e            6 \u239b         2            3            \n",
        "{B} \u22c5\\bar{C} + 3\u22c5C\u22c5\\bar{C} \u23a0 + \\bar{\\Pi} \u22c5\u239dB\u22c5\\bar{C}  + C\u22c5\\bar{B}  + 6\u22c5C\u22c5\\bar{\n",
        "\n",
        "          \u239e            5 \u239b                                 2              \u239e   \n",
        "B}\u22c5\\bar{C}\u23a0 + \\bar{\\Pi} \u22c5\u239d2\u22c5B\u22c5\\bar{B}\u22c5\\bar{C} + 3\u22c5C\u22c5\\bar{B}  + 3\u22c5C\u22c5\\bar{C}\u23a0 + \n",
        "\n",
        "         4 \u239b         2                            \u239e            3              \n",
        "\\bar{\\Pi} \u22c5\u239dB\u22c5\\bar{B}  + 2\u22c5B\u22c5\\bar{C} + 3\u22c5C\u22c5\\bar{B}\u23a0 + \\bar{\\Pi} \u22c5(2\u22c5B\u22c5\\bar{B} \n",
        "\n",
        "                          2              \n",
        "+ C + \\bar{C}) + \\bar{\\Pi} \u22c5(B + \\bar{B})"
       ]
      }
     ],
     "prompt_number": 5
    },
    {
     "cell_type": "code",
     "collapsed": false,
     "input": [
      "integrate(pi/(piBar2+Bbar*piBar2**2 + Cbar*piBar2**3),pi)"
     ],
     "language": "python",
     "metadata": {},
     "outputs": [
      {
       "metadata": {},
       "output_type": "pyout",
       "png": "[encoded data removed]",
       "prompt_number": 44,
       "text": [
        "        \u239b                                         \u239b                           \n",
        "        \u239c                                         \u239c         2        2    2   \n",
        "        \u239c                                         \u239c      - T \u22c5\\bar{B} \u22c5k_B \u22c5  \n",
        "        \u239c     ________________________________    \u239c                           \n",
        " 3    3 \u239c    \u2571               1                    \u239c                         \u2572\u2571\n",
        "T \u22c5k_B \u22c5\u239c   \u2571  \u2500\u2500\u2500\u2500\u2500\u2500\u2500\u2500\u2500\u2500\u2500\u2500\u2500\u2500\u2500\u2500\u2500\u2500\u2500\u2500\u2500\u2500\u2500\u2500\u2500\u2500\u2500\u2500\u2500\u2500 \u22c5   \u239c\\Pi + \u2500\u2500\u2500\u2500\u2500\u2500\u2500\u2500\u2500\u2500\u2500\u2500\u2500\u2500\u2500\u2500\u2500\u2500\u2500\u2500\u2500\n",
        "        \u239c  \u2571    2    2 \u239b       2            \u239e     \u239d                           \n",
        "        \u239d\u2572\u2571    T \u22c5k_B \u22c5\u239d\\bar{B}  - 4\u22c5\\bar{C}\u23a0  log                            \n",
        "\n",
        "   ________________________________                          _________________\n",
        "  \u2571               1                      2            2     \u2571               1 \n",
        " \u2571  \u2500\u2500\u2500\u2500\u2500\u2500\u2500\u2500\u2500\u2500\u2500\u2500\u2500\u2500\u2500\u2500\u2500\u2500\u2500\u2500\u2500\u2500\u2500\u2500\u2500\u2500\u2500\u2500\u2500\u2500  + 4\u22c5T \u22c5\\bar{C}\u22c5k_B \u22c5   \u2571  \u2500\u2500\u2500\u2500\u2500\u2500\u2500\u2500\u2500\u2500\u2500\u2500\u2500\u2500\u2500\u2500\n",
        "\u2571    2    2 \u239b       2            \u239e                        \u2571    2    2 \u239b       \n",
        "    T \u22c5k_B \u22c5\u239d\\bar{B}  - 4\u22c5\\bar{C}\u23a0                      \u2572\u2571    T \u22c5k_B \u22c5\u239d\\bar{B}\n",
        "\u2500\u2500\u2500\u2500\u2500\u2500\u2500\u2500\u2500\u2500\u2500\u2500\u2500\u2500\u2500\u2500\u2500\u2500\u2500\u2500\u2500\u2500\u2500\u2500\u2500\u2500\u2500\u2500\u2500\u2500\u2500\u2500\u2500\u2500\u2500\u2500\u2500\u2500\u2500\u2500\u2500\u2500\u2500\u2500\u2500\u2500\u2500\u2500\u2500\u2500\u2500\u2500\u2500\u2500\u2500\u2500\u2500\u2500\u2500\u2500\u2500\u2500\u2500\u2500\u2500\u2500\u2500\u2500\u2500\u2500\u2500\u2500\u2500\u2500\u2500\u2500\u2500\u2500\n",
        "                                       2\u22c5\\bar{C}                              \n",
        "                                                                              \n",
        "\n",
        "_______________                \u239e                                            \u239b \n",
        "                               \u239f                                            \u239c \n",
        "\u2500\u2500\u2500\u2500\u2500\u2500\u2500\u2500\u2500\u2500\u2500\u2500\u2500\u2500  + T\u22c5\\bar{B}\u22c5k_B\u239f                                            \u239c \n",
        "2            \u239e                 \u239f        ________________________________    \u239c \n",
        "  - 4\u22c5\\bar{C}\u23a0                 \u239f       \u2571               1                    \u239c \n",
        "\u2500\u2500\u2500\u2500\u2500\u2500\u2500\u2500\u2500\u2500\u2500\u2500\u2500\u2500\u2500\u2500\u2500\u2500\u2500\u2500\u2500\u2500\u2500\u2500\u2500\u2500\u2500\u2500\u2500\u2500\u2500\u239f -    \u2571  \u2500\u2500\u2500\u2500\u2500\u2500\u2500\u2500\u2500\u2500\u2500\u2500\u2500\u2500\u2500\u2500\u2500\u2500\u2500\u2500\u2500\u2500\u2500\u2500\u2500\u2500\u2500\u2500\u2500\u2500 \u22c5   \u239c\\\n",
        "                               \u23a0     \u2571    2    2 \u239b       2            \u239e     \u239d \n",
        "                                   \u2572\u2571    T \u22c5k_B \u22c5\u239d\\bar{B}  - 4\u22c5\\bar{C}\u23a0  log  \n",
        "\n",
        "                           ________________________________                   \n",
        "      2        2    2     \u2571               1                      2            \n",
        "     T \u22c5\\bar{B} \u22c5k_B \u22c5   \u2571  \u2500\u2500\u2500\u2500\u2500\u2500\u2500\u2500\u2500\u2500\u2500\u2500\u2500\u2500\u2500\u2500\u2500\u2500\u2500\u2500\u2500\u2500\u2500\u2500\u2500\u2500\u2500\u2500\u2500\u2500  - 4\u22c5T \u22c5\\bar{C}\u22c5k_B\n",
        "                        \u2571    2    2 \u239b       2            \u239e                    \n",
        "                      \u2572\u2571    T \u22c5k_B \u22c5\u239d\\bar{B}  - 4\u22c5\\bar{C}\u23a0                    \n",
        "Pi + \u2500\u2500\u2500\u2500\u2500\u2500\u2500\u2500\u2500\u2500\u2500\u2500\u2500\u2500\u2500\u2500\u2500\u2500\u2500\u2500\u2500\u2500\u2500\u2500\u2500\u2500\u2500\u2500\u2500\u2500\u2500\u2500\u2500\u2500\u2500\u2500\u2500\u2500\u2500\u2500\u2500\u2500\u2500\u2500\u2500\u2500\u2500\u2500\u2500\u2500\u2500\u2500\u2500\u2500\u2500\u2500\u2500\u2500\u2500\u2500\u2500\u2500\u2500\u2500\u2500\u2500\u2500\u2500\u2500\u2500\u2500\u2500\u2500\n",
        "                                                                2\u22c5\\bar{C}     \n",
        "                                                                              \n",
        "\n",
        "       ________________________________                \u239e\u239e\n",
        "2     \u2571               1                                \u239f\u239f\n",
        " \u22c5   \u2571  \u2500\u2500\u2500\u2500\u2500\u2500\u2500\u2500\u2500\u2500\u2500\u2500\u2500\u2500\u2500\u2500\u2500\u2500\u2500\u2500\u2500\u2500\u2500\u2500\u2500\u2500\u2500\u2500\u2500\u2500  + T\u22c5\\bar{B}\u22c5k_B\u239f\u239f\n",
        "    \u2571    2    2 \u239b       2            \u239e                 \u239f\u239f\n",
        "  \u2572\u2571    T \u22c5k_B \u22c5\u239d\\bar{B}  - 4\u22c5\\bar{C}\u23a0                 \u239f\u239f\n",
        "\u2500\u2500\u2500\u2500\u2500\u2500\u2500\u2500\u2500\u2500\u2500\u2500\u2500\u2500\u2500\u2500\u2500\u2500\u2500\u2500\u2500\u2500\u2500\u2500\u2500\u2500\u2500\u2500\u2500\u2500\u2500\u2500\u2500\u2500\u2500\u2500\u2500\u2500\u2500\u2500\u2500\u2500\u2500\u2500\u2500\u2500\u2500\u2500\u2500\u2500\u2500\u2500\u2500\u2500\u2500\u239f\u239f\n",
        "                                                       \u23a0\u239f\n",
        "                                                        \u23a0"
       ]
      }
     ],
     "prompt_number": 44
    }
   ],
   "metadata": {}
  }
 ]
}