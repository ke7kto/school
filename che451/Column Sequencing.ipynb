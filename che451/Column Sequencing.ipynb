{
 "metadata": {
  "name": "",
  "signature": "sha256:c8021703741a17896087ffe45afbfe226ce45788a9ca97ce740078a0f0cef8f7"
 },
 "nbformat": 3,
 "nbformat_minor": 0,
 "worksheets": [
  {
   "cells": [
    {
     "cell_type": "markdown",
     "metadata": {},
     "source": [
      "<h1>Column Sequencing</h1>\n",
      "\n",
      "1. Noncondensables\n",
      "2. Remove \n",
      " - corrosives\n",
      " - reactive components\n",
      "3. Then, remove as distillates:\n",
      " - Products\n",
      " - Recycles\n",
      "\n",
      "\n",
      "Simple Columns\n",
      "\n",
      "1. Most plentiful first\n",
      "2. Favor equimolar splits\n",
      "3. Next should be the easiest\n",
      "4. Do most difficult separation last.\n",
      "\n",
      "<def>Swaged columns: Columns that change in diameter as you move up the column</def>\n",
      "\n",
      "As you select column sequence, keep these ideas in mind; they will help make good choices.\n",
      "\n"
     ]
    },
    {
     "cell_type": "code",
     "collapsed": false,
     "input": [
      "x = np.linspace(0,1)\n",
      "y = np.cosh(x)"
     ],
     "language": "python",
     "metadata": {},
     "outputs": [],
     "prompt_number": 1
    },
    {
     "cell_type": "code",
     "collapsed": false,
     "input": [
      "plt.plot(x,y)"
     ],
     "language": "python",
     "metadata": {},
     "outputs": [
      {
       "metadata": {},
       "output_type": "pyout",
       "prompt_number": 2,
       "text": [
        "[<matplotlib.lines.Line2D at 0x7faa8b75a550>]"
       ]
      },
      {
       "metadata": {},
       "output_type": "display_data",
       "png": "[encoded data removed]",
       "text": [
        "<matplotlib.figure.Figure at 0x7faa8cb07860>"
       ]
      }
     ],
     "prompt_number": 2
    },
    {
     "cell_type": "code",
     "collapsed": false,
     "input": [],
     "language": "python",
     "metadata": {},
     "outputs": []
    }
   ],
   "metadata": {}
  }
 ]
}