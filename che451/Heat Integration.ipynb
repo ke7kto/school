{
 "metadata": {
  "name": "",
  "signature": "sha256:afd9a50d9737c3510a2c85ce7ba4634b56ceb1e938dd5008df1fc938751cc5e5"
 },
 "nbformat": 3,
 "nbformat_minor": 0,
 "worksheets": [
  {
   "cells": [
    {
     "cell_type": "code",
     "collapsed": false,
     "input": [
      "m =  np.array([500,250])\n",
      "cp = np.array([4,5])\n",
      "Tin= np.array([300,100])\n",
      "Tout=np.array([100,200])\n",
      "Q = m*cp*(Tout-Tin)\n"
     ],
     "language": "python",
     "metadata": {},
     "outputs": [],
     "prompt_number": 2
    },
    {
     "cell_type": "code",
     "collapsed": false,
     "input": [
      "Tout2=-m[1]*cp[1]/(m[0]*cp[0])*(Tout[1]-Tin[1]) + Tin[0]\n",
      "(Tout2-100)*m[0]*cp[0]"
     ],
     "language": "python",
     "metadata": {},
     "outputs": [
      {
       "metadata": {},
       "output_type": "pyout",
       "prompt_number": 4,
       "text": [
        "275000.0"
       ]
      }
     ],
     "prompt_number": 4
    },
    {
     "cell_type": "code",
     "collapsed": false,
     "input": [
      "m1 = 500\n",
      "m2 = 100\n",
      "cp1= 4\n",
      "cp2= 5\n",
      "T1in=300\n",
      "T1out=100\n",
      "T2in=200\n",
      "T2out=350\n",
      "Q1=m1*cp1*(T1out-T1in)\n",
      "Q2=m2*cp2*(T2out-T2in)\n",
      "Tout =- m2*cp2/(m1*cp1)*(290-T2in)+T2in"
     ],
     "language": "python",
     "metadata": {},
     "outputs": [],
     "prompt_number": 7
    },
    {
     "cell_type": "code",
     "collapsed": false,
     "input": [
      "print(Tout)\n",
      "Q12 = (Tout-T1out)*m1*cp1\n",
      "Q22 = ()"
     ],
     "language": "python",
     "metadata": {},
     "outputs": [
      {
       "output_type": "stream",
       "stream": "stdout",
       "text": [
        "162.5\n"
       ]
      }
     ],
     "prompt_number": 8
    },
    {
     "cell_type": "code",
     "collapsed": false,
     "input": [
      "mcp=[1400*5,2500*5,2000*5]\n"
     ],
     "language": "python",
     "metadata": {},
     "outputs": []
    }
   ],
   "metadata": {}
  }
 ]
}