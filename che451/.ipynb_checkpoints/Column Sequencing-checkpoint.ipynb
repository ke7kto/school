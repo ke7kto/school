{
 "metadata": {
  "name": "",
  "signature": "sha256:a1658364dd961e0ffb351f595cc25ab38e8c61c08e81b2d9163d30166c78bed5"
 },
 "nbformat": 3,
 "nbformat_minor": 0,
 "worksheets": [
  {
   "cells": [
    {
     "cell_type": "markdown",
     "metadata": {},
     "source": [
      "<h1>Column Sequencing</h1>\n",
      "\n",
      "1. Noncondensables\n",
      "2. Remove \n",
      " - corrosives\n",
      " - reactive components\n",
      "3. Then, remove as distillates:\n",
      " - Products\n",
      " - Recycles\n",
      "\n",
      "\n",
      "Simple Columns\n",
      "\n",
      "1. Most plentiful first\n",
      "2. Favor equimolar splits\n",
      "3. Next should be the easiest\n",
      "4. Do most difficult separation last.\n",
      "\n",
      "<def>Swaged columns: Columns that change in diameter as you move up the column</def>\n",
      "\n",
      "As you select column sequence, keep these ideas in mind; they will help make good choices.\n",
      "\n"
     ]
    },
    {
     "cell_type": "code",
     "collapsed": false,
     "input": [],
     "language": "python",
     "metadata": {},
     "outputs": []
    }
   ],
   "metadata": {}
  }
 ]
}