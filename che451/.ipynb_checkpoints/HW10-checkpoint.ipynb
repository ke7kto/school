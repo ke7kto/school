{
 "metadata": {
  "name": "",
  "signature": "sha256:62cf9eae3170f8ee162b42ad618651f4e7c10c358378b37e1ae3d7be699dddeb"
 },
 "nbformat": 3,
 "nbformat_minor": 0,
 "worksheets": [
  {
   "cells": [
    {
     "cell_type": "markdown",
     "metadata": {},
     "source": [
      "Adriaan Riet\n",
      "<h1>ChEn 451: Homework 10</h1>\n",
      "<h3>Problem 1</h3>"
     ]
    },
    {
     "cell_type": "code",
     "collapsed": false,
     "input": [
      "from scipy.integrate import quad\n",
      "k = 0.5\n",
      "Ca0 = 2\n",
      "v = 4\n",
      "Xa = .90\n",
      "Ca = Ca0*(1-Xa)\n",
      "Fa0 = v*Ca0\n",
      "r = k*Ca\n",
      "cVol = Xa*Fa0/r\n",
      "print(\"The volume needed for a CSTR is {:.1f} Liters.\".format(cVol))\n",
      "def pfrFunc(x):\n",
      "    return 1/(k*Ca0*(1-x))\n",
      "pfrVol = quad(pfrFunc,0,Xa)[0]*Fa0\n",
      "xAx = np.linspace(1e-6,0.95)\n",
      "yAx=-k*Ca0*np.log(1-xAx)*Fa0 #This is if I'm not allowed to integrate with computer.\n",
      "print(\"The volume needed for a PFR is {:.1f} Liters.\".format(pfrVol))"
     ],
     "language": "python",
     "metadata": {},
     "outputs": [
      {
       "output_type": "stream",
       "stream": "stdout",
       "text": [
        "The volume needed for a CSTR is 72.0 Liters.\n",
        "The volume needed for a PFR is 18.4 Liters.\n"
       ]
      }
     ],
     "prompt_number": 2
    },
    {
     "cell_type": "markdown",
     "metadata": {},
     "source": [
      "<h3>Problem 2</h3>"
     ]
    },
    {
     "cell_type": "code",
     "collapsed": false,
     "input": [
      "k = 0.5\n",
      "Ca0 = 2\n",
      "v = 4\n",
      "Xa = .90\n",
      "Ca = Ca0*(1-Xa)\n",
      "Fa0 = v*Ca0\n",
      "r = k*Ca**2\n",
      "cVol = Xa*Fa0/r\n",
      "print(\"The volume needed for a CSTR is {:.1f} Liters.\".format(cVol))\n",
      "def pfrFunc(x):\n",
      "    return 1/(k*(Ca0*(1-x))**2)\n",
      "pfrVol = quad(pfrFunc,0,Xa)[0]*Fa0\n",
      "def V(x):\n",
      "    return quad(pfrFunc,0,x)[0]*Fa0\n",
      "V = np.vectorize(V)\n",
      "print(\"The volume needed for a PFR is {:.1f} Liters.\".format(pfrVol))\n",
      "yAx2 = -1/(k*Ca0*Ca0)*(-2)/(1-xAx)*Fa0\n",
      "yAx2 = V(xAx)"
     ],
     "language": "python",
     "metadata": {},
     "outputs": [
      {
       "output_type": "stream",
       "stream": "stdout",
       "text": [
        "The volume needed for a CSTR is 360.0 Liters.\n",
        "The volume needed for a PFR is 36.0 Liters.\n"
       ]
      }
     ],
     "prompt_number": 3
    },
    {
     "cell_type": "markdown",
     "metadata": {},
     "source": [
      "<h3>Problem 3</h3>\n",
      "The CSTR needs to be bigger for the first order reaction because the reaction slows down as the conversion increases. This is more pronounced for the second order reaction. Rarely will this trend reverse without more complex reactions.\n"
     ]
    },
    {
     "cell_type": "code",
     "collapsed": false,
     "input": [
      "plt.plot(xAx,yAx,'b--',label='1st order')\n",
      "plt.plot(xAx,yAx2,'g-',label='2nd order')\n",
      "plt.legend(loc='upper left')\n",
      "plt.xlabel('Conversion')\n",
      "plt.ylabel('Volume Required')\n",
      "g=plt.title('Volume as a function of conversion')"
     ],
     "language": "python",
     "metadata": {},
     "outputs": [
      {
       "metadata": {},
       "output_type": "display_data",
       "png": "[encoded data removed]",
       "text": [
        "<matplotlib.figure.Figure at 0x7fc1dd6a8908>"
       ]
      }
     ],
     "prompt_number": 4
    }
   ],
   "metadata": {}
  }
 ]
}