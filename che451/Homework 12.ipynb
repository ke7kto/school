{
 "metadata": {
  "name": "",
  "signature": "sha256:36cc93740bc9514461c8185f35c7c1289a45ccd2fea7bbb810f7eee739a885ab"
 },
 "nbformat": 3,
 "nbformat_minor": 0,
 "worksheets": [
  {
   "cells": [
    {
     "cell_type": "markdown",
     "metadata": {},
     "source": [
      "<h3>#1</h3><p>Using an accurate vapor pressure equation, (e.g. Wagner, Reidel), calculate the vapor pressure of ethanol at 325 K and 375 K</p>"
     ]
    },
    {
     "cell_type": "code",
     "collapsed": false,
     "input": [
      "\"\"\"Source of the constants and the critical pressure/temperature/acentric factor:\n",
      "Wagner liquid\u2013vapour pressure equation constants from a simple methodology\n",
      "     Luis A. Forero G. , Jorge A. Vel\u00e1squez J., Journal of Chemical Thermodynamics, \n",
      "     August 2011\n",
      "Dippr\"\"\"\n",
      "\n",
      "TcP=[514,6.137e6,0.643558]\n",
      "wagEtOH = [-8.9766637,2.1931654,-6.6376281,5.0850836]\n",
      "\n",
      "#wagEtOH = [-8.424600,2.863800E-02,-4.792600,3.789300,229,513.92]\n",
      "def WagnerPsat(T,TcPc,c=wagEtOH):\n",
      "    Tr = T/TcPc[0]\n",
      "    tau = 1 - Tr\n",
      "    lnpr = (c[0]*tau+c[1]*tau**1.5 + c[2]*tau**2.5 + c[3]*tau**5)/(1-tau)\n",
      "    return TcPc[1]*np.exp(lnpr)\n",
      "#TcPc = [514,63e5]\n",
      "T = 325\n",
      "P = WagnerPsat(T,TcP,wagEtOH)\n",
      "print(\"At {:.1f} Kelvin, the vapor pressure is {:.3g} Pascals ({:.2f} atm)\".format(T,P,P/101325))\n",
      "T = 375\n",
      "P = WagnerPsat(T,TcP,wagEtOH)\n",
      "print(\"At {:.1f} Kelvin, the vapor pressure is {:.3g} Pascals ({:.2f} atm)\".format(T,P,P/101325))"
     ],
     "language": "python",
     "metadata": {},
     "outputs": [
      {
       "output_type": "stream",
       "stream": "stdout",
       "text": [
        "At 325.0 Kelvin, the vapor pressure is 3.21e+04 Pascals (0.32 atm)\n",
        "At 375.0 Kelvin, the vapor pressure is 2.4e+05 Pascals (2.37 atm)\n"
       ]
      }
     ],
     "prompt_number": 1
    },
    {
     "cell_type": "markdown",
     "metadata": {},
     "source": [
      "<h3>#2</h3>\n",
      "<p>Using the Soave or Peng-Robinson EOS determine the molar volume ($cm^3/mole$) and density ($g/cm^3$) of ethanol at 1 atm, 325K and 1 atm, 375K. What phases are present at these conditions?</p>"
     ]
    },
    {
     "cell_type": "code",
     "collapsed": false,
     "input": [
      "from scipy.optimize import fsolve\n",
      "from scipy.misc import derivative\n",
      "def soaveToSolve(P,T,a,alpha,b,R=8.314472):\n",
      "    print( [1, - R*T/P , 1/P * (a*alpha - b*R*T - P*b**2), - a*alpha*b/P])\n",
      "    return [1, - R*T/P , 1/P * (a*alpha - b*R*T - P*b**2), - a*alpha*b/P]\n",
      "    #return P - (R*T)/(V-b) + a*alpha/((V+b)*V)\n",
      "def SoavePureV(P,T,TcPc,R=8.314472):\n",
      "    Tr = T/TcPc[0]\n",
      "    a = 0.42747*R**2*TcPc[0]**2/TcPc[1]\n",
      "    b = 0.08664*R*TcPc[0]/TcPc[1]\n",
      "    alpha = (1+(0.48508+1.55171*TcPc[2] - 0.15613*TcPc[2]**2)*(1-np.sqrt(Tr)))**2\n",
      "    return np.roots(soaveToSolve(P,T,a,alpha,b))\n",
      "T = 325\n",
      "V=SoavePureV(101325,T,TcP)\n",
      "print(V)\n",
      "MW = 46.07\n",
      "print(\"The molar volume is {:.3g} cm\u00b3/mol and the density is {:.3f} gm/cm\u00b3 at {:.1f} K\".format(V[2]*1e6,MW/(V[2]*1e6),T))\n",
      "T = 375\n",
      "V2=SoavePureV(101325,T,TcP)\n",
      "print(\"The molar volume is {:.3g} cm\u00b3/mol and the density is {:.2g} gm/cm\u00b3 at {:.1f} K\".format(V[0]*1e6,MW/(V[0]*1e6),T))\n",
      "print(V2)"
     ],
     "language": "python",
     "metadata": {},
     "outputs": [
      {
       "output_type": "stream",
       "stream": "stdout",
       "text": [
        "[1, -0.026668674068591167, 1.9302062177219752e-05, -1.2618630545364787e-09]\n",
        "[  2.59260468e-02   6.69981031e-04   7.26462864e-05]\n",
        "The molar volume is 72.6 cm\u00b3/mol and the density is 0.634 gm/cm\u00b3 at 325.0 K\n",
        "[1, -0.030771547002220578, 1.6430000874156304e-05, -1.1035160132151492e-09]\n",
        "The molar volume is 2.59e+04 cm\u00b3/mol and the density is 0.0018 gm/cm\u00b3 at 375.0 K\n",
        "[  3.02292411e-02   4.63556186e-04   7.87497193e-05]\n"
       ]
      }
     ],
     "prompt_number": 11
    },
    {
     "cell_type": "markdown",
     "metadata": {},
     "source": [
      "<h3>#3</h3>\n",
      "<p> Using the same vapor pressure equation as used in problem 1 and the clapeyron equation, estimate the heat of Vaporization at 375 K. Use the EOS of problem 2 and 0.7093 g/cm\u00b3 for the liquid density. Compare to DIPPR</p>"
     ]
    },
    {
     "cell_type": "code",
     "collapsed": false,
     "input": [
      "dPdT = derivative(WagnerPsat,x0=375,args=(TcP,wagEtOH))\n",
      "Psat = WagnerPsat(375,TcP,wagEtOH)\n",
      "molarV = SoavePureV(Psat,375,TcP)\n",
      "dH =dPdT*(375)*(molarV[0]- MW/0.7093e6)\n",
      "dipprH = 37293\n",
      "print(\"My heat of Vaporization is {:,g} J/mol\".format(dH))\n",
      "print(\"DIPPR had {:,g} J/mol\".format(dipprH))\n",
      "print(\"We disagree by {:.2g}%\".format((dH - dipprH)/dipprH*100))"
     ],
     "language": "python",
     "metadata": {},
     "outputs": [
      {
       "output_type": "stream",
       "stream": "stdout",
       "text": [
        "My heat of Vaporization is 37,723 J/mol\n",
        "DIPPR had 37,293 J/mol\n",
        "We disagree by 1.2%\n"
       ]
      }
     ],
     "prompt_number": 4
    },
    {
     "cell_type": "code",
     "collapsed": false,
     "input": [
      "tpm = [512.5,8.084e6,0.565831]\n",
      "tpe = [514  ,6.137e6,0.643558]\n",
      "tpp = [536.8,5.169e6,0.620900]\n",
      "def soaveMixToSolve(P,T,a_alpha,b,R=8.314472):\n",
      "    return [1, - R*T/P , 1/P * (a_alpha - b*R*T - P*b**2), - a_alpha*b/P]\n",
      "TcPc = np.array([tpm,tpe,tpp])\n",
      "def SoaveMixV(P,T,y,TcPc,R=8.314472):\n",
      "    y = y/np.sum(y)\n",
      "    Tr = T/TcPc[:,0]\n",
      "    a = 0.42747*R**2*TcPc[:,0]**2/TcPc[:,1]\n",
      "    b = 0.08664*R*TcPc[:,0]/TcPc[:,1]\n",
      "    alpha = (1+(0.48508+1.55171*TcPc[:,2] - 0.15613*TcPc[:,2]**2)*(1-np.sqrt(Tr)))**2\n",
      "    bMix = np.sum(y*b)\n",
      "    a_alpha = 0\n",
      "    for i in range(len(y)):\n",
      "        for j in range(len(y)):\n",
      "            a_alpha += y[i]*y[j]*np.sqrt(a[i]*alpha[i]*a[j]*alpha[j])\n",
      "    return np.roots(soaveMixToSolve(P,T,a_alpha,bMix))\n",
      "Vroots = SoaveMixV(101325,375,[.5,.3,.2],TcPc)\n",
      "Vvapor = np.max(Vroots.real)\n",
      "Vliq = np.min(Vroots.real)\n",
      "print(\"The molar volume of the vapor is {:,.3g} m\u00b3/mol ({:,.3g} cm\u00b3/mol)\".format(Vvapor,Vvapor*1e6))\n",
      "print(\"If there were some metastable liquid, it would have a molar volume of {:,.3g} m\u00b3/mol ({:,.3g} cm\u00b3/mol)\".\\\n",
      "      format(Vliq,Vliq*1e6))"
     ],
     "language": "python",
     "metadata": {},
     "outputs": [
      {
       "output_type": "stream",
       "stream": "stdout",
       "text": [
        "The molar volume of the vapor is 0.0303 m\u00b3/mol (3.03e+04 cm\u00b3/mol)\n",
        "If there were some metastable liquid, it would have a molar volume of 7.31e-05 m\u00b3/mol (73.1 cm\u00b3/mol)\n"
       ]
      }
     ],
     "prompt_number": 5
    },
    {
     "cell_type": "code",
     "collapsed": false,
     "input": [],
     "language": "python",
     "metadata": {},
     "outputs": []
    }
   ],
   "metadata": {}
  }
 ]
}