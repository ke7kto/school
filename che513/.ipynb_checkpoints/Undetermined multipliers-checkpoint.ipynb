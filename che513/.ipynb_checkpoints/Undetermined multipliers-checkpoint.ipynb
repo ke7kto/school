{
 "metadata": {
  "name": ""
 },
 "nbformat": 3,
 "nbformat_minor": 0,
 "worksheets": [
  {
   "cells": [
    {
     "cell_type": "markdown",
     "metadata": {},
     "source": [
      "<h1>Undetermined multipliers</h1>\n",
      "<h3>A method to optimize a function to given constraints</h3>\n",
      "<h5>Example</h5>\n",
      "<p>What is the largest rectangular box that can be placed inside the ellipsoid $\\frac{x^2}{a^2}+\\frac{y^2}{b^2}+\\frac{z^2}{c^2}=1$ so that its sides will be parallel to the coordinate axes?</p>\n",
      "<p>We want to maximize $V$, the volume of the box subject to the constraint that the corners satisfy the above equation</p>\n",
      "<p>The volume of the box centered at the origin</p>\n",
      "$V = (2x)(2y)(2z)\\Rightarrow \\text{(This is what we need to maximize)}$\n",
      "<p>Using undetermined multipliers</p>\n",
      "<ol><li>Make the \"Auxiliary Equation\"<br/>\n",
      "$F = (2x)(2y)(2z) - \\lambda (\\frac{x^2}{a^2}+\\frac{y^2}{b^2}+\\frac{z^2}{c^2}-1)$</li>\n",
      "<li>The maximum of the equation will occur where the derivative is zero<br/>\n",
      "<ol><li>$\\left(\\frac{\\partial F}{\\partial x}\\right)_{y,z} = 8yz - \\frac{2\\lambda x}{a^2} = 0$</li>\n",
      "<li>$\\left(\\frac{\\partial F}{\\partial y}\\right)_{x,z} = 8xz - \\frac{2\\lambda y}{a^2} = 0$</li>\n",
      "<li>$\\left(\\frac{\\partial F}{\\partial z}\\right)_{x,y} = 8xy - \\frac{2\\lambda z}{a^2} = 0$</li>\n",
      "</ol>\n",
      "</li>\n",
      "<li>Multiply each derivative by the thing that it is the derivative of<ul>\n",
      "<li>Multiply A. by $x\\Rightarrow x\\left[8yz - \\frac{2\\lambda x}{a^2}\\right] = 0$<br/>\n",
      "$8xyz = V_{max} = \\frac{2\\lambda x^2}{a^2}$<br/>\n",
      "$x^2 = V_{max}\\frac{a^2}{2\\lambda}$\n",
      "</li>\n",
      "<li>Multiply B. by $y\\Rightarrow y\\left[8xz - \\frac{2\\lambda y}{a^2}\\right] = 0$<br/>\n",
      "$8xyz = V_{max} = \\frac{2\\lambda y^2}{b^2}$<br/>\n",
      "$y^2 = V_{max}\\frac{b^2}{2\\lambda}$\n",
      "</li>\n",
      "<li>Multiply C. by $z\\Rightarrow z\\left[8xy - \\frac{2\\lambda z}{a^2}\\right] = 0$<br/>\n",
      "$8xyz = V_{max} = \\frac{2\\lambda z^2}{a^2}$<br/>\n",
      "$z^2 = V_{max}\\frac{c^2}{2\\lambda}$\n",
      "</li>\n",
      "</ul>\n",
      "</li>\n",
      "<li>Substitute back into the constraint equation $\\frac{x^2}{a^2}+\\frac{y^2}{b^2}+\\frac{z^2}{c^2}=1$<br/>\n",
      "$\\frac{V_{max}\\frac{a^2}{2\\lambda}}{a^2}+\\frac{V_{max}\\frac{b^2}{2\\lambda}}{b^2}+\\frac{V_{max}\\frac{c^2}{2\\lambda}}{c^2}=1$<br/>\n",
      "Simplifying<br/>\n",
      "$\\frac{V_{max}}{2\\lambda}+\\frac{V_{max}}{2\\lambda}+\\frac{V_{max}}{2\\lambda}=1$<br/><br/>\n",
      "$\\frac{3V_{max}}{2\\lambda} = 1\\Rightarrow V_{max} = \\frac{2\\lambda}{3}$</li>\n",
      "<li>Substitute the expression for $V_{max}$ back into the second set of equations<ul>\n",
      "<li>$x^2 = \\frac{V_{max}a^2}{2\\lambda}=\\frac{\\frac{2\\lambda}{3}a^2}{2\\lambda}=\\frac{a^2}{3}$<br/>\n",
      "$x_{max} = \\frac{a}{\\sqrt{3}}$</li>\n",
      "<li>$y^2 = \\frac{V_{max}b^2}{2\\lambda}=\\frac{\\frac{2\\lambda}{3}b^2}{2\\lambda}=\\frac{b^2}{3}$<br/>\n",
      "$y_{max} = \\frac{b}{\\sqrt{3}}$</li>\n",
      "<li>$z^2 = \\frac{V_{max}c^2}{2\\lambda}=\\frac{\\frac{2\\lambda}{3}c^2}{2\\lambda}=\\frac{c^2}{3}$<br/>\n",
      "$z_{max} = \\frac{c}{\\sqrt{3}}$</li>\n",
      "</ul>\n",
      "<li>Now get $V_{max}$ from the definition: $V_{max} = x_{max}y_{max}z_{max} = \\frac{abc}{3\\sqrt{3}}$</li>\n",
      "\n"
     ]
    },
    {
     "cell_type": "markdown",
     "metadata": {},
     "source": [
      "A silo is to be built as a right circular cylinder with a hemispherical roof. The silo is to have a specified volume $V$, but the surface area, including the floor is to be minimized. What are the dimensions of the silo?\n"
     ]
    },
    {
     "cell_type": "markdown",
     "metadata": {},
     "source": [
      "<ol><li>We need to relate the height of the cylindrical portion and the radius of the silo to its volume:\n",
      "$V= c  = \\pi r^2 h + \\pi \\frac{2}{3}r^3$ </li>\n",
      "<li>Now we need surface area: $A = 2\\pi r h + 2 \\pi r^2$</li>\n",
      "<li>The auxiliary function is: $F = 2\\pi r h + 2 \\pi r^2  - \\lambda\\left(\\pi r^2 h + \\pi \\frac{2}{3}r^3 - c\\right)$</li>\n",
      "<li>There are two partial derivatives:<br/>\n",
      "$\\frac{\\partial F}{\\partial h} = 2\\pi r -\\lambda\\left(\\pi r^2\\right)$<br/><br/>\n",
      "$\\frac{\\partial F}{\\partial r} = 2\\pi h + 4 \\pi r  - \\lambda\\left(2\\pi r h + \\pi 2r^2\\right)$<br/>\n",
      "</li>\n",
      "<li>We then have: <br/>\n",
      "$2\\pi rh -\\lambda\\pi r^2 h = 0$<br/>\n",
      "$2\\pi rh + 4 \\pi r^2  - 2\\lambda\\pi r^2 h + 2\\lambda\\pi r^3 = 0$<br/>\n",
      "Simplifying<br/>\n",
      "<ul>\n",
      "<li>\n",
      "$2\\pi r = \\lambda \\pi r^2$<br/>\n",
      "$r = 0,\\frac{2}{\\lambda}$</li>\n",
      "<li>$h\\left[2\\pi r -2\\lambda\\pi r^2 \\right] = -4 \\pi r^2 - 2\\lambda\\pi r^3 $<br/>\n",
      "$h = \\frac{4 \\pi r^2 +2\\lambda\\pi r^3}{ 2\\lambda\\pi r^2 -2\\pi r}$<br/><br/>\n",
      "$h = \\frac{4 \\pi \\left(\\frac{2}{\\lambda}\\right)^2 +2\\lambda\\pi \\left(\\frac{2}{\\lambda}\\right)^3}{ 2\\lambda\\pi \\left(\\frac{2}{\\lambda}\\right)^2 -2\\pi \\frac{2}{\\lambda}}$\n",
      "$=\\frac{4 \\pi \\frac{2}{\\lambda} +2\\lambda\\pi \\left(\\frac{2}{\\lambda}\\right)^2}{ 2\\lambda\\pi \\frac{2}{\\lambda} -2\\pi}$\n",
      "$=\\frac{ \\frac{8 \\pi}{\\lambda} + \\frac{4 \\cdot 2\\lambda\\pi}{\\lambda^2}}{ 2\\cdot 2\\pi -2\\pi}$\n",
      "$=\\frac{ \\frac{8\\lambda \\pi + 8\\lambda\\pi}{\\lambda^2}}{2\\pi}$\n",
      "$=\\frac{16\\lambda \\pi}{2\\pi\\lambda^2} = \\frac{8}{\\lambda}$\n",
      "$=4r$\n",
      "</li>\n",
      "</ul></li>\n",
      "<li>Finally: $V= c  = \\pi r^2 4r + \\pi \\frac{2}{3}r^3 = 4\\pi r^3 + \\pi \\frac{2}{3}r^3 =\\frac{14}{3}r^3$<br/>\n",
      "$r = \\sqrt[3]{\\frac{3c}{14}},h = 4r$\n",
      "</li></ol>\n"
     ]
    },
    {
     "cell_type": "code",
     "collapsed": false,
     "input": [],
     "language": "python",
     "metadata": {},
     "outputs": []
    },
    {
     "cell_type": "code",
     "collapsed": false,
     "input": [],
     "language": "python",
     "metadata": {},
     "outputs": []
    }
   ],
   "metadata": {}
  }
 ]
}