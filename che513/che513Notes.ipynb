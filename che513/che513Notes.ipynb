{
 "metadata": {
  "name": ""
 },
 "nbformat": 3,
 "nbformat_minor": 0,
 "worksheets": [
  {
   "cells": [
    {
     "cell_type": "heading",
     "level": 1,
     "metadata": {},
     "source": [
      "Notes (Chapter 1)"
     ]
    },
    {
     "cell_type": "heading",
     "level": 3,
     "metadata": {},
     "source": [
      "Day 1"
     ]
    },
    {
     "cell_type": "code",
     "collapsed": false,
     "input": [
      "%matplotlib inline\n",
      "import matplotlib.pylab as plt\n",
      "from math import *\n",
      "import numpy as np\n",
      "import scipy as sp\n",
      "import random\n",
      "from scipy import integrate\n",
      "from scipy import interpolate\n",
      "from scipy import optimize\n",
      "import time"
     ],
     "language": "python",
     "metadata": {},
     "outputs": [],
     "prompt_number": 3
    },
    {
     "cell_type": "markdown",
     "metadata": {},
     "source": [
      "Here is the first model, a drunk guy taking steps. We can say that there is a probability that he will walk one direction over another, so if we want to know where he is after N steps, we can do the following"
     ]
    },
    {
     "cell_type": "code",
     "collapsed": false,
     "input": [
      "def walker(N,probability=.6,xpos=0):\n",
      "    \"\"\"This is our drunk guy model\n",
      "    N is the number of steps he takes total\n",
      "    probability is his probability of walking right\n",
      "    xpos is his initial x position (state)\"\"\"\n",
      "    i=0\n",
      "    while i < N:\n",
      "        if random.random() < probability:\n",
      "            xpos+=1\n",
      "        else:\n",
      "            xpos-=1\n",
      "        i += 1\n",
      "    return xpos\n",
      "uWalker = np.vectorize(walker)\n",
      "def multiSimWalker(Ntrials,Nsteps,probability=.6,xpos=0):\n",
      "    \"\"\"This is the simulation of our drunk guy\n",
      "    We have him walk Nsteps steps Ntrials number of times\"\"\" \n",
      "    allTrials = np.ones(Ntrials)*Nsteps\n",
      "    return uWalker(allTrials,probability,xpos)\n",
      "Ntrials = 10000\n",
      "xpos = (multiSimWalker(Ntrials,54))\n",
      "print(\"position mean={:g}, median={:g}, std dev={:g}\".format(np.mean(xpos),np.median(xpos),np.std(xpos)))"
     ],
     "language": "python",
     "metadata": {},
     "outputs": [
      {
       "output_type": "stream",
       "stream": "stdout",
       "text": [
        "position mean=10.6674, median=10, std dev=7.26018\n"
       ]
      }
     ],
     "prompt_number": 13
    },
    {
     "cell_type": "code",
     "collapsed": false,
     "input": [
      "xpos2 = xpos - min(xpos)\n",
      "xposBin = np.bincount(xpos2)\n",
      "for i in range(len(xposBin)):\n",
      "    print(\"{:d}:\\t{:d}\".format(i+min(xpos),xposBin[i]))"
     ],
     "language": "python",
     "metadata": {},
     "outputs": [
      {
       "output_type": "stream",
       "stream": "stdout",
       "text": [
        "-16:\t1\n",
        "-15:\t0\n",
        "-14:\t3\n",
        "-13:\t0\n",
        "-12:\t10\n",
        "-11:\t0\n",
        "-10:\t20\n",
        "-9:\t0\n",
        "-8:\t43\n",
        "-7:\t0\n",
        "-6:\t88\n",
        "-5:\t0\n",
        "-4:\t152\n",
        "-3:\t0\n",
        "-2:\t239\n",
        "-1:\t0\n",
        "0:\t355\n",
        "1:\t0\n",
        "2:\t570\n",
        "3:\t0\n",
        "4:\t705\n",
        "5:\t0\n",
        "6:\t861\n",
        "7:\t0\n",
        "8:\t1003\n",
        "9:\t0\n",
        "10:\t1097\n",
        "11:\t0\n",
        "12:\t1088\n",
        "13:\t0\n",
        "14:\t943\n",
        "15:\t0\n",
        "16:\t869\n",
        "17:\t0\n",
        "18:\t710\n",
        "19:\t0\n",
        "20:\t515\n",
        "21:\t0\n",
        "22:\t316\n",
        "23:\t0\n",
        "24:\t192\n",
        "25:\t0\n",
        "26:\t110\n",
        "27:\t0\n",
        "28:\t61\n",
        "29:\t0\n",
        "30:\t31\n",
        "31:\t0\n",
        "32:\t13\n",
        "33:\t0\n",
        "34:\t3\n",
        "35:\t0\n",
        "36:\t2\n"
       ]
      }
     ],
     "prompt_number": 14
    },
    {
     "cell_type": "code",
     "collapsed": false,
     "input": [
      "plot=plt.hist(xpos,max(xpos)-min(xpos))\n",
      "pl=plt.xlabel(\"Final position\")\n",
      "pl=plt.ylabel(\"Number of times occurred, N = {:,d}\".format(Ntrials))\n",
      "pl=plt.title(\"Where we wound up\")"
     ],
     "language": "python",
     "metadata": {},
     "outputs": [
      {
       "metadata": {},
       "output_type": "display_data",
       "png": "[encoded data removed]",
       "text": [
        "<matplotlib.figure.Figure at 0x7fd4b0581f28>"
       ]
      }
     ],
     "prompt_number": 15
    },
    {
     "cell_type": "markdown",
     "metadata": {},
     "source": [
      "Now for a harder model.\n"
     ]
    },
    {
     "cell_type": "markdown",
     "metadata": {},
     "source": [
      "We want to model a 2D random walk simulation that models adsorbed atoms on a crystalline surface. Supposing that the surface reaction is diffusion controlled, we neeed to set up a model square surface with lattice sites located at (x,y) coordinates ($1 \\leq x \\leq M, 1 \\leq y \\leq M$) and M is the number of lattice sites in each direction. Then we need to drop N adsorbed atoms at random (x,y) within the (M,M) domain of the envisioned lattice. The value $\\frac{N}{M^2}$ corresponds to the fractional surface coverage of the adsorbed atoms. In a loop, choose a random number $ 0 <r < 1 $ and move each atom to new coordinates according to heuristics. "
     ]
    },
    {
     "cell_type": "markdown",
     "metadata": {},
     "source": [
      "If at the end of each move cycle (movement of all $N$ adsorbed atoms), any two atoms are on adjacent lattice sites, increment a counter that keeps track of successful dimerization reactions, and reassign the $(x,y)$ coordinates to random, but vacant, positions. This simulates the removal of the dimer from the surface and adsorption of two additional atoms at random sites to maintain the desired surface coverage."
     ]
    },
    {
     "cell_type": "code",
     "collapsed": false,
     "input": [
      "class grid:\n",
      "    def __init__(self,M,fractionalCoverage=.5):\n",
      "        self.M = M\n",
      "        self.fracCoverage = fractionalCoverage\n",
      "        self.N = (M **2) * fractionalCoverage\n",
      "        self.x = np.linspace(0,M-1,M)\n",
      "        self.y = np.linspace(0,M-1,M)\n",
      "        self.X,self.Y = np.meshgrid(self.x,self.y)\n",
      "    "
     ],
     "language": "python",
     "metadata": {},
     "outputs": [],
     "prompt_number": 58
    },
    {
     "cell_type": "code",
     "collapsed": false,
     "input": [
      "myGrid = grid(100)\n"
     ],
     "language": "python",
     "metadata": {},
     "outputs": [],
     "prompt_number": 59
    },
    {
     "cell_type": "code",
     "collapsed": false,
     "input": [
      "\n"
     ],
     "language": "python",
     "metadata": {},
     "outputs": [
      {
       "metadata": {},
       "output_type": "pyout",
       "prompt_number": 60,
       "text": [
        "array([[  0.,   1.,   2., ...,  97.,  98.,  99.],\n",
        "       [  0.,   1.,   2., ...,  97.,  98.,  99.],\n",
        "       [  0.,   1.,   2., ...,  97.,  98.,  99.],\n",
        "       ..., \n",
        "       [  0.,   1.,   2., ...,  97.,  98.,  99.],\n",
        "       [  0.,   1.,   2., ...,  97.,  98.,  99.],\n",
        "       [  0.,   1.,   2., ...,  97.,  98.,  99.]])"
       ]
      }
     ],
     "prompt_number": 60
    },
    {
     "cell_type": "code",
     "collapsed": false,
     "input": [],
     "language": "python",
     "metadata": {},
     "outputs": []
    }
   ],
   "metadata": {}
  }
 ]
}