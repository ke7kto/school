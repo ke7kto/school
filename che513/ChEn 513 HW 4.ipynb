{
 "metadata": {
  "name": "",
  "signature": "sha256:bd248399813eec3dab941eb5a9ec60925d328e7e43ae95ce650fe0a897a48d74"
 },
 "nbformat": 3,
 "nbformat_minor": 0,
 "worksheets": [
  {
   "cells": [
    {
     "cell_type": "markdown",
     "metadata": {},
     "source": [
      "1\\. Calculate the following populations using the vibrational data from the Ideal Gas Workbook\n",
      "data.\n",
      "\n",
      "1. The fraction of oxygen and iodine molecules that are in excited (above the ground level) vibrational states at 300 K.\n",
      "2. Calculate the fraction of oxygen and iodine molecules that are in the lowest two vibrational states at 500 K. \n",
      "<details>Equations $$\\epsilon_{\\nu,n} = \\left(n + \\frac{1}{2}\\right)h\\nu$$ and $$q_v = \\frac{e^{-\\beta h \\nu / 2}}{1 - e^{-\\beta h \\nu / 2}}$$ should be of use.</details>"
     ]
    },
    {
     "cell_type": "code",
     "collapsed": false,
     "input": [
      "import numpy as np\n",
      "import scipy.constants as sc\n",
      "R = sc.R\n",
      "h = 6.62606957e-34\n",
      "k = 1.3806488e-23\n",
      "class molecule:\n",
      "    def __init__(self,sigma=2,A=0,B=0,C=0,v1 = 0,Do=0):\n",
      "        self.A=A\n",
      "        self.B=B\n",
      "        self.C=C\n",
      "        self.v1=v1\n",
      "        self.Do=Do\n",
      "        self.nu = v1*k/h\n",
      "    def qvib(self,T):\n",
      "        beta = 1/(k*T)\n",
      "        eThing = np.exp(-beta*h*self.nu/2)\n",
      "        return eThing/(1-eThing)\n",
      "    def excited(self,T,n=0):\n",
      "        \"\"\"Return the fraction of molecules in the nth (ground=0) vibrational state\"\"\"\n",
      "        beta = 1/(k*T)\n",
      "        return np.exp(-beta*h*self.nu*(n+0.5))/self.qvib(T)\n",
      "        \n",
      "O2 = molecule(2,2.07,0,0,2256,118)\n",
      "I2 = molecule(2,0.0537,0,0,308,35.6)\n",
      "print(\"The fraction of oxygen molecules that are in excited vibrational states at 300K is {:.2f}\".format(1-O2.excited(300,0)))\n",
      "print(\"The fraction of iodine molecules that are in excited vibrational states at 300K is {:.2f}\".format(1-I2.excited(300,0)))\n",
      "print(\"\",\"b)\")\n",
      "print(\"The fraction of oxygen molecules in the lowest two \\\n",
      "vibrational states at 500K is {:.2f}\".format(O2.excited(500,0)+O2.excited(500,1)))\n",
      "print(\"The fraction of iodine molecules in the lowest two \\\n",
      "vibrational states at 500K is {:.2f}\".format(I2.excited(500,0)+I2.excited(500,1)))\n"
     ],
     "language": "python",
     "metadata": {},
     "outputs": [
      {
       "output_type": "stream",
       "stream": "stdout",
       "text": [
        "The fraction of oxygen molecules that are in excited vibrational states at 300K is 0.02\n",
        "The fraction of iodine molecules that are in excited vibrational states at 300K is 0.60\n",
        " b)\n",
        "The fraction of oxygen molecules in the lowest two vibrational states at 500K is 0.91\n",
        "The fraction of iodine molecules in the lowest two vibrational states at 500K is 0.41\n"
       ]
      }
     ],
     "prompt_number": 1
    },
    {
     "cell_type": "markdown",
     "metadata": {},
     "source": [
      "2\\. Calculate the rotational entropy of NH3 at 400 K in J/(mol\u00b7K). \n",
      "<details> See Tables 6.1 and 6.2. You will need data found in the workbook for Chapter 6 entitled Ideal_Gas.xlsx\n",
      "<br/><br/>\n",
      "$$S_i = Nk \\ln q_i \\frac{U_i}{T}$$<br/>\n",
      "$$q_r = \\frac{\\sqrt{A}}{\\sigma} \\prod\\limits_\\alpha \\left(\\frac{T}{\\Theta_\\alpha}\\right)^\\frac{1}{2}$$\n",
      "</details>"
     ]
    },
    {
     "cell_type": "code",
     "collapsed": false,
     "input": [
      "class molecule:\n",
      "    R = 8.314472\n",
      "    def __init__(self,sigma=2,A=0,B=0,C=0,v = np.array([0]),Do=0,MW=17.03):\n",
      "        self.A=A\n",
      "        self.B=B\n",
      "        self.C=C\n",
      "        self.v=v\n",
      "        self.Do=Do\n",
      "        self.nu = v*k/h\n",
      "        self.MW = MW\n",
      "        self.sigma = sigma\n",
      "    def qVib(self,T):\n",
      "        beta = 1/(k*T)\n",
      "        eThing = np.exp(-beta*h*self.nu/2)\n",
      "        return eThing/(1-eThing)\n",
      "    def qRotational(self,T):\n",
      "        A = np.pi\n",
      "        q = np.sqrt(A)/self.sigma * np.sqrt(T/self.A)*np.sqrt(T/self.B)*np.sqrt(T/self.C)\n",
      "        return q\n",
      "    def entropyRot(self,T):\n",
      "        dlnqdt = 3/(2*T)\n",
      "        return R*np.log(self.qRotational(T))+R*T**2 * dlnqdt\n",
      "    def excited(self,T,n=0):\n",
      "        \"\"\"Return the fraction of molecules in the nth (ground=0) rotational state\"\"\"\n",
      "        \n",
      "        \n",
      "        \n",
      "NH3 = molecule(3,13.6,13.6,8.92,np.array([1360,2330,4800,4880,4880]),276.8,17.03)\n",
      "\n",
      "print(\"The rotational entropy of ammonia at 400 K is {:.2f} J/mol K\".format(R*np.log(NH3.entropyRot(400))))"
     ],
     "language": "python",
     "metadata": {},
     "outputs": [
      {
       "output_type": "stream",
       "stream": "stdout",
       "text": [
        "The rotational entropy of ammonia at 400 K is 70.86 J/mol K\n"
       ]
      }
     ],
     "prompt_number": 2
    },
    {
     "cell_type": "markdown",
     "metadata": {},
     "source": [
      "3\\. Locate the center of mass of the linear molecule HCN, given that the equilibrium internuclear\n",
      "distances are 1.157 \u00c5 for CN and 1.059 \u00c5 for HC. Calculate the moment of inertia about the\n",
      "center of mass and the characteristic rotational temperature $\\Theta_r$.\n",
      "<details>For consistency among the whole class, place the H atom at $x=0$</details>"
     ]
    },
    {
     "cell_type": "code",
     "collapsed": false,
     "input": [
      "x = np.cumsum([0,1.059,1.157])\n",
      "m = np.array([1.00794, 12.0107,14.0067])\n",
      "comCoords = np.sum(x*m)/np.sum(m)\n",
      "print(\"The location of the center of mass is {:.2f} \u00c5\".format(comCoords))\n",
      "xc = (x-comCoords)\n",
      "Iau = np.sum(m*xc**2)\n",
      "xc = (x-comCoords)*1e-10\n",
      "m = m*1.66053892e-27\n",
      "I = np.sum(m*xc**2)\n",
      "print(\"The moment of inertia is {:.2g} kg m\u00b2 ({:.2f} Da \u00c5\u00b2)\".format(I,Iau))\n",
      "thetaR = h**2 / (8*np.pi**2 *k * I)\n",
      "print(\"The characteristic rotational temperature is {:.3g} Kelvin\".format(thetaR))"
     ],
     "language": "python",
     "metadata": {},
     "outputs": [
      {
       "output_type": "stream",
       "stream": "stdout",
       "text": [
        "The location of the center of mass is 1.62 \u00c5\n",
        "The moment of inertia is 1.9e-46 kg m\u00b2 (11.40 Da \u00c5\u00b2)\n",
        "The characteristic rotational temperature is 2.13 Kelvin\n"
       ]
      }
     ],
     "prompt_number": 3
    },
    {
     "cell_type": "markdown",
     "metadata": {},
     "source": [
      "4\\. Calculate the entropy of ClO2 at 298 K and 1 atm. Compare this calculated value to the\n",
      "experimental value of 255.4 J/(mol\u00b7K). Note: ClO2 has a ground-state electronic degeneracy\n",
      "of 2. "
     ]
    },
    {
     "cell_type": "code",
     "collapsed": false,
     "input": [
      "thetaRot = np.array([2.44251, 0.4936, 0.41063])\n",
      "thetaV = np.array([734.39,1472.93])\n",
      "sigma = 2\n",
      "P = 101325\n",
      "N = 6.022e23\n",
      "\n",
      "T = 298\n",
      "m = 35.453+15.9994\n",
      "Wo = 2\n",
      "\n",
      "V = N*R*T/P\n",
      "S = R*( np.log(((2*pi*m*k*T)/h**2)**1.5 * V*e**2.5/N) \\\n",
      "       + np.log(1/sigma * np.sqrt(pi*T**3 * e**3/(np.prod(thetaRot)))) \\\n",
      "       + np.sum(thetaV/T/(np.exp(thetaV/T)-1) - np.log(1 - np.exp(-thetaV/T)))+np.log(Wo))\n",
      "print(\"The entropy S is {:.4g} J/mol K\".format(S))"
     ],
     "language": "python",
     "metadata": {},
     "outputs": [
      {
       "output_type": "stream",
       "stream": "stdout",
       "text": [
        "The entropy S is 1476 J/mol K\n"
       ]
      }
     ],
     "prompt_number": 4
    },
    {
     "cell_type": "markdown",
     "metadata": {},
     "source": [
      "5\\. The Ally-Lee correlation for ideal gas heat capacity is\n",
      "$$C_p = A + B \\left[\\frac{\\frac{C}{T}}{\\sinh\\left(\\frac{C}{T}\\right)}\\right]^2 + D\\left[\\frac{\\frac{E}{T}}{\\cosh\\left(\\frac{E}{T}\\right)}\\right]^2 $$\n",
      "Determine the coefficients in the Ally-Lee equation for L-glutamic acid. Do this by first\n",
      "determining the vibrational frequencies using HF/6-311G(d)//HF/6-31G calculations and\n",
      "appropriate frequency scaling factors. Then obtain values for the ideal gas heat capacity CP\n",
      "over the temperature range 50 K \u2013 1000 K and regress these data to obtain the Ally-Lee\n",
      "coefficients. "
     ]
    },
    {
     "cell_type": "code",
     "collapsed": false,
     "input": [
      "vibModes = np.array([34.99,49.59,87.84,144.66,179.39,351.73,394.57,\\\n",
      "                     462.77,500.91,576.98,659.34,808.98,893.24,929.04,\\\n",
      "                     968.18,1008.61,1160.24,1199.69,1217.92,1331.45,1392.96,\\\n",
      "                     1492.31,1515.51,1590.69,1644.05,1760.08,1785.50,1876.29,\\\n",
      "                     1946.88,1999.87,2011.49,2079.97,2094.45,2148.00,2191.35,\\\n",
      "                     2216.09,2258.50,2325.68,2351.24,2669.66,2897.49,2902.76,\\\n",
      "                     4617.10,4632.78,4658.35,4684.59,4734.87,5395.17,5519.03,5931.47,5934.21])\n",
      "def Cp(T):\n",
      "    return R + R*(1.5+1.5+np.sum((vibModes/T)**2 * (np.exp(vibModes/T)/(np.exp(vibModes/T)-1)**2)))\n",
      "def AllyLee(T,A,B,C,D,E):\n",
      "    return A+B*(C/T/(np.sinh(C/T)))**2 + D*((E/T)/(np.cosh(E/T)))**2\n",
      "xVals = np.linspace(50,1000,10000)\n",
      "Cp = np.vectorize(Cp)\n",
      "yVals = Cp(xVals)\n",
      "from scipy.optimize import curve_fit\n",
      "params,otherThingy = curve_fit(AllyLee,xVals,yVals,[3.3290E+04,2.4908E+04,7.3430E+02,9.4400E+03,3.4100E+02])\n",
      "iList = ['A','B','C','D','E']\n",
      "count=0\n",
      "\n",
      "A,B,C,D,E = params\n",
      "#A,B,C,D,E = [3.3290E+04,2.4908E+04,7.3430E+02,9.4400E+03,3.4100E+02]\n",
      "plt.plot(xVals,Cp(xVals),'b--',label='Actual')\n",
      "AllyLee = np.vectorize(AllyLee)\n",
      "plt.plot(xVals,AllyLee(xVals,A,B,C,D,E),'r-',label='Fit')\n",
      "plt.legend(loc='best')\n",
      "plt.xlabel('Temperature (K)')\n",
      "plt.ylabel(r'Heat Capacity ($\\frac{J}{mol K}$)')\n",
      "for i in params:\n",
      "    print(\"{} = {:.2f}\".format(iList[count],i))\n",
      "    count +=1"
     ],
     "language": "python",
     "metadata": {},
     "outputs": [
      {
       "output_type": "stream",
       "stream": "stdout",
       "text": [
        "A = 73.36\n",
        "B = 321.59\n",
        "C = 939.84\n",
        "D = 135.70\n",
        "E = 364.69\n"
       ]
      },
      {
       "metadata": {},
       "output_type": "display_data",
       "png": "[encoded data removed]",
       "text": [
        "<matplotlib.figure.Figure at 0x7f2316b69a58>"
       ]
      }
     ],
     "prompt_number": 5
    },
    {
     "cell_type": "markdown",
     "metadata": {},
     "source": [
      "6\\. Use statistical mechanics to obtain the equilibrium constant for the water-gas shift reaction\n",
      " CO2 + H2 = CO + H2O\n",
      "at 1000 K. Also obtain a value from the data in the DIPPR database and compare your two\n",
      "values.\n",
      "<details>\n",
      "+ You can use any constants and calculated values found in the workbook for Ch 6 to do this problem (Idea_gas.xls)\n",
      "+ Equations 13.14 and 4.18 of \"Introduction to Chemical Engineering Thermodynamics\" by Smith, Van Ness and Abbot will be needed (both equations are found on page 492 of the 7th edition.)\n",
      "+ This question is related to an L3 competency."
     ]
    },
    {
     "cell_type": "code",
     "collapsed": false,
     "input": [
      "import scipy.integrate"
     ],
     "language": "python",
     "metadata": {},
     "outputs": [],
     "prompt_number": 6
    },
    {
     "cell_type": "code",
     "collapsed": false,
     "input": [
      "T = 1000\n",
      "R = 8.3144\n",
      "gibbsCO2 =  -1822.684748e3 # with Do\n",
      "gibbsH2 =  -568.3800694e3\n",
      "gibbsCO =  -1274.329141e3\n",
      "gibbsH2O=  -1114.110054e3\n",
      "###\n",
      "#Dippr\n",
      "###\n",
      "sHCO2=-3.93510E+05\n",
      "sHH2 =0.0\n",
      "sHCO =-1.10530E+05\n",
      "sHH2O=-2.41818E+05\n",
      "\n",
      "sGCO2=-3.94370E+05\n",
      "sGH2 =0.0\n",
      "sGCO =-1.37150E+05\n",
      "sGH2O=-2.28572E+05\n",
      "sdGrxn = -sGCO2 - sGH2 + sGCO + sGH2O\n",
      "sdHrxn = -sHCO2 - sHH2 + sHCO + sHH2O\n",
      "\n",
      "deltaGreaction = -gibbsCO2 - gibbsH2 + gibbsCO + gibbsH2O\n",
      "print(\"The Gibbs of reaction is {:.3f} J/mol\".format(deltaGreaction))\n",
      "K = np.exp(-deltaGreaction/(R*1000))\n",
      "\n",
      "print(\"The equilibrium constant is {:.3f} according to stat mech\".format(K))\n",
      "\n",
      "def Cp(T,p):\n",
      "    return (p[0]+p[1]*(p[2]/T/(np.sinh(p[2]/T)))**2 + p[3]*(p[4]/T/(np.cosh(p[4]/T)))**2)/1000\n",
      "\n",
      "pCO2 = [2.9370E+04,3.4540E+04,1.4280E+03,2.6400E+04,5.8800E+02]\n",
      "pH2  = [2.7617E+04,9.5600E+03,2.4660E+03,3.7600E+03,5.6760E+02]\n",
      "pCO  = [2.9108E+04,8.7730E+03,3.0851E+03,8.4553E+03,1.5382E+03]\n",
      "pH2O = [3.3363E+04,2.6790E+04,2.6105E+03,8.8960E+03,1.1690E+03]\n",
      "T = 1000\n",
      "def CpStoich(T):\n",
      "    return (-Cp(T,pCO2) -Cp(T,pH2) + Cp(T,pCO) + Cp(T,pH2O))\n",
      "def dHRXNint(T):\n",
      "    return (sdHrxn + scipy.integrate.quad(CpStoich,298,T)[0])/(T**2)\n",
      "Hrxn = -scipy.integrate.quad(dHRXNint,298,T)[0]\n",
      "dGrxnDippr = Hrxn/R + sdGrxn/298/R\n",
      "Kdip = np.exp((-dGrxnDippr)/(R))\n",
      "\n",
      "print(\"The equilibrium constant is {:.3g} according to Dippr\".format(Kdip))"
     ],
     "language": "python",
     "metadata": {},
     "outputs": [
      {
       "output_type": "stream",
       "stream": "stdout",
       "text": [
        "The Gibbs of reaction is 2625.622 J/mol\n",
        "The equilibrium constant is 0.729 according to stat mech\n",
        "The equilibrium constant is 0.956 according to Dippr\n"
       ]
      }
     ],
     "prompt_number": 7
    },
    {
     "cell_type": "code",
     "collapsed": false,
     "input": [
      "print(Hrxn/R)\n",
      "print(sdGrxn/298)"
     ],
     "language": "python",
     "metadata": {},
     "outputs": [
      {
       "output_type": "stream",
       "stream": "stdout",
       "text": [
        "-11.190736133755909\n",
        "96.13422818791946\n"
       ]
      }
     ],
     "prompt_number": 8
    },
    {
     "cell_type": "markdown",
     "metadata": {},
     "source": [
      "7\\. Consider the Lennard-Jones 12-6 potential.\n",
      "\n",
      "1. Plot in dimensionless units $u^+ = \\frac{u}{\\epsilon}$ vs. $r^+ = \\frac{r}{\\sigma}$\n",
      "1. Determine how to make the force dimensionless and then plot the dimensionless force as a function of $r^+$ on the same graph.\n",
      "1. Suppose two identical particles are constrained to move in one dimension. Further\n",
      "    suppose that they have zero velocity relative to each other at a point where they are\n",
      "    separated by $r^+ = 2.5$. Write down the classical differential equation and appropriate\n",
      "    initial conditions that could be used to numerically solve for $r^+$, the distance between\n",
      "    the particles, as a function of time. Without solving the equation, sketch in phase\n",
      "    space the expected trajectory of the two-particle system. "
     ]
    },
    {
     "cell_type": "code",
     "collapsed": false,
     "input": [
      "def u(r):\n",
      "    return 4*(r**-12 - r**-6)\n",
      "r = np.linspace(0.8,3,100)\n",
      "plt.plot(r,u(r))\n",
      "plt.ylim([-1,1])\n",
      "muffle=plt.title('0-D Potential')"
     ],
     "language": "python",
     "metadata": {},
     "outputs": [
      {
       "metadata": {},
       "output_type": "display_data",
       "png": "[encoded data removed]",
       "text": [
        "<matplotlib.figure.Figure at 0x7f230dfa8320>"
       ]
      }
     ],
     "prompt_number": 9
    },
    {
     "cell_type": "code",
     "collapsed": false,
     "input": [
      "#Part b\n",
      "def du(r):\n",
      "    return 4.*(12*r**-13 - 6.*r**-7)\n",
      "plt.figure()\n",
      "plt.plot(r,du(r))\n",
      "plt.ylim([-2.5,1])\n",
      "muffle=plt.title('Force')\n"
     ],
     "language": "python",
     "metadata": {},
     "outputs": [
      {
       "metadata": {},
       "output_type": "display_data",
       "png": "[encoded data removed]",
       "text": [
        "<matplotlib.figure.Figure at 0x7f230e01c588>"
       ]
      }
     ],
     "prompt_number": 10
    },
    {
     "cell_type": "markdown",
     "metadata": {},
     "source": [
      "<h3>Part c</h3>\n",
      "The differential equation is:\n",
      "$$a_1 = F/m_1 = \\frac{d^2 r}{dt^2} =\\frac{4(12r^{-13} - 6r^{-7})}{m_1} $$\n",
      "<p>This differential equation would be oscillatory, bouncing back and forth between 2.5 and 1.1 radius units</p>\n",
      "<p>The solution should look like a sine wave (sort of)</p>"
     ]
    },
    {
     "cell_type": "code",
     "collapsed": false,
     "input": [
      "import scipy.integrate as sci\n",
      "def deriv(r,t):\n",
      "    y = np.array([r[1],du(r[0])])\n",
      "    return y\n",
      "t = np.linspace(0,16,1000)\n",
      "x=sci.odeint(deriv,[2.5,0],t)\n",
      "plt.plot(t,x[:,0])\n",
      "plt.xlabel('Time')\n",
      "muffle=plt.ylabel('Distance')"
     ],
     "language": "python",
     "metadata": {},
     "outputs": [
      {
       "metadata": {},
       "output_type": "display_data",
       "png": "[encoded data removed]",
       "text": [
        "<matplotlib.figure.Figure at 0x7f230df0f518>"
       ]
      }
     ],
     "prompt_number": 14
    },
    {
     "cell_type": "markdown",
     "metadata": {},
     "source": [
      "8\\. Assuming pair-wise additivity, calculate the potential energy of three identical molecules located at the following coordinates (all in nm): [0.3,0.55,0.38],[0.5,0.45,0.02], and [0.3,0.11,0.2] for the following models:\n",
      "\n",
      "1. Square-well model with $\\sigma$ = 0.335 nm, $g=1.8$ and $\\epsilon/k=240$K.\n",
      "2. Lennard-Jones model with $\\sigma = 0.434 nm$, and $\\epsilon/k=400$K.\n",
      "3. Hard-sphere model with $\\sigma=0.42nm$ \n",
      "4. Exp-6 model with $A=1.2\\cdot 10^{-4}erg$, $B=54nm^{-1}$, and $C_6 = 2.6\\cdot 10^{-16}erg\\cdot nm^6$"
     ]
    },
    {
     "cell_type": "code",
     "collapsed": false,
     "input": [
      "k = 1.3806488e-23\n",
      "mols=np.array([[0.3,0.55,0.38],[0.5,0.45,0.02],[0.3,0.11,0.2]])\n",
      "sigma = 0.335\n",
      "g = 1.8\n",
      "epsilon = 240*k\n",
      "def sqWell(r):\n",
      "    if r<=sigma:\n",
      "        return inf\n",
      "    elif r < g*sigma:\n",
      "        return -epsilon\n",
      "    else:\n",
      "        return 0\n",
      "def HS(r):\n",
      "    sigma = 0.42\n",
      "    if r<= sigma:\n",
      "        return inf\n",
      "    else:\n",
      "        return 0\n",
      "def LJ(r):\n",
      "    sigma = 0.434\n",
      "    epsilon = 400*k\n",
      "    return 4*epsilon*((sigma/r)**12 - (sigma/r)**6)\n",
      "def Exp6(r):\n",
      "    A=1.2e-4 * 1e-7 #Joules\n",
      "    B = 54\n",
      "    C = 2.6e-16 * 1e-7\n",
      "    return A*np.exp(-B*r) - C/(r**6)\n",
      "def getPotential(model,mols):\n",
      "    n,m = np.shape(mols)\n",
      "    answer = 0\n",
      "    for i in range(n):\n",
      "        for j in range(i,n):\n",
      "            if i==j:\n",
      "                pass\n",
      "            else:\n",
      "                r = np.sqrt((mols[i,0]-mols[j,0])**2 + (mols[i,1]-mols[j,1])**2 + (mols[i,2]-mols[j,2])**2)\n",
      "                answer+=model(r)\n",
      "    return answer\n",
      "print(\"Square well Potential: {:g} J\".format(getPotential(sqWell,mols)))\n",
      "print(\"Lennard-Jones Potential: {:g} J\".format(getPotential(LJ,mols)))\n",
      "print(\"Hard Sphere Potential: {:g} J\".format(getPotential(HS,mols)))\n",
      "print(\"Exp-6 model Potential: {:g} J\".format(getPotential(Exp6,mols)))\n",
      "#print(epsilon)"
     ],
     "language": "python",
     "metadata": {},
     "outputs": [
      {
       "output_type": "stream",
       "stream": "stdout",
       "text": [
        "Square well Potential: -9.94067e-21 J\n",
        "Lennard-Jones Potential: -1.34708e-21 J\n",
        "Hard Sphere Potential: 0 J\n",
        "Exp-6 model Potential: -8.37227e-21 J\n"
       ]
      }
     ],
     "prompt_number": 16
    },
    {
     "cell_type": "markdown",
     "metadata": {},
     "source": [
      "9\\. Optimize an HCl molecule using HF/6-31G to find the bond length. What partial charges\n",
      "should you use at the nuclear centers if you want your model to reproduce the gas-phase\n",
      "dipole moment of 1.38 D? Note: 1 D = 3.33564x10-30 coul\u00b7m\n",
      "<details>Equation 7.10 is the key to solving this problem</details>"
     ]
    },
    {
     "cell_type": "code",
     "collapsed": false,
     "input": [
      "import scipy.constants as sc\n",
      "bondLength = 1.29553e-10 #Angstroms\n",
      "dipoleMoment = 1.38 * 3.33564e-30\n",
      "charge = dipoleMoment/bondLength\n",
      "print(\"The partial charge should be {:.3f}\".format(charge/sc.e))\n",
      "#bondLength * charge = dipoleMoment\n"
     ],
     "language": "python",
     "metadata": {},
     "outputs": [
      {
       "output_type": "stream",
       "stream": "stdout",
       "text": [
        "The partial charge should be 0.222\n"
       ]
      }
     ],
     "prompt_number": 17
    },
    {
     "cell_type": "markdown",
     "metadata": {},
     "source": [
      "10\\. Use the recommended second virial coefficient data for methane from the DIPPR database\n",
      "and the Lennard-Jones expression given in the text for the second virial coefficient to obtain\n",
      "the values for the Lennard-Jones parameters \u03b5/k and \u03c3. Compare these values with those\n",
      "given in the Excel workbook.\n",
      "\n",
      "<details>Use equations 7.38 and 7.20 to obtain the equation to use to fit the data</details>"
     ]
    },
    {
     "cell_type": "code",
     "collapsed": false,
     "input": [
      "from scipy.special import gamma\n",
      "from scipy.misc import factorial"
     ],
     "language": "python",
     "metadata": {},
     "outputs": []
    },
    {
     "cell_type": "code",
     "collapsed": false,
     "input": [
      "def Bdippr(T):\n",
      "    bd = [5.1075E-02,-2.5181E+01,-2.5601E+05,5.9777E+15,-5.7697E+17]\n",
      "    return (bd[0]+bd[1]/T + bd[2]/T**3 + bd[3]/T**8 + bd[4]/T**9)/1000 \n",
      "def u(r,sigma,epsilon):\n",
      "    return 4*epsilon*((sigma/r)**12 - (sigma/r)**6)\n",
      "def Bq(r,sigma,epsilon,T):\n",
      "    return 1-np.exp(-u(r,sigma,epsilon)/(T))*4*np.pi*r**2\n",
      "Bq = np.vectorize(Bq)\n",
      "#def B(T,sigma,epsilon):\n",
      "#    return  2*np.pi* sci.quad(Bq ,0,np.inf,args=(sigma,epsilon,T))[0]\n",
      "def sumTerm(n,epsilon,T):\n",
      "    return 2**((2*n+1)/2)/(4*factorial(n))*(epsilon/T)**((2*n+1)/4)*gamma((2*n-1)/4)\n",
      "sumTerm = np.vectorize(sumTerm)\n",
      "def B(T,sigma,epsilon):\n",
      "    n = np.arange(0,100)\n",
      "    finSum = np.sum(sumTerm(n,epsilon,T))\n",
      "    #print(sumTerm(n,epsilon,T))\n",
      "    return -2/3 * np.pi*sigma**3 *(finSum)\n",
      "B = np.vectorize(B)\n",
      "from scipy.optimize import curve_fit\n",
      "x = np.linspace(200,1500,250)\n",
      "y = Bdippr(x)\n",
      "optimizedParams,covarianceMat=curve_fit(B,x,y,(0.409170175514 , 3.03622303092))\n",
      "sigma,epsilonOverk=optimizedParams\n",
      "#sigma = 10\n",
      "#epsilon = 2\n",
      "plt.plot(x,B(x,sigma,epsilonOverk),label='Stat Mech')\n",
      "plt.plot(x,Bdippr(x),label='Dippr')\n",
      "plt.legend(loc='best')\n",
      "plt.xlabel('Temperature (Kelvin)')\n",
      "plt.ylabel('Second Virial Coefficient')\n",
      "print('sigma is {:f}\\nEpsilon/k is {:f}'.format(sigma,epsilonOverk))"
     ],
     "language": "python",
     "metadata": {},
     "outputs": [
      {
       "output_type": "stream",
       "stream": "stdout",
       "text": [
        "sigma is 0.032356\n",
        "Epsilon/k is 148.171575\n"
       ]
      },
      {
       "metadata": {},
       "output_type": "display_data",
       "png": "[encoded data removed]",
       "text": [
        "<matplotlib.figure.Figure at 0x7f230b7f0da0>"
       ]
      }
     ],
     "prompt_number": 102
    },
    {
     "cell_type": "code",
     "collapsed": false,
     "input": [],
     "language": "python",
     "metadata": {},
     "outputs": [
      {
       "output_type": "stream",
       "stream": "stdout",
       "text": [
        "3.384107877314782e-193\n"
       ]
      }
     ],
     "prompt_number": 105
    },
    {
     "cell_type": "code",
     "collapsed": false,
     "input": [],
     "language": "python",
     "metadata": {},
     "outputs": []
    }
   ],
   "metadata": {}
  }
 ]
}