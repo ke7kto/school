{
 "metadata": {
  "name": "",
  "signature": "sha256:b1a30013ac0c45d3d9d8186e00ad89503afcae94f24d027067f41f6b0650a3e8"
 },
 "nbformat": 3,
 "nbformat_minor": 0,
 "worksheets": [
  {
   "cells": [
    {
     "cell_type": "heading",
     "level": 1,
     "metadata": {},
     "source": [
      "Problem 1"
     ]
    },
    {
     "cell_type": "heading",
     "level": 2,
     "metadata": {},
     "source": [
      "Part A\n"
     ]
    },
    {
     "cell_type": "markdown",
     "metadata": {},
     "source": [
      "*Write functions to solve $Ax = b$ by the Jacobi, Gauss Seidel, and SOR methods. Include your source in your writeups. We will use the functions to solve equation (1.201) in Hoffman, but vary the size of the matrix to be n \u00d7 n. The matrix should have entries on the main diagonal and off diagonals -1, -3, 1, 3 as in equation (1.201). The matrix is sparse, so don\u2019t store the whole thing. In Matlab, the spdiags routine is helpful; in Python, try the scipy.sparce.spdiags function. Use something like this in Python: *\n",
      "\n",
      "    b = 100.*np.ones(n)\n",
      "    x0 = np.zeros(n)\n",
      "    # you can do this, but its actually slow (?):\n",
      "    D = np.array([np.ones(n), -1.*np.ones(n), 4.*np.ones(n), -1.*np.ones(n), np.ones(n)])\n",
      "    d = [-3, -1, 0, 1, 3,]\n",
      "    A = spdiags(D,d,n,n)    \n",
      "    A = lil_matrix(A)       # so you can use array slicing\n",
      "    # this is faster: \n",
      "    A = np.diag(np.ones(n-3),-3)  + np.diag(-1.0*np.ones(n-1),-1) + \\\n",
      "    np.diag(4.0*np.ones(n),0) + np.diag(-1.*np.ones(n-1),1)   + \\\n",
      "    np.diag(np.ones(n-3),3)\n",
      "    \n",
      "*Or this in Matlab:*\n",
      "    \n",
      "    b = 100*ones(n,1);\n",
      "    x0 = zeros(n,1);\n",
      "    D = [ones(n,1) -1*ones(n,1) 4*ones(n,1) -1*ones(n,1) ones(n,1)];\n",
      "    d = [-3 -1 0 1 3]';\n",
      "    A = spdiags(D,d,n,n);\n",
      "    \n",
      "*Use an Use an initial guess of $x_i$ = 0. Your functions should return the solution accurate to some input tolerance (or relative error). Use the relative RMS (root mean square) error. *\n"
     ]
    },
    {
     "cell_type": "code",
     "collapsed": false,
     "input": [
      "from __future__ import division, print_function\n",
      "import numpy as np\n",
      "import matplotlib.pyplot as plt\n",
      "from scipy.sparse import spdiags, lil_matrix\n",
      "from scipy.sparse.linalg import spsolve\n",
      "%matplotlib inline\n",
      "\n",
      "b = np.array([100,100,100,100,100],dtype=np.float64)#,[2,2,1]])\n",
      "n, = np.shape(b)\n",
      "D = np.array([np.ones(n), -1.*np.ones(n), 4.*np.ones(n), -1.*np.ones(n), np.ones(n)])\n",
      "d = [-3,-1,0,1,3]\n",
      "A = spdiags(D,d,n,n)\n"
     ],
     "language": "python",
     "metadata": {},
     "outputs": [],
     "prompt_number": 1
    },
    {
     "cell_type": "code",
     "collapsed": false,
     "input": [
      "def Jacobi(A,b,itmax=1000,tol=1e-10):\n",
      "    A.dtype=np.float64\n",
      "    b.dtype=np.float64\n",
      "    m,n = np.shape(A)\n",
      "    if b.ndim < 2:\n",
      "        nb, = np.shape(b)\n",
      "        mb = 1\n",
      "    else:\n",
      "        mb,nb = np.shape(b)\n",
      "    if m != n:\n",
      "        raise ValueError(\"A is not square ({:}x{:})\".format(m,n))\n",
      "    if nb != n:\n",
      "        raise ValueError(\"A is iterations+=1 {:}x{:}, but b is {:}x{:}\".format(m,n,mb,nb))\n",
      "    x = np.zeros(n)\n",
      "    iterations=0\n",
      "    err = tol*100\n",
      "    errLog = []\n",
      "    while iterations < itmax and err > tol:\n",
      "        xnew = x.copy()\n",
      "        err = 0\n",
      "        for i in range(n):\n",
      "            xnew[i] = b[i] - np.sum(A[i,:i]*x[:i]) -np.sum(A[i,i+1:]*x[i+1:])\n",
      "            xnew[i]/=A[i,i]\n",
      "            err += ((xnew[i] - x[i])/xnew[i])**2\n",
      "        err /= n\n",
      "        err = np.sqrt(err)\n",
      "        errLog.append(err)\n",
      "        x = xnew.copy()\n",
      "        iterations+=1\n",
      "    return x,errLog"
     ],
     "language": "python",
     "metadata": {},
     "outputs": [],
     "prompt_number": 2
    },
    {
     "cell_type": "code",
     "collapsed": false,
     "input": [
      "A = A.tocsr()\n",
      "x2,errLog=Jacobi(A,b)\n",
      "print(x2,sep='\\n\\n')"
     ],
     "language": "python",
     "metadata": {},
     "outputs": [
      {
       "output_type": "stream",
       "stream": "stdout",
       "text": [
        "[ 25.          35.71428571  42.85714286  35.71428571  25.        ]\n"
       ]
      }
     ],
     "prompt_number": 3
    },
    {
     "cell_type": "code",
     "collapsed": false,
     "input": [
      "def GaussSeidel(A,b,itmax=1000,tol=1e-10):\n",
      "    A.dtype=np.float64\n",
      "    b.dtype=np.float64\n",
      "    m,n = np.shape(A)\n",
      "    if b.ndim < 2:\n",
      "        nb, = np.shape(b)\n",
      "        mb = 1\n",
      "    else:\n",
      "        mb,nb = np.shape(b)\n",
      "    if m != n:\n",
      "        raise ValueError(\"A is not square ({:}x{:})\".format(m,n))\n",
      "    if nb != n:\n",
      "        raise ValueError(\"A is iterations+=1 {:}x{:}, but b is {:}x{:}\".format(m,n,mb,nb))\n",
      "    x = np.zeros(n)\n",
      "    iterations=0\n",
      "    err = tol*100\n",
      "    errLog = []    \n",
      "    while iterations < itmax and err > tol:\n",
      "        err = 0\n",
      "        for i in range(n):\n",
      "            R = b[i] - np.sum(A[i,:]*x[:])\n",
      "            x2 = R/A[i,i]\n",
      "            if x2 + x[i] != 0:\n",
      "                err += ((x2)/(x2+x[i]))**2\n",
      "            x[i]+=x2\n",
      "        err = np.sqrt(err)\n",
      "        errLog.append(err)\n",
      "        iterations+=1\n",
      "    return x,errLog"
     ],
     "language": "python",
     "metadata": {},
     "outputs": [],
     "prompt_number": 4
    },
    {
     "cell_type": "code",
     "collapsed": false,
     "input": [
      "xg,errLogG = GaussSeidel(A,b)\n",
      "print(xg,sep='\\n\\n')"
     ],
     "language": "python",
     "metadata": {},
     "outputs": [
      {
       "output_type": "stream",
       "stream": "stdout",
       "text": [
        "[ 25.          35.71428571  42.85714286  35.71428571  25.        ]\n"
       ]
      }
     ],
     "prompt_number": 5
    },
    {
     "cell_type": "code",
     "collapsed": false,
     "input": [
      "def SOR(A,b,itmax=1000,tol=1e-10,omega=1.2):\n",
      "    A.dtype=np.float64\n",
      "    b.dtype=np.float64\n",
      "    m,n = np.shape(A)\n",
      "    if b.ndim < 2:\n",
      "        nb, = np.shape(b)\n",
      "        mb = 1\n",
      "    else:\n",
      "        mb,nb = np.shape(b)\n",
      "    if m != n:\n",
      "        raise ValueError(\"A is not square ({:}x{:})\".format(m,n))\n",
      "    if nb != n:\n",
      "        raise ValueError(\"A is {:}x{:}, but b is {:}x{:}\".format(m,n,mb,nb))\n",
      "    x = np.zeros(n)\n",
      "    iterations=0\n",
      "    err = tol*100\n",
      "    errLog = []\n",
      "    while iterations < itmax and err > tol:\n",
      "        err = 0\n",
      "        for i in range(n):\n",
      "            R = b[i] - np.sum(A[i,:]*x[:])\n",
      "            x2=omega*R/A[i,i]\n",
      "            if x2 + x[i] != 0:\n",
      "                err += ((x2)/(x2+x[i]))**2\n",
      "            x[i]+=x2\n",
      "        err = np.sqrt(err)\n",
      "        errLog.append(err)\n",
      "        iterations+=1\n",
      "    return x,errLog\n"
     ],
     "language": "python",
     "metadata": {},
     "outputs": [],
     "prompt_number": 6
    },
    {
     "cell_type": "code",
     "collapsed": false,
     "input": [
      "xs,errLogS = SOR(A,b)\n",
      "print(xs,sep='\\n\\n')"
     ],
     "language": "python",
     "metadata": {},
     "outputs": [
      {
       "output_type": "stream",
       "stream": "stdout",
       "text": [
        "[ 25.          35.71428571  42.85714286  35.71428571  25.        ]\n"
       ]
      }
     ],
     "prompt_number": 7
    },
    {
     "cell_type": "heading",
     "level": 2,
     "metadata": {},
     "source": [
      "Part B"
     ]
    },
    {
     "cell_type": "markdown",
     "metadata": {},
     "source": [
      "*For n=60, find the optimal value of $\\omega$ for the SOR routine by trial and error. Plot the error (logscale) after 50 iterations versus $\\omega$.*"
     ]
    },
    {
     "cell_type": "code",
     "collapsed": false,
     "input": [
      "omega = np.linspace(1,2)\n",
      "def SORtest(w,itmax,tol):\n",
      "    n=60\n",
      "    D = np.array([np.ones(n), -1.*np.ones(n), 4.*np.ones(n), -1.*np.ones(n), np.ones(n)])\n",
      "    d = [-3,-1,0,1,3]\n",
      "    A = spdiags(D,d,n,n)\n",
      "    A = A.tocsr()\n",
      "    b = np.ones(n,dtype=np.float64)*100\n",
      "    x,error=SOR(A,b,omega=w,itmax=itmax,tol=tol)\n",
      "    return x,error\n",
      "n, = np.shape(omega)\n",
      "errLog = []\n",
      "for i in range(n):\n",
      "    x,err=SORtest(omega[i],50,1e-300)\n",
      "    errLog.append(err[-1])"
     ],
     "language": "python",
     "metadata": {},
     "outputs": [],
     "prompt_number": 8
    },
    {
     "cell_type": "code",
     "collapsed": false,
     "input": [
      "plt.semilogy(omega,errLog)\n",
      "plt.xlabel('$\\\\omega$')\n",
      "plt.ylabel('$\\\\epsilon_{relative}$')\n",
      "plt.title('Minimum Error: $\\\\omega ={:.3g}$'.format(omega[np.argmin(errLog)]))\n",
      "trueOmega = omega[np.argmin(errLog)]"
     ],
     "language": "python",
     "metadata": {},
     "outputs": [
      {
       "metadata": {},
       "output_type": "display_data",
       "png": "[encoded data removed]",
       "text": [
        "<matplotlib.figure.Figure at 0x3bc0910>"
       ]
      }
     ],
     "prompt_number": 9
    },
    {
     "cell_type": "heading",
     "level": 2,
     "metadata": {},
     "source": [
      "Part C"
     ]
    },
    {
     "cell_type": "markdown",
     "metadata": {},
     "source": [
      "*For n = 60, plot the relative RMS error versus the number of iterations for Jacobi, Gauss, Seidel, and SOR (with optimal $\\omega$) methods. Plot the error on a log scale. You can modify your functions to record error vectors at each iteration. Rather than return after a given error is met, you can set the error tolerance very low and return after a given number of iterations. Plot errors for up to 100 iterations. As usual, be sure to label plots and comment the code.*"
     ]
    },
    {
     "cell_type": "code",
     "collapsed": false,
     "input": [
      "n=60\n",
      "D = np.array([np.ones(n), -1.*np.ones(n), 4.*np.ones(n), -1.*np.ones(n), np.ones(n)])\n",
      "d = [-3,-1,0,1,3]\n",
      "A = spdiags(D,d,n,n)\n",
      "A = A.tocsr()\n",
      "b = np.ones(n,dtype=np.float64)*100\n",
      "xJ,eJac= Jacobi(A,b,itmax=100,tol=1e-300)\n",
      "xG,eGauss=GaussSeidel(A,b,itmax=100,tol=1e-300)\n",
      "xS,eSOR= SOR(A,b,omega=trueOmega,itmax=100,tol=1e-300)\n",
      "xAxis = np.arange(1,101,1)"
     ],
     "language": "python",
     "metadata": {},
     "outputs": [],
     "prompt_number": 10
    },
    {
     "cell_type": "code",
     "collapsed": false,
     "input": [
      "plt.semilogy(xAxis,eJac,'b-',label='Jacobi')\n",
      "plt.semilogy(xAxis,eGauss,'g--',label='Gauss')\n",
      "plt.semilogy(xAxis,eSOR,'r-.',label='SOR($\\\\omega={:.4g}$)'.format(trueOmega))\n",
      "plt.title('Error vs iteration for different iterative methods')\n",
      "plt.xlabel('Iteration Number')\n",
      "plt.ylabel('Error (Relative)')\n",
      "leg=plt.legend()"
     ],
     "language": "python",
     "metadata": {},
     "outputs": [
      {
       "metadata": {},
       "output_type": "display_data",
       "png": "[encoded data removed]",
       "text": [
        "<matplotlib.figure.Figure at 0x3bc0790>"
       ]
      }
     ],
     "prompt_number": 11
    },
    {
     "cell_type": "heading",
     "level": 1,
     "metadata": {},
     "source": [
      "Problem 2"
     ]
    },
    {
     "cell_type": "markdown",
     "metadata": {},
     "source": [
      "*Find the roots of the following equation using at least three different root solving methods (such as bisection, false position, secant, or Newton-Raphson, etc.):*\n",
      "$$ f(x) = xe^x -x -5e^x. $$\n",
      "*(You can use the following template for function mymethod (change the name).  You will also need to write a function for f(x) (and maybe one for its derivative) and then call your various mymethod functions using some driver code.)*\n"
     ]
    },
    {
     "cell_type": "code",
     "collapsed": false,
     "input": [
      "def f(x):\n",
      "    return (x-5)*np.exp(x) - x\n",
      "def dfdx(x):\n",
      "    return (x-4)*np.exp(x)-1"
     ],
     "language": "python",
     "metadata": {},
     "outputs": [],
     "prompt_number": 12
    },
    {
     "cell_type": "code",
     "collapsed": false,
     "input": [
      "def Newton(f,dfdx,xGuess=0,itmax=1000,tol=1e-12):\n",
      "    \"\"\"Compute the root of an equation using Newton's method.\n",
      "    Be a chicken and bail out if it takes too long.\"\"\"\n",
      "    x=xGuess\n",
      "    xVals=[xGuess]\n",
      "    tol = np.abs(tol)\n",
      "    err = tol*10\n",
      "    it=0\n",
      "    while it< itmax and tol < err:\n",
      "        x = x - f(x)/dfdx(x)\n",
      "        xVals.append(x)\n",
      "        err = np.abs(f(x))\n",
      "        it +=1\n",
      "    return x,xVals"
     ],
     "language": "python",
     "metadata": {},
     "outputs": [],
     "prompt_number": 13
    },
    {
     "cell_type": "code",
     "collapsed": false,
     "input": [
      "def Bisection(f,a=-1e6,b=1e6,itmax=1000,tol=1e-12):\n",
      "    fa = f(a)\n",
      "    fb = f(b)\n",
      "    it = 0\n",
      "    err = tol*10\n",
      "    while it< itmax and tol < err:\n",
      "        if fa*fb > 0:\n",
      "            raise ValueError('a and b do not seem to bracket the root in the bisection algorithm.')\n",
      "            return False\n",
      "        c = (a + b)/2\n",
      "        fc = f(c)\n",
      "        if fa*fc > 0:\n",
      "            a=c\n",
      "            fa=fc\n",
      "        elif fc==0:\n",
      "            return c\n",
      "        else:\n",
      "            b=c\n",
      "            fb=fc\n",
      "        err = np.abs(fa-fb)\n",
      "        it+=1\n",
      "    return (a+b)/2\n",
      "    \n",
      "    "
     ],
     "language": "python",
     "metadata": {},
     "outputs": [],
     "prompt_number": 14
    },
    {
     "cell_type": "code",
     "collapsed": false,
     "input": [
      "def RegulaFalsi(f,a=-1e6,b=1e6,itmax=1000,tol=1e-12):\n",
      "    fa = f(a)\n",
      "    fb = f(b)\n",
      "    it = 0\n",
      "    err = tol*10\n",
      "    while it< itmax and tol < err:\n",
      "        if fa*fb > 0:\n",
      "            raise ValueError('a and b do not seem to bracket the root in the RF algorithm.')\n",
      "            return False\n",
      "        c = b - fb*(b-a)/(fb-fa)\n",
      "        fc = f(c)\n",
      "        if fa*fc > 0:\n",
      "            a=c\n",
      "            fa=fc\n",
      "        elif fc==0:\n",
      "            return c\n",
      "        else:\n",
      "            b=c\n",
      "            fb=fc\n",
      "        err = np.abs(fc)\n",
      "        it+=1\n",
      "    if it >= itmax:\n",
      "        print(\"Maximum iterations exceeded in Regula Falsi\")\n",
      "    return b - fb*(b-a)/(fb-fa)"
     ],
     "language": "python",
     "metadata": {},
     "outputs": [],
     "prompt_number": 15
    },
    {
     "cell_type": "code",
     "collapsed": false,
     "input": [
      "def Secant(f,a=-1,b=1,itmax=1000,tol=1e-12):\n",
      "    fa = f(a)\n",
      "    fb = f(b)\n",
      "    it = 0\n",
      "    err = tol*10\n",
      "    while it< itmax and tol < err:\n",
      "        c = b - fb*(b-a)/(fb-fa)\n",
      "        fc = f(c)\n",
      "        b = a\n",
      "        fb = fa\n",
      "        a = c\n",
      "        fa = fc\n",
      "        it+=1\n",
      "        err = np.abs(fc)\n",
      "    if it >= itmax:\n",
      "        print(\"Maximum iterations exceeded in Secant\")\n",
      "    return b - fb*(b-a)/(fb-fa)"
     ],
     "language": "python",
     "metadata": {},
     "outputs": [],
     "prompt_number": 16
    },
    {
     "cell_type": "code",
     "collapsed": false,
     "input": [
      "x,xVals = Newton(f,dfdx)\n",
      "try:\n",
      "    xB = Bisection(f,-20,2)\n",
      "    xRF =RegulaFalsi(f,-20,2)\n",
      "    xSec=Secant(f)\n",
      "    x2,xVals = Newton(f,dfdx,5)\n",
      "    xB2 = Bisection(f,0,6)\n",
      "    xRF2 =RegulaFalsi(f,0,6)\n",
      "    xSec2=Secant(f,5)\n",
      "    \n",
      "except ValueError as e:\n",
      "    print(e,\"Moving on\",sep='\\n')\n",
      "print(\"Newton:\\t\\t{:}\\t{:}\\nBisection:\\t{:}\\t{:}\\nRegula Falsi:\\t{:}\\t{:}\\nSecant:\\t\\t{:}\\t{:}\\n\".format(x,x2,xB,xB2,xRF,xRF2,xSec,xSec2))"
     ],
     "language": "python",
     "metadata": {},
     "outputs": [
      {
       "output_type": "stream",
       "stream": "stdout",
       "text": [
        "Newton:\t\t-1.47781737575\t5.03281608781\n",
        "Bisection:\t-1.47781737575\t5.03281608781\n",
        "Regula Falsi:\t-1.47781737575\t5.03281608781\n",
        "Secant:\t\t-1.47781737575\t5.03281608781\n",
        "\n"
       ]
      }
     ],
     "prompt_number": 17
    },
    {
     "cell_type": "code",
     "collapsed": false,
     "input": [
      "\n"
     ],
     "language": "python",
     "metadata": {},
     "outputs": [
      {
       "ename": "SyntaxError",
       "evalue": "invalid syntax (<ipython-input-18-2d264e11d975>, line 1)",
       "output_type": "pyerr",
       "traceback": [
        "\u001b[1;36m  File \u001b[1;32m\"<ipython-input-18-2d264e11d975>\"\u001b[1;36m, line \u001b[1;32m1\u001b[0m\n\u001b[1;33m    print x\u001b[0m\n\u001b[1;37m          ^\u001b[0m\n\u001b[1;31mSyntaxError\u001b[0m\u001b[1;31m:\u001b[0m invalid syntax\n"
       ]
      }
     ],
     "prompt_number": 18
    },
    {
     "cell_type": "code",
     "collapsed": false,
     "input": [],
     "language": "python",
     "metadata": {},
     "outputs": [],
     "prompt_number": 17
    }
   ],
   "metadata": {}
  }
 ]
}