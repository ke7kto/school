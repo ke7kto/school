{
 "metadata": {
  "name": "",
  "signature": "sha256:30bd2d8c83fe3fb6b2cd594ef947d76eac6adf2efa84147771a043ee859f20e8"
 },
 "nbformat": 3,
 "nbformat_minor": 0,
 "worksheets": [
  {
   "cells": [
    {
     "cell_type": "code",
     "collapsed": false,
     "input": [
      "class molecule:\n",
      "    def __init__(self,ZPEpass,SCFpass):\n",
      "        self.ZPE = ZPEpass\n",
      "        self.SCF = SCFpass\n",
      "H2CO = molecule()\n",
      "CO = molecule(ZPEpass=14588.7,)"
     ],
     "language": "python",
     "metadata": {},
     "outputs": []
    }
   ],
   "metadata": {}
  }
 ]
}