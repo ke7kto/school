{
 "metadata": {
  "name": "",
  "signature": "sha256:32b81cccf4e2327225fabf5248aef8936047fdb12c8b3518cd2ffa0495065664"
 },
 "nbformat": 3,
 "nbformat_minor": 0,
 "worksheets": []
}