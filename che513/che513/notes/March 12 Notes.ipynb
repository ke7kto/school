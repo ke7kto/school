{
 "metadata": {
  "name": "",
  "signature": "sha256:501bbe8814545819139f5ddcbe7e7eb5d7734207de1b3e3e4a54305595bd13d0"
 },
 "nbformat": 3,
 "nbformat_minor": 0,
 "worksheets": [
  {
   "cells": [
    {
     "cell_type": "code",
     "collapsed": false,
     "input": [
      "import scipy.constants as consts\n",
      "class MD():\n",
      "    def __init__(s,N=500,T=273.15,m=1,L=500,dt=0.02):\n",
      "        s.particles = np.random.random((N,3))\n",
      "        s.velocities = (np.random.random((N,3)) - 0.5)*2*np.sqrt(3*consts.k*T/m)\n",
      "        s.indices = np.arange(N)\n",
      "        s.masses = np.ones(N)*m\n",
      "        s.N = N\n",
      "        s.Tset = T\n",
      "        s.L = L\n",
      "        s.dt = dt\n",
      "        s.acc = np.zeros((N,3))\n",
      "    def T(s):\n",
      "        v = np.linalg.norm(s.velocities,axis=1)\n",
      "        return np.sum(s.masses/3/consts.k/s.N*v*v)\n",
      "    def rescaleT(s):\n",
      "        scaler = s.Tset/s.T()\n",
      "        s.velocities = s.velocities*scaler\n",
      "    def initVelocities():\n",
      "        \"\"\"E = K+ U = m/2 * sum(v**2,i=0,N)+ sum(sum(u[i,j],j=i+1,N),i=0,N-1)\"\"\"\n",
      "        #run a few cycles\n",
      "        s.velocity = s.velocity * np.sqrt(s.Tset/s.T())\n",
      "    def dx(s,y,T):\n",
      "        dxdt = np.zeros((2,s.N))\n",
      "        dxdt[0,:] = s.velocities\n",
      "        dxdt[1,:] = s.forces()/s.masses\n",
      "        return dxdt\n",
      "    def getRadii(s):\n",
      "        pass\n",
      "        #Todo: get the distances between the particle and all other particles\n",
      "    def forces(s):\n",
      "        #Calculate r\n",
      "        F = np.zeros((s.N,s.N,3))\n",
      "        for a in range(s.N-1):\n",
      "            for b in range(a+1,s.N):\n",
      "                r = np.linalg.norm(s.particles[b]-s.particles[a])\n",
      "                g=r**-6\n",
      "                F[a,b,:]=-24/r*(2*g*g + g)* (s.particles[b]-s.particles[a])/r\n",
      "                F[b,a,:]=-F[a,b,:]\n",
      "        forces = np.zeros(s.N)\n",
      "        forces = np.sum(F,axis=1)\n",
      "        return forces\n",
      "    def timestep():\n",
      "        diffRes = dxdt(0,0)\n",
      "        s.particles += (s.velocities)*s.dt/2 + (s.acc+diffRes[0,:])*s.dt*s.dt/4\n",
      "        s.velocities += diffRes[1,:]\n",
      "        s.acc = diffRes[1,:]\n",
      "    "
     ],
     "language": "python",
     "metadata": {},
     "outputs": [],
     "prompt_number": 35
    },
    {
     "cell_type": "code",
     "collapsed": false,
     "input": [
      "mol = MD(30,273.15)\n"
     ],
     "language": "python",
     "metadata": {},
     "outputs": [],
     "prompt_number": 36
    },
    {
     "cell_type": "code",
     "collapsed": false,
     "input": [
      "mol.forces()"
     ],
     "language": "python",
     "metadata": {},
     "outputs": [
      {
       "output_type": "stream",
       "stream": "stdout",
       "text": [
        "(30, 3)\n"
       ]
      }
     ],
     "prompt_number": 37
    },
    {
     "cell_type": "code",
     "collapsed": false,
     "input": [],
     "language": "python",
     "metadata": {},
     "outputs": []
    }
   ],
   "metadata": {}
  }
 ]
}