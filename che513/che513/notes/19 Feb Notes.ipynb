{
 "metadata": {
  "name": "",
  "signature": "sha256:0f8a4ff050c83f091ebf8ecd0df97f6aabcc171b84c4d426f80a79ef152a082e"
 },
 "nbformat": 3,
 "nbformat_minor": 0,
 "worksheets": [
  {
   "cells": [
    {
     "cell_type": "markdown",
     "metadata": {},
     "source": [
      "<h1>Scriptural thought: How not to get discouraged</h1>\n",
      "<p>2 Nephi 4:17, Nephi's psalm. Nephi was discouraged by the temptations around him.\n",
      "How not to be discouraged:\n",
      "<ul style=\"list-style-type: circle\"><li>Keep an eternal perspective</li>\n",
      "<li> Realize that you can do it, you can work on this.</li>\n",
      "<li>If your ultimate desire is to believe on Christ, that will chart your trajectory.</li>\n",
      "</ul>"
     ]
    },
    {
     "cell_type": "markdown",
     "metadata": {},
     "source": [
      "<h1>Classical Partition Function</h1>\n",
      "<p>Recall the classical partition function.\n",
      "<details>$$Q = \\frac{V^N \\left(q_r q_e q_v\\right)^N}{N! \\Lambda ^{3N}}$$\n",
      "<details><ul><li>$V^N$ is the configurational part.</li>\n",
      "<li>$q_r$ is the rotational state contribution.</li>\n",
      "<li>$q_e$ is the electronic state contribution.</li>\n",
      "<li>$q_v$ is the vibrational state contribution.</li>\n",
      "<li>$N!$ comes from counting states instead of particles.</li>\n",
      "<li>$N!\\Lambda^N$ is usually lumped together into what is called the translational contribution.</li>\n",
      "<li>$\\left(q_r q_e q_v\\right)$ is $Q_{internal}$, the internal energy. We have to treat these quantum mechanically.</li>\n",
      "</ul></details></details>\n",
      "The internal part, $Q_{int}$, we have to treat Quantum mechanically, which is to say that this is really a semi-classical partition function."
     ]
    },
    {
     "cell_type": "markdown",
     "metadata": {},
     "source": [
      " To get internal energy levels, we need to assume a model (Hamiltonian) and solve out the Schrodinger equation to get our results.\n",
      "<p>What model was used to get the internal energy of the vibrational states?</p>\n",
      "Harmonic oscillator\n",
      "<p>What model was used to get the internal energy of the rotational states?</p>\n",
      "Rigid Rotor.\n",
      "<table width=\"100%\"><tr><td>Linear</td><td>\n",
      "$q_r = \\frac{T}{\\sigma \\Theta_r}$</td></tr><tr><td>Non-linear</td><td>\n",
      "$q_r = \\frac{\\sqrt{\\pi}}{\\sigma} \\left(\\frac{T^3}{\\Theta_A \\Theta_B \\Theta_C}\\right)^{\\frac{1}{2}}$</td></tr></table>"
     ]
    },
    {
     "cell_type": "markdown",
     "metadata": {},
     "source": [
      "<p>What does the electronic partition function look like?</p>\n",
      "$$q_e = \\sum\\limits_i W(q_i)e^{-\\beta E_i}$$\n",
      "<p>What assumption do I make for the electronic partition function?</p>\n",
      "That the molecules are all in the ground state.\n",
      "$$q_e \\approx W(E_0) e^{-\\beta D_e}$$\n",
      "where $D_e$ is a \"dissociation energy\", the energy that it takes to separate the individual parts to infinity.\n",
      "What is the relationship between $D_0$ and $D_E$?\n",
      "$$D_0 = D_E - \\sum\\limits_{j=1}^{n_\\nu} \\frac{h}{2}\\nu_j$$"
     ]
    },
    {
     "cell_type": "markdown",
     "metadata": {},
     "source": [
      "Linear molecules\n",
      "<ul>\n",
      "<li>$q = \\left(\\frac{2\\pi m k T}{h^2}\\right)^{\\frac{3}{2}} V\\cdot \\frac{T}{\\sigma \\Theta_r}\\cdot\\left[\\prod\\limits_{j=1}^{3m-5} \\left(1-e^{-\\Theta_{v,j}/T}\\right)^{-1}\\right]\\cdot W_0 e^{D_0 /kT}$</li>\n",
      "<li>$\\frac{A}{NkT} = -\\ln\\left[\\left(\\frac{2\\pi\\:mkT}{h^2}\\right)^\\frac{3}{2} \\frac{Ve}{N}\\right] - \\ln\\left(\\frac{T}{\\sigma\\Theta_r}\\right) + \\sum\\limits_{j=1}^{3m-5}$</li>\n",
      "</ul>"
     ]
    },
    {
     "cell_type": "markdown",
     "metadata": {},
     "source": [
      "To get Gibbs from Dippr:\n",
      "$T = \\Delta G^0_{298} - \\int\\limits_{298}^{T} \\frac{\\Delta h}{RT^2}$"
     ]
    },
    {
     "cell_type": "code",
     "collapsed": false,
     "input": [],
     "language": "python",
     "metadata": {},
     "outputs": []
    }
   ],
   "metadata": {}
  }
 ]
}