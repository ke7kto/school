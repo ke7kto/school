{
 "metadata": {
  "name": "",
  "signature": "sha256:bc368faf33d026cbd7cc1a6ffec60b59498d6d70a128c5ec6eed394153806d22"
 },
 "nbformat": 3,
 "nbformat_minor": 0,
 "worksheets": [
  {
   "cells": [
    {
     "cell_type": "markdown",
     "metadata": {},
     "source": [
      "<h1>Partition Function Derivation</h1>\n",
      "<h3>First tool: Ergodic hypothesis</h3>\n",
      "<p>Why do I say that it's the first tool?</p>\n",
      "<p>\n",
      "\n",
      "<h3>Second tool: Averaging</h3>\n",
      "<p>The probability of each state:\n",
      "$\\langle J\\rangle = \\sum_i p_i J_i$</p>\n",
      "<p>$x = \\begin{pmatrix}1 & 2 & 3 &3&1&3&2&1\\end{pmatrix}$\n",
      "<h3>Third tool: Getting the probabilities for an NVT System</h3>\n",
      "<p>Consider an experimental system with $N,V,T$ as its independent thermodynamic variables. (This is called the canonical ensemble.)</p>\n",
      "<ul><li>$N$=# Particles</li>\n",
      "<li>$V$=Volume</li>\n",
      "<li>$T$=Temperature</li>\n",
      "</ul>\n",
      "<p>These are the macroscopic properties that relate to the ensemble</p>\n",
      "<p>How could you create such an ensemble?</p>\n",
      "<ol>\n",
      "<li>Put $N$ molecules in each containers that have a constant $V$</li>\n",
      "<li>Rigid container</li>\n",
      "<li>Put all particles in container, and allow heat to transfer through them (diathermal, they conduct heat)</li>\n",
      "<li>Put ensemble into a temperature bath</li>\n",
      "<li>Once equilibrated, remove from bath and insulate</li>\n",
      "</ol>\n",
      "<p>Every ensemble member acts as a bath to the other ensemble members. There is something about this ensemble that's important, the total volume of the ensemble is the number of ensemble members times the volume of each member. ($M$ is number of ensembles in collection).</p>\n",
      "<ol><li><ul><li>$V_{total} = MV$</li>\n",
      "<li>$N_{total} = MN$</li>\n",
      "<li>$E_{total} = ?$</li>\n",
      "</ul>\n",
      "</li>\n",
      "<li>We have the same $T$, but allow different $E$ values</li>\n",
      "<li>There are numerous ways to configure the particles and still get the same $N$, $V$, and $T$.</li>\n",
      "<li>There are numerous ways to arrange the members of the ensemble to $N_{total}$, $V_{total}$ and $E_{total}$</li>\n",
      "</ol>"
     ]
    },
    {
     "cell_type": "markdown",
     "metadata": {},
     "source": [
      "<h4>How can I specify the total state of the system? </h4>\n",
      "<ol><li>Let....</li>\n",
      "<li>Need to know $m_1,m_2,m_3,...$, which is the number of members in $E_1$, $E_2$, $E_3$.</li>\n",
      "<li>$E_1$, $E_2$, $E_3$ are the energies associated with each of these states</li>\n",
      "</ol>\n",
      "Specify entire state\n",
      "<table><tr><th>State #</th><td>1</td><td>2</td><td>...</td><td>n</td></tr>\n",
      "<tr><th>Energy</th><td>$E_1$</td><td>$E_2$</td><td>...</td><td>$E_n$</td></tr>\n",
      "<tr><th>Occupation #</th><td>$m_1$</td><td>$m_2$</td><td>...</td><td>$m_n$</td></tr>\n",
      "</table>\n",
      "<p>\n",
      "Occupation # is the distribution of the state.\n",
      "$M = \\sum\\limits_j m_j$, $\\sum m_j E_j = E_{total}$\n",
      "</p>\n",
      "<p>Probability of state $J$\n",
      "<ul>\n",
      "<li>Probability of $i = \\frac{\\text{occurrences of }i}{\\text{total possibilities}}$</li>\n",
      "<li>Need to count all of the combinations of a state, and the total number of distinct states</li>\n",
      "<li>$f( \\lbrace m_i\\rbrace ) = \\frac{M!}{\\prod\\limits_i m_i!}$</li>\n",
      "<li>Equation 1: $P_i = \\frac{\\sum\\limits_m f(\\lbrace m\\rbrace) m_i(\\lbrace m\\rbrace)}{\\sum\\limits_m f(\\lbrace m\\rbrace )M}$</li>\n",
      "<li>Equation 1 is impossible to solve, but it is all we neeed to get an ensemble average</li>\n",
      "<li>There is hope! Because of the central limit theorem, for very large $N$, the distribution can be replaced by the value of the distribution for the most probable distribution</li>\n",
      "<li>$\\therefore$ all of $f(\\lbrace m\\rbrace)$'s in Equation 1, except the $f$ for the most probable $\\lbrace m\\rbrace$ are negligible.</li>\n",
      "<li>$P_i = \\frac{\\sum\\limits_m f(\\lbrace m\\rbrace) m_i(\\lbrace m\\rbrace)}{\\sum\\limits_m f(\\lbrace m\\rbrace )M} \\Rightarrow \\frac{m_i (\\lbrace m\\rbrace^\\ast)}{M}$</li>\n",
      "</ul>\n",
      "<p>Need new tool, the legrangian multipliers, to solve for the most probable distribution.</p>\n",
      "<p>$M = \\sum\\limits_i m_i$ and $E_{total} = \\sum\\limits m_j E_j$<br/>\n",
      "or<br/>\n",
      "$M-\\sum\\limits_i m_i...$ see learningsuite for filled out copy of the notes...\n",
      "<h4>Last Hurrah</h4>\n",
      "<p>$Q = \\sum\\limits_i e^{-\\beta E_i}$, which is the partition function. QED</p>"
     ]
    },
    {
     "cell_type": "code",
     "collapsed": false,
     "input": [],
     "language": "python",
     "metadata": {},
     "outputs": [],
     "prompt_number": 1
    },
    {
     "cell_type": "code",
     "collapsed": false,
     "input": [],
     "language": "python",
     "metadata": {},
     "outputs": []
    }
   ],
   "metadata": {}
  }
 ]
}