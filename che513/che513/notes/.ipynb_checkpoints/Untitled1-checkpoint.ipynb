{
 "metadata": {
  "name": "",
  "signature": "sha256:49a97a4a07dfda5bf589d400a941c3c0959488e144b2a9b3a8ac269e4feacc43"
 },
 "nbformat": 3,
 "nbformat_minor": 0,
 "worksheets": [
  {
   "cells": [
    {
     "cell_type": "markdown",
     "metadata": {},
     "source": [
      "<h3>Why do we need the partition function?</h3>\n",
      "We need to relate a macroscopic property to get microstates.<p>\n",
      "$\\langle J\\rangle = \\sum\\limits_k p_k J_k = \\sum\\limits_k \\frac{J_k e^{-\\beta E_j}}{Q}$\n",
      "</p>\n",
      "<table>\n",
      "<tr><td>$Q = \\sum_i \\exp\\left(-\\frac{E_i}{kT}\\right)$</td><td>$C_V = \\left(\\frac{\\partial U}{\\partial T}\\right)_{N,V}$</td></tr>\n",
      "<tr><td>$A = -kT\\ln Q$</td><td>$C_p = \\left(\\frac{\\partial H}{\\partial T}\\right)_{N,P}$</td></tr>\n",
      "<tr><td>$P = -kT\\left(\\frac{\\partial \\ln Q}{\\partial V}\\right)_{N,T}$</td><td>$S = k \\ln Q +\\frac{U}{T}$</td></tr>\n",
      "<tr><td>$U = kT^2 \\left(\\frac{\\partial \\ln Q}{\\partial T}\\right)_{N,V}$</td><td>$G = -kT\\ln Q + kTV\\left(\\frac{\\partial \\ln Q}{\\partial V}\\right)_{N,V}$</td></tr>\n",
      "<tr><td>$H = U + PV$</td><td>$\\mu_i = - kT\\left(\\frac{\\partial \\ln Q}{\\partial N_i}\\right)_{T,V,N_{j\\neq i}}$</td></tr>\n",
      "</table>\n",
      "$\\Gamma$\n"
     ]
    },
    {
     "cell_type": "markdown",
     "metadata": {},
     "source": [
      "configurational partition function is the hard part. $Z=\\int\\ldots\\int e^{-U/kT}dq^{3N}$"
     ]
    },
    {
     "cell_type": "markdown",
     "metadata": {},
     "source": []
    },
    {
     "cell_type": "code",
     "collapsed": false,
     "input": [],
     "language": "python",
     "metadata": {},
     "outputs": []
    }
   ],
   "metadata": {}
  }
 ]
}