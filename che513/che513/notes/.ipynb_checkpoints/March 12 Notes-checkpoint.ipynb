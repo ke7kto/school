{
 "metadata": {
  "name": "",
  "signature": "sha256:a322b55e6eed67a176b6c8ed03bf5cf6c784eebfd5752ed9984164cba1e4c019"
 },
 "nbformat": 3,
 "nbformat_minor": 0,
 "worksheets": [
  {
   "cells": [
    {
     "cell_type": "code",
     "collapsed": false,
     "input": [
      "import scipy.constants as consts\n",
      "class MD():\n",
      "    def __init__(s,N=500,T=273.15,m=1,L=500):\n",
      "        s.particles = np.random.random((N,3))\n",
      "        s.velocities = (np.random.random((N,3)) - 0.5)*2*np.sqrt(3*consts.k*T/m)\n",
      "        s.indices = np.arange(N)\n",
      "        s.masses = np.ones(N)*m\n",
      "        s.N = N\n",
      "        s.Tset = T\n",
      "        s.L = L\n",
      "    def T(s):\n",
      "        v = np.linalg.norm(s.velocities,axis=1)\n",
      "        return np.sum(s.masses/3/consts.k/s.N*v*v)\n",
      "    def rescaleT(s):\n",
      "        scaler = s.Tset/s.T()\n",
      "        s.velocities = s.velocities*scaler\n",
      "    def initVelocities():\n",
      "        \"\"\"E = K+ U = m/2 * sum(v**2,i=0,N)+ sum(sum(u[i,j],j=i+1,N),i=0,N-1)\"\"\"\n",
      "        #run a few cycles\n",
      "        s.velocity = s.velocity * np.sqrt(s.Tset/s.T())\n",
      "    def dx(s,y,T):\n",
      "        dxdt[0] = s.velocities\n",
      "        dxdt[1] = s.forces()/s.masses\n",
      "        return dxdt\n",
      "    def getRadii(s):\n",
      "        #Todo: get the distances between the particle and all other particles\n",
      "    def forces(s):\n",
      "        #Calculate r\n",
      "        r = np.norm(s.particles[a]-s.particles[b])\n",
      "        drdx1 = - dx/r\n",
      "        g=r**-6\n",
      "        f12= -24/r*(2*g*g + g)* (s.particles[a]-s.particles[b])/r\n",
      "        f21 = -f12"
     ],
     "language": "python",
     "metadata": {},
     "outputs": [],
     "prompt_number": 6
    },
    {
     "cell_type": "code",
     "collapsed": false,
     "input": [
      "mol = MD(300,273.15)\n"
     ],
     "language": "python",
     "metadata": {},
     "outputs": [
      {
       "output_type": "stream",
       "stream": "stdout",
       "text": [
        "0\n"
       ]
      }
     ],
     "prompt_number": 9
    },
    {
     "cell_type": "code",
     "collapsed": false,
     "input": [
      "np.linalg.norm(np.array([[3,4],[3,4]]),axis=1)"
     ],
     "language": "python",
     "metadata": {},
     "outputs": [
      {
       "metadata": {},
       "output_type": "pyout",
       "prompt_number": 14,
       "text": [
        "array([ 5.,  5.])"
       ]
      }
     ],
     "prompt_number": 14
    },
    {
     "cell_type": "code",
     "collapsed": false,
     "input": [],
     "language": "python",
     "metadata": {},
     "outputs": []
    }
   ],
   "metadata": {}
  }
 ]
}