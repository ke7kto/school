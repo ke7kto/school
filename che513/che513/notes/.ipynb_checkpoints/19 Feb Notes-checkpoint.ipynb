{
 "metadata": {
  "name": "",
  "signature": "sha256:9abf15028aae10f464de35346b36bf98bb456e5e39ab3cc161705751da9e28c1"
 },
 "nbformat": 3,
 "nbformat_minor": 0,
 "worksheets": []
}