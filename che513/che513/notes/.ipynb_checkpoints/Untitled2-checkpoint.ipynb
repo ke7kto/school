{
 "metadata": {
  "name": "",
  "signature": "sha256:f536d26733ace3b4bc50d625d8e9ba3bdc3acf56af62141b27e02ee77f8dadb0"
 },
 "nbformat": 3,
 "nbformat_minor": 0,
 "worksheets": []
}