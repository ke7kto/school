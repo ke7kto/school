{
 "metadata": {
  "name": "",
  "signature": "sha256:f9efebf642dcd474bb77bf3c23202a16b649e6031583923433d25ac78d67e061"
 },
 "nbformat": 3,
 "nbformat_minor": 0,
 "worksheets": [
  {
   "cells": [
    {
     "cell_type": "heading",
     "level": 1,
     "metadata": {},
     "source": [
      "Problem 1"
     ]
    },
    {
     "cell_type": "markdown",
     "metadata": {},
     "source": [
      "Write a program to compute the solutions to the quadratic equation.  The program should specify the coefficients a, b, c of $ax^2+bx+c=0$. The quadratic solution should be performed in a single function.  Verify your solution for $a=c=1$, and $b=4$.  Document the function for clarity."
     ]
    },
    {
     "cell_type": "code",
     "collapsed": false,
     "input": [
      "from cmath import *\n",
      "\n",
      "def quad(a=1,b=4,c=1):\n",
      "    x = (-b + sqrt(b**2  - 4*a*c))/(2*a)\n",
      "    x2 = (-b - sqrt(b**2  - 4*a*c))/(2*a)\n",
      "    return x,x2\n",
      "quad()"
     ],
     "language": "python",
     "metadata": {},
     "outputs": [
      {
       "metadata": {},
       "output_type": "pyout",
       "prompt_number": 9,
       "text": [
        "((-0.2679491924311228+0j), (-3.732050807568877+0j))"
       ]
      }
     ],
     "prompt_number": 9
    },
    {
     "cell_type": "heading",
     "level": 1,
     "metadata": {},
     "source": [
      "Problem 2"
     ]
    },
    {
     "cell_type": "heading",
     "level": 2,
     "metadata": {},
     "source": [
      "Part a"
     ]
    },
    {
     "cell_type": "markdown",
     "metadata": {},
     "source": [
      "Recursion is a powerful programming technique in which a function calls itself as part of the solution process. This often simplifies algorithms and may improve computational speed. Write a recursive function that computes the factorial of an integer (positive or zero). Document the program appropriately. The program should be able to handle negative input."
     ]
    },
    {
     "cell_type": "code",
     "collapsed": false,
     "input": [
      "%matplotlib inline                  \n",
      "import matplotlib.pylab as plt\n",
      "from __future__ import division\n",
      "import numpy as np\n",
      "import scipy as sp\n",
      "from scipy import integrate\n",
      "from scipy import interpolate\n",
      "from scipy import optimize\n",
      "import time                  \n",
      "def fact(x):\n",
      "    if x > 0:\n",
      "        return x*fact(x-1)\n",
      "    elif x == 0 :\n",
      "        return 1\n",
      "    elif type(x) is not int:\n",
      "        return False  \n",
      "    else :\n",
      "        return False"
     ],
     "language": "python",
     "metadata": {},
     "outputs": [],
     "prompt_number": 3
    },
    {
     "cell_type": "code",
     "collapsed": false,
     "input": [
      "fact(5)"
     ],
     "language": "python",
     "metadata": {},
     "outputs": [
      {
       "metadata": {},
       "output_type": "pyout",
       "prompt_number": 4,
       "text": [
        "120"
       ]
      }
     ],
     "prompt_number": 4
    },
    {
     "cell_type": "heading",
     "level": 2,
     "metadata": {},
     "source": [
      "Part b"
     ]
    },
    {
     "cell_type": "markdown",
     "metadata": {},
     "source": [
      "Recursive functions have a so-called recusion depth (how how many times the function calls itself). What happens to your program if you enter too high a number (like 1000)? Based on this, would you recommend a recursive routine for this calculation?"
     ]
    },
    {
     "cell_type": "code",
     "collapsed": false,
     "input": [
      "'This function has a runtime error because it requires too much memory to run a recursive function with a 1000 input."
     ],
     "language": "python",
     "metadata": {},
     "outputs": [
      {
       "ename": "SyntaxError",
       "evalue": "EOL while scanning string literal (<ipython-input-5-126a70e15316>, line 1)",
       "output_type": "pyerr",
       "traceback": [
        "\u001b[1;36m  File \u001b[1;32m\"<ipython-input-5-126a70e15316>\"\u001b[1;36m, line \u001b[1;32m1\u001b[0m\n\u001b[1;33m    'This function has a runtime error because it requires too much memory to run a recursive function with a 1000 input.\u001b[0m\n\u001b[1;37m                                                                                                                         ^\u001b[0m\n\u001b[1;31mSyntaxError\u001b[0m\u001b[1;31m:\u001b[0m EOL while scanning string literal\n"
       ]
      }
     ],
     "prompt_number": 5
    },
    {
     "cell_type": "heading",
     "level": 2,
     "metadata": {},
     "source": [
      "Part c"
     ]
    },
    {
     "cell_type": "markdown",
     "metadata": {},
     "source": [
      "Report the run time for your algorithm compared to the built in function (called factorial). Write a script to compute the run time for computing the factorial of integers between 1 and 150 for your function and built in factorial function. Have the script plot the results on linear and log-log scales using the subplot command. You should include axis labels and legends. Comment on the results.\n"
     ]
    },
    {
     "cell_type": "code",
     "collapsed": false,
     "input": [
      "import math\n",
      "\n",
      "array1  = np.zeros(150)\n",
      "array2  = np.zeros(150)\n",
      "array3 = np.zeros(150)\n",
      "x=0\n",
      "while x < 150:\n",
      "    tstartf = time.clock()\n",
      "    math.factorial(x+1)\n",
      "    dtf = time.clock() - tstartf #Time elapsed for built-in factorial function\n",
      "    array2[x] = dtf\n",
      "    array1[x]= x+1   \n",
      "    tstartc = time.clock()\n",
      "    fact(x+1)\n",
      "    dtc = time.clock() - tstartc #Time elapsed for custom function\n",
      "    array3[x] = dtc\n",
      "    x = x+1\n",
      "plt.plot(array1,array2)\n",
      "plt.plot(array1,array3)\n",
      "\n",
      "print(array1)\n",
      "print(array2)\n",
      "print(array3)"
     ],
     "language": "python",
     "metadata": {},
     "outputs": [
      {
       "ename": "NameError",
       "evalue": "name 'fact' is not defined",
       "output_type": "pyerr",
       "traceback": [
        "\u001b[1;31m---------------------------------------------------------------------------\u001b[0m\n\u001b[1;31mNameError\u001b[0m                                 Traceback (most recent call last)",
        "\u001b[1;32m<ipython-input-2-c6917711372f>\u001b[0m in \u001b[0;36m<module>\u001b[1;34m()\u001b[0m\n\u001b[0;32m     12\u001b[0m     \u001b[0marray1\u001b[0m\u001b[1;33m[\u001b[0m\u001b[0mx\u001b[0m\u001b[1;33m]\u001b[0m\u001b[1;33m=\u001b[0m \u001b[0mx\u001b[0m\u001b[1;33m+\u001b[0m\u001b[1;36m1\u001b[0m\u001b[1;33m\u001b[0m\u001b[0m\n\u001b[0;32m     13\u001b[0m     \u001b[0mtstartc\u001b[0m \u001b[1;33m=\u001b[0m \u001b[0mtime\u001b[0m\u001b[1;33m.\u001b[0m\u001b[0mclock\u001b[0m\u001b[1;33m(\u001b[0m\u001b[1;33m)\u001b[0m\u001b[1;33m\u001b[0m\u001b[0m\n\u001b[1;32m---> 14\u001b[1;33m     \u001b[0mfact\u001b[0m\u001b[1;33m(\u001b[0m\u001b[0mx\u001b[0m\u001b[1;33m+\u001b[0m\u001b[1;36m1\u001b[0m\u001b[1;33m)\u001b[0m\u001b[1;33m\u001b[0m\u001b[0m\n\u001b[0m\u001b[0;32m     15\u001b[0m     \u001b[0mdtc\u001b[0m \u001b[1;33m=\u001b[0m \u001b[0mtime\u001b[0m\u001b[1;33m.\u001b[0m\u001b[0mclock\u001b[0m\u001b[1;33m(\u001b[0m\u001b[1;33m)\u001b[0m \u001b[1;33m-\u001b[0m \u001b[0mtstartc\u001b[0m \u001b[1;31m#Time elapsed for custom function\u001b[0m\u001b[1;33m\u001b[0m\u001b[0m\n\u001b[0;32m     16\u001b[0m     \u001b[0marray3\u001b[0m\u001b[1;33m[\u001b[0m\u001b[0mx\u001b[0m\u001b[1;33m]\u001b[0m \u001b[1;33m=\u001b[0m \u001b[0mdtc\u001b[0m\u001b[1;33m\u001b[0m\u001b[0m\n",
        "\u001b[1;31mNameError\u001b[0m: name 'fact' is not defined"
       ]
      }
     ],
     "prompt_number": 2
    },
    {
     "cell_type": "code",
     "collapsed": false,
     "input": [
      "math.factorial(5)"
     ],
     "language": "python",
     "metadata": {},
     "outputs": [
      {
       "metadata": {},
       "output_type": "pyout",
       "prompt_number": 17,
       "text": [
        "120"
       ]
      }
     ],
     "prompt_number": 17
    },
    {
     "cell_type": "heading",
     "level": 1,
     "metadata": {},
     "source": [
      "Problem 3"
     ]
    },
    {
     "cell_type": "markdown",
     "metadata": {},
     "source": [
      "List and describe five problems that require the use of numerical methods in your research or coursework. Each problem should require a different class of numerical method (such as a linear system of equations, or solution of ODEs, etc.)."
     ]
    },
    {
     "cell_type": "markdown",
     "metadata": {},
     "source": [
      "1. 'Solving systems of linear equations for circuits. (EC 301)' \n",
      "2. 'Solving a system of ODEs for a material balance. (CE 351)'\n",
      "'"
     ]
    },
    {
     "cell_type": "code",
     "collapsed": false,
     "input": [],
     "language": "python",
     "metadata": {},
     "outputs": []
    }
   ],
   "metadata": {}
  }
 ]
}