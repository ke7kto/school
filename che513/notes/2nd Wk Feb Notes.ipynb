{
 "metadata": {
  "name": "",
  "signature": "sha256:353cc7d95342483fe0733d1382ee026a25153fcb9d8bf47940da2b43e4ac7ce4"
 },
 "nbformat": 3,
 "nbformat_minor": 0,
 "worksheets": [
  {
   "cells": [
    {
     "cell_type": "markdown",
     "metadata": {},
     "source": [
      "<h3>Why do we need the partition function?</h3>\n",
      "We need to relate a macroscopic property to get microstates.<p>\n",
      "$\\langle J\\rangle = \\sum\\limits_k p_k J_k = \\sum\\limits_k \\frac{J_k e^{-\\beta E_j}}{Q}$\n",
      "</p>\n",
      "<table width=\"100%\">\n",
      "<tr><td>$Q = \\sum_i \\exp\\left(-\\frac{E_i}{kT}\\right)$</td><td>$C_V = \\left(\\frac{\\partial U}{\\partial T}\\right)_{N,V}$</td></tr>\n",
      "<tr><td>$A = -kT\\ln Q$</td><td>$C_p = \\left(\\frac{\\partial H}{\\partial T}\\right)_{N,P}$</td></tr>\n",
      "<tr><td>$P = -kT\\left(\\frac{\\partial \\ln Q}{\\partial V}\\right)_{N,T}$</td><td>$S = k \\ln Q +\\frac{U}{T}$</td></tr>\n",
      "<tr><td>$U = kT^2 \\left(\\frac{\\partial \\ln Q}{\\partial T}\\right)_{N,V}$</td><td>$G = -kT\\ln Q + kTV\\left(\\frac{\\partial \\ln Q}{\\partial V}\\right)_{N,V}$</td></tr>\n",
      "<tr><td>$H = U + PV$</td><td>$\\mu_i = - kT\\left(\\frac{\\partial \\ln Q}{\\partial N_i}\\right)_{T,V,N_{j\\neq i}}$</td></tr>\n",
      "</table>\n"
     ]
    },
    {
     "cell_type": "markdown",
     "metadata": {},
     "source": [
      "configurational partition function is the hard part. $$Z=\\int\\ldots\\int e^{-U(\\vec{q})/kT}dq^{3N}$$<br/><br/>"
     ]
    },
    {
     "cell_type": "markdown",
     "metadata": {},
     "source": [
      "$$Q = \\frac{ZQ_{int}}{\\Lambda^{3N}N!}$$<br/>\n",
      "$$\\Lambda = \\sqrt{\\frac{h^2}{2\\pi mkT}}$$\n",
      "<p>$N!$ corrects for overcounting distinguishable states</p>\n",
      "$$\\sum\\limits_{states} = \\frac{1}{N!}\\int d_{particles}$$\n",
      "<br/>\n",
      "$$Q^{ig} = \\frac{V^N Q_{int}}{\\Lambda^{3N}N!}$$\n",
      "$$P = kT\\left(\\frac{\\partial lnQ}{\\partial V}\\right)_{N,T}$$"
     ]
    },
    {
     "cell_type": "markdown",
     "metadata": {},
     "source": [
      "$$P = kT \\frac{\\partial }{\\partial V} N \\ln V = \\frac{NkT}{V}= \\frac{RT}{V}$$"
     ]
    },
    {
     "cell_type": "code",
     "collapsed": false,
     "input": [
      "x = np.linspace(1e-6,3,2000)\n",
      "plt.plot(x,np.exp(-1/x))\n",
      "plt.grid()"
     ],
     "language": "python",
     "metadata": {},
     "outputs": [
      {
       "metadata": {},
       "output_type": "display_data",
       "png": "[encoded data removed]",
       "text": [
        "<matplotlib.figure.Figure at 0x7fb6be80f2b0>"
       ]
      }
     ],
     "prompt_number": 17
    },
    {
     "cell_type": "markdown",
     "metadata": {},
     "source": [
      "<ul>\n",
      "<li>$I_A = I_B \\neq I_C$: Symmetric Top</li>\n",
      "<li>$I_A \\neq I_B \\neq I_C$: Asymmetric Top</li>\n",
      "<li>$I_A = I_B = I_C$: Spherical Top</li>\n",
      "</ul>"
     ]
    },
    {
     "cell_type": "code",
     "collapsed": false,
     "input": [],
     "language": "python",
     "metadata": {},
     "outputs": []
    }
   ],
   "metadata": {}
  }
 ]
}