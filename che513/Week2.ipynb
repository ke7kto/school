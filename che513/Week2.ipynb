{
 "metadata": {
  "name": ""
 },
 "nbformat": 3,
 "nbformat_minor": 0,
 "worksheets": [
  {
   "cells": [
    {
     "cell_type": "code",
     "collapsed": false,
     "input": [
      "x = np.random.random([30,3])\n",
      "xNorm = np.linalg.norm(x,axis=1)\n",
      "x /= xNorm[:,np.newaxis]\n",
      "#This should be a vector 30 long of 1's\n",
      "xNorm = np.linalg.norm(x,axis=1)"
     ],
     "language": "python",
     "metadata": {},
     "outputs": [],
     "prompt_number": 8
    },
    {
     "cell_type": "code",
     "collapsed": false,
     "input": [
      "A = np.array([[1,1],[1,1.0001]])\n",
      "b = np.array([2,2.0001])\n",
      "x = np.linalg.solve(A,b)\n",
      "print(x)\n",
      "A2 = np.array([[1,1],[1,0.9999]])\n",
      "x2 = np.linalg.solve(A2,b)\n",
      "print(\"by changing 0.0002, we get\\n\",x2,sep='')"
     ],
     "language": "python",
     "metadata": {},
     "outputs": [
      {
       "output_type": "stream",
       "stream": "stdout",
       "text": [
        "[ 1.  1.]\n",
        "by changing 0.0002, we get\n",
        "[ 3. -1.]\n"
       ]
      }
     ],
     "prompt_number": 14
    },
    {
     "cell_type": "code",
     "collapsed": false,
     "input": [
      "n=np.log(13800*(359/390)*1.65/(7800*1.4))/np.log(155/75)\n",
      "print(n)\n",
      "print(7800*1.4*(582/359)*(120/75)**n)\n",
      "n=np.log(13800*(582/390)*1.65/(7800*1.4*(582/359)))/np.log(155/75)\n",
      "print(n)\n",
      "print(7800*1.4*(582/359)*(120/75)**n)\n",
      "\n",
      "\n",
      "\n",
      "\n"
     ],
     "language": "python",
     "metadata": {},
     "outputs": [
      {
       "output_type": "stream",
       "stream": "stdout",
       "text": [
        "0.898182013157\n",
        "27001.5112178\n",
        "0.898182013157\n",
        "27001.5112178\n"
       ]
      }
     ],
     "prompt_number": 29
    },
    {
     "cell_type": "code",
     "collapsed": false,
     "input": [
      "7800*1.4\n"
     ],
     "language": "python",
     "metadata": {},
     "outputs": [
      {
       "metadata": {},
       "output_type": "pyout",
       "prompt_number": 25,
       "text": [
        "10920.0"
       ]
      }
     ],
     "prompt_number": 25
    },
    {
     "cell_type": "code",
     "collapsed": false,
     "input": [
      "import math\n",
      "V=20*math.pi*3**2/4\n",
      "Cp0=V*500\n",
      "B1 = 1.49\n",
      "B2 = 1.52\n",
      "Fm=1.25\n",
      "Fp = 3.1\n",
      "Cbm= Cp0*(B1+B2*Fm*Fp)\n",
      "print(\"a) {:g}\".format(Cbm))\n",
      "K1 = 3.5565\n",
      "K2 = 0.3776\n",
      "K3 = 0.0905\n",
      "Cp0 = 10**(K1+K2*log10(V)+K3*log10(V)**2)\n",
      "Cbm= Cp0*(B1+B2*Fm*Fp)\n",
      "print(\"b) {:g}\".format(Cbm))"
     ],
     "language": "python",
     "metadata": {},
     "outputs": [
      {
       "output_type": "stream",
       "stream": "stdout",
       "text": [
        "a) 521661\n",
        "b) 451867\n"
       ]
      }
     ],
     "prompt_number": 38
    },
    {
     "cell_type": "code",
     "collapsed": false,
     "input": [
      "Cp0"
     ],
     "language": "python",
     "metadata": {},
     "outputs": [
      {
       "metadata": {},
       "output_type": "pyout",
       "prompt_number": 39,
       "text": [
        "61228.570726293125"
       ]
      }
     ],
     "prompt_number": 39
    },
    {
     "cell_type": "code",
     "collapsed": false,
     "input": [],
     "language": "python",
     "metadata": {},
     "outputs": []
    }
   ],
   "metadata": {}
  }
 ]
}