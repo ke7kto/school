{
 "metadata": {
  "name": "",
  "signature": "sha256:9d6bbf7caa92dcd3613329e6d86a0bd9eb4c9468088efe20c06b9aff0a4e58a8"
 },
 "nbformat": 3,
 "nbformat_minor": 0,
 "worksheets": [
  {
   "cells": [
    {
     "cell_type": "markdown",
     "metadata": {},
     "source": [
      "<h3>FV Method</h3>\n",
      "Finite Volume Method\n",
      "$\\newcommand{\\d}[2]{\\frac{\\partial #1}{\\partial #2}}$\n",
      "$\\newcommand{\\dtwo}[2]{\\frac{\\partial^2 #1}{\\partial #2^2}}$\n",
      "<p>\n",
      "Every Equation has two forms\n",
      "<ul>\n",
      "<li>Differential Form</li>\n",
      "<li>Integral Form</li>\n",
      "</ul>\n",
      "<ol>\n",
      "<li>Instead of points, have finite volumes for your boxes</li>\n",
      "<li>3 Approaches: <ol>\n",
      "<li>Apply a ChemE version $Acc = in - out + (gen)_{nxy}$</li>\n",
      "<li>Integrate PDE over CV</li>\n",
      "<li>Reynold's Transport Theorem (RTT)</li>\n",
      "</ol>\n",
      "</li>\n",
      "</ol>\n",
      "<ol start=\"A\"><li>Chem E balance.<p>2-D Unsteady H.T.</p><p>Energy Balance</p><p>2-D Grid</p>\n",
      "Compass: Top, East, Bottom, West. Capitals denote the neighboring box, and lowercase denotes neighboring face.\n",
      "\n",
      "<ul><li>Assume uniform properties in cells.</li>\n",
      "<li>Assume uniform properties over faces.</li>\n",
      "<li>Accumulation = in - out + generation.</li>\n",
      "<li>$\\d{E}{t} = q_w\\Delta y + q_b\\Delta x - q_t\\Delta x - \\Delta  q_e\\Delta y + S\\cdot\\Delta x\\Delta y$</li>\n",
      "<li>$E$= Joules, $S$ = J/m^2 s, $q$ = J/m^2 s</li>\n",
      "<li>$\\d{E}{t} = m \\Delta x\\Delta y\\rho c_p \\d{T}{t}$</li>\n",
      "<li>$\\d{T_{ij}}{t} = -\\frac{1}{\\rho c_p} \\frac{q_{e,ij} - q_{w,ij}}{\\Delta x_i} - \\frac{1}{\\rho c_p} \\frac{q_{t,ij}-q_{b,ij}}{\\Delta y_j} + S_{ij} \\:\\:\\ast$, To move to the next step, we assume a uniform $\\Delta x, \\Delta y$</li>\n",
      "<li>$q_e = -k\\d{T}{x} = -k_e \\left(\\d{T}{x}\\right)_e \\approx - k_e \\frac{T_E - T_P}{x_{i+1} - x_i}$</li>\n",
      "<li>$\\d{T}{t} = \\frac{\\alpha}{\\Delta x^2}\\left(T_{i-1,j} - 2 T_{i,j} + T_{i+1,j}\\right) + \\frac{\\alpha}{\\Delta y^2}\\left(\n",
      "T_{i,j-1} - 2 T_{i,j} + T_{i,j+1}\\right) + S_{i,j}$<br/><br/></li>\n",
      "</ul>\n",
      "</li>\n",
      "<li>$\\int PDE$<ul>\n",
      "<li>$\\d{T}{t} = \\alpha \\dtwo{T}{x} + \\alpha \\dtwo{T}{y} + S$</li>\n",
      "<li>$\\int{\\int{\\d{T}{t}}dx}dy = \\int{\\int{\\alpha \\dtwo{T}{x}}dx}dy + \\int{\\int{\\alpha \\dtwo{T}{y}}dx}dy + \\int{\\int{S}dx }dy$</li>\n",
      "<li>$\\d{ }{t}$ commutes with $\\int\\rightarrow \\d{}{t}\\int\\int  = \\int\\int\\d{}{t}$</li>\n",
      "<li>$T,S,\\alpha$ are uniform.</li>\n",
      "<li>$\\int\\int\\d{T}{t}dxdy = \\d{}{t} \\int\\int T dx dy = \\d{}{t}\\left[T\\int\\int dx dy\\right] = \\d{T\\Delta x\\Delta y}{t}= \\Delta x \\Delta y \\d{T}{t}$</li>\n",
      "<li>Do this with the other terms and you wind up with the same equation as before</li>\n",
      "<li>$\\int\\int\\alpha\\dtwo{T}{x} dx dy = \\alpha \\int\\int\\d{}{x}\\left(\\d{T}{x}\\right)dx dy = \\alpha\\int\\int\\d{T}{x} dy = \\alpha\\Delta y\\left[\\left(\\d{T}{x}\\right)_e - \\left(\\d{T}{x}\\right)_w\\right] = \\frac{\\Delta y(-q_e) + \\Delta y(q_w)}{\\Delta y \\Delta x}$</li>\n",
      "</ul>\n",
      "</li>"
     ]
    },
    {
     "cell_type": "markdown",
     "metadata": {},
     "source": []
    },
    {
     "cell_type": "code",
     "collapsed": false,
     "input": [],
     "language": "python",
     "metadata": {},
     "outputs": []
    }
   ],
   "metadata": {}
  }
 ]
}