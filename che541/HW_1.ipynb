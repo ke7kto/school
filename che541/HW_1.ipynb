{
 "metadata": {
  "name": "",
  "signature": "sha256:e48ebdf660a7ae97edb94019237db8e4d941204705358d0e0aa9855cafcfa244"
 },
 "nbformat": 3,
 "nbformat_minor": 0,
 "worksheets": [
  {
   "cells": [
    {
     "cell_type": "heading",
     "level": 1,
     "metadata": {},
     "source": [
      "Problem 1"
     ]
    },
    {
     "cell_type": "markdown",
     "metadata": {},
     "source": [
      "Write a program to compute the solutions to the quadratic equation.  The program should specify the coefficients a, b, c of $ax^2+bx+c=0$. The quadratic solution should be performed in a single function.  Verify your solution for $a=c=1$, and $b=4$.  Document the function for clarity."
     ]
    },
    {
     "cell_type": "code",
     "collapsed": false,
     "input": [
      "import cmath\n",
      "def solveQuad(a=1,b=1,c=1):\n",
      "    \"\"\"This function returns the solution of the \n",
      "    quadratic equation, returning both roots of \n",
      "    quadratic equation as real numbers when a real\n",
      "    solution is possible, or both roots as complex \n",
      "    numbers otherwise\"\"\"\n",
      "    if b**2 - 4*a*c > 0:\n",
      "        sol1 = (-b + sqrt(b**2 - 4*a*c))/(2*a)\n",
      "        sol2 = (-b - sqrt(b**2 - 4*a*c))/(2*a)\n",
      "        return [sol1,sol2]\n",
      "    else:\n",
      "        sol1 = (-b + cmath.sqrt(b**2 - 4*a*c))/(2*a)\n",
      "        sol2 = (-b - cmath.sqrt(b**2 - 4*a*c))/(2*a)\n",
      "        return sol1,sol2\n",
      "x1,x2=solveQuad(1,4,1)\n",
      "print(\"error one is {:g}\".format(1*x1**2+4*x1+1))\n",
      "print(\"error two is {:g}\".format(1*x2**2+4*x2+1))\n",
      "print(\"The solutions are {:g} and {:g}\".format(x1,x2))"
     ],
     "language": "python",
     "metadata": {},
     "outputs": [
      {
       "output_type": "stream",
       "stream": "stdout",
       "text": [
        "error one is -4.44089e-16\n",
        "error two is 0\n",
        "The solutions are -0.267949 and -3.73205\n"
       ]
      }
     ],
     "prompt_number": 6
    },
    {
     "cell_type": "heading",
     "level": 1,
     "metadata": {},
     "source": [
      "Problem 2"
     ]
    },
    {
     "cell_type": "heading",
     "level": 2,
     "metadata": {},
     "source": [
      "Part a"
     ]
    },
    {
     "cell_type": "heading",
     "level": 4,
     "metadata": {},
     "source": [
      "Recursion is a powerful programming technique in which a function calls itself as part of the solution process. This often simplifies algorithms and may improve computational speed. Write a recursive function that computes the factorial of an integer (positive or zero). Document the program appropriately. The program should be able to handle negative input."
     ]
    },
    {
     "cell_type": "code",
     "collapsed": false,
     "input": [
      "def customFactorial(x):\n",
      "    \"\"\"This function returns the factorial of x \n",
      "    by calling itself recursively. It returns a value of\n",
      "    False if the input is not defined by the traditional \n",
      "    definition of Factorial.\n",
      "    \"\"\"\n",
      "    if type(x) is not int:\n",
      "        return False\n",
      "    elif x > 1:\n",
      "        return x * customFactorial(x-1)\n",
      "    elif x == 1 or x == 0:\n",
      "        return x\n",
      "    else:\n",
      "        return False"
     ],
     "language": "python",
     "metadata": {},
     "outputs": [],
     "prompt_number": 7
    },
    {
     "cell_type": "heading",
     "level": 2,
     "metadata": {},
     "source": [
      "Part b"
     ]
    },
    {
     "cell_type": "heading",
     "level": 4,
     "metadata": {},
     "source": [
      "Recursive functions have a so-called recusion depth (how how many times the function calls itself). What happens to your program if you enter too high a number (like 1000)? Based on this, would you recommend a recursive routine for this calculation?"
     ]
    },
    {
     "cell_type": "markdown",
     "metadata": {},
     "source": [
      "Eventually we would run out of memory, and recursive function calls would make this run slower. I would recommend a for loop instead"
     ]
    },
    {
     "cell_type": "heading",
     "level": 2,
     "metadata": {},
     "source": [
      "Part c"
     ]
    },
    {
     "cell_type": "heading",
     "level": 4,
     "metadata": {},
     "source": [
      "Report the run time for your algorithm compared to the built in function (called factorial). Write a script to compute the run time for computing the factorial of integers between 1 and 150 for your function and built in factorial function. Have the script plot the results on linear and log-log scales using the subplot command. You should include axis labels and legends. Comment on the results.\n"
     ]
    },
    {
     "cell_type": "code",
     "collapsed": false,
     "input": [
      "def runAgainstDefault():\n",
      "    myTime = np.zeros(150)\n",
      "    otherTime = np.zeros(150)\n",
      "    for i in range(1,151):\n",
      "        myStart = time.clock()\n",
      "        customFactorial(i)\n",
      "        myTimer = time.clock()\n",
      "        myTime[i-1]=myTimer-myStart\n",
      "        myStart = time.clock()\n",
      "        factorial(i)\n",
      "        myTimer = time.clock()\n",
      "        otherTime[i-1]=myTimer-myStart\n",
      "    xScale = np.arange(1,151,1)\n",
      "    x = plt.figure()\n",
      "    plt.subplot(1,2,1)\n",
      "    plt.plot(xScale,myTime,'b--',xScale,otherTime,'r-')\n",
      "    plt.legend(['My Function',\"default Function\"],'upper left')\n",
      "    plt.xlabel('Input')\n",
      "    plt.ylabel('Time (sec)')\n",
      "    plt.subplot(1,2,2)\n",
      "    plt.loglog(xScale,myTime,'b--',xScale,otherTime,'r-')\n",
      "    plt.legend(['My Function',\"default Function\"],'upper left')\n",
      "    plt.xlabel('Input')\n",
      "    plt.ylabel('Time (sec)')\n",
      "    x.suptitle('Time vs number that was input')    "
     ],
     "language": "python",
     "metadata": {},
     "outputs": [],
     "prompt_number": 12
    },
    {
     "cell_type": "code",
     "collapsed": false,
     "input": [
      "runAgainstDefault()"
     ],
     "language": "python",
     "metadata": {},
     "outputs": [
      {
       "metadata": {},
       "output_type": "display_data",
       "png": "[encoded data removed]",
       "text": [
        "<matplotlib.figure.Figure at 0x7ffaa5466198>"
       ]
      }
     ],
     "prompt_number": 13
    },
    {
     "cell_type": "markdown",
     "metadata": {},
     "source": [
      "The recursive version of this function definitely is much slower than the original, especially for large values. "
     ]
    },
    {
     "cell_type": "heading",
     "level": 1,
     "metadata": {},
     "source": [
      "Problem 3"
     ]
    },
    {
     "cell_type": "markdown",
     "metadata": {},
     "source": [
      "List and describe five problems that require the use of numerical methods in your research or coursework. Each problem should require a different class of numerical method (such as a linear system of equations, or solution of ODEs, etc.)."
     ]
    },
    {
     "cell_type": "markdown",
     "metadata": {},
     "source": [
      "1. Getting conductivity measurements from voltage readings requires:\n",
      "        Solving a system of linear equations\n",
      "        Numerical Integration\n",
      "        Numerical differentiation to aid in numerical inversion\n",
      "2. Image processing requires:\n",
      "        Solving a system of linear equations\n",
      "        Interpolation\n",
      "        Differentiation\n",
      "3. Using steam tables (at any point) requires\n",
      "        Interpolation\n",
      "4. Using MathCad's solver to determine reaction rate as a function of time and temperature requires:\n",
      "        Solving a system of ODE's\n",
      "5. Generating trends from data requires\n",
      "        Interpolation\n"
     ]
    }
   ],
   "metadata": {}
  }
 ]
}