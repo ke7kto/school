{
 "metadata": {
  "name": "",
  "signature": "sha256:2d08afa4847c4f1be7892e2d4daac38baf03fc93a6cd1f6099b39dc27abda4ee"
 },
 "nbformat": 3,
 "nbformat_minor": 0,
 "worksheets": [
  {
   "cells": [
    {
     "cell_type": "heading",
     "level": 1,
     "metadata": {},
     "source": [
      "Problem 0 (for reference, not included in the assignment.)"
     ]
    },
    {
     "cell_type": "markdown",
     "metadata": {},
     "source": [
      "*Single and double precision mantissas have 23 and 52 bits, respectively. Ignoring exponents, \n",
      "compute the decimal machine precision $\\epsilon$ as the difference between 1.0 and the number closest to 1.0. That is, 1.0 - 0.F, where F is the 23 or 52 bit binary mantissa giving 0.F closest to 1.0. In other words, find the binary F giving 0.F closest to 1.0 and convert this to decimal, then subtract it from 1.0. Compare the result to the value provided by Matlab or Python. In Matlab use eps(\u2018single\u2019) and eps(\u2018double\u2019) for comparison. In Python, use np.finfo(float).eps, and np.finfo(np.float32).eps. *\n"
     ]
    },
    {
     "cell_type": "markdown",
     "metadata": {},
     "source": [
      "The binary solution is $1.0-0.F=1.0-0.11111\\ldots$, where there are 23 or 52 ones after the decimal.  This is converted to decimal with the code below, which also compares the built-in value.  The two values are the same in single and double precision."
     ]
    },
    {
     "cell_type": "code",
     "collapsed": false,
     "input": [
      "import numpy as np\n",
      "from __future__ import division\n",
      "%matplotlib inline\n",
      "import matplotlib.pyplot as plt"
     ],
     "language": "python",
     "metadata": {},
     "outputs": [],
     "prompt_number": 2
    },
    {
     "cell_type": "code",
     "collapsed": false,
     "input": [
      "n = np.arange(1,24)\n",
      "emach = 1-np.sum(1/2**n)\n",
      "print 'single precisions: ', emach, np.finfo(np.float32).eps"
     ],
     "language": "python",
     "metadata": {},
     "outputs": [
      {
       "output_type": "stream",
       "stream": "stdout",
       "text": [
        "single precisions:  1.19209289551e-07 1.19209e-07\n"
       ]
      }
     ],
     "prompt_number": 3
    },
    {
     "cell_type": "code",
     "collapsed": false,
     "input": [
      "n = np.arange(1,53)\n",
      "emach = 1-np.sum(1/2**n)\n",
      "print 'double precisions: ', emach, np.finfo(np.float).eps"
     ],
     "language": "python",
     "metadata": {},
     "outputs": [
      {
       "output_type": "stream",
       "stream": "stdout",
       "text": [
        "double precisions:  2.22044604925e-16 2.22044604925e-16\n"
       ]
      }
     ],
     "prompt_number": 4
    },
    {
     "cell_type": "heading",
     "level": 1,
     "metadata": {},
     "source": [
      "Problem 1"
     ]
    },
    {
     "cell_type": "markdown",
     "metadata": {},
     "source": [
      "*Read the posted solution to HW 1. Look for differences between your solution and the posted solution. Are there things you did better? Are there things you could improve? Look for coding ideas and efficiencies. Just answer yes or no if you did this.*"
     ]
    },
    {
     "cell_type": "markdown",
     "metadata": {},
     "source": [
      "Yes, I did this."
     ]
    },
    {
     "cell_type": "heading",
     "level": 1,
     "metadata": {},
     "source": [
      "Problem 2"
     ]
    },
    {
     "cell_type": "markdown",
     "metadata": {},
     "source": [
      "*Write a program to compute the constant $e$ (as in exp(1)) from the definition.\n",
      "$$e = \\lim_{n\\to\\infty}(1+1/n)^n.$$\n",
      "Specifically, compute $(1+1/n)^n$ for $n=10^k$, $k=1,2,\\ldots,20$.  Determine the relative error in your successive approximations by comparing them to exp(1.0).  Plot $e$ computed above along with the actual value.  Also, on a log-linear plot, plot the relative error for each value of k.  Does the error always decrease as n increases? Explain your results.*"
     ]
    },
    {
     "cell_type": "code",
     "collapsed": false,
     "input": [
      "ee = np.zeros(20)\n",
      "err = np.zeros(20)\n",
      "ex = np.exp(1.0)\n",
      "x  = np.arange(1,21)\n",
      "for k in range(1,21) :\n",
      "    n = 10**k\n",
      "    ee[k-1] = (1.0+1.0/n)**n\n",
      "    err[k-1] = (ee[k-1] - ex)/ex\n",
      "    \n",
      "plt.subplot(1,2,1)\n",
      "plt.plot(x,ee,'o-', label='approx')\n",
      "plt.plot(np.array([0,20]),np.array([np.exp(1),np.exp(1)]),'--', label='exact')\n",
      "plt.xlabel('k')\n",
      "plt.ylabel('exp(1)')\n",
      "plt.legend(loc='lower left')\n",
      "\n",
      "plt.subplot(1,2,2)\n",
      "plt.plot(x,np.abs(err),'.-')\n",
      "plt.yscale('log')   \n",
      "plt.xlabel('k')\n",
      "plt.ylabel('Relative Error')\n",
      "\n",
      "plt.tight_layout()         # keeps the plots from being so close that the y-label overlaps."
     ],
     "language": "python",
     "metadata": {},
     "outputs": [
      {
       "metadata": {},
       "output_type": "display_data",
       "png": "[encoded data removed]",
       "text": [
        "<matplotlib.figure.Figure at 0x10bba8fd0>"
       ]
      }
     ],
     "prompt_number": 4
    },
    {
     "cell_type": "markdown",
     "metadata": {},
     "source": [
      "As n increases, the analytica approximation to e gets better so that the absolute value of the relative error decreases at first.  However, as n becomes large, roundoff error begins to dominate and the error increases.  When n is too large, $1+1/n=1$, and the results becomes $e\\approx 1$ for large n.  Notice that this occurs at $k=16$, which is about the same number of decimals $\\epsilon_{mach}$."
     ]
    },
    {
     "cell_type": "heading",
     "level": 1,
     "metadata": {},
     "source": [
      "Problem 3"
     ]
    },
    {
     "cell_type": "markdown",
     "metadata": {},
     "source": [
      "*The following floating point analysis (below) is performed on \n",
      "$$ S = \\sum_{i=1}^n x_i $$\n",
      "to compute the relative error defined by \n",
      "$$ E_r = \\frac{\\left| fl\\left(\\sum_ix_i\\right) - \\sum_ix_i\\right|}{\\left|\\sum_ix_i\\right|}. $$*\n",
      "\n",
      "\\begin{eqnarray*}\n",
      "fl(S) =&& x_1(1+\\epsilon_1)(1+\\epsilon_2)(1+\\epsilon_3)\\ldots (1+\\epsilon_{n-1})+ \\\\\n",
      "       && x_2(1+\\epsilon_1)(1+\\epsilon_2)(1+\\epsilon_3)\\ldots (1+\\epsilon_{n-1})+ \\\\\n",
      "       && x_3\\phantom{(1+\\epsilon_1)}(1+\\epsilon_2)(1+\\epsilon_3)\\ldots (1+\\epsilon_{n-1})+ \\\\\n",
      "       && x_4\\phantom{(1+\\epsilon_1)(1+\\epsilon_2)}(1+\\epsilon_3)\\ldots (1+\\epsilon_{n-1})+ \\\\\n",
      "       && \\vdots \\\\\n",
      "       && x_n\\phantom{(1+\\epsilon_1)(1+\\epsilon_2)(1+\\epsilon_3)}\\ldots (1+\\epsilon_{n-1}).\n",
      "\\end{eqnarray*}\n",
      "\n",
      "\n",
      "$$ fl(S) = \\sum_i x_i(1+\\delta_i). $$\n",
      "\n",
      "$$(1+\\delta_i) = \\prod_{k=1}^{n-1}(1+\\epsilon_i), \\,\\,\\, i=1,2 $$\n",
      "\n",
      "$$(1+\\delta_i) = \\prod_{k=i-1}^{n-1}(1+\\epsilon_i), \\,\\,\\, i=3\\ldots n $$\n",
      "\n",
      "$$|\\delta_{1,2}| \\le (n-1)\\epsilon_{mach} $$\n",
      "\n",
      "$$|\\delta_{i}|   \\le (n-i+1)\\epsilon_{mach}, \\,\\,\\, i=3\\ldots n $$\n",
      "\n",
      "\\begin{eqnarray*}\n",
      "E_r &=& \\frac{|fl(S) - S|}{|S|} = \\frac{|\\sum_i x_i(1+\\delta_i) -\n",
      "\\sum_ix_i|}{|\\sum_ix_i|} = \\frac{|\\sum_ix_i\\delta_i|}{|\\sum_ix_i|} \\\\\n",
      "    &\\le& \\frac{\\sum_i|x_i||\\delta_i|}{|\\sum_ix_i|} %\n",
      "    \\le max_i|\\delta_i|\\frac{\\sum_i|x_i|}{|\\sum_ix_i|} %\n",
      "    \\le (n-1)\\epsilon_{mach}\\frac{\\sum_i|x_i|}{|\\sum_ix_i|}.\n",
      "\\end{eqnarray*}\n",
      "\n",
      "*Read this derivation carefully so that you understand every step (and could reproduce this if needed or apply to a different problem). State that you have done this as part of your homework solution. What happens if the sign of all the $x_i$ are the same. Is this good or bad? What happens if the signs on $x_i$ alternate, and the $x_i$ have about the same magnitude?*"
     ]
    },
    {
     "cell_type": "markdown",
     "metadata": {},
     "source": [
      "If the signs are the same, then the ratio of summations in the last term is 1, and the error is bounded by the number of additions, which is optimal.  If the signs alternate and the terms are similar size, then the denominator is small and the error can be very high.  This is bad.  It suggests grouping terms of like sign when performing the sum."
     ]
    },
    {
     "cell_type": "heading",
     "level": 1,
     "metadata": {},
     "source": [
      "Problem 4"
     ]
    },
    {
     "cell_type": "markdown",
     "metadata": {},
     "source": [
      "*Consider the 2D matrix A with column 1 as $A = [0,\\,1]^T$ , and column 2 as $[\\cos(\\theta),\\,\\sin(\\theta)]^T$ with $0<\\theta<\\pi$. Plot the condition number of A as a function of $\\theta$. Make sure to choose $\\theta$ so that A is not singular. Explain the plot geometrically in terms of the column vectors of A. In Matlab, the condition number of matrix A is computed as cond(A), in python, use numpy.linalg.cond(A).*"
     ]
    },
    {
     "cell_type": "code",
     "collapsed": false,
     "input": [
      "n = 50\n",
      "theta = np.linspace(0,np.pi,n)\n",
      "x = np.cos(theta)\n",
      "y = np.sin(theta)\n",
      "\n",
      "cc = np.zeros(n)\n",
      "for i in range(n) :\n",
      "    A = np.array([[0, x[i]], [1, y[i]]])\n",
      "    cc[i] = np.linalg.cond(A)\n",
      "    \n",
      "plt.plot(theta,cc,'.-')\n",
      "plt.xlabel(r'$\\theta$')\n",
      "plt.ylabel('Condition number of A')"
     ],
     "language": "python",
     "metadata": {},
     "outputs": [
      {
       "metadata": {},
       "output_type": "pyout",
       "prompt_number": 5,
       "text": [
        "<matplotlib.text.Text at 0x10c888210>"
       ]
      },
      {
       "metadata": {},
       "output_type": "display_data",
       "png": "[encoded data removed]",
       "text": [
        "<matplotlib.figure.Figure at 0x10c7e1810>"
       ]
      }
     ],
     "prompt_number": 5
    },
    {
     "cell_type": "heading",
     "level": 1,
     "metadata": {},
     "source": [
      "Problem 5"
     ]
    },
    {
     "cell_type": "markdown",
     "metadata": {},
     "source": [
      "*Write a program implementing LU decomposition and use it to solve equation (B) of Hoffman Section 1.3. (Codes adapted from Hoffman p. 70)*"
     ]
    },
    {
     "cell_type": "code",
     "collapsed": false,
     "input": [
      "def lufact(A) :\n",
      "    \n",
      "    n = np.shape(A)[0]\n",
      "    \n",
      "    for k in range(n-1) :     \n",
      "        for i in range(k+1,n) :\n",
      "            fac = A[i,k]/A[k,k]\n",
      "            A[i,k] = fac\n",
      "            for j in range(k+1,n) :\n",
      "                A[i,j] = A[i,j] - fac*A[k,j]\n",
      "                \n",
      "    return A\n",
      "        "
     ],
     "language": "python",
     "metadata": {},
     "outputs": [],
     "prompt_number": 6
    },
    {
     "cell_type": "code",
     "collapsed": false,
     "input": [
      "def solveLU(LU,b) :\n",
      "    \n",
      "    n  = np.size(b)\n",
      "    bp = np.zeros(n)\n",
      "    x  = np.zeros(n)\n",
      "    \n",
      "    #----------- forward elimination\n",
      "    \n",
      "    bp[0] = b[0]\n",
      "    for i in range(1,n) :   # 1 to n-1 inclusive\n",
      "        bp[i] = b[i]\n",
      "        for j in range(i) : # 0 to i-1 inclusive\n",
      "            bp[i] = bp[i] - LU[i,j]*bp[j]\n",
      "            \n",
      "    #----------- back substitution\n",
      "    \n",
      "    x[n-1] = bp[n-1]/LU[n-1,n-1]\n",
      "    for i in range(n-2,-1,-1) :\n",
      "        x[i] = bp[i]\n",
      "        for j in range(n-1,i,-1) :\n",
      "            x[i] = x[i] - LU[i,j]*x[j]\n",
      "        x[i] = x[i] / LU[i,i]\n",
      "        \n",
      "    return x\n",
      "        "
     ],
     "language": "python",
     "metadata": {},
     "outputs": [],
     "prompt_number": 7
    },
    {
     "cell_type": "markdown",
     "metadata": {},
     "source": [
      "The result for equation (B):"
     ]
    },
    {
     "cell_type": "code",
     "collapsed": false,
     "input": [
      "A = np.array([[1,1,3],[5,3,1],[2,3,1]])\n",
      "b = np.array([2,3,-1])\n",
      "LU = lufact(A)\n",
      "x = solveLU(LU,b)\n",
      "print 'LU factorization: ', x\n",
      "\n",
      "A = np.array([[1,1,3],[5,3,1],[2,3,1]])\n",
      "b = np.array([2,3,-1])\n",
      "print 'Internal solver : ', np.linalg.solve(A,b)"
     ],
     "language": "python",
     "metadata": {},
     "outputs": [
      {
       "output_type": "stream",
       "stream": "stdout",
       "text": [
        "LU factorization:  [ 0.16666667  0.58333333  0.41666667]\n",
        "Internal solver :  [ 1.33333333 -1.45833333  0.70833333]\n"
       ]
      }
     ],
     "prompt_number": 8
    },
    {
     "cell_type": "heading",
     "level": 1,
     "metadata": {},
     "source": [
      "Problem 6"
     ]
    },
    {
     "cell_type": "markdown",
     "metadata": {},
     "source": [
      "*Write a program implementing the Thomas algorithm and use it to solve equation (J) of Hoffman Section 1.5.*"
     ]
    },
    {
     "cell_type": "code",
     "collapsed": false,
     "input": [
      "# function thomas\n",
      "# Inputs are vectors a,d,c,b where a,d, and c are the diagonal, upper diagonal, and \n",
      "#    lower diagonals of A, and b is the rhs vector:\n",
      "# [a0 d0  0  0  0\n",
      "#  c1 a1 d1  0  0\n",
      "#  0  c2 a2 d2  0\n",
      "#  0  0  c3 a3 d3\n",
      "#  0  0  0  c4 a4]\n",
      "\n",
      "def thomas(a,d,c,b) : \n",
      "\n",
      "    n = np.size(a)\n",
      "    x = np.zeros(n)\n",
      "    for i in range(1,n) :\n",
      "        a[i] = a[i] - c[i]/a[i-1]*d[i-1]\n",
      "        b[i] = b[i] - c[i]/a[i-1]*b[i-1]\n",
      "        \n",
      "    x[n-1] = b[n-1]/a[n-1]\n",
      "    for i in range(n-2,-1,-1) :\n",
      "        x[i] = (b[i]-d[i]*x[i+1])/a[i]\n",
      "        \n",
      "    return x"
     ],
     "language": "python",
     "metadata": {},
     "outputs": [],
     "prompt_number": 9
    },
    {
     "cell_type": "markdown",
     "metadata": {},
     "source": [
      "The result for equation (J) is"
     ]
    },
    {
     "cell_type": "code",
     "collapsed": false,
     "input": [
      "a = 3*np.ones(4)\n",
      "c = 2*np.ones(4)\n",
      "d = np.array(c)\n",
      "b = np.array([12,17,14,7])\n",
      "\n",
      "x = thomas(a,c,d,b)\n",
      "print x"
     ],
     "language": "python",
     "metadata": {},
     "outputs": []
    },
    {
     "cell_type": "code",
     "collapsed": false,
     "input": [
      "a = 3.0*np.ones(4)\n",
      "c = 2.0*np.ones(4)\n",
      "d = np.array(c)\n",
      "b = np.array([12,17,14,7])\n",
      "\n",
      "A = np.diag(a,0) + np.diag(c[1:],-1) + np.diag(d[1:],1)\n",
      "x = np.linalg.solve(A,b)\n",
      "print x"
     ],
     "language": "python",
     "metadata": {},
     "outputs": [
      {
       "output_type": "stream",
       "stream": "stdout",
       "text": [
        "[ 2.  3.  2.  1.]\n"
       ]
      }
     ],
     "prompt_number": 10
    },
    {
     "cell_type": "code",
     "collapsed": false,
     "input": [],
     "language": "python",
     "metadata": {},
     "outputs": []
    }
   ],
   "metadata": {}
  }
 ]
}