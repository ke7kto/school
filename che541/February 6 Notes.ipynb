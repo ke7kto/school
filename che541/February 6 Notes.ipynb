{
 "metadata": {
  "name": "",
  "signature": "sha256:84586849e762159ab3edd35f90d1b725fe34988edb476119b8fa1552ca99ebec"
 },
 "nbformat": 3,
 "nbformat_minor": 0,
 "worksheets": [
  {
   "cells": [
    {
     "cell_type": "markdown",
     "metadata": {},
     "source": [
      "<h1>ODEs</h1>\n",
      "<ul><li>Derivatives as a function of one variable (no spatial dependence)</li>\n",
      "<li>Initial Value Problems</li>\n",
      "<li>Boundary Value Problems</li>\n",
      "</ul>"
     ]
    },
    {
     "cell_type": "markdown",
     "metadata": {},
     "source": [
      "<ul>\n",
      "<li>Explicit Euler</li>\n",
      "<li>Implicit Euler</li>\n",
      "<li>Code is easy, and it's 1st order</li>\n",
      "</ul>\n",
      "Explicit Euler is good, and easy to code.\n",
      "<ul><li>$\\frac{dy}{dt} = f(y,t)$</li>\n",
      "<li>$y(t=0)=y_0$</li>\n",
      "<li>Take a forward difference (could use a Taylor series): $\\frac{y_{n+1}-y_n}{\\Delta t} = f(y,t)$</li>\n",
      "<li>DEF: $y_{n+1} = y_n + \\Delta t \\cdot f(y_n,t)$</li>\n",
      "<li>$\\Delta t \\cdot f(y_n) = dy$</li>\n",
      "<li>(For implicit Euler, evaluate at $n+1$</li>\n",
      "<li>Error term in Taylor series is $-\\frac{1}{2}y^{\\prime\\prime}\\Delta t^2$</li>\n",
      "<li>First order method, which means that your $\\epsilon$ is proportional to your step size</li>\n",
      "<li>Error is $O(\\Delta t^2)$ for the first time step, but $\\frac{t_{end}\\cdot O(\\Delta t^2)}{\\Delta t} \\Rightarrow t_{end}\\cdot O{\\Delta t}$</li>\n",
      "</ul>\n",
      "Implicit Euler\n",
      "<ul><li>Base point: $n+1$</li>\n",
      "<li>$y(n) = y(n+1)- f_{n+1}\\Delta t$</li>\n",
      "<li>$y_{n+1}=y_n + \\Delta t\\cdot f_{n+1}$</li>\n",
      "<li>Remember that $f$ is the derivative.</li>\n",
      "<li>Yout can't take the step because you don't know what the slope is, but we need to take the slope</li>\n",
      "<li>Implicit Euler is UNCONDITIONALLY stable, is a pain in the neck to code, and takes a lot longer</li>\n",
      "<li>Anything chemical kinetics needs an implicit method</li>\n",
      "<li>$f=(ay_{n+1} + b)\\Rightarrow y_{n+1} = y_n + \\Delta t\\cdot (ay_{n+1}+b)$</li>\n",
      "<li>Implicit Euler isn't as bad as you think\n",
      "<ul><li>$y_{n+1} = y_n - \\Delta t\\cdot y_{n+1}$</li>\n",
      "<li>$y_{n+1} = \\frac{y_n}{1+\\Delta t}$</li>\n",
      "<li>$y = Ay+b$</li>\n",
      "</ul>\n",
      "</li>\n",
      "</ul>\n",
      "Second Order!\n",
      "<ul><li>The implicit Trapezoid: $y_{n+1} = y_n + \\Delta t \\frac{1}{2}(f_n+f_{n+1})$</li>\n",
      "<li>Modified Euler: $y_{n+1}^\\ast = y_n + \\Delta t (f_n)$<br/>\n",
      "$y_{n+1} = y_n + \\frac{\\Delta t}{2}(f_n+f(y_{n+1}^\\ast))$</li>\n",
      "<li>Modified midpoint: $y_{n+\\frac{1}{2}} = y_n + \\frac{\\Delta t}{2} f_n$<br/>\n",
      "$y_{n+1} = y_n + \\Delta t(f_n+f(y_{n+\\frac{1}{2}}^\\ast))$</li>\n",
      "</ul>\n",
      "Runge Kutta: The gold standard is the fourth order Runga Kutta method\n",
      "<ul><li>$y_{n+1}=y_n + \\Delta y$<br/>\n",
      "$\\Delta y = \\sum\\limits_{i=1}^n c_i \\Delta y_i$<br/>\n",
      "</li>\n",
      "<li>Find $c$'s such that it's nth order</li>\n",
      "</ul>\n"
     ]
    },
    {
     "cell_type": "markdown",
     "metadata": {},
     "source": [
      "$y_{n+1} = y_n - \\Delta t\\cdot  (a y_{n+1}+ b)$ "
     ]
    },
    {
     "cell_type": "code",
     "collapsed": false,
     "input": [],
     "language": "python",
     "metadata": {},
     "outputs": []
    }
   ],
   "metadata": {}
  }
 ]
}