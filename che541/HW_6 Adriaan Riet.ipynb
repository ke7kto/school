{
 "metadata": {
  "name": "",
  "signature": "sha256:aae3e3a9156c19ed54f82546114dd3c129f522b4f7c39735d74efe67317120da"
 },
 "nbformat": 3,
 "nbformat_minor": 0,
 "worksheets": [
  {
   "cells": [
    {
     "cell_type": "heading",
     "level": 1,
     "metadata": {},
     "source": [
      "Problem 1"
     ]
    },
    {
     "cell_type": "markdown",
     "metadata": {},
     "source": [
      "*Read and understand the posted solution to HW 5.  The goal here is to see another solution besides your own, to get coding ideas, and to think about things that your or I could do better. Just state if you did this.*"
     ]
    },
    {
     "cell_type": "heading",
     "level": 1,
     "metadata": {},
     "source": [
      "Problem 2"
     ]
    },
    {
     "cell_type": "markdown",
     "metadata": {},
     "source": [
      "*Nuclear reactors generate heat by fission in tubes. The following second order ODE describes the temperature distribution in a cylinder with internal heat generation:*\n",
      "$$\\frac{d^2T}{dr^2} + \\frac{1}{r}\\frac{dT}{dr} + (1+r^2) = 0,$$\n",
      "\n",
      "$$\\frac{dT}{dr} = 0 \\mbox{   at r=0},$$\n",
      "\n",
      "$$T = 0 \\mbox{   at r=1}.$$\n",
      "\n",
      "*Here, T is the nondimensional temperature, and r is a nondimensional radius.  The exact solution is $T_e = 5/16 - r^2/4 - r^4/16.$*\n",
      "\n",
      "*Use the shooting method to solve this BVP by combining an ODE solver with a nonlinear solver.  You can use the build-in solvers for this.*"
     ]
    },
    {
     "cell_type": "code",
     "collapsed": false,
     "input": [
      "from scipy import integrate   # for integrate.odeint (see the \"crash course\" notes)\n",
      "from scipy import optimize    # for optimize.fsolve (see the \"crash course\" notes)"
     ],
     "language": "python",
     "metadata": {},
     "outputs": [],
     "prompt_number": 4
    },
    {
     "cell_type": "markdown",
     "metadata": {},
     "source": [
      "In Matlab, use fsolve, and ode45.\n",
      "\n",
      "Plot the exact and numerical solutions for $T$ and $T'$."
     ]
    },
    {
     "cell_type": "heading",
     "level": 1,
     "metadata": {},
     "source": [
      "Problem 3"
     ]
    },
    {
     "cell_type": "markdown",
     "metadata": {},
     "source": [
      "Solve the same problem as in Problem 2 using a relaxation (equilibrium) method.  Use a grid spacing of $0.05$.  This would give a uniform grid of 21 points if $r=0$ and $r=1$ is included.  Plot the solution T as open symbols and the exact solution as a line on the same plot.You can use the built-in linear solvers if you want.  In Python: \"x = np.linalg.solve(A,b)\";  in Matlab: \"x = linsolve(A,b)\" (or some other equivalent approach)."
     ]
    }
   ],
   "metadata": {}
  }
 ]
}