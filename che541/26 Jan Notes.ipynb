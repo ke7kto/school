{
 "metadata": {
  "name": "",
  "signature": "sha256:3a92b2bcf82922362b7ae5e0f6c740be4a29c818a197beb0b8d93b62b3c46bc6"
 },
 "nbformat": 3,
 "nbformat_minor": 0,
 "worksheets": [
  {
   "cells": [
    {
     "cell_type": "markdown",
     "metadata": {},
     "source": [
      "<h1>Nonlinear Fun Again!</h1>\n",
      "<h3>Overview</h3>\n",
      "<h4>\n",
      "<ul>\n",
      "<li>Fixed Point</li>\n",
      "<li>Secant</li>\n",
      "<li>Newton's Method</li>\n",
      "<ul>\n",
      "<li>Convergence Properties</li>\n",
      "<li>Examples</li>\n",
      "</ul></ul></h4>\n",
      "<h4>Fixed Point</h4>\n",
      "<p>$f(x) = 0$<br/>\n",
      "$x = g(x)$<br/>\n",
      "$f(x) = x\\:\\: |\\:\\: y = g(x)$<br/>\n",
      "Algorithm:\n",
      "<ol><li>Obtain initial guess $x_{old}$</li>\n",
      "<li>$x_{new} = g(x_{old})$</li>\n",
      "<li>$x_{new} = f^{-1}(x_{new})$</li>\n",
      "<li>Iterate to convergence</li></ol>\n",
      "\n",
      "<h5>Example</h5>\n",
      "$f(x) = x^2 - x - 2$<br/>\n",
      "$x_1 = 2\\:\\:\\:x_2=-1$<br/>\n",
      "<p>Ways to get in proper form $x = g(x):$</p>\n",
      "<ul>\n",
      "<li>$x = x^2-2$</li>\n",
      "<li>$x = x^3 - x^2 - x$</li>\n",
      "<li>$x = \\frac{x+2}{x}$</li>\n",
      "</ul>"
     ]
    },
    {
     "cell_type": "code",
     "collapsed": false,
     "input": [
      "x=np.linspace(1,3)\n",
      "lines=plt.plot(x,x,'k--',x,1+2/x,'g-',x,x**2-2,'b-',x,np.sqrt(x+2),'r-')"
     ],
     "language": "python",
     "metadata": {},
     "outputs": [
      {
       "metadata": {},
       "output_type": "display_data",
       "png": "[encoded data removed]",
       "text": [
        "<matplotlib.figure.Figure at 0x7ff5a1690ac8>"
       ]
      }
     ],
     "prompt_number": 4
    },
    {
     "cell_type": "markdown",
     "metadata": {},
     "source": [
      "<p>Note: The magnitude of the derivative at the root to be less than 1.</p>\n",
      "<ol><li>$x_{i+1} = g(x_i)$</li>\n",
      "<li>$x^\\ast = g(x^\\ast)$</li>\n",
      "<li>$x_{i+1} - x^\\ast = g(x_i) - g(x^\\ast)$</li>\n",
      "<li>$\\epsilon_{i+1} = g(x_i) - g(x^\\ast)$</li>\n",
      "<li>$g(x^\\ast) = g(x_i) + g^\\prime (\\xi)(x^\\ast - x_i)$</li>\n",
      "</ol>\n",
      "<p> $\\xi$ is somewhere between $x_i$ and $x^\\ast$, but if we knew where, we would know the value of $x^\\ast$</p>\n",
      "<ol><li>$x_{i+1} = g(x_i)$</li>\n",
      "<li>$x^\\ast = g(x^\\ast)$</li>\n",
      "<li>$x_{i+1} - x^\\ast = g(x_i) - g(x^\\ast)$</li>\n",
      "<li>$\\epsilon_{i+1} = g(x_i) - g(x^\\ast)$</li>\n",
      "<li>$g(x^\\ast) = g(x_i) + g^\\prime (\\xi)(x^\\ast - x_i)$</li>\n",
      "<li>$\\epsilon_{i+1} = \\epsilon_{i}g^\\prime (\\xi) = g(x_i) - g(x^\\ast)$</li>\n",
      "<li>$|\\frac{\\epsilon{i+1}}{\\epsilon_i}| = | g^\\prime(\\xi)|$</li>\n",
      "<li>$\\epsilon_{i+1} = g^\\prime \\epsilon_i$</li>\n",
      "</ol>\n",
      "<h4>Secant Method</h4>\n",
      "<p>Like Regula Falsi, but always choose the last two points</p>\n",
      "<ol>\n",
      "<li>Pick two points, $a$ and $b$.</li>\n",
      "<li>Find the point $c$ such that $c = b - f(b) \\cdot \\frac{b-a}{f(b)-f(a)}$</li>\n",
      "<li>Replace $b$ with $a$ and $a$ with $c$</li>\n",
      "<li>Iterate to convergence.</li>\n",
      "</ol>\n",
      "<p>Advantage: Convergence<br/>\n",
      "$\\epsilon_{i+1} \\:\\:\\alpha\\:\\: \\epsilon_i^{1.62}$</p>\n",
      "<h4>Newton's Method</h4>\n",
      "<ol>\n",
      "<li>Pick a point $x_0$.</li>\n",
      "<li>Calculate $f(x_0)$ and $f^\\prime (x_0)$</li>\n",
      "<li>$f(x_{i+1}) = f(x_i) + \\frac{\\partial f}{\\partial x}|_{x=x_i} \\cdot (x_{i+1}-x_i)$</li>\n",
      "<li>$x_{i+1}=x_i - \\frac{f(x_i)}{f^\\prime (x_i)}$</li>\n",
      "</ol>\n",
      "<p>Convergence: $\\epsilon_{i+1} \\:\\: \\alpha \\:\\: \\epsilon_i^2$</p>\n",
      "<p>Always code Newton's method by calling the function $f$, and it's derivative $f^\\prime$ within the Newton's formula</p>\n"
     ]
    },
    {
     "cell_type": "code",
     "collapsed": false,
     "input": [],
     "language": "python",
     "metadata": {},
     "outputs": []
    }
   ],
   "metadata": {}
  }
 ]
}