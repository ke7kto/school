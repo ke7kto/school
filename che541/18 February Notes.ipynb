{
 "metadata": {
  "name": "",
  "signature": "sha256:5513a1b96f18616cc65c664806fbdd4c1060c6707ca060e96c1b7caefe29bc17"
 },
 "nbformat": 3,
 "nbformat_minor": 0,
 "worksheets": [
  {
   "cells": [
    {
     "cell_type": "markdown",
     "metadata": {},
     "source": [
      "<h1>Boundary Value Problems</h1>\n",
      "<p>Recall that IVP's marched through time (as you were given an initial state), while BVP's give information at different places.</p><br/>\n",
      "\n",
      "IVP - Usually in form of time or time equivalent.\n",
      "<ol>\n",
      "<li>$\\frac{dy}{dt} : y(t=0)=y_0$</li>\n",
      "</ol>\n",
      "BVP - Usually in form of space, so $\\frac{d^2}{dx^2}$ occurs fairly often.\n",
      "<ul>\n",
      "<li>$\\frac{dy}{dx} \\text{ or } \\frac{d^2 y}{dx^2}$</li>\n",
      "<li>$\\frac{d^2 y}{dx^2} + P(x)\\frac{dy}{dx}+Q(x) y = F(x)$<br/><br/></li>\n",
      "<li>$\\frac{d}{dx}\\left(-k \\frac{dT}{dx}\\right)=q$</li>\n",
      "</ul>\n",
      "<ol>\n",
      "<li>$\\text{Accumulation} = \\text{in} - \\text{out} + \\text{generation}$</li>\n",
      "<li>$0 = \\frac{q_{in} - q_{out}}{\\Delta x} + S^{\\prime\\prime\\prime}$</li>\n",
      "<li>$-\\frac{dq}{dx}+ S^{\\prime\\prime\\prime}=0$</li>\n",
      "<li>$\\frac{dq}{dx}= S^{\\prime\\prime\\prime}$</li>\n",
      "<li>$q= -k\\frac{dT}{dx}$</li>\n",
      "<li>$\\frac{d}{dx}\\left(k\\frac{dT}{dx}\\right)=-S^{\\prime\\prime\\prime}$</li>\n",
      "<li>$\\frac{dT}{dx}\\cdot\\frac{dk}{dx} + k\\frac{d^2 T}{dx^2} = -S^{\\prime\\prime\\prime}$<br/><br/>$\\frac{dT}{dx}\\cdot K^\\prime (T) + k\\frac{d^2 T}{dx^2} = -S^{\\prime\\prime\\prime}$</li>\n",
      "\n",
      "</ol>\n",
      "<ol><li>Dirichlet (Deerehshlay): Specify $y$ at the boundary.</li>\n",
      "<li>Neumann (Noiman): Specify $y^\\prime$ at the boundary.</li>\n",
      "<li>Robin: Mix between Dirichlet and Neumann.</li>\n",
      "</ol>"
     ]
    },
    {
     "cell_type": "markdown",
     "metadata": {},
     "source": [
      "<p>Two different kinds of BVP methods</p>\n",
      "<ol><li>Shooting\n",
      "<ul><li>Example: $\\frac{d^2 T}{dx^2} = f(x)$<br/>Dirichlet Conditions for both<br/>\n",
      "We want to march... <br/>\n",
      "$T^{\\prime\\prime} = f(x)$<br/>\n",
      "Let $z=T^\\prime$<br/>\n",
      "then $T^\\prime = z$ and $z^\\prime= f(x)$<br/>\n",
      "<br/>\n",
      "I.C. <ol><li>$T_0 = T_L$</li><li>$z_0 = z_{guess}$</li></ol>\n",
      "Now we solve system of ODE's using your favorite solver (RK4, EE, IE, MM, builtin, etc.)<br/>\n",
      "$T_{R_1}$ is now known, so we iterate until $T_{R_n} \\pm \\epsilon= T_R$\n",
      "</li></ul>\n",
      "Shooting == Root finding<br/>\n",
      "$F(z) = T_{R_{guess}}$<br/>\n",
      "$F(z) - T_{R_{guess}} = G(z) = 0$<br/>\n",
      "Find da root of $G(z)$<br/>\n",
      "$\\frac{z_3 - z_1}{z_2 - z_1} = \\frac{0 - \\left(T_{R_1} - T_R\\right)}{\\left(T_{R_2} - T_R\\right) - \\left(T_{R_1} - T_R\\right)}$<br/>\n",
      "$$z_3 = z_1 + \\left(z_2 - z_1\\right) \\frac{T_R - T_{R_1}}{T_{R_2}-T_{R_1}}$$\n",
      "</li>\n",
      "<li>Relaxation</li>\n"
     ]
    },
    {
     "cell_type": "code",
     "collapsed": false,
     "input": [],
     "language": "python",
     "metadata": {},
     "outputs": []
    }
   ],
   "metadata": {}
  }
 ]
}