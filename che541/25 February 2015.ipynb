{
 "metadata": {
  "name": "",
  "signature": "sha256:36140e6bda6a7c98f442a7bf4863aac0319aa9c03c33d8657065d8d74342cd87"
 },
 "nbformat": 3,
 "nbformat_minor": 0,
 "worksheets": [
  {
   "cells": [
    {
     "cell_type": "markdown",
     "metadata": {},
     "source": [
      "<h1>Non-Uniform Grids for Relaxation Methods</h1>\n",
      "Two methods:\n",
      "\n",
      "<ol><li>Set Grid-points\n",
      "<ul><li>This requires a vector of $\\Delta x_i$'s</li>\n",
      "<li>$f^\\prime(x_i) = f^\\prime_i \\approx \\frac{f_{i+1}-f_{i-1}}{\\Delta x_1 + \\Delta x_2}$</li>\n",
      "<li>While this method is second order accurate for uniform grids, it is only first order for nonuniform</li>\n",
      "<li>$f^{\\prime\\prime}(x_i) = f^{\\prime\\prime}_i \\approx \\frac{f^\\prime_{i+1}-f^\\prime_{i-1}}{\\frac{\\Delta x_1 + \\Delta x_2}{2}} = \\frac{\\frac{f_{i+1}-f_i}{\\Delta x_2}-\\frac{f_i - f_{i-1}}{\\Delta x_1}}{\\frac{\\Delta x_1 + \\Delta x_2}{2}}$</li>\n",
      "</ul>\n",
      "<li>Graph</li>\n",
      "<li>Guess/Intuition\n",
      "<ul><li>Update</li>\n",
      "<li>Uniform then update</li></ul></li>\n",
      "<li>AMR - Adaptive Mesh Refinement</li>\n",
      "<li>Map problem from being solved in space to being solved in stoichiometry</li>\n",
      "<li>Stretch analytically</li>\n",
      "</ol>\n",
      "Look at where the \"Action\" is at!\n",
      "What is Action?\n",
      "<ul>\n",
      "<li> Slope</li>\n",
      "<li>minimum/maximum</li>\n",
      "<li>Curvature, inflection points, concavity, etc.</li>\n",
      "</ul>\n",
      "\n",
      "Current favorite approach\n",
      "Take curve, in order to distribute points in an intelligent way, take the domain based on the y-axis\n",
      "put uniform gridpoints on the y-axis, and find the inverse of the function at those spaces. That's for pdf sampling...\n",
      "For real, do a uniform step size (based on the length of the curve, not the x distance), then adopt the x change for the next time.\n",
      "<h3>Method #2</h3>\n",
      "Stretch analytically:<br/>\n",
      "$\\eta = \\text{uniform}$<br/>\n",
      "$x = \\text{nonuniform}$<br/>\n",
      "$\\eta = \\ln(x+1)$ or some other stretching function<br/>\n",
      "$\\frac{dy}{dx} = \\frac{dy}{d\\eta} \\left(\\frac{d\\eta}{dx}\\right) = \\frac{1}{x+1}\\cdot \\left(\\frac{dy}{d\\eta}\\right) \\approx \\frac{y_{i+1}-y_{i-1}}{2\\Delta\\eta} \\cdot\\frac{1}{x_i+1}$"
     ]
    },
    {
     "cell_type": "markdown",
     "metadata": {},
     "source": [
      "<h1>PDE's</h1>\n",
      "Everything you want to learn about PDE's that matters you can learn in ten minutes.\n",
      "Nonlinear -> Linear w/iteration\n",
      "ODE's -> Algebraic equations \n",
      "PDE's -> System of ODE's -> Algebraic Equations -> Linear w/iteration\n",
      "$\\newcommand{ddd}[2]{\\frac{\\partial #1}{\\partial #2}}$\n",
      "Consider a plug flow reactor:\n",
      "$\\frac{\\partial \\phi}{\\partial t} + \\ddd{ }{x}$\n",
      "<h3>Parabolic</h3>\n",
      "<ul><li>Means unsteady</li>\n",
      "<li>implies marching in time.</li>\n",
      "<li>Diffusive</li>\n",
      "<li>Ex: Heat equations (Navier Stokes)</li>\n",
      "</ul><br/>\n",
      "<h3>Hyperbolic</h3>\n",
      "<ul><li>Unsteady</li>\n",
      "<li>Convection</li>\n",
      "<li>No diffusion</li>\n",
      "<li>Ex: Wave equations (Euler)</li>\n",
      "</ul><br/>\n",
      "<h3>Elliptic</h3>\n",
      "<ul>\n",
      "<li>Steady State</li>\n",
      "<li>Diffusion</li>\n",
      "</ul>"
     ]
    },
    {
     "cell_type": "code",
     "collapsed": false,
     "input": [],
     "language": "python",
     "metadata": {},
     "outputs": []
    }
   ],
   "metadata": {}
  }
 ]
}