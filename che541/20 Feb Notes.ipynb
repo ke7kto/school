{
 "metadata": {
  "name": "",
  "signature": "sha256:96bcaf461c3e5225a39229369e32f6a2d1221fbf5ac8a80ca44ce9e4461ee823"
 },
 "nbformat": 3,
 "nbformat_minor": 0,
 "worksheets": [
  {
   "cells": [
    {
     "cell_type": "markdown",
     "metadata": {},
     "source": [
      "<h3>Relaxation Methods</h3>\n",
      "<p>ODEs<ul>\n",
      "<li>IVP<ul><li>Marching</li></ul></li>\n",
      "<li>BVP\n",
      "    <ul>\n",
      "    <li>Shooting</li>\n",
      "    <li>Relax</li>\n",
      "    </ul>\n",
      "</li>\n",
      "</ul>\n",
      "Relaxation methods\n",
      "<ul>\n",
      "<li>If you have n points (in one D), then you have <ul>\n",
      "    <li>n-2 vars (both boundaries are known)</li>\n",
      "    <li>n-1 intervals</li>\n",
      "    <li>$\\Delta x = \\frac{L_D}{n_{pts}-1}$, in python:\n",
      "    <pre>x = np.linspace(0,L_D,npts)\n",
      "    dx = x[1]-x[0]</pre>\n",
      "    </li>\n",
      "    <li>Approximate ODE using Finite Difference Approximations</li>\n",
      "    <li>Linear 2nd order ODE:\n",
      "    $y^{\\prime\\prime} + p(x)y^\\prime + Q(x) y = F(x)$</li>\n",
      "    <li>\n",
      "    $y^{\\prime} = \\frac{dy}{dx} \\approx \\frac{y_{i+1}-y_{i-1}}{2\\Delta x}$<br/>\n",
      "    $y^{\\prime\\prime} = \\frac{y_{i+1} - 2y_i + y_{i-1}}{\\Delta x^2}$ or $\\frac{d^2 y}{dx^2} = \\left(\\frac{\\frac{dy}{dx}\\Big \\vert_{y_{i+\\frac{1}{2}}} -\\frac{dy}{dx}\\Big \\vert_{y_{i-\\frac{1}{2}}}}{dx}\\right)$ </li>\n",
      "    <li>$\\frac{y_{i+1} - 2y_i + y_{i-1}}{\\Delta x^2} + P_i \\frac{y_{i+1}-y_{i-1}}{2\\Delta x} + Q_i y_i = F_i$</li>\n",
      "    <li>Ex: $\\frac{y_6 - 2y_5 + y_4}{\\Delta x^2} + P_5 \\frac{y_6 - y_4}{2\\Delta x} + Q_5 y_5$</li>\n",
      "    <li>Factor. $(\\frac{1}{\\Delta x^2} - \\frac{P_i}{2\\Delta x})y_{i-1} + (-\\frac{2}{\\Delta x^2}+Q_i)y_i + (\\frac{1}{\\Delta x^2}+\\frac{P_i}{2\\Delta x})y_{i+1} = F_i$<br/>\n",
      "    $(l_i) y_{i-1} + (a_i) y_i + (u_i) y_{i+1} = F_i$ ->Interior is a tridiagonal matrix. Use Thomas Algorithm!</li>\n",
      "    <li>What about $i=1$? $(-\\frac{2}{\\Delta x^2} + Q_1)y_1 + (\\frac{1}{\\Delta x^2} + \\frac{P_1}{2\\Delta x})y_2 = F_1 - (\\frac{1}{\\Delta x^2} - \\frac{P_1}{2\\Delta x})y_0$<br/>\n",
      "    We throw the boundary (which is a constant) to the right hand side.</li>\n",
      "    <li>Looks like $$\\begin{bmatrix}\n",
      "    a_1 & u_1 & 0   & \\ldots  &  0   & 0 \\\\\n",
      "    l_2 & a_2 & u_2 & \\ldots  &  0   & 0 \\\\\n",
      "    0   & l_3 & a_3 & \\ldots &   0   & 0 \\\\\n",
      "    \\vdots   & \\vdots&\\vdots & \\ddots & \\vdots & \\vdots\\\\\n",
      "    0   &   0 & 0   & \\ldots & a_{n-1} & u_{n-1} \\\\\n",
      "    0   &   0 &   0 & \\ldots & l_n & a_n \\end{bmatrix} \\cdot \\begin{bmatrix}y_1 \\\\ y_2 \\\\ y_3 \\\\ \\vdots \\\\ y_{n-1} \\\\ y_{n}\\end{bmatrix} = \\begin{bmatrix}F_1 - l_1 y_0 \\\\ F_2 \\\\ F_3 \\\\ \\vdots \\\\ F_{n-1} \\\\ F_{n} - u_{n} y_{n+1}\\end{bmatrix}$$\n",
      "</ul>"
     ]
    },
    {
     "cell_type": "code",
     "collapsed": false,
     "input": [],
     "language": "python",
     "metadata": {},
     "outputs": []
    }
   ],
   "metadata": {}
  }
 ]
}