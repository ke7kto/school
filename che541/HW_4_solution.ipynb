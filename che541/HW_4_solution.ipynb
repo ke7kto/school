{
 "metadata": {
  "name": "",
  "signature": "sha256:1c43336fedac505b3f0ac5e82cdce2baad62fd415c9a4d101f76163a87e45eae"
 },
 "nbformat": 3,
 "nbformat_minor": 0,
 "worksheets": [
  {
   "cells": [
    {
     "cell_type": "heading",
     "level": 1,
     "metadata": {},
     "source": [
      "Problem 1"
     ]
    },
    {
     "cell_type": "markdown",
     "metadata": {},
     "source": [
      "Read the posted solution to HW 3 and state that you did this."
     ]
    },
    {
     "cell_type": "heading",
     "level": 1,
     "metadata": {},
     "source": [
      "Problem 2"
     ]
    },
    {
     "cell_type": "markdown",
     "metadata": {},
     "source": [
      "*Solve chp 3 problem 53 of Hoffman (p. 184) using the multi-dimensional Newton\u2019s method with the starting guess x = 1, y = 2. Report the number of iterations required to reduce the relative RMS error in your roots to below a value of $tol = 1.0 \u00d7 10^{\u221214}$.\n",
      "I recommend the following structure. The solution consists of peices of code: (1) A driver script that sets the tolerance, the initial guess, and calls (2) a function called newton, taking arguements x0 and tol (the initial guess and error tolerance). The newton function should return the solution and the number of iterations. The newton function should solve the problem by iteration to convergence calling two external functions. One function (3) returns a vector of function values given a vector of input values. The other function (4) returns the Jacobian matrix, given an input vector. I am providing templates for these four functions below. Use them if you want. You could make these better by passing the function to be solved as an argument to the newton method. Also, it would be better to pass the function to be solved to the getJac function rather than hard-code the derivatives.*"
     ]
    },
    {
     "cell_type": "markdown",
     "metadata": {},
     "source": [
      "*Note, you need to define all functions before you use them.  The driver below calls newton which isn't defined yet.  But that's okay because we don't call the driver until the end. (Or just reorder the routines: f(x), then getJac, then newton, then driver*\n",
      "\n",
      "*For Matlab, these 4 functions would be four separate m files.*"
     ]
    },
    {
     "cell_type": "code",
     "collapsed": false,
     "input": [
      "%matplotlib inline\n",
      "import numpy as np\n",
      "from __future__ import division\n",
      "import matplotlib.pyplot as plt"
     ],
     "language": "python",
     "metadata": {},
     "outputs": [],
     "prompt_number": 3
    },
    {
     "cell_type": "heading",
     "level": 3,
     "metadata": {},
     "source": [
      "Driver"
     ]
    },
    {
     "cell_type": "code",
     "collapsed": false,
     "input": [
      "def driver() :\n",
      "    \n",
      "    tol = 1.0E-14            # a relative tolerance\n",
      "\n",
      "    x0 = np.array([1,2])     # an initial guess for the vector of unknowns \n",
      "    x,nit = newton(x0,tol)   # the solution is vector x\n",
      "    print 'Solution x = ', x\n",
      "    print 'f(x) = ', f(x)\n",
      "    print 'number of iterations = ', nit"
     ],
     "language": "python",
     "metadata": {},
     "outputs": [],
     "prompt_number": 4
    },
    {
     "cell_type": "heading",
     "level": 3,
     "metadata": {},
     "source": [
      "Newton function"
     ]
    },
    {
     "cell_type": "code",
     "collapsed": false,
     "input": [
      "def newton(x0,tol) :\n",
      "    \"\"\" \n",
      "    2D Newton's method\n",
      "    Input initial guess x0, and a relative error tolerance tol\n",
      "    Output solution x, and number of iterations to solution nit\n",
      "    \"\"\"\n",
      "    \n",
      "    maxit = 50     # don't do more than this many iterations\n",
      "    x     = x0     # initialize the solution x\n",
      "    \n",
      "    for nit in range(1, maxit+1) :\n",
      "        J = getJac(x)\n",
      "        rhs = -f(x)\n",
      "        dx = np.linalg.solve(J,rhs)\n",
      "        xnew = x + dx\n",
      "        err = np.sqrt(0.5*np.sum(((xnew-x)/xnew)**2))\n",
      "        x = xnew\n",
      "        if err < tol :\n",
      "            break\n",
      "        \n",
      "    return x,nit\n",
      "        "
     ],
     "language": "python",
     "metadata": {},
     "outputs": [],
     "prompt_number": 5
    },
    {
     "cell_type": "heading",
     "level": 3,
     "metadata": {},
     "source": [
      "Define function f(x)"
     ]
    },
    {
     "cell_type": "code",
     "collapsed": false,
     "input": [
      "def f(x) :\n",
      "    \"\"\" function to find root of: find x for f(x) = 0 \"\"\"\n",
      "    \n",
      "    y = np.empty(2)\n",
      "    y[0] = (2*x[0])**(2/3) + x[1]**(2/3) - 9**(1/3)\n",
      "    y[1] = x[0]*x[0]/4 + x[1]*x[1] - 1\n",
      "    \n",
      "    return y"
     ],
     "language": "python",
     "metadata": {},
     "outputs": [],
     "prompt_number": 6
    },
    {
     "cell_type": "heading",
     "level": 3,
     "metadata": {},
     "source": [
      "Define Jacobian function"
     ]
    },
    {
     "cell_type": "code",
     "collapsed": false,
     "input": [
      "def getJac(x) :\n",
      "    \"\"\" \n",
      "    Return the Jacobian matrix given vector x\n",
      "    Element J_ij is df_i/dx_j\n",
      "    Calls f(x) defined above\n",
      "    \"\"\"\n",
      "    \n",
      "    J = np.zeros((2,2))\n",
      "    J[0,0] = 2/3 * 2**(2/3)*x[0]**(-1/3)\n",
      "    J[0,1] = 2/3*x[1]**(-1./3.)\n",
      "    J[1,0] = 0.5*x[0]\n",
      "    J[1,1] = 2*x[1]\n",
      "    \n",
      "    return J"
     ],
     "language": "python",
     "metadata": {},
     "outputs": [],
     "prompt_number": 7
    },
    {
     "cell_type": "code",
     "collapsed": false,
     "input": [
      "driver()"
     ],
     "language": "python",
     "metadata": {},
     "outputs": [
      {
       "output_type": "stream",
       "stream": "stdout",
       "text": [
        "Solution x =  [ 0.58423739  0.95638207]\n",
        "f(x) =  [  0.00000000e+00   2.22044605e-16]\n",
        "number of iterations =  7\n"
       ]
      }
     ],
     "prompt_number": 8
    },
    {
     "cell_type": "heading",
     "level": 1,
     "metadata": {},
     "source": [
      "Problem 3"
     ]
    },
    {
     "cell_type": "markdown",
     "metadata": {},
     "source": [
      "*Find the numerical derivative to sin(x) at x = $\\pi$/4 using central finite differences of order 2, 4, 6, 8. Plot the absolute value of the absolute error versus the order with the y-axis on a log scale. You should create a one-dimensional grid of x-values of which $\\pi$/4 is an element, with a grid spacing of $\\pi$/4, something like this:*\n",
      "    \n",
      "    x0 = np.pi/4\n",
      "    x  = np.linspace(-2.0*np.pi,4.0*np.pi,25)\n",
      "    dx = x[1]-x[0]\n",
      "    y = np.sin(x)\n",
      "\n",
      "*Then evaluate the derivative at index i0 = 9.*\n",
      "\n",
      "*Recall, the definition of the finite difference derivative is\n",
      "$$\\frac{dy}{dx} = \\frac{1}{\\Delta x}\\sum_k a_k*y_k.$$\n",
      "So, for the second order approximation, you would use points 9, 9, and 10 in the above approach, with the required coefficients $a_k$.  The coefficients are given in the following table:*\n",
      "\n",
      "| position, k | order = 2 |   4  |     6 | 8     |\n",
      "|:-----------:|:---------:|:-:|:-:|:----:|:-----:|\n",
      "| -4          |      0    | 0    | 0     | 1/280 |\n",
      "| -3          |      0    | 0    | -1/60 | -4/105|\n",
      "| -2          |      0    | 1/12 | 3/20  | 1/5   |\n",
      "| -1          |      -1/2 | -2/3 | -3/4  | -4/5  |\n",
      "| 0           |      0    | 0    | 0     | 0     |\n",
      "| 1           |      1/2  | 2/3  | 3/4   | 4/5   |\n",
      "| 2           |      0    | -1/12| -3/20 | -1/5  |\n",
      "| 3           |      0    | 0    | 1/60  | 4/105 |\n",
      "| 4           |      0    | 0    | 0     | -1/280|\n",
      "\n",
      "In this table, k is the relative index (here k=0 is the base point where the derivative is evaluated). I recommend you populate a matrix with these values, say matrix a. Here is some code to do that (for orders 1-8):"
     ]
    },
    {
     "cell_type": "code",
     "collapsed": false,
     "input": [
      "a = np.zeros([9,8])       # fill in the finite difference coefficient matrix\n",
      "a[4:6,0] = np.array([-1,1])\n",
      "a[3:6,1] = np.array([-0.5,0,0.5])\n",
      "a[3:7,2] = np.array([-1/3,-1/2,1,-1/6])\n",
      "a[2:7,3] = np.array([1/12,-2/3,0,2/3,-1/12])\n",
      "a[2:8,4] = np.array([1/20,-1/2,-1/3,1,-1/4,1/30])\n",
      "a[1:8,5] = np.array([-1/60,3/20,-3/4,0,3/4,-3/20,1/60])\n",
      "a[0:8,6] = np.array([1/140,-1/15,3/10,-1,1/4,6/10,-1/10,1/105])\n",
      "a[:,7]   = np.array([1/280,-4/105,1/5,-4/5,0,4/5,-1/5,4/105,-1/280])"
     ],
     "language": "python",
     "metadata": {},
     "outputs": [],
     "prompt_number": 9
    },
    {
     "cell_type": "code",
     "collapsed": false,
     "input": [
      "x0 = np.pi/4               # find the derivative at this point\n",
      "der0 = np.cos(x0)          # the exact derivative\n",
      "nn = 1                     # used to set the number of points in the grid\n",
      "\n",
      "x = np.linspace(-2*np.pi, 4*np.pi, 8*nn*3+1)     # set the grid (nn=1 gives 25 points)\n",
      "dx = x[1]-x[0]             # grid spacing\n",
      "y = np.sin(x)              # define the function at the grid points\n",
      "\n",
      "i0 = np.where(x==np.pi/4) # find the base index in the grid\n",
      "i  = i0 + np.arange(-4,5)  # get the other indices of interest\n",
      "\n",
      "ders = np.empty(8)         # initialize the derivative at each order\n",
      "for j in range(8) :        # compute the derivative for each order using the provided equation\n",
      "    ders[j] = np.sum(y[i]*a[:,j]) / dx\n",
      "\n",
      "err = np.abs(ders-der0)    # evaluate the absolute value of the absolute error\n",
      "orders = np.arange(1,9)\n",
      "\n",
      "#---------- plot the results\n",
      "\n",
      "plt.rc('font', size=14)\n",
      "plt.plot(orders[np.array([0,2,4,6])], err[np.array([0,2,4,6])],'o')\n",
      "plt.plot(orders[np.array([1,3,5,7])], err[np.array([1,3,5,7])],'kv-')\n",
      "plt.yscale('log')\n",
      "plt.xlim((0,9))\n",
      "plt.ylim((1E-5,10))\n",
      "plt.xlabel('F.D. order of first derivative')\n",
      "plt.ylabel('|FD deriv. - exact deriv.|')"
     ],
     "language": "python",
     "metadata": {},
     "outputs": [
      {
       "metadata": {},
       "output_type": "pyout",
       "prompt_number": 10,
       "text": [
        "<matplotlib.text.Text at 0x1084be250>"
       ]
      },
      {
       "metadata": {},
       "output_type": "display_data",
       "png": "[encoded data removed]",
       "text": [
        "<matplotlib.figure.Figure at 0x108474510>"
       ]
      }
     ],
     "prompt_number": 10
    },
    {
     "cell_type": "markdown",
     "metadata": {},
     "source": [
      "Note that on a semilog scale the error is approximately linear, especially for the even orders.  That is, the error decreases exponentially as the order increases.  The evaluation cost only increases linearly.  This implies that for the same error, you can use a much coarser grid if evaluating derivatives numerically. "
     ]
    }
   ],
   "metadata": {}
  }
 ]
}