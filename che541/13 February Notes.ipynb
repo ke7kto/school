{
 "metadata": {
  "name": "",
  "signature": "sha256:a27ffce08fd775aa7eaad433375c902b0931f4b75c65a194ce9223927893c2ec"
 },
 "nbformat": 3,
 "nbformat_minor": 0,
 "worksheets": [
  {
   "cells": [
    {
     "cell_type": "markdown",
     "metadata": {},
     "source": [
      "<p>$$\\frac{\\partial y}{\\partial t} = -\\alpha^2 y$$\n",
      "$$\\Delta t \\leq \\frac{2}{\\alpha^2}$$\n",
      "</p><p>\n",
      "<table width=\"100%\">\n",
      "<tr><td>\n",
      "$\\Lambda = \\begin{bmatrix}\\lambda_1 \\\\ \\lambda_2 \\\\ \\ldots \\\\ \\lambda_n\\end{bmatrix}$</td><td>$\\frac{d\\vec{y}}{dt} = J\\vec{y}$</td></tr>\n",
      "<tr><td>$\\left(V^{-1} \\frac{dy}{dt}\\right) = \\Lambda\\left(V^{-1} y\\right)$</td><td>$V^{-1} y = \\hat{y}$</td></tr>\n",
      "<tr><td>$\\frac{d\\hat{y}}{dt} = \\Lambda \\hat{y}$</td><td>$\\Delta t \\leq - \\frac{2}{\\lambda_{max}}$</td></tr>\n",
      "</table>\n",
      "</p>\n",
      "$\\frac{dy}{dt} = -\\alpha t$<br/>\n",
      "$y = y_0 e^{-\\alpha t}$\n",
      "$\\tau = \\frac{\\Delta y}{\\frac{dy}{dt}\\vert_{max}} = \\frac{1}{\\alpha}$<Br/>\n",
      "\n",
      "$\\Delta t \\leq \\frac{2}{\\alpha}$"
     ]
    },
    {
     "cell_type": "code",
     "collapsed": false,
     "input": [],
     "language": "python",
     "metadata": {},
     "outputs": []
    }
   ],
   "metadata": {}
  }
 ]
}