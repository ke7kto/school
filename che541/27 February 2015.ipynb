{
 "metadata": {
  "name": "",
  "signature": "sha256:0e5036ed69c537489a700fa77a239a5914fa7fd5a71cb7a1389d03e0f395a0ae"
 },
 "nbformat": 3,
 "nbformat_minor": 0,
 "worksheets": [
  {
   "cells": [
    {
     "cell_type": "markdown",
     "metadata": {},
     "source": []
    }
   ],
   "metadata": {}
  }
 ]
}