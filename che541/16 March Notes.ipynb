{
 "metadata": {
  "name": "",
  "signature": "sha256:1b92eea26ec365e2622d6910c65df4f40b215893d7c23252a431d50b717b73c8"
 },
 "nbformat": 3,
 "nbformat_minor": 0,
 "worksheets": [
  {
   "cells": [
    {
     "cell_type": "markdown",
     "metadata": {},
     "source": [
      "<h3>Integral method</h3>\n",
      "Instead of points we have volumes, but we like to use gridpoints to represent those volumes.\n",
      "\n",
      "Take some field $f$, with the form $(0,1,0,1,0,1)$\n",
      "$\\newcommand{\\d}[2]{\\frac{\\partial #1}{\\partial #2}}$\n",
      "$$\\d{}{x} f \\xrightarrow{\\int_{cv} \\d{f}{x}dx} (f_e - f_w) = \\frac{f_E-f_P}{2} - \\frac{f_W-f_P}{2} = \\frac{f_E-f_W}{2}$$\n",
      "The problem with this is that for the field f, we obtain all zeros, which is not true.\n",
      "$\\d{(\\rho Y_i)}{x}+\\d{(V\\rho Y_i)}{x}+\\d{}{x}j_i = S_i$ \n",
      "<p>We can get around this problem by using different grids for different variables. ie, $\\rho Y_i$ and $V$ are offset by one half of a cell.\n",
      "</p>\n"
     ]
    },
    {
     "cell_type": "code",
     "collapsed": false,
     "input": [],
     "language": "python",
     "metadata": {},
     "outputs": []
    }
   ],
   "metadata": {}
  }
 ]
}