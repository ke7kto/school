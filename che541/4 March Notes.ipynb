{
 "metadata": {
  "name": "",
  "signature": "sha256:72bb07ea20f2b50df7ab347b985b5141ada93c87c1feb23063d98661abe4a11e"
 },
 "nbformat": 3,
 "nbformat_minor": 0,
 "worksheets": [
  {
   "cells": [
    {
     "cell_type": "markdown",
     "metadata": {},
     "source": [
      "$\\newcommand{\\dd}[2]{\\frac{\\partial #1}{\\partial#2}}$\n",
      "$\\newcommand{\\ddd}[3]{\\frac{\\partial^#1 #2}{\\partial#3^#1}}$\n",
      "$\\newcommand{\\dtwo}[2]{\\frac{\\partial^2  #1}{\\partial#2^2}}$\n",
      "$$\\dd{f}{t} = \\alpha \\ddd{2}{f}{x}$$<br/>\n",
      "$$f_i^{n+1} = f_i^n + \\Delta t \\alpha\\left(\\left(\\ddd{2}{f}{x}\\right)^{n+1}\\cdot \\omega + \\left(\\ddd{2}{f}{x}\\right)^n\\left(1-\\omega\\right)\\right)$$<br/>\n",
      "$$f_i^{n+1} = f_i^n + \\Delta t \\alpha\\left(\\left(f_{i-1}^{n+1}-2f_i^{n+1}+f_{i+1}^{n+1}\\right)\\cdot \\omega + \\left(f_{i-1}^n-2f_i^n+f_{i+1}^n\\right)\\left(1-\\omega\\right)\\right)$$<br/>\n",
      "$$\\left(d\\omega\\right)f_{i-1}^{n+1} - \\left(2d\\omega + 1\\right)f_i^{n+1} + \\left(d\\omega\\right)f_{i+1}^{n+1} = -d(1-\\omega)f_{i-1}^n + \\left[2d(1-\\omega)-1\\right]f_i^n + d(1-\\omega)f_{i+1}^n$$<br/>\n",
      "$$l_i f_{i-1}^{n+1} - a_i f_i^{n+1} + u_i f_{i+1}^{n+1} = b$$<br/>\n",
      "$$A\\cdot x = b$$\n",
      "<center>Use Thomas algorithm!</center>\n"
     ]
    },
    {
     "cell_type": "markdown",
     "metadata": {},
     "source": [
      "<h3>Stability</h3>\n",
      "Ex: FTCS Method on our linear PDE\n",
      "\n",
      "- $\\dd{f}{t} = \\alpha \\ddd{2}{f}{x} $\n",
      "- $f_i^{n+1} = f_i^n + \\alpha \\frac{\\Delta t}{\\Delta x^2} \\left(f_{i-1}^n - 2f_i^n + f_{i+1}^n\\right)$ \n",
      "- $d= \\frac{\\alpha\\Delta t}{\\Delta x^2} \\leq \\frac{1}{2}$\n",
      "- $\\Delta t \\leq \\gamma \\frac{1}{2}\\Delta x^2 \\alpha$\n",
      "- $\\tau = \\frac{\\Delta x^2}{\\alpha}$"
     ]
    },
    {
     "cell_type": "code",
     "collapsed": false,
     "input": [],
     "language": "python",
     "metadata": {},
     "outputs": []
    }
   ],
   "metadata": {}
  }
 ]
}