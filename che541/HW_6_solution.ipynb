{
 "metadata": {
  "name": "",
  "signature": "sha256:77f30e518fdd02aa90b90f9969fe45713ce5bce6d68c9263a247425fc150e54f"
 },
 "nbformat": 3,
 "nbformat_minor": 0,
 "worksheets": [
  {
   "cells": [
    {
     "cell_type": "heading",
     "level": 1,
     "metadata": {},
     "source": [
      "Problem 1"
     ]
    },
    {
     "cell_type": "markdown",
     "metadata": {},
     "source": [
      "*Read and understand the posted solution to HW 5.  The goal here is to see another solution besides your own, to get coding ideas, and to think about things that your or I could do better. Just state if you did this.*"
     ]
    },
    {
     "cell_type": "heading",
     "level": 1,
     "metadata": {},
     "source": [
      "Problem 2"
     ]
    },
    {
     "cell_type": "markdown",
     "metadata": {},
     "source": [
      "*Nuclear reactors generate heat by fission in tubes. The following second order ODE describes the temperature distribution in a cylinder with internal heat generation:*\n",
      "$$\\frac{d^2T}{dr^2} + \\frac{1}{r}\\frac{dT}{dr} + (1+r^2) = 0,$$\n",
      "\n",
      "$$\\frac{dT}{dr} = 0 \\mbox{   at r=0},$$\n",
      "\n",
      "$$T = 0 \\mbox{   at r=1}.$$\n",
      "\n",
      "*Here, T is the nondimensional temperature, and r is a nondimensional radius.  The exact solution is $T_e = 5/16 - r^2/4 - r^4/16.$*\n",
      "\n",
      "*Use the shooting method to solve this BVP by combining an ODE solver with a nonlinear solver.  You can use the build-in solvers for this.*"
     ]
    },
    {
     "cell_type": "code",
     "collapsed": false,
     "input": [
      "from scipy import integrate   # for integrate.odeint (see the \"crash course\" notes)\n",
      "from scipy import optimize    # for optimize.fsolve (see the \"crash course\" notes)"
     ],
     "language": "python",
     "metadata": {},
     "outputs": [],
     "prompt_number": 4
    },
    {
     "cell_type": "markdown",
     "metadata": {},
     "source": [
      "*In Matlab, use fsolve, and ode45.*\n",
      "\n",
      "*Plot the exact and numerical solutions for $T$ and $T'$.*"
     ]
    },
    {
     "cell_type": "markdown",
     "metadata": {},
     "source": [
      "----------------"
     ]
    },
    {
     "cell_type": "markdown",
     "metadata": {},
     "source": [
      "Let $z=T'$.  Then we have\n",
      "$$\\begin{align}\n",
      "\\frac{dT}{dr} &= z, \\\\\n",
      "\\frac{dz}{dr} &= -\\frac{1}{r}z - (1+r^2),\n",
      "\\end{align}$$\n",
      "with boundary conditions:\n",
      "$$z = 0 \\mbox{   at r=0},$$\n",
      "$$T = 0 \\mbox{   at r=1}.$$\n",
      "We need to guess $T$ at $r=0$ and shoot for $T=0$ at $r=1$.\n",
      "\n",
      "In the solution, we'll have a solution vector $y$ with $y[0]=T$ and $y[1]=z$.  That is $dy/dr = f(y,r)$.\n",
      "\n",
      "The shooting method will solve for $G(T_{0,g})$ = 0, where $T_{0,g}$ is the guessed temperature at $r=0$, and $G(T_{0,g})$ is the result of integrating the ODE system and taking the difference  $T_{r=1}-0$, where 0 is the desired value of $T_{r=1}$.\n",
      "\n",
      "Note, in writing the ODE rhs function, at r=0, the function is undefined with a 0/0 term.  Using L'Hopital's rule shows that this term is really just 0 in the limit of $r\\rightarrow 0$.  "
     ]
    },
    {
     "cell_type": "code",
     "collapsed": false,
     "input": [
      "import numpy as np\n",
      "%matplotlib inline\n",
      "import matplotlib.pyplot as plt"
     ],
     "language": "python",
     "metadata": {},
     "outputs": [],
     "prompt_number": 5
    },
    {
     "cell_type": "heading",
     "level": 3,
     "metadata": {},
     "source": [
      "Define the ODE rhs function for the ODE solver"
     ]
    },
    {
     "cell_type": "code",
     "collapsed": false,
     "input": [
      "def ode_rhsf(y,r) :\n",
      "    \n",
      "    dydr = np.empty(2)\n",
      "    dydr[0] = y[1]\n",
      "    if r == 0.0 :\n",
      "        dydr[1] = -0.5     # using L'Hopital's rule to fix the 0/0 at r=0\n",
      "    else :\n",
      "        dydr[1] = -1.0/r*y[1] - (1.0+r**2.0)\n",
      "    return dydr\n",
      "    "
     ],
     "language": "python",
     "metadata": {},
     "outputs": [],
     "prompt_number": 23
    },
    {
     "cell_type": "heading",
     "level": 3,
     "metadata": {},
     "source": [
      "Define the function that iterates on the guess temperature at r=0."
     ]
    },
    {
     "cell_type": "markdown",
     "metadata": {},
     "source": [
      "This solves the ODE problem, and returns the difference between the estimated $r=0$ temperature and the desired one."
     ]
    },
    {
     "cell_type": "code",
     "collapsed": false,
     "input": [
      "def F_shooting(T0g) :\n",
      "    \n",
      "    Tr1   = 0.0\n",
      "    y0    = np.array([T0g,0.0])      # initial condition\n",
      "    reval = np.array([0.0,1.0]) \n",
      "    y     = integrate.odeint(ode_rhsf, y0, reval)\n",
      "    \n",
      "    return y[-1,0] - Tr1\n",
      "    "
     ],
     "language": "python",
     "metadata": {},
     "outputs": [],
     "prompt_number": 24
    },
    {
     "cell_type": "heading",
     "level": 3,
     "metadata": {},
     "source": [
      "Now call a solver to find the $r=0$ temperature."
     ]
    },
    {
     "cell_type": "code",
     "collapsed": false,
     "input": [
      "T0g = 1.0                                         # initial guess \n",
      "T0  = optimize.newton_krylov(F_shooting, T0g)     # solve for T0  (fsolve doesn't work (?))\n",
      "print 'T0 is ', T0"
     ],
     "language": "python",
     "metadata": {},
     "outputs": [
      {
       "output_type": "stream",
       "stream": "stdout",
       "text": [
        "T0 is  0.312500007232\n"
       ]
      }
     ],
     "prompt_number": 25
    },
    {
     "cell_type": "heading",
     "level": 3,
     "metadata": {},
     "source": [
      "Now with $T_{r=0}$, find and plot the profile"
     ]
    },
    {
     "cell_type": "code",
     "collapsed": false,
     "input": [
      "r  = np.linspace(0,1,20)\n",
      "y0 = np.array([T0,0])\n",
      "y  = integrate.odeint(ode_rhsf,y0,r)\n",
      "\n",
      "T  = y[:,0]\n",
      "Tp = y[:,1]\n",
      "Te = 5.0/16.0 - r**2.0/4.0 - r**4.0/16.0\n",
      "Tpe = -0.5*r - 0.25*r**3.0\n",
      "plt.plot(r,T,  'ko', label='T')\n",
      "plt.plot(r,Te, 'k-', label='Te')\n",
      "plt.plot(r,Tp, 'bx', label='dT/dr')\n",
      "plt.plot(r,Tpe,'b-', label='dT/dr exact')\n",
      "leg = plt.legend(); leg.draw_frame(False)\n",
      "plt.ylim([-0.8,0.8])\n",
      "plt.xlabel('r')\n",
      "plt.ylabel('T, dT/dr')"
     ],
     "language": "python",
     "metadata": {},
     "outputs": [
      {
       "metadata": {},
       "output_type": "pyout",
       "prompt_number": 26,
       "text": [
        "<matplotlib.text.Text at 0x109cdc090>"
       ]
      },
      {
       "metadata": {},
       "output_type": "display_data",
       "png": "[encoded data removed]",
       "text": [
        "<matplotlib.figure.Figure at 0x109c72ed0>"
       ]
      }
     ],
     "prompt_number": 26
    },
    {
     "cell_type": "heading",
     "level": 1,
     "metadata": {},
     "source": [
      "Problem 3"
     ]
    },
    {
     "cell_type": "markdown",
     "metadata": {},
     "source": [
      "*Solve the same problem as in Problem 2 using a relaxation (equilibrium) method.  Use a grid spacing of $0.05$.  This would give a uniform grid of 21 points if $r=0$ and $r=1$ is included.  Plot the solution T as open symbols and the exact solution as a line on the same plot.You can use the built-in linear solvers if you want.  In Python: \"x = np.linalg.solve(A,b)\";  in Matlab: \"x = linsolve(A,b)\" (or some other equivalent approach).*"
     ]
    },
    {
     "cell_type": "markdown",
     "metadata": {},
     "source": [
      "------------------------"
     ]
    },
    {
     "cell_type": "markdown",
     "metadata": {},
     "source": [
      "Start with ODE:\n",
      "$$\\frac{d^2T}{dr^2} + \\frac{1}{r}\\frac{dT}{dr} + (1+r^2) = 0,$$\n",
      "Discretize derivatives with central differences:\n",
      "$$\\frac{T_{i-1}-2T_i+T_{i+1}}{\\Delta r^2} + \\frac{T_{i+1}-T_{i-1}}{2r_i\\Delta r} + r_i^2 + 1 = 0.$$\n",
      "Group terms:\n",
      "$$\n",
      "T_{i-1}\\underbrace{\\left(\\frac{1}{\\Delta r^2}-\\frac{1}{2r_i\\Delta r}\\right)}_{l_i} + \n",
      "T_i\\underbrace{\\left(-\\frac{2}{\\Delta r^2}\\right)}_{a_i} + \n",
      "T_{i+1}\\underbrace{\\left(\\frac{1}{\\Delta r^2}+\\frac{1}{2r_i\\Delta r}\\right)}_{u_i} \n",
      "= \\underbrace{-(1+r_i^2)}_{b_i}\n",
      "$$\n",
      "\n",
      "Consider the grid with n points including $r=0$ and $r=1$.  The solution will occur on points 2 to $n-1$.\n",
      "\n",
      "    |                   |\n",
      "    *   *   *   *   *   *\n",
      "    |                   |\n",
      "    1   2   3   4   5   6\n",
      "    r=0                r=1\n",
      "\n",
      "\n",
      "For the $r=1$ boundary we have $T=T_{r=1}=0$.  We don't include the last $r=1$ grid point in the unknowns, and we'll augment the last (unknown) $b$ element with $b_{n-1}=b_{n-l} - l_{n-1}T_{r=1}$.  \n",
      "\n",
      "For the $r=0$ boundary, we have $dT/dr=T^{\\prime}_0 = 0$.  Again, the first unknown is $T_2$.  The neighbor $T_1$ is unknown, and we solve for it by a simple finite difference approximation to the $r=0$ Neumann condition: $T_1 = T_2 - \\Delta rT^{\\prime}_0$. In the equation for $T_2$, we'll have to augment the coefficient for $T_2$ (which is $a_2$) by $l_2$, and augment $b_2$ by $\\Delta rT^{\\prime}_0l_2$.  \n",
      "\n",
      "Of course, in Python, the numbering starts at 0, and if we don't include boundaries in the unknowns, then $b_2$ above is $b_0$ in Python, and $b_{n-1}$ above is $b[-1]$ in Python, etc.\n",
      "\n",
      "Note, we could also just include $T_{r=0}$ in the list of unknowns and add its equation $T_1-T_2 = -\\Delta rT^{\\prime}_0$ to the list.\n",
      "\n",
      "In the method described and used here, we solve for $T$ at the interior points, then compute $T_{r=0}$ from the discritized BC in terms of its now known neighbor, and form the array of all temperatures including the two boundaries. \n",
      "\n",
      "Note, given that we are using second order approximations to the derivatives for the ODE, it would seem that we should probably use a second order one-sided approximation to the Neumann condition.  This would give augemented coefficients for two interior grid points, but the approach is the same.  However, boundary conditions only need to be one order of accuracy below the interior stencil to maintain the global order of accuracy of the scheme.  (The method below was empirically verified to be second order accurate.)\n"
     ]
    },
    {
     "cell_type": "code",
     "collapsed": false,
     "input": [
      "#---------- Set parameters\n",
      "\n",
      "npts  = 21\n",
      "r     = np.linspace(0,1.0,npts)\n",
      "nvar  = npts - 2\n",
      "dr    = r[1] - r[0]\n",
      "Tr1   = 0.0\n",
      "dTdr0 = 0.0\n",
      "\n",
      "#---------- Set coefficient arrays\n",
      "\n",
      "l = np.ones(nvar) * (1.0/dr**2.0 - 0.5/r[1:-1]/dr)        # don't include l[0] in A \n",
      "a = np.ones(nvar) * -2.0/dr**2.0\n",
      "u = np.ones(nvar) * (1.0/dr**2.0 + 0.5/r[1:-1]/dr)        # don't include u[-1] in A\n",
      "b = np.ones(nvar) * -(1.0+r[1:-1]**2.0)\n",
      "#---------- Fix for the boundaries\n",
      "b[0]  = b[0]  + dr*dTdr0*(1.0/dr**2.0 - 0.5/r[1] /dr)\n",
      "a[0]  = a[0]  +          (1.0/dr**2.0 - 0.5/r[1] /dr)\n",
      "b[-1] = b[-1] -      Tr1*(1.0/dr**2.0 + 0.5/r[-1]/dr) \n",
      "\n",
      "#---------- Build the matrix\n",
      "\n",
      "A = np.diag(l[1:],-1) + np.diag(a,0) + np.diag(u[:-1],1)\n",
      "\n",
      "#---------- Solve and plot\n",
      "\n",
      "T  = np.linalg.solve(A,b)\n",
      "T0 = T[0] - dr*dTdr0\n",
      "T  = np.hstack([T0,T,Tr1])\n",
      "Te = Te = 5.0/16.0 - r**2.0/4.0 - r**4.0/16.0\n",
      "\n",
      "plt.plot(r,T, 'ko', label='T')\n",
      "plt.plot(r,Te,'k-', label='Te')\n",
      "leg = plt.legend(); leg.draw_frame(False)\n",
      "plt.xlabel('r')\n",
      "plt.ylabel('T')\n"
     ],
     "language": "python",
     "metadata": {},
     "outputs": [
      {
       "metadata": {},
       "output_type": "pyout",
       "prompt_number": 10,
       "text": [
        "<matplotlib.text.Text at 0x109772ad0>"
       ]
      },
      {
       "metadata": {},
       "output_type": "display_data",
       "png": "[encoded data removed]",
       "text": [
        "<matplotlib.figure.Figure at 0x10977d590>"
       ]
      }
     ],
     "prompt_number": 10
    },
    {
     "cell_type": "code",
     "collapsed": false,
     "input": [],
     "language": "python",
     "metadata": {},
     "outputs": [],
     "prompt_number": 10
    }
   ],
   "metadata": {}
  }
 ]
}