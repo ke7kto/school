{
 "metadata": {
  "name": "",
  "signature": "sha256:de96ce309a211b182e39c3d2ad2551d4a4ff08297b1f4304509c92f69ff2e324"
 },
 "nbformat": 3,
 "nbformat_minor": 0,
 "worksheets": [
  {
   "cells": [
    {
     "cell_type": "markdown",
     "metadata": {},
     "source": [
      "<ul>\n",
      "<li>Interpolation\n",
      "<ul>\n",
      "<li>Polynomial<ul><li>High order does not imply high accuracy, especially for interpolating functions.</li>\n",
      "<li>$P(x) = ax^2 + bx+c$<br/>\n",
      "$y_1 = ax_1^2 + bx_1 + c$<br/>\n",
      "$y_2 = ax_2^2 + bx_2 + c$<br/>\n",
      "$y_3 = ax_3^2 + bx_3 + c$<br/>\n",
      "</li>\n",
      "<li>Lagrange: $$P(x) = \n",
      "\\frac{(1)(x-x_2)(x-x_3)(x-x_4)}{(1)(x_1-x_2)(x_1-x_3)(x_1-x_4)}\\cdot y_1 + \n",
      "\\frac{(x-x_1)(1)(x-x_3)(x-x_4)}{(x_2-x_1)(1)(x_2-x_3)(x_2-x_4)}\\cdot y_2 + \n",
      "\\frac{(x-x_1)(x-x_2)(1)(x-x_4)}{(x_3-x_1)(x_3-x_2)(1)(x_3-x_4)}\\cdot y_3 + \n",
      "\\frac{(x-x_1)(x-x_2)(x-x_3)(1)}{(x_4-x_1)(x_4-x_2)(x_4-x_3)(1)}\\cdot y_4\n",
      "$$</ul></li>\n",
      "<li>Linear<ul>\n",
      "<li>Draw straight lines between points</li>\n",
      "<li>$y = y_i + \\frac{y_{i+1}-y_i}{x_{i+1}-x_{i}}\\left(x - x_i\\right)$</li>\n",
      "</ul></li>\n",
      "<li>Cubic Spline<ul>\n",
      "<li>Fit low order polynomial through the data in each segment</li>\n",
      "<li>Take for example: $(x_1,y_1),(x_2,y_2),(x_3,y_3),(x_4,y_4),(x_5,y_5)$</li>\n",
      "<li>$P = ax^3 + bx^2 + cx +d$</li>\n",
      "<li>4 Intervals</li>\n",
      "<li>4 coefficients on each interval</li>\n",
      "<li>This means 16 unknowns</li>\n",
      "<li>Each spline should pass through its two edges $\\rightarrow 2n = 8$</li>\n",
      "<li>1st derivative at interior points should be the same $\\rightarrow n-1 = 3$</li>\n",
      "<li>2nd derivative at interior points should be the same $\\rightarrow n-1 = 3$</li>\n",
      "<li>$y_n^{\\prime\\prime} = 0, y_0^{\\prime\\prime}=0$ $\\rightarrow 2 = 2$</li>\n",
      "<li>We now have 16 equations and 16 unknowns</li>\n",
      "<li>Nobody really does that! the equation is $(x_i - x_{i-1})f^{\\prime\\prime}_{i-1} + 2(x_{i+1} - x_{i-1})f_i^{\\prime\\prime} + (x_{i+1}-x_i)f_{i+1}^{\\prime\\prime} = 6\\left[\\frac{f_{i+1}-f_i}{x_{i+1}-x_i} - \\frac{f_i-f_{i-1}}{x_i-x_{i-1}}\\right]$\n",
      "</ul></li>\n",
      "\n",
      "</ul></li>\n",
      "<li>Curve Fitting<ul>\n",
      "<li>Normally, you need to set the <span style=\"text-decoration: underline\">form</span> of the curve.</li>\n",
      "<li>How it works example: $f(x) = ax^2 + bx + c$</li>\n",
      "<li>We would like to minimize the error, so we sum the squared errors to force them to be positive.</li>\n",
      "<li>Define $E\\equiv \\sum\\limits_i \\epsilon_i^2$</li>\n",
      "<li>for $a,b,c$, \n",
      "<table><tr><td>$E$</td><td>$E = \\sum 2(ax_i^2 + bx_i + c - y_i)^2$</td></tr>\n",
      "<tr><td>$\\frac{\\partial E}{\\partial a} = 0$</td><td>$0 = \\sum 2(ax_i^2 + bx_i + c - y_i)x_i^2$</td></tr>\n",
      "<tr><td>$\\frac{\\partial E}{\\partial b} = 0$</td><td>$0 = \\sum 2(ax_i^2 + bx_i + c - y_i)x_i$</td></tr>\n",
      "<tr><td>$\\frac{\\partial E}{\\partial c} = 0$</td><td>$0 = \\sum 2(ax_i^2 + bx_i + c - y_i)$</td></tr></table>\n",
      "</ul></li>\n",
      "</ul>"
     ]
    },
    {
     "cell_type": "code",
     "collapsed": false,
     "input": [],
     "language": "python",
     "metadata": {},
     "outputs": []
    }
   ],
   "metadata": {}
  }
 ]
}