{
 "metadata": {
  "name": ""
 },
 "nbformat": 3,
 "nbformat_minor": 0,
 "worksheets": [
  {
   "cells": [
    {
     "cell_type": "markdown",
     "metadata": {},
     "source": [
      "<p>Test next week</p>\n",
      "<ul>\n",
      "<li>Study early</li>\n",
      "<li>Take home</li>\n",
      "<li>This is a graduate level class, so there is more flexibility in how we do things. Exams are university mandated assessment tools. Form insight as was done in the notes. Look at how things behave w/ roundoff error, order of accuracy. Write down any time anywhere Newton's method, Euler's method, taylor's series, dense matrices vs sparse matrices, diagonally dominant matrices. Class time will either be cancelled, or for review and discussion</li>\n",
      "</ul>\n",
      "<h1>Runga Kutta</h1>\n",
      "Marching method, start where you're at, move somewhere else.\n",
      "<ul><li>$y_{n+1} = y_n + \\Delta y_n = (\\sum\\limits_i^n c_i\\Delta y_i)$</li>\n",
      "<li>2nd order</li>\n",
      "<li>$y_{n+1} = y_n + c_1 \\Delta y_1 + c_2 \\Delta y_2$</li>\n",
      "<li>$\\Delta y_1 = h f(y_n)$</li>\n",
      "<li>$\\Delta y_2 = h f(y_n + \\beta \\Delta y_1)$</li>\n",
      "<li>$y_n+1 = y_n + c_1 h f(y_n) + c_2 h f (y_n + \\beta \\Delta y_1)$<br/>\n",
      "$=f_n + \\beta \\Delta y_1 \\frac{\\partial f}{partial y}|_n + O(h^2)$<br/>\n",
      "$= f_n + \\beta h f_n f_{yn} + O(h^2)$</li>\n",
      "<li>$y_{m+1} = y_n+f_n h(c_1 + c_2 + \\beta h^2 c_2 f_n f_{y,n})$</li>\n",
      "</ul>\n",
      "<p>There are a couple of papers by Kennedy and Carpenter that go over Runga Kutta methods</p>\n",
      "<p>Adams Multon- Adams Bashforth methods are good too. They go over four old points, and still give you a 4th order RK Method.</p>\n",
      "<ol><li>How do we deal with higher derivatives?<ul>\n",
      "<li>$y^{\\prime\\prime} = f(t,y,y^\\prime)$</li>\n",
      "<li>$y^{\\prime\\prime} = f(t,y,y^\\prime)$</li>\n",
      "<li>Solve the 1st derivative and the function simultaneously</li>\n",
      "<li>Let $z = y^\\prime$</li>\n",
      "<li>Then $z^\\prime = y^{\\prime\\prime}$</li>\n",
      "<li>$z^\\prime + az + by = c$</li>\n",
      "<li>$y^\\prime =z$</li>\n",
      "<li>Third order will have you substitute twice</li>\n",
      "<li>$y(0),z(0)$ are necessary</li>\n",
      "</ul>\n",
      "<li>What if you want to change your step size?<ul>\n",
      "<li>Suppose you know the error $\\Delta \\given h_1$</li>\n",
      "<li>Then you have some tolerance $|\\Delta | \\leq \\epsilon = atol + |y| \\cdot rtol$</li>\n",
      "<li>If I have a fourth order method, $\\Delta\\approx O(h^5)$</li>\n",
      "<li>$\\frac{\\Delta_2}{\\Delta_1} = \\frac{\\epsilon}{\\Delta_1} = \\left(\\frac{h_2}{h_1}\\right)^5$</li>\n",
      "<li>Where $h_1$ was the step you took, $h_2$ is the step you should've taken to get the desired error, $\\epsilon$ is the desired error, and $\\Delta_1$ is the error you got.</li>\n",
      "<li>$h_2 = h_1 \\left(\\frac{\\epsilon}{\\Delta_1}\\right)^\\frac{1}{5}$</li>\n",
      "</ul>\n",
      "</li>\n",
      "</ol>\n"
     ]
    },
    {
     "cell_type": "code",
     "collapsed": false,
     "input": [
      "x=np.linspace(0,10)\n",
      "y = (np.exp(0.5*x)+3)/np.exp(x)\n",
      "plt.plot(x,y)"
     ],
     "language": "python",
     "metadata": {},
     "outputs": [
      {
       "metadata": {},
       "output_type": "pyout",
       "prompt_number": 3,
       "text": [
        "[<matplotlib.lines.Line2D at 0x7f1b9cd88a20>]"
       ]
      },
      {
       "metadata": {},
       "output_type": "display_data",
       "png": "[encoded data removed]",
       "text": [
        "<matplotlib.figure.Figure at 0x7f1b9cdac518>"
       ]
      }
     ],
     "prompt_number": 3
    },
    {
     "cell_type": "code",
     "collapsed": false,
     "input": [],
     "language": "python",
     "metadata": {},
     "outputs": []
    }
   ],
   "metadata": {}
  }
 ]
}