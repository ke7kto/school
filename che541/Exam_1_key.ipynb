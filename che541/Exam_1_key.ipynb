{
 "metadata": {
  "name": "",
  "signature": "sha256:6422e51a7c0dbee0a6cac59bb65226347d64f5f03bdbe6078db345a65528fe93"
 },
 "nbformat": 3,
 "nbformat_minor": 0,
 "worksheets": [
  {
   "cells": [
    {
     "cell_type": "heading",
     "level": 1,
     "metadata": {},
     "source": [
      "ChEn 541: Exam 1: Winter 2015"
     ]
    },
    {
     "cell_type": "heading",
     "level": 1,
     "metadata": {},
     "source": [
      "Due Friday October 20, BEFORE 9:00 AM"
     ]
    },
    {
     "cell_type": "heading",
     "level": 1,
     "metadata": {},
     "source": [
      "Problem 1"
     ]
    },
    {
     "cell_type": "heading",
     "level": 2,
     "metadata": {},
     "source": [
      "Closed Book, Notes, Internet."
     ]
    },
    {
     "cell_type": "heading",
     "level": 3,
     "metadata": {},
     "source": [
      "Part a"
     ]
    },
    {
     "cell_type": "markdown",
     "metadata": {},
     "source": [
      "If a stepsize of 0.25 seconds is needed to achieve a given integration accuracy using the Modified Euler method, what stepsize would be needed to get the same accuracy using the fourth order Runge Kutta method?"
     ]
    },
    {
     "cell_type": "markdown",
     "metadata": {},
     "source": [
      "<font color=blue>\n",
      "$\\epsilon\\sim O(h_4^4)$ and $\\epsilon\\sim O(h_2^2)$. Solve for $h_4 = h_2^{1/2}$. So, $h_4 = 0.5$. \n",
      "</font>"
     ]
    },
    {
     "cell_type": "heading",
     "level": 3,
     "metadata": {},
     "source": [
      "Part b"
     ]
    },
    {
     "cell_type": "markdown",
     "metadata": {},
     "source": [
      "Write down the formula for the Modified Midpoint method."
     ]
    },
    {
     "cell_type": "markdown",
     "metadata": {},
     "source": [
      "<font color=blue>\n",
      "*For the ODE: $dy/dt = f(y,t)$, take a half Euler step to the midpoint, then do a whole step with the slope evaluated at the midpoint:*\n",
      "\n",
      "*$$y_{n+1/2}^* = y_n + \\frac{\\Delta t}{2}f(y_n,t_n)$$*\n",
      "*$$y_{n+1} = y_n + \\Delta t f(y_{n+1/2}^*,t_n+\\Delta t/2)$$*\n",
      "</font>"
     ]
    },
    {
     "cell_type": "heading",
     "level": 3,
     "metadata": {},
     "source": [
      "Part c"
     ]
    },
    {
     "cell_type": "markdown",
     "metadata": {},
     "source": [
      "For each of the following curves/methods, show graphically the progression of the solution for the root.  Continue the labelling: a, b, c, d, e, etc.  The starting points a (and optionally b) are given. "
     ]
    },
    {
     "cell_type": "markdown",
     "metadata": {},
     "source": [
      "<img src=\"fig1b.png\">"
     ]
    },
    {
     "cell_type": "heading",
     "level": 3,
     "metadata": {},
     "source": [
      "Part d"
     ]
    },
    {
     "cell_type": "markdown",
     "metadata": {},
     "source": [
      "What is the reasonable range of $\\omega$ for the SOR method? "
     ]
    },
    {
     "cell_type": "markdown",
     "metadata": {},
     "source": [
      "<font color=blue>*1 to 2.*</font>"
     ]
    },
    {
     "cell_type": "heading",
     "level": 3,
     "metadata": {},
     "source": [
      "Part e"
     ]
    },
    {
     "cell_type": "markdown",
     "metadata": {},
     "source": [
      "How does the cost of Gauss elimination scale with the number of unknowns?  What about the Thomas Algorithm?"
     ]
    },
    {
     "cell_type": "markdown",
     "metadata": {},
     "source": [
      "<font color=blue>*Gauss elimination cost scales as $n^3$. The Thomas Algorithm cost scales as $n$.  This is a big deal.*</font>"
     ]
    },
    {
     "cell_type": "heading",
     "level": 3,
     "metadata": {},
     "source": [
      "Part f"
     ]
    },
    {
     "cell_type": "markdown",
     "metadata": {},
     "source": [
      "When performing floating point operations, which of the following would you expect to present more roundoff error problems: (a) forming the product of some number of numbers; (b) forming the sum of some number of numbers."
     ]
    },
    {
     "cell_type": "markdown",
     "metadata": {},
     "source": [
      "<font color=blue>*The sum is more prone to roundoff than the product.*</font>"
     ]
    },
    {
     "cell_type": "heading",
     "level": 3,
     "metadata": {},
     "source": [
      "Part g"
     ]
    },
    {
     "cell_type": "markdown",
     "metadata": {},
     "source": [
      "Derive a second order accurate finite difference (FD) approximation of the derivative $f^{\\prime}(x)$, evaluated at point 0.  The FD approximation should be written only in terms of points 0, 1, and 2.  You will need to write Taylor series about points 1 and 2, evaluated at the wall.\n",
      "<img src=\"fig2.png\">"
     ]
    },
    {
     "cell_type": "markdown",
     "metadata": {},
     "source": [
      "<font color=blue>\n",
      "*Finite difference about point 0, evaluated at point 1:\n",
      "$$f_1 = f_0 + f'_0(\\Delta x) + \\frac{1}{2}f''_0(\\Delta x^2) + \\frac{1}{6}f'''_0(\\Delta x^3) + O(\\Delta x^4).$$*\n",
      "\n",
      "*Finite difference about point 2, evaluated at point 0:\n",
      "$$f_2 = f_0 + f'_0(2\\Delta x) + \\frac{1}{2}f''_0(4\\Delta x^2) + \\frac{1}{6}f'''_0(8\\Delta x^3) + O(\\Delta x^4).$$*\n",
      "\n",
      "*We want to keep the $f'$, and the points $f_0$, $f_1$, and $f_2$, but cancel the $f''$ terms, leaving $O(\\Delta x^3)$ terms.  Then when we divide through by the $\\Delta x$ coefficient of $f'$, the $O(\\Delta x^3)$ terms will become an $O(\\Delta x^2)$ error term.*\n",
      "\n",
      "*The second equation minus 4 times the first will do it:\n",
      "$$f'_0 = \\frac{3f_0 - 4f_1+f_2}{-2\\Delta x}.$$*\n",
      "</font>"
     ]
    },
    {
     "cell_type": "heading",
     "level": 3,
     "metadata": {},
     "source": [
      "Part h"
     ]
    },
    {
     "cell_type": "markdown",
     "metadata": {},
     "source": [
      "What method would you use to solve each of the following linear systems: (a) A tridiagonal system of 1 million equations; (b) A heptadiagonal (7 diagonals of the matrix have elements, the rest are zero) system of 1 million equations; (c) a sparse system of 1 million equations; (d) a dense system (matrix) with 50 equations."
     ]
    },
    {
     "cell_type": "markdown",
     "metadata": {},
     "source": [
      "<font color=blue>*(a) Thomas Algorithm; (b) Gauss-Seidel or SOR; (c) Gauss-Seidel or SOR; (d) Gauss elimination or LU decomposition.*</font>"
     ]
    },
    {
     "cell_type": "heading",
     "level": 3,
     "metadata": {},
     "source": [
      "Part i"
     ]
    },
    {
     "cell_type": "markdown",
     "metadata": {},
     "source": [
      "Which method is less expensive to compute: Gauss elimination, or LU decomposition?  Then give a reason why you would ever use the more expensive one."
     ]
    },
    {
     "cell_type": "markdown",
     "metadata": {},
     "source": [
      "<font color=blue>*Gauss elimination is less expensive, but LU is allows fast computation when multiple b are used with the same A.*</font>"
     ]
    },
    {
     "cell_type": "heading",
     "level": 3,
     "metadata": {},
     "source": [
      "Part j"
     ]
    },
    {
     "cell_type": "markdown",
     "metadata": {},
     "source": [
      "Why are stiff ODE systems hard to solve? "
     ]
    },
    {
     "cell_type": "markdown",
     "metadata": {},
     "source": [
      "<font color=blue>*Require very small (maybe too small) steps for explicit methods.  The stepsize for accuracy may be much larger than that required for stability, which increases the computational cost.*</font>"
     ]
    },
    {
     "cell_type": "heading",
     "level": 3,
     "metadata": {},
     "source": [
      "Part k"
     ]
    },
    {
     "cell_type": "markdown",
     "metadata": {},
     "source": [
      "What kind of solution approach do we usually have to use to solve stiff systems?"
     ]
    },
    {
     "cell_type": "markdown",
     "metadata": {},
     "source": [
      "<font color=blue>*Implicit methods are usually required.  One can also explicitly remove the stiffness from the problem formulation, then solve the modified set of equations.*</font>"
     ]
    },
    {
     "cell_type": "heading",
     "level": 3,
     "metadata": {},
     "source": [
      "Part l"
     ]
    },
    {
     "cell_type": "markdown",
     "metadata": {},
     "source": [
      "Write the formula used for Numerically computing the $J_{i,j}$ element of the Jacobian matrix as relates to solving the ODE system: $dy/dt = f(y)$.  Make sure you include how to compute the stepsize."
     ]
    },
    {
     "cell_type": "markdown",
     "metadata": {},
     "source": [
      "<font color=blue>*$J_{i,j} = \\frac{\\partial f_{i}}{\\partial x_j}\\approx\\frac{f(x+dx)-f(x)}{h}$, where $h=x_i\\sqrt{\\epsilon_{mach}}$, and $dx_i = h, dx_{j\\ne i}=0$.*</font>"
     ]
    },
    {
     "cell_type": "heading",
     "level": 1,
     "metadata": {},
     "source": [
      "Problem 2"
     ]
    },
    {
     "cell_type": "heading",
     "level": 2,
     "metadata": {},
     "source": [
      "Open book, open notes.  Closed homework, homework solutions, and closed code examples.  You may use the internet for Matlab and Python help only."
     ]
    },
    {
     "cell_type": "heading",
     "level": 3,
     "metadata": {},
     "source": [
      "Part a"
     ]
    },
    {
     "cell_type": "markdown",
     "metadata": {},
     "source": [
      "A chemical reaction occurs in a continuous stirred tank reactor (CSTR).  There is an inlet, and an outlet.  The contents are perfectly mixed and the outlet composition is the same as the reactor composition.\n",
      "\n",
      "The reactions are \n",
      "\n",
      "A + B --> C  (reaction 1)\n",
      "\n",
      "B + C --> D  (reaction 2)\n",
      "\n",
      "The reaction rates for the species are given by \n",
      "$$\\begin{align} \n",
      "r_A &= -k_1[A][B] \\\\\n",
      "r_B &= -k_1[A][B] - k_2[B][C] \\\\\n",
      "r_C &= k_1[A][B] - k_2[B][C] \\\\\n",
      "r_D &= k_2[B][C]\n",
      "\\end{align}$$\n",
      "\n",
      "The mass balance for each species in the CSTR is \n",
      "$$ \\frac{d[Y]}{dt} = \\frac{[Y]_{in}-[Y]}{\\tau} + r,$$\n",
      "where $[Y]$ is one of $[A]$, $[B]$, $[C]$, or $[D]$.  Also, $\\tau$ is the residence time in the reactor (volume divided by volumetric flow rate)."
     ]
    },
    {
     "cell_type": "markdown",
     "metadata": {},
     "source": [
      "Solve for the concentrations $[Y]$ as functions of time to an end time of $5\\tau$ as described below. Also solve for the selectivity $S=C/(C+D)$, where C is a desired product and D is undesired. (This is initially undefined, so set the initial selectivity to 1.0.\n",
      "\n",
      "\n",
      "The initial concentration in the tank is $[B]_0 = 1.0$ and all other species are zero.\n",
      "\n",
      "The inlet concentrations are $[A]_{in} = 1.0$, and $[B]_{in} = 1.0$.\n",
      "\n",
      "Take $\\tau=10.0$, $k_1=1.0$, $k_2=5.0$.  Use an initial stepsize of $dt=0.01$.\n",
      "\n",
      "You should plot the concentrations and selectivity on the same plot.  (Include a legend.)  Use a linestyle that includes symbols so the step size is clear.  On a separate plot, show the stepsize versus time.  Use a log scale for the stepsize.\n",
      "\n",
      "You should solve the problem using the Implicit Euler method.  This is a nonlinear, multidimensional problem.  You will need a nonlinear solver. Use Newton's method with an analytic Jacobian.  You can use a built-in (Matlab or Python) linear solver. Set the step size using the step doubling technique.  Use a relative tolerance of 0.005 for all error testing, and use the 2-norm.  You may want to solve this in steps, making sure things work before adding complexity."
     ]
    },
    {
     "cell_type": "markdown",
     "metadata": {},
     "source": [
      "----------------"
     ]
    },
    {
     "cell_type": "markdown",
     "metadata": {},
     "source": [
      "<font color=blue>\n",
      "Solution:\n",
      "</font>"
     ]
    },
    {
     "cell_type": "code",
     "collapsed": false,
     "input": [
      "%matplotlib inline\n",
      "import matplotlib.pyplot as plt\n",
      "import numpy as np"
     ],
     "language": "python",
     "metadata": {},
     "outputs": [],
     "prompt_number": 2
    },
    {
     "cell_type": "markdown",
     "metadata": {},
     "source": [
      "<font color=blue>\n",
      "Set some global parameters\n",
      "</font>"
     ]
    },
    {
     "cell_type": "code",
     "collapsed": false,
     "input": [
      "tau = 10.0\n",
      "y0 = np.array([0.0,1.0,0,0])\n",
      "yin = np.array([1.0,1.0,0,0])\n",
      "k1 = 1.0\n",
      "k2 = 5.0\n",
      "tol = 5.0E-4"
     ],
     "language": "python",
     "metadata": {},
     "outputs": [],
     "prompt_number": 3
    },
    {
     "cell_type": "markdown",
     "metadata": {},
     "source": [
      "<font color=blue>\n",
      "Funtion to take a single step.  This will call a nonlinear solver, and vary the stepsize by step-doubling to achieve a desired step error\n",
      "</font>"
     ]
    },
    {
     "cell_type": "code",
     "collapsed": false,
     "input": [
      "def take_IE_Step(yn,dtTry) :\n",
      "    \n",
      "    maxTry = 10\n",
      "    \n",
      "    for itry in range(maxTry) :\n",
      "    \n",
      "        ytry_full = newton(yn,dtTry)\n",
      "        dtHalf    = dtTry*0.5\n",
      "        ytry_half = newton(yn,dtHalf)\n",
      "        ytry_half = newton(ytry_half,dtHalf)\n",
      "        \n",
      "        rerr  = np.linalg.norm(ytry_half-ytry_full)/np.linalg.norm(ytry_half)\n",
      "        dtTry = dtTry*(tol/rerr)**(1.0/2.0)\n",
      " \n",
      "        if rerr <= 1.05*tol :      # try with the print stmts and 1.05 as 1.0\n",
      "            #print 'done ', rerr, itry\n",
      "            break\n",
      "        #print rerr, itry\n",
      "    \n",
      "    return ytry_half, dtTry\n",
      "    "
     ],
     "language": "python",
     "metadata": {},
     "outputs": [],
     "prompt_number": 4
    },
    {
     "cell_type": "markdown",
     "metadata": {},
     "source": [
      "<font color=blue>\n",
      "Function to give the RHS of the set of ODEs given in the problem statement,\n",
      "$$ \\frac{d[Y]}{dt} = \\frac{[Y]_{in}-[Y]}{\\tau} + r.$$\n",
      "</font>"
     ]
    },
    {
     "cell_type": "code",
     "collapsed": false,
     "input": [
      "def fode(y) :\n",
      "    rr = np.empty(4)\n",
      "    rr[0] = -k1*y[0]*y[1]\n",
      "    rr[1] = -k1*y[0]*y[1]-k2*y[1]*y[2]\n",
      "    rr[2] = k1*y[0]*y[1]-k2*y[1]*y[2]\n",
      "    rr[3] = k2*y[1]*y[2]\n",
      "\n",
      "    return (yin-y)/tau + rr\n",
      "    "
     ],
     "language": "python",
     "metadata": {},
     "outputs": [],
     "prompt_number": 5
    },
    {
     "cell_type": "markdown",
     "metadata": {},
     "source": [
      "<font color=blue>\n",
      "Fnewton function is the $F(y_{n+1})=0$ function solved for the next IE step. The IE method for\n",
      "$dy/dt = f_{ode}(y)$ is $y_{n+1} = y_n + dt*f_{ode}(y_{n+1})$, so $F(y_{n+1}) = y_n+dt*f_{ode}(y_{n+1})-y_{n+1}=0$.\n",
      "</font>"
     ]
    },
    {
     "cell_type": "code",
     "collapsed": false,
     "input": [
      "def Fnewton(yn, y, dt) :\n",
      "    return yn + dt*fode(y) - y"
     ],
     "language": "python",
     "metadata": {},
     "outputs": [],
     "prompt_number": 6
    },
    {
     "cell_type": "markdown",
     "metadata": {},
     "source": [
      "<font color=blue>\n",
      "Function to compute an analytic Jacobian of $F(y_{n+1})$.  Here, $J_{i,j} = {\\partial F_i}/{\\partial y_{j,n+1}}.$ \n",
      "</font>"
     ]
    },
    {
     "cell_type": "code",
     "collapsed": false,
     "input": [
      "def getJac(yn,y,dt) :\n",
      "    \n",
      "    j00 = -dt/tau - dt*k1*y[1] - 1.0\n",
      "    j01 = -dt*k1*y[0]\n",
      "    j02 = 0.0\n",
      "    j03 = 0.0\n",
      "    \n",
      "    j10 = -dt*k1*y[1]\n",
      "    j11 = -dt/tau - dt*k1*y[0]-dt*k2*y[2] - 1.0\n",
      "    j12 = -dt*k2*y[1]\n",
      "    j13 = 0.0\n",
      "    \n",
      "    j20 = dt*k1*y[1]\n",
      "    j21 = dt*k1*y[0] - dt*k2*y[2]\n",
      "    j22 = -dt/tau - dt*k2*y[1] - 1.0\n",
      "    j23 = 0.0\n",
      "    \n",
      "    j30 = 0.0\n",
      "    j31 = dt*k2*y[2]\n",
      "    j32 = dt*k2*y[1]\n",
      "    j33 = -dt/tau - 1.0\n",
      "    \n",
      "    return np.array([[j00,j01,j02,j03],[j10,j11,j12,j13],[j20,j21,j22,j23],[j30,j31,j32,j33]])\n",
      "    "
     ],
     "language": "python",
     "metadata": {},
     "outputs": [],
     "prompt_number": 7
    },
    {
     "cell_type": "markdown",
     "metadata": {},
     "source": [
      "<font color=blue>\n",
      "Here is the newton solver.\n",
      "</font>"
     ]
    },
    {
     "cell_type": "code",
     "collapsed": false,
     "input": [
      "def newton(yn,dt) :\n",
      "    maxit = 100\n",
      "    yk = yn.copy()\n",
      "    newton_tol = 1.0E-6\n",
      "    for it in range(maxit-1) :\n",
      "        J  = getJac(yn,yk,dt)\n",
      "        dy = np.linalg.solve(J,-Fnewton(yn,yk,dt))\n",
      "        ykp1 = yk + dy\n",
      "        if np.linalg.norm(ykp1-yk) <= newton_tol*np.linalg.norm(ykp1) :\n",
      "            break\n",
      "        yk = ykp1.copy()\n",
      "        if it == maxit-1 :\n",
      "            print('warning in newton: maxit reached')\n",
      "    return ykp1\n",
      "    "
     ],
     "language": "python",
     "metadata": {},
     "outputs": [],
     "prompt_number": 8
    },
    {
     "cell_type": "markdown",
     "metadata": {},
     "source": [
      "<font color=blue>\n",
      "This is the main driver program.  It loops over timesteps, taking a single IE step at each time, then plotting the results.\n",
      "</font>"
     ]
    },
    {
     "cell_type": "code",
     "collapsed": false,
     "input": [
      "#------------- Set some parameters\n",
      "\n",
      "dt = 0.01 #0.05 * 1.0/np.max([1.0/tau,k1,k2])\n",
      "ntau = 5\n",
      "tend = ntau*tau\n",
      "t = np.array([0.0])\n",
      "ysol = y0.copy()\n",
      "yn   = y0.copy()\n",
      "\n",
      "#-------------- Loop over the times\n",
      "\n",
      "while t[-1] <= tend :\n",
      "    ynp1,dt = take_IE_Step(yn,dt)\n",
      "    ysol = np.vstack([ysol,ynp1])\n",
      "    t = np.append(t,t[-1]+dt)\n",
      "    yn = ynp1.copy()\n",
      "    \n",
      "sel = ysol[:,2]/(ysol[:,2]+ysol[:,3])       # compute the selectivity\n",
      "sel[0] = 1.0                                # undefined at t=0, but sel(0) = 1.0\n",
      "\n",
      "#-------------- Plot the results\n",
      "    \n",
      "plt.plot(t,ysol[:,0],'.',label='A')\n",
      "plt.plot(t,ysol[:,1],label='B')\n",
      "plt.plot(t,ysol[:,2],label='C')\n",
      "plt.plot(t,ysol[:,3],label='D')\n",
      "plt.plot(t,sel,label='sel')\n",
      "leg=plt.legend(); leg.draw_frame(False)\n",
      "plt.xlabel('time')\n",
      "plt.ylabel('Concetration')"
     ],
     "language": "python",
     "metadata": {},
     "outputs": [
      {
       "output_type": "stream",
       "stream": "stderr",
       "text": [
        "-c:18: RuntimeWarning: invalid value encountered in divide\n"
       ]
      },
      {
       "metadata": {},
       "output_type": "pyout",
       "prompt_number": 9,
       "text": [
        "<matplotlib.text.Text at 0x1085f76d0>"
       ]
      },
      {
       "metadata": {},
       "output_type": "display_data",
       "png": "[encoded data removed]",
       "text": [
        "<matplotlib.figure.Figure at 0x1085c9b10>"
       ]
      }
     ],
     "prompt_number": 9
    },
    {
     "cell_type": "markdown",
     "metadata": {},
     "source": [
      "<font color=blue>\n",
      "Plot the timestep size versus time to explicitly see the variation in the stepsize.\n",
      "</font>"
     ]
    },
    {
     "cell_type": "code",
     "collapsed": false,
     "input": [
      "dt = t[1:] - t[0:-1]\n",
      "\n",
      "plt.plot(t[0:-1],dt,'.')\n",
      "plt.yscale('log')\n",
      "plt.xlabel('time')\n",
      "plt.ylabel('Step size')"
     ],
     "language": "python",
     "metadata": {},
     "outputs": [
      {
       "metadata": {},
       "output_type": "pyout",
       "prompt_number": 10,
       "text": [
        "<matplotlib.text.Text at 0x1086b6550>"
       ]
      },
      {
       "metadata": {},
       "output_type": "display_data",
       "png": "[encoded data removed]",
       "text": [
        "<matplotlib.figure.Figure at 0x1085c0bd0>"
       ]
      }
     ],
     "prompt_number": 10
    },
    {
     "cell_type": "heading",
     "level": 3,
     "metadata": {},
     "source": [
      "Part b"
     ]
    },
    {
     "cell_type": "markdown",
     "metadata": {},
     "source": [
      "Write a function to solve the system $Ax=b$ using the Gauss Seidel method.  \n",
      "\n",
      "In Matlab fill in your function as:\n",
      "\n",
      "    function x = linear_gs(A, b)\n",
      "       % write the solution here\n",
      "    end\n",
      "\n",
      "In Python, fill in your function as:\n",
      "\n",
      "    def linear_gs(A,b) :\n",
      "        # write the solution here\n",
      "        return x\n",
      " "
     ]
    },
    {
     "cell_type": "markdown",
     "metadata": {},
     "source": [
      "----------------"
     ]
    },
    {
     "cell_type": "markdown",
     "metadata": {},
     "source": [
      "<font color=blue>\n",
      "Solve a linear system $Ax=b$ using Gauss-Seidel.  Use an initial guess of $x=$, though this could be passed in as a function argument.  The iteration formula is given by.\n",
      "$$x_i = x_i + \\frac{1}{A_{i,i}}(b_i - \\sum_jA_{i,j}x_j).$$"
     ]
    },
    {
     "cell_type": "code",
     "collapsed": false,
     "input": [
      "def linear_gs(A,b) :\n",
      "    \n",
      "    n = np.size(b)\n",
      "    x = np.zeros(n)\n",
      "    xold = x.copy()\n",
      "    tolGS = 1.0E-8\n",
      "    \n",
      "    maxit = 10000\n",
      "    for it in range(maxit) :\n",
      "        if it == maxit-1 :\n",
      "            print 'Warning, no convergence in ', maxit, ' iterations'\n",
      "        \n",
      "        for i in range(n) :\n",
      "            x[i] = x[i] + 1.0/A[i,i]*(b[i] - np.dot(A[i,:],x))\n",
      "    \n",
      "        if np.linalg.norm(x-xold) <= np.linalg.norm(x) * tolGS :\n",
      "            break\n",
      "        \n",
      "        xold = x.copy()\n",
      "    \n",
      "    return x"
     ],
     "language": "python",
     "metadata": {},
     "outputs": [],
     "prompt_number": 18
    },
    {
     "cell_type": "markdown",
     "metadata": {},
     "source": [
      "<font color=blue>\n",
      "Verify the solution...\n",
      "</font>"
     ]
    },
    {
     "cell_type": "code",
     "collapsed": false,
     "input": [
      "n = 5\n",
      "A = np.diag(np.ones(n-3),-3)  + np.diag(-1*np.ones(n-1),-1) + \\\n",
      "    np.diag(4*np.ones(n),0) + np.diag(-1.*np.ones(n-1),1)   + \\\n",
      "    np.diag(np.ones(n-3),3)\n",
      "b  = 100*np.ones(n)\n",
      "x0 = np.zeros(n)\n",
      "\n",
      "solvercheck = linear_gs(A,b) - np.linalg.solve(A,b)\n",
      "print np.max(np.abs(solvercheck))"
     ],
     "language": "python",
     "metadata": {},
     "outputs": [
      {
       "output_type": "stream",
       "stream": "stdout",
       "text": [
        "1.14896703707e-07\n"
       ]
      }
     ],
     "prompt_number": 20
    },
    {
     "cell_type": "code",
     "collapsed": false,
     "input": [
      "print linear_gs(A,b)"
     ],
     "language": "python",
     "metadata": {},
     "outputs": [
      {
       "output_type": "stream",
       "stream": "stdout",
       "text": [
        "[ 25.00000011  35.71428571  42.85714278  35.71428564  24.99999998]\n"
       ]
      }
     ],
     "prompt_number": 21
    },
    {
     "cell_type": "code",
     "collapsed": false,
     "input": [],
     "language": "python",
     "metadata": {},
     "outputs": []
    }
   ],
   "metadata": {}
  }
 ]
}