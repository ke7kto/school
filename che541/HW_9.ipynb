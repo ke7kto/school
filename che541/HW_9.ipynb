{
 "metadata": {
  "name": "",
  "signature": "sha256:070780149f0d03327af5563e535f37adfdec4b1d5b73bed51575c97cb604948c"
 },
 "nbformat": 3,
 "nbformat_minor": 0,
 "worksheets": [
  {
   "cells": [
    {
     "cell_type": "heading",
     "level": 1,
     "metadata": {},
     "source": [
      "Problem 1"
     ]
    },
    {
     "cell_type": "markdown",
     "metadata": {},
     "source": [
      "*Read and understand the posted solution to HW 8.  The goal here is to see another solution besides your own, to get coding ideas, and to think about things that your or I could do better. Just state if you did this.*"
     ]
    },
    {
     "cell_type": "heading",
     "level": 1,
     "metadata": {},
     "source": [
      "Problem 2"
     ]
    },
    {
     "cell_type": "markdown",
     "metadata": {},
     "source": [
      "$\\DeclareMathOperator{\\sech}{sech}$\n",
      "*The 1-D convection equation is written as:\n",
      "$$\\frac{\\partial u}{\\partial t} + c\\frac{\\partial u}{\\partial x},$$\n",
      "where $c$ is the wave speed.  We will solve this PDE on the x-domain from x=0 to x=13 with periodic boundary conditions.  The problem will be solved for one \"flow through\" time.*  \n",
      "\n",
      "*A periodic boundary is one in which the point after the last point in the list is the same as the first point in the list.  And the point before the first point in the list is the same as the last point in the list:*\n",
      "\n",
      "    [*]  *  *  *  *  *  *  *  []\n",
      "     0   1  2  3  4  5  6  7  \n",
      "    \n",
      "*Here, grid points are denoted by asterisks.  The brackets denote equivalent spatial locations (think of a circle, no beginning and no end).  Periodic boundaries are easy to implement.  For instance, suppose we wanted to evaluate $dy/dx$ at point 0 using a central difference.  Then $dy/dx\\approx(y_1-y_7)/2\\Delta x$.  In Matlab or Python, if you wanted to evaluate $dy/dx$ at every grid point using a central difference, you could do this easily using an index array:*\n",
      "   \n",
      "    i          = np.arange(ngrid)\n",
      "    iplus1     = i + 1\n",
      "    iplus1[-1] = 0                 # wrap around the periodic\n",
      "    iminus1    = i - 1\n",
      "    iminus1[0] = ngrid-1           # wrap around the periodic \n",
      "    # so, i       = [0, 1, 2, 3, 4, 5, 6, 7]\n",
      "    #     iplus1  = [1, 2, 3, 4, 5, 6, 7, 0]\n",
      "    #     iminus1 = [7, 0, 1, 2, 3, 4, 5, 6]\n",
      "    dydx = (y[iplus1] - y[iminus1])/2/\\Delta x\n",
      "    \n",
      "*You should use the following initial condition in the code below.  This gives four peaked reagions with domains (of x): [0,4], [4,6], [7,9], [10,12].  \n",
      "The functions on these regions are* \n",
      "* $u=\\sech(8x-2)$, \n",
      "* $u = 1-(x-5)^2$, \n",
      "* a triangle with a peak of $u=1$ at $x=8$ and a base with $u=0$ at $x=7$ and $x=9$, and \n",
      "* a tophat with $u=1$, respectively.\n",
      "\n",
      "Solve the problem using the upwind, second order upwind, and Lax Wendroff methods. Compare the results graphically at the final time. Include the exact solution at the final time (which is just the initial condition). I recommend just using a single code and stepping three different versions of the solution (in three different arrays), then plot your three methods on one graph.\n",
      "\n",
      "You should vary the CFL and the grid size. You can verify your code by checking against a CFL of 1. Use CFL=0.3, 0.5, 0.7, and 0.9 with 100 grid points, and use CFL=0.9 with N=50, 100, 300, and 500 grid points. You will have 8 plots.\n",
      "\n",
      "Comment on which method you would use and why."
     ]
    },
    {
     "cell_type": "code",
     "collapsed": false,
     "input": [
      "%matplotlib inline\n",
      "import matplotlib.pyplot as plt\n",
      "import numpy as np\n",
      "import sympy as sym\n",
      "\n",
      "Ld  = 13.0\n",
      "nx  = 100\n",
      "c   = 1.0\n",
      "cfl = 0.9\n",
      "\n",
      "dx = Ld/nx     # not Ld/(nx-1)\n",
      "x = np.linspace(0.0, Ld-dx, nx)\n",
      "\n",
      "u0 = np.zeros(nx)\n",
      "\n",
      "i = np.where((x>=0) & (x<=4));   u0[i] = 1.0/(np.cosh(8.0*(x[i]-2.0)))\n",
      "i = np.where((x>=4) & (x<=6));   u0[i] = 1.0-(x[i]-5.0)**2.0\n",
      "i = np.where((x>=7) & (x<=8));   u0[i] = x[i]-7.0\n",
      "i = np.where((x>=8) & (x<=9));   u0[i] = 1.0-(x[i]-8.0)\n",
      "i = np.where((x>=10)& (x<=12));  u0[i] = 1.0\n",
      "\n",
      "plt.plot(x,u0,'.-')\n",
      "plt.gca().set_xlim([0,13])\n",
      "plt.gca().set_ylim([-0.2,1.2])\n",
      "plt.xlabel('t')\n",
      "plt.ylabel(r'u$_0$(t)')\n"
     ],
     "language": "python",
     "metadata": {},
     "outputs": [
      {
       "metadata": {},
       "output_type": "pyout",
       "prompt_number": 34,
       "text": [
        "<matplotlib.text.Text at 0x10b0ab4d0>"
       ]
      },
      {
       "metadata": {},
       "output_type": "display_data",
       "png": "[encoded data removed]",
       "text": [
        "<matplotlib.figure.Figure at 0x10af60410>"
       ]
      }
     ],
     "prompt_number": 34
    }
   ],
   "metadata": {}
  }
 ]
}