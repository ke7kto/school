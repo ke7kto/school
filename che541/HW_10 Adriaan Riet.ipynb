{
 "metadata": {
  "name": "",
  "signature": "sha256:3432006e77f7f4fb98a6331b005fec6d21c50fcc2718656556272caab5659839"
 },
 "nbformat": 3,
 "nbformat_minor": 0,
 "worksheets": [
  {
   "cells": [
    {
     "cell_type": "heading",
     "level": 1,
     "metadata": {},
     "source": [
      "Problem 1"
     ]
    },
    {
     "cell_type": "markdown",
     "metadata": {},
     "source": [
      "*Read and understand the posted solution to HW 9.  The goal here is to see another solution besides your own, to get coding ideas, and to think about things that your or I could do better. Just state if you did this.*"
     ]
    },
    {
     "cell_type": "heading",
     "level": 1,
     "metadata": {},
     "source": [
      "Problem 2"
     ]
    },
    {
     "cell_type": "markdown",
     "metadata": {},
     "source": [
      "*Integrate the following equation using the Trapezoid Rule from x=0 to x=1:*\n",
      "\n",
      "$$f(x) = x\\cdot\\tanh(d\\cdot(x-0.5))+1.$$\n",
      "\n",
      "*Use d=10. Make a log-log plot of the relative error of the methods versus the number of grid points.  To get the \"exact\" integral, you can use the built-in integrator.  In Matlab, this would be*\n",
      "\n",
      "    Ie = quad(@f,0,1,1.0E-16)\n",
      "\n",
      "*where f is the name of your function that computes f(x).  In python, use the following:*\n",
      "\n",
      "    from scipy import integrate\n",
      "    (Ie,abserr) = integrate.quad(f,0,1)\n",
      "    \n",
      "*When varying the number of points, because we are plotting on a log scale, and because the error goes as a power, we want the number of points to increase as a power.  I did something like:*\n",
      "\n",
      "    npoints = 2^1, 2^2, 2^3, 2^4, 2^5, 2^6, 2^7, 2^8, 2^9, 2^10,\n",
      "    \n",
      "*for 10 runs.  Then, when you plot on a log scale you'll have an even spacing of points on the x-axis.*"
     ]
    },
    {
     "cell_type": "code",
     "collapsed": false,
     "input": [
      "from __future__ import division\n",
      "%matplotlib inline\n",
      "import matplotlib.pyplot as plt\n",
      "import numpy as np\n",
      "from scipy import integrate\n",
      "import matplotlib.lines as mpl\n",
      "import scipy.constants as consts\n",
      "from scipy.optimize import curve_fit"
     ],
     "language": "python",
     "metadata": {},
     "outputs": [],
     "prompt_number": 3
    },
    {
     "cell_type": "code",
     "collapsed": false,
     "input": [
      "#This is the trapezoidal rule for a given number of points\n",
      "def trapRule(f,a,b,nPts):\n",
      "    I = -(f(a)+f(b))/2\n",
      "    dx = (b-a)/(nPts-1)\n",
      "    count = 0\n",
      "    for i in range(0,nPts):\n",
      "        count+=1\n",
      "        I += f(a+i*dx)\n",
      "        \n",
      "    I*=(b-a)/(nPts)\n",
      "    return I\n",
      "trapRule = np.vectorize(trapRule)\n",
      "#Adaptive spacing version\n",
      "def quadMe(f,a,b,ax=None):\n",
      "    I = (b-a)/2*(f(b)+f(a))\n",
      "    c = (b+a)/2\n",
      "    I2 = (c-a)/2*(f(c)+f(a))\n",
      "    I3 = (b-c)/2*(f(b)+f(c))    \n",
      "    if (abs(I-(I2+I3))<TOL):\n",
      "        return I\n",
      "    else:\n",
      "        lower =quadMe(f,a,(a+c)/2,ax)+quadMe(f,(a+c)/2,c,ax)\n",
      "        upper = quadMe(f,c,(b+c)/2,ax)+quadMe(f,(b+c)/2,b,ax)\n",
      "        if type(ax) is not type(None):\n",
      "            l = mpl.Line2D([b,b],[0,upper+lower])\n",
      "            ax.add_line(l)\n",
      "        return lower+upper\n"
     ],
     "language": "python",
     "metadata": {},
     "outputs": [],
     "prompt_number": 4
    },
    {
     "cell_type": "code",
     "collapsed": false,
     "input": [
      "def f(x,d=10):\n",
      "    return x*np.tanh(d*(x-0.5))+1\n",
      "nPts = np.arange(1,13)\n",
      "nPts = 2**nPts\n",
      "def plotter(nPts):\n",
      "    y = integrate.quad(f,0,1)[0]\n",
      "    yVals = np.abs((trapRule(f,0,1,nPts)-y)/y)\n",
      "    plt.loglog(nPts,yVals)\n",
      "    plt.xlabel('Number of points')\n",
      "    plt.ylabel('Relative error')\n",
      "    #plt.plot(nPts,yVals)"
     ],
     "language": "python",
     "metadata": {},
     "outputs": [],
     "prompt_number": 5
    },
    {
     "cell_type": "code",
     "collapsed": false,
     "input": [
      "plotter(nPts)"
     ],
     "language": "python",
     "metadata": {},
     "outputs": [
      {
       "metadata": {},
       "output_type": "display_data",
       "png": "[encoded data removed]",
       "text": [
        "<matplotlib.figure.Figure at 0x7fd33d4e9668>"
       ]
      }
     ],
     "prompt_number": 6
    },
    {
     "cell_type": "heading",
     "level": 2,
     "metadata": {},
     "source": [
      "Problem 3"
     ]
    },
    {
     "cell_type": "markdown",
     "metadata": {},
     "source": [
      "*Solve Hoffman Chapter 4 problem 106 (b).*"
     ]
    },
    {
     "cell_type": "code",
     "collapsed": false,
     "input": [
      "def rxnRate(T,alpha,beta,E):\n",
      "    return beta*T**alpha*np.exp(-E/consts.R/T)\n",
      "T = np.array([1000,2000,3000,4000,5000])\n",
      "Kf = np.array([7.5,3.8,2.5,1.9,1.5])\n",
      "#Why reinvent the wheel? Just use the built-in\n",
      "modelParams,covarianceMatrix = curve_fit(rxnRate,T,Kf)\n",
      "#Get Beta in the right scale of magnitude\n",
      "modelParams[1]*=1e15\n",
      "print(\")\n",
      "print(\"Alpha = {:.3g}\\nBeta = {:.3g}\\nActivation Energy = {:.3g} J/mol\".format(*modelParams))\n",
      "print(\"E/R = {:.5g}\".format(modelParams[2]/consts.R))\n",
      "plt.plot(T,Kf*1e15,'ro',label='Data')\n",
      "T2 = np.linspace(1000,5000,100)\n",
      "plt.plot(T2,rxnRate(T2,*modelParams),label='Fit')\n",
      "muffle=plt.legend()"
     ],
     "language": "python",
     "metadata": {},
     "outputs": [
      {
       "output_type": "stream",
       "stream": "stdout",
       "text": [
        "Alpha = -1.03\n",
        "Beta = 1.02e+19\n",
        "Activation Energy = 574 J/mol\n",
        "E/R = 69.071\n"
       ]
      },
      {
       "metadata": {},
       "output_type": "display_data",
       "png": "[encoded data removed]",
       "text": [
        "<matplotlib.figure.Figure at 0x7fd334ca1780>"
       ]
      }
     ],
     "prompt_number": 18
    },
    {
     "cell_type": "heading",
     "level": 2,
     "metadata": {},
     "source": [
      "Problem 4"
     ]
    },
    {
     "cell_type": "markdown",
     "metadata": {},
     "source": [
      "Evaluate the function $f(x)=\\exp(4x)$ at $x=0.55$ using a cubic spline fit to points $x=0,\\,0.2,\\,0.4,\\,0.8,\\,1.0.$  Also report the relative error at $x=0.55$."
     ]
    },
    {
     "cell_type": "code",
     "collapsed": false,
     "input": [
      "import scipy.sparse as spsparse\n",
      "def f(x):\n",
      "    return np.exp(4*x)\n",
      "x = np.array([0,0.2,0.4,0.8,1.0])\n",
      "y = f(x)\n",
      "yTrue = f(0.55)\n",
      "i = np.arange(len(y)-1)\n",
      "dx = x.copy()\n",
      "dx[i] = x[i+1]-x[i-1]\n",
      "yPP = y.copy()\n",
      "yPP[i] = (y[i+1]-2*y[i]+y[i-1])/dx[i]\n",
      "yPP[0]=yPP[-1]=0\n",
      "l=np.zeros(len(y)-1)\n",
      "a=np.zeros(len(y))\n",
      "u=np.zeros(len(y)-1)\n",
      "b=np.zeros(len(y))\n",
      "l[i] = (x[i+1]-x[i])/6\n",
      "a[i] = (x[i+1]-x[i-1])/3\n",
      "u[i] = (x[i+1]-x[i])/6\n",
      "b[i] = (y[i+1]-y[i])/(x[i+1]-x[i])-(y[i]-y[i-1])/(x[i]-x[i-1])\n",
      "a[0] = 1\n",
      "b[0] = 0\n",
      "a[-1]=1\n",
      "b[-1]=0\n",
      "l[-1]=0\n",
      "u[0] =0\n",
      "A = spsparse.diags([u,a,l],[1,0,-1]).toarray()\n",
      "yPP = np.linalg.solve(A,b)\n",
      "\n",
      "def thomasAlg(Alower,Amiddle,Aupper,b):\n",
      "    n,=np.shape(Amiddle)\n",
      "    for i in range(n-1):\n",
      "        Alower[i]    = Alower[i]/Amiddle[i]\n",
      "        Amiddle[i+1]-= Aupper[i]*Alower[i]\n",
      "        b[i+1]      -= Alower[i]*b[i]\n",
      "    x = b.copy()\n",
      "    x[-1]/=Amiddle[-1]\n",
      "    for i in range(n-2,-1,-1):\n",
      "        x[i]-=Aupper[i]*x[i+1]\n",
      "        x[i]/=Amiddle[i]\n",
      "    return x\n",
      "yPP = thomasAlg(l,a,u,b)\n",
      "def spline(xGiven,x,y,yPP):\n",
      "    i=0\n",
      "    while x[i+1]<xGiven and i < len(x)-1:\n",
      "        i+=1\n",
      "    A=(x[i+1]-xGiven)/(x[i+1]-x[i])\n",
      "    B = 1-A\n",
      "    C = 1/6*(A**3-A)*(x[i+1]-x[i])**2\n",
      "    D = 1/6*(B**3-B)*(x[i+1]-x[i])**2\n",
      "    return A*y[i]+B*y[i+1]+C*yPP[i]+D*yPP[i+1]\n",
      "\n",
      "print('Spline f(0.55) = {:.2f}'.format(spline(0.55,x,y,yPP)))\n",
      "print('True   f(0.55) = {:.2f}'.format(yTrue))\n",
      "print('The relative error is {:.2%}'.format(np.abs((spline(0.55,x,y,yPP)-yTrue)/yTrue)))\n",
      "x2 = np.linspace(0,1,100)\n",
      "spline = np.vectorize(spline)\n",
      "spline.excluded.add(1)\n",
      "spline.excluded.add(2)\n",
      "spline.excluded.add(3)\n",
      "plt.plot(x2,f(x2),'b-',label='Exact')\n",
      "plt.plot(x,f(x),'bo')\n",
      "muffler=plt.plot(x2,spline(x2,x,y,yPP),'r--',label='Spline')"
     ],
     "language": "python",
     "metadata": {},
     "outputs": [
      {
       "output_type": "stream",
       "stream": "stdout",
       "text": [
        "Spline f(0.55) = 7.95\n",
        "True   f(0.55) = 9.03\n",
        "The relative error is 11.86%\n"
       ]
      },
      {
       "metadata": {},
       "output_type": "display_data",
       "png": "[encoded data removed]",
       "text": [
        "<matplotlib.figure.Figure at 0x7fd334c95da0>"
       ]
      }
     ],
     "prompt_number": 34
    },
    {
     "cell_type": "code",
     "collapsed": false,
     "input": [
      "spline(0.55)"
     ],
     "language": "python",
     "metadata": {},
     "outputs": [
      {
       "metadata": {},
       "output_type": "pyout",
       "prompt_number": 25,
       "text": [
        "array(7.954660307923693)"
       ]
      }
     ],
     "prompt_number": 25
    },
    {
     "cell_type": "code",
     "collapsed": false,
     "input": [],
     "language": "python",
     "metadata": {},
     "outputs": []
    }
   ],
   "metadata": {}
  }
 ]
}