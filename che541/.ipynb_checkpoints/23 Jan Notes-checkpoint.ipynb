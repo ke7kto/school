{
 "metadata": {
  "name": ""
 },
 "nbformat": 3,
 "nbformat_minor": 0,
 "worksheets": [
  {
   "cells": [
    {
     "cell_type": "markdown",
     "metadata": {},
     "source": [
      "<p>$D x^{k+1} = -(L+U) x^k + b$</p>\n",
      "<p>$Ax = b$</p>\n",
      "<p>$A = L + D + U$</p>\n",
      "<p>Jacobi method, you invert a diagonal matrix, which happens to be easy to do</p>\n",
      "<p>The inverse of a diagonal matrix is just one over the diagonals.</p>\n",
      "<p>Gauss- Seidel: $(L+D)x^{k+1} = -U x^k + b$</p>\n",
      "<h4>The point of iterative methods</h4>\n",
      "<p>Split A into matrices that are easy to invert</p><br/>\n",
      "$Ax = b$<br/>\n",
      "(1) $Mx^{k+1} = N x^k + b$<br/>\n",
      "Converged: $x^{k+1}=x^k = x$<br/>\n",
      "(2) $Mx = Nx + b$<br/>\n",
      "$(M-N)x = b$<br/>\n",
      "$A = M - N$<br/>\n",
      "(1)-(2) = $M\\epsilon^{k+1} = N\\cdot \\epsilon^k$<br/>\n",
      "$\\epsilon^{k+1} = (M^{-1}\\cdot N)\\epsilon^k$<br/>\n",
      "$\\epsilon^{k+1} = (Q)\\epsilon^k$<br/>\n",
      "$\\epsilon_1 = Q\\epsilon_0$<br/>\n",
      "$\\epsilon_2 = QQ\\epsilon_0$<br/>\n",
      "$\\epsilon_3 = QQQ\\epsilon_0$<br/>\n",
      "$\\epsilon_n = Q^n \\epsilon_0$<br/>\n",
      "$\\epsilon = \\sum c_k \\varphi_k$<br/>\n",
      "$Q\\varphi_n = \\lambda_n \\varphi_n$<br/>\n",
      "$\\epsilon_0 = \\sum c_n \\varphi_n$<br/>\n",
      "$\\epsilon_1 = Q\\epsilon_0 = Q\\sum c_n \\varphi_n = \\sum c_n Q \\varphi_n = \\sum c_n \\lambda_n \\varphi_n$<br/>\n",
      "$\\epsilon_2 = Q\\epsilon_1 = Q \\sum c_n\\lambda_n\\varphi_n = \\sum c_n\\lambda_n (Q\\varphi_n) = \\sum c_n\\lambda_n (\\lambda_n \\varphi_n)$\n",
      "$=\\sum c_n \\lambda_n^2 \\varphi_n$<br/>\n",
      "<br/>\n",
      "Only the biggest $\\lambda$ matters<br/>\n",
      "$\\epsilon_k = \\sum c_n \\lambda_n^k \\varphi_n \\rightarrow \\epsilon_k ~ c_1 \\lambda_1^k \\varphi_1$<br/>\n",
      "$\\frac{Q\\varphi_n}{|\\varphi|} = \\frac{\\lambda_n \\varphi_n}{|\\varphi|}$<br/>\n",
      "Set Some tol $\\delta$<br/>\n",
      "$\\epsilon_k \\leq \\delta = c_1 (\\lambda_1)^k$<br/>\n",
      "$\\log \\delta = \\log c_1 + k \\log \\lambda$<br/>\n",
      "$k = \\frac{\\log \\delta - \\log c_1}{\\log \\lambda}$<br/>\n",
      "If you're solving a problem, make sure all of your eigenvalues are less than one.<br/><br/>\n",
      "This gives you insight into how the system behaves, how things vary, how things converge, etc.<br/>\n",
      "Jacobi vs Gauss-Seidel will you different M,N...<br/>\n",
      "If you let $M=A$ and $N=0$, how many iterations does it take to solve the problem?<br/>\n",
      "<b>One.</b><br/><br/>\n",
      "Homework: Find the optimal $\\omega$, then count iterations to convergence.<br/>\n",
      "To get $P$ more digits of accuracty, you need $\\frac{P}{-\\log \\lambda_1}$ operations.<br/>\n",
      "<br/>\n",
      "Choose $M,N$ so that $Q = M^{-1} N$ has nice, small eigenvalues and so that $M$ is easy to invert.<br/>\n",
      "<h1>Nonlinear Fun Too!!!</h1>\n",
      "<p>Disclaimer: Multiple roots are a big problem in nonlinear root finding. Good initial guesses are important to efficient solutions</p>\n",
      "<p>Open-Domain methods generally work in engineering, and generally work best.</p>\n",
      "<p>We will talk about pathological cases later</p>\n",
      "<p>Analyst's time vs computer time must be considered</p>\n",
      "<h2>Root finding</h2>\n",
      "$f(x)=0$ is what we're solving for<br/>\n",
      "Example:<br/>\n",
      "$x^2+2x=5\\Rightarrow x^2+2x-5 = 0$<br/>\n",
      "<h4>\n",
      "<ol><li>Newton's Method</li>\n",
      "<li>Graph it, zoom in</li>\n",
      "<li>Bisection</li>\n",
      "<li>Regula False</li>\n",
      "<li>Secant Method</li>\n",
      "<li>More beyond</li>\n",
      "</ol></h4>\n",
      "$h(T) = my\\_h$<br/>\n",
      "$f(T)=0$<br/>\n",
      "$h(T) - my\\_h = 0$<br/>\n",
      "$h = h_0 + \\int_{T_r}^T C_p dT$<br/>\n",
      "<h3>Bisection (Bracketing)</h3>\n",
      "<ol>\n",
      "<li>Pick two points, $a$ and $b$, such that they bracket the root.<br/>\n",
      "You know that they do if $f(a)\\cdot f(b) < 0$.</li>\n",
      "<li>Find the midpoint. $c = \\frac{1}{2}(a + b)$</li>\n",
      "<li>Replace $a$ or $b$ with $c$ such that $f(a_{new})\\cdot f(b_{new}) < 0$</li>\n",
      "<li>Iterate to convergence.</li>\n",
      "</ol>\n",
      "<h3>Regula Falsi</h3>\n",
      "<ol>\n",
      "<li>Pick two points, $a$ and $b$, such that they bracket the root.<br/>\n",
      "You know that they do if $f(a)\\cdot f(b) < 0$.</li>\n",
      "<li>Find the point $c$ such that $c = b - f(b) \\cdot \\frac{b-a}{f(b)-f(a)}$</li>\n",
      "<li>Replace $a$ or $b$ with $c$ such that $f(a_{new})\\cdot f(b_{new}) < 0$</li>\n",
      "<li>Iterate to convergence.</li>\n",
      "</ol>"
     ]
    },
    {
     "cell_type": "code",
     "collapsed": false,
     "input": [
      "def bisection1(a,b,f):\n",
      "    for nit in range(1,101):\n",
      "        c = 0.5*(a+b)\n",
      "        if f(a)*f(b) < 0:\n",
      "            b=c\n",
      "        else:\n",
      "            a = c\n",
      "    return 0.5*(a+b)\n",
      "def f(x):\n",
      "    return (x-2.0)**2.0-1\n",
      "x=bisection1(2,40,f)\n",
      "f(x)"
     ],
     "language": "python",
     "metadata": {},
     "outputs": [
      {
       "metadata": {},
       "output_type": "pyout",
       "prompt_number": 6,
       "text": [
        "-0.6474609375"
       ]
      }
     ],
     "prompt_number": 6
    },
    {
     "cell_type": "code",
     "collapsed": false,
     "input": [
      "def bisection2(a,b,tol,maxit,f):\n",
      "    if f(a)*f(b) > 0:\n",
      "        print(\"Error: No brackety of the rooty\")\n",
      "    for nit in range(maxit+1):\n",
      "        c = 0.5*(a+b)\n",
      "        pass\n",
      "            "
     ],
     "language": "python",
     "metadata": {},
     "outputs": [],
     "prompt_number": 9
    },
    {
     "cell_type": "code",
     "collapsed": false,
     "input": [],
     "language": "python",
     "metadata": {},
     "outputs": []
    }
   ],
   "metadata": {}
  }
 ]
}