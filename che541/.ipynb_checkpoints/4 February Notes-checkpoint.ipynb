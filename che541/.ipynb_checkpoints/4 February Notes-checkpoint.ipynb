{
 "metadata": {
  "name": ""
 },
 "nbformat": 3,
 "nbformat_minor": 0,
 "worksheets": [
  {
   "cells": [
    {
     "cell_type": "markdown",
     "metadata": {},
     "source": [
      "<h1>multidimensional continued</h1>\n",
      "<p>\n",
      "$f(x_{i+1}) = f(x_i) + f^{\\prime}(x_i)(x_{i+1}-x_i)+ \\left[ \\frac{f^{\\prime\\prime}}{2}(x_{i+1}-x_i)^2 +...\\right]$<br/>\n",
      "Taylor Series:<br/>\n",
      "$f(x) = f(x_0) + f^\\prime (x_0)(x-x_0) + \\frac{f^{\\prime\\prime}}{2}(x-x_0)^2 + \\frac{f^{\\prime\\prime}}{3!}(x-x_0)^3 + ...$<br/>\n",
      "</p>\n",
      "<p>Use Taylor series because we have $f(x)$, $f(x_0)$ and everything is in terms of a delta</p>\n",
      "<p>Definitions of the derivative</p>\n",
      "<ul><li>$f^\\prime(x) = \\frac{\\Delta f}{\\Delta x}$</li>\n",
      "<li>Central Difference: $\\frac{f_{i+1}-f_{i-1}}{2\\Delta x}$</li>\n",
      "<li>Forward Difference: $\\frac{f_{i+1}-f_{i}}{\\Delta x}$</li>\n",
      "<li>Backward Difference: $\\frac{f_{i}-f_{i-1}}{\\Delta x}$</li>\n",
      "</ul>\n",
      "<p>Central difference is most accurate.</p>\n",
      "<p>$f(x_{i+1}) = f(x_i) + f^{\\prime}(x_i)(x_{i+1}-x_i)+ \\left[ \\frac{f^{\\prime\\prime}}{2}(x_{i+1}-x_i)^2 +...\\right]$<br/>\n",
      "$x_{i+1}-x_i = \\Delta x$<br/>\n",
      "$f^\\prime (x_i) = \\frac{f(x_{i+1})-f(x_i)}{\\Delta x} - \\left[ \\frac{\\frac{f^{\\prime\\prime}}{2}\\Delta x^2}{\\Delta x}+...\\right]$<br/>\n",
      "$\\frac{\\frac{f^{\\prime\\prime}}{2}\\Delta x^2}{\\Delta x}= \\frac{f^{\\prime\\prime}}{2}\\Delta x\\approx O(\\Delta x)$<br/>\n",
      "1=$f_{i+1} = f_i + f^\\prime \\Delta x + \\frac{1}{2}f^{\\prime \\prime}\\Delta x^2+ \\frac{1}{6}f^{\\prime \\prime\\prime}\\Delta x^3+...$<br/>\n",
      "2=$f_{i-1} = f_i - f^\\prime \\Delta x + \\frac{1}{2}f^{\\prime \\prime}\\Delta x^2- \\frac{1}{6}f^{\\prime \\prime\\prime}\\Delta x^3+...$<br/>\n",
      "1-2=$\\frac{f_{i+1}-f_{i-1}}{2\\Delta x} = f^\\prime + 0 + \\frac{\\frac{2}{6}f^{\\prime\\prime\\prime}\\Delta x^3}{2\\Delta x} + ...$<br/>\n",
      "$\\frac{\\frac{2}{6}f^{\\prime\\prime\\prime}\\Delta x^3}{2\\Delta x}=\\frac{f^{\\prime\\prime\\prime}\\Delta x^2}{6}\\approx O(\\Delta x^2)$<br/>\n",
      "That was Central Difference, now for a second derivative<br/>\n",
      "1+2=$f_{i+1}+f_{i-1}= 2f_i + f^{\\prime\\prime}\\Delta x^2 + 0 + \\frac{1}{12}f^{\\prime\\prime\\prime\\prime}\\Delta x^4 + ...$<br/>\n",
      "$\\frac{f_{i-1} - 2f_i + f_{i+1}}{\\Delta x^2} = f^{\\prime \\prime}$<br/>\n",
      "$-\\frac{1}{12}f^{\\prime\\prime\\prime\\prime}\\frac{\\Delta x^4}{\\Delta x^2}=-\\frac{1}{12}f^{\\prime\\prime\\prime\\prime}\\Delta x^2\\approx O(\\Delta x^2)$\n",
      "</p>\n",
      "<p>\n",
      "Second Derivative:\n",
      "$\\frac{\\frac{f_{i+1}-f_i}{\\Delta x} - \\frac{f_{i}-f_{i-1}}{\\Delta x}}{\\Delta x} = \\frac{f_{i-1}-2f_i + f_{i+1}}{\\Delta x^2}$\n",
      "</p>\n",
      "<p>Convection problems, heat problems, ...<br/>\n",
      "<p>Even numbered error terms give you smearing. Odd numbered error terms give you wiggles</p>\n",
      "<p>Adding more terms will give you the derivative you want in terms of more points, which will give you a higher order error term</p>"
     ]
    },
    {
     "cell_type": "markdown",
     "metadata": {},
     "source": [
      "<h3>ODE's</h3>\n",
      "<p>\n",
      "ODE's are in engineering, everywhere!!! PDE's are even more everywhere! We write them like this:\n",
      "$\\frac{dy}{dt} = f(x,t)$ or $y^\\prime = f(y,t)$<br/>\n",
      "Oder is the highest Derivative present. Order of the derivative is not the order of the finite difference approximation.<br/>\n",
      "Boundary layer equations in fluid mechanics are third order.<br/>\n",
      "If you have an ODE, you need boundary conditions, which are general cases of initial conditions.<br/>\n",
      "You need one BC for each order.<br/>\n",
      "Two classes of ODE's, BVPs and IVPs,<br/>\n",
      "$\\alpha \\frac{\\partial^2 T}{\\partial x^2} = S$ is an example of a BVP<br/>\n",
      "Boundary Value problems are coupled, and Initial Value problems can be marched in .. time or something<br/>\n",
      "<ul><li>Linear: All y powers/products are 1st power</li>\n",
      "<li>Nonlinear: Everything else</li>\n",
      "</ul>\n",
      "<h5>Examples</h5>\n",
      "<ul><li>$y^\\prime + \\alpha y = F(t)$: Linear, nonHomogeneous</li>\n",
      "<li>$y y^\\prime + \\alpha y = 0$: Homogeneous</li>\n",
      "<li>$y^\\prime + \\alpha t y = F(t)$: Linear, Nonhomogeneous</li>\n",
      "</ul>\n",
      "Note:<br/>\n",
      "$\\frac{df}{dt} = F(f,g,t)$<br/>\n",
      "$\\frac{dg}{dt} = G(f,g,t)$\n",
      "<h5>is equivalent to:</h5>\n",
      "$\\frac{df_1}{dt} = F_1(f_1,f_2,t)$<br/>\n",
      "$\\frac{df_2}{dt} = F_2(f_1,f_2,t)$\n",
      "Codes will take a vector and return a vector.<br/>\n",
      "</p>\n",
      "<h3>IVP</h3>\n",
      "Explicit Euler method:<br/>\n",
      "$\\frac{y_{n+1}-y_n}{\\Delta t} = f_n$<br/>\n",
      "$y_{n+1} = y_n + \\Delta t\\cdot f_n$"
     ]
    },
    {
     "cell_type": "code",
     "collapsed": false,
     "input": [],
     "language": "python",
     "metadata": {},
     "outputs": []
    }
   ],
   "metadata": {}
  }
 ]
}