{
 "metadata": {
  "name": ""
 },
 "nbformat": 3,
 "nbformat_minor": 0,
 "worksheets": [
  {
   "cells": [
    {
     "cell_type": "markdown",
     "metadata": {},
     "source": [
      "<h1>Happy Monday</h1>\n",
      "<h3>Overview from last time:</h3>\n",
      "<p>$f(x)=0$<br/>\n",
      "$f(x) = f(x_0) + f^\\prime (x_0)(x-x_0)$<br/>\n",
      "$0 = f(x_0) + f^\\prime (x_0)(x-x_0)$<br/>\n",
      "$x = x_0 - \\frac{f(x_0)}{f^\\prime (x_0)}$<br/>\n",
      "$f_1(x_1,x_2)$<br/>\n",
      "$f_2(x_1,x_2)$<br/>\n",
      "When two surfaces intersect, you get a single curve. Where that curve intersects zero, you have the solution<br/>\n",
      "$f_1(x_1,x_2)\\approx f_1(x_{1,g},x_{2,g}) + \\frac{\\partial f_1}{\\partial x_1}\\cdot (x_1 - x_{1g}) + \\frac{\\partial f_1}{\\partial x_2}\\cdot (x_2 - x_{2g})$<br/>\n",
      "$f_2(x_1,x_2)\\approx f_2(x_{1,g},x_{2,g}) + \\frac{\\partial f_2}{\\partial x_1}\\cdot (x_1 - x_{1g}) + \\frac{\\partial f_2}{\\partial x_2}\\cdot (x_2 - x_{2g})$<br/>\n",
      "$\\begin{pmatrix}0 \\\\ 0\\end{pmatrix} = \\begin{bmatrix}f_1 \\\\ f_2\\end{bmatrix} + \\begin{bmatrix} f_{1,x_1} & f_{1,x_2} \\\\ f_{2,x_1} & f_{2,x_2}\\end{bmatrix} \\begin{bmatrix}x_1 - x_{1g} \\\\ x_2 - x_{2g}\\end{bmatrix}$<br/>\n",
      "$x - x_0 = - \\frac{f(x_0}{f^\\prime (x_0)}$<br/>\n",
      "$\\partial x = -(f^\\prime )^{-1}\\cdot f$<br/>\n",
      "$-f = J\\: \\partial x$<br/>\n",
      "$\\partial x = - J^{-1}\\cdot f$<br/>\n",
      "$x = x_{old} + \\partial x$<br/>\n"
     ]
    },
    {
     "cell_type": "code",
     "collapsed": false,
     "input": [
      "def f(x):\n",
      "    return np.array([x[0]*2 + x[1]*x[0],x[1]*3-4])\n",
      "def Jac(x,f,fx=None,h = 1e-8):\n",
      "    if type(fx) is None:\n",
      "        fx = f(x)\n",
      "    nx=np.shape(x)\n",
      "    nf=np.shape(fx)\n",
      "    Jac = np.zeros(nx,nx)\n",
      "    for j in range(nx):\n",
      "        x2 = x.copy()\n",
      "        x2[j] += h\n",
      "        fdxj = f(x2)\n",
      "        Jac[:,j] = f(x2)\n",
      "    return Jac\n"
     ],
     "language": "python",
     "metadata": {},
     "outputs": [
      {
       "ename": "NameError",
       "evalue": "name 'x' is not defined",
       "output_type": "pyerr",
       "traceback": [
        "\u001b[0;31m---------------------------------------------------------------------------\u001b[0m\n\u001b[0;31mNameError\u001b[0m                                 Traceback (most recent call last)",
        "\u001b[0;32m<ipython-input-1-b80f247b372a>\u001b[0m in \u001b[0;36m<module>\u001b[0;34m()\u001b[0m\n\u001b[1;32m      1\u001b[0m \u001b[0;32mdef\u001b[0m \u001b[0mf\u001b[0m\u001b[0;34m(\u001b[0m\u001b[0mx\u001b[0m\u001b[0;34m)\u001b[0m\u001b[0;34m:\u001b[0m\u001b[0;34m\u001b[0m\u001b[0m\n\u001b[1;32m      2\u001b[0m     \u001b[0;32mreturn\u001b[0m \u001b[0mnp\u001b[0m\u001b[0;34m.\u001b[0m\u001b[0marray\u001b[0m\u001b[0;34m(\u001b[0m\u001b[0;34m[\u001b[0m\u001b[0mx\u001b[0m\u001b[0;34m[\u001b[0m\u001b[0;36m0\u001b[0m\u001b[0;34m]\u001b[0m\u001b[0;34m*\u001b[0m\u001b[0;36m2\u001b[0m \u001b[0;34m+\u001b[0m \u001b[0mx\u001b[0m\u001b[0;34m[\u001b[0m\u001b[0;36m1\u001b[0m\u001b[0;34m]\u001b[0m\u001b[0;34m*\u001b[0m\u001b[0mx\u001b[0m\u001b[0;34m[\u001b[0m\u001b[0;36m0\u001b[0m\u001b[0;34m]\u001b[0m\u001b[0;34m,\u001b[0m\u001b[0mx\u001b[0m\u001b[0;34m[\u001b[0m\u001b[0;36m1\u001b[0m\u001b[0;34m]\u001b[0m\u001b[0;34m*\u001b[0m\u001b[0;36m3\u001b[0m\u001b[0;34m-\u001b[0m\u001b[0;36m4\u001b[0m\u001b[0;34m]\u001b[0m\u001b[0;34m)\u001b[0m\u001b[0;34m\u001b[0m\u001b[0m\n\u001b[0;32m----> 3\u001b[0;31m \u001b[0;32mdef\u001b[0m \u001b[0mJac\u001b[0m\u001b[0;34m(\u001b[0m\u001b[0mx\u001b[0m\u001b[0;34m,\u001b[0m\u001b[0mf\u001b[0m\u001b[0;34m,\u001b[0m\u001b[0mfx\u001b[0m\u001b[0;34m=\u001b[0m\u001b[0mf\u001b[0m\u001b[0;34m(\u001b[0m\u001b[0mx\u001b[0m\u001b[0;34m)\u001b[0m\u001b[0;34m,\u001b[0m\u001b[0mh\u001b[0m \u001b[0;34m=\u001b[0m \u001b[0;36m1e-8\u001b[0m\u001b[0;34m)\u001b[0m\u001b[0;34m:\u001b[0m\u001b[0;34m\u001b[0m\u001b[0m\n\u001b[0m\u001b[1;32m      4\u001b[0m     \u001b[0mnx\u001b[0m\u001b[0;34m=\u001b[0m\u001b[0mnp\u001b[0m\u001b[0;34m.\u001b[0m\u001b[0mshape\u001b[0m\u001b[0;34m(\u001b[0m\u001b[0mx\u001b[0m\u001b[0;34m)\u001b[0m\u001b[0;34m\u001b[0m\u001b[0m\n\u001b[1;32m      5\u001b[0m     \u001b[0mnf\u001b[0m\u001b[0;34m=\u001b[0m\u001b[0mnp\u001b[0m\u001b[0;34m.\u001b[0m\u001b[0mshape\u001b[0m\u001b[0;34m(\u001b[0m\u001b[0mfx\u001b[0m\u001b[0;34m)\u001b[0m\u001b[0;34m\u001b[0m\u001b[0m\n",
        "\u001b[0;31mNameError\u001b[0m: name 'x' is not defined"
       ]
      }
     ],
     "prompt_number": 1
    },
    {
     "cell_type": "markdown",
     "metadata": {},
     "source": [
      "$f(x)$<br/>\n",
      "$f(x) = c_0 + c_1 x + c_2 x^2 + ... + c_n x^n$<br/>\n",
      "$f(x) = c_0 + c_1 (x-x_0) + c_2 (x-x_0)^2 + ... + c_n (x-x_0)^n$<br/>\n",
      "<ol><li> Find $c$'s</li>\n",
      "<li>Eval at $x=x_0$<br/>$c_0 = f(x_0)$<br/>\n",
      "$f^\\prime (x) = c_1 + 2 c_2(x-x_0) + ...$<br/>\n",
      "$c_1 = f^\\prime (x_0)$<br/>\n",
      "$f^{\\prime\\prime}(x_0) = \\frac{c_2}{2!}$</li></ol>\n"
     ]
    },
    {
     "cell_type": "code",
     "collapsed": false,
     "input": [],
     "language": "python",
     "metadata": {},
     "outputs": []
    }
   ],
   "metadata": {}
  }
 ]
}