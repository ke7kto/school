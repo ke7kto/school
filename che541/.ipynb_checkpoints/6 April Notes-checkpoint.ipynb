{
 "metadata": {
  "name": "",
  "signature": "sha256:fb652878e5e57a223be363f520b7291726c9f1ee7c88819c59dda6a6f75c1fde"
 },
 "nbformat": 3,
 "nbformat_minor": 0,
 "worksheets": []
}