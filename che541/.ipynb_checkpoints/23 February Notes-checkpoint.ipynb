{
 "metadata": {
  "name": "",
  "signature": "sha256:1e4f104155df4b862ebd1a36e797e0b6b2f4cc62dafa8f4681e27ef176a097b0"
 },
 "nbformat": 3,
 "nbformat_minor": 0,
 "worksheets": [
  {
   "cells": [
    {
     "cell_type": "markdown",
     "metadata": {},
     "source": [
      "<p>Linear algebra is more important than calculus.</p>\n",
      "<ol><li>Boundary Conditions</li>\n",
      "<li>Nonlinear</li>\n",
      "<li>Nonuniform Grids</li>\n",
      "</ol>\n",
      "<p></p>\n",
      "Neumann conditions approach:\n",
      "<ul>\n",
      "<li>Neumann: $y^\\prime = \\alpha$<br/>$(y^{\\prime\\prime} + \\beta y = \\alpha$</li>\n",
      "<li>Two approaches:<ol><li>Ghost cell method.<ul>\n",
      "<li>Include the boundary point in the unknowns</li>\n",
      "<li>Use the same formula for the boundary point as for the interior</li>\n",
      "<li>Ex (about point 2, 0): <br/>$l_2\\: y_1 + a_2 y_2 + u_2 y_3 = F_2$<br/><br/>\n",
      "$l_0 y_{-1} + a_0 y_0 + u_0 y_1 = F_0$<br/><br/>\n",
      "$\\frac{y_{i+1} - y_{i-1}}{2\\Delta x} = \\alpha$<br/><br/>\n",
      "$y_{-1} = y_1 - 2\\Delta x \\cdot \\alpha$<br/><br/>\n",
      "$l_0 \\left(y_1 - 2\\Delta x \\cdot \\alpha\\right) + a_0 y_0 + u_0 y_1 = F_0$<br/><br/>\n",
      "$y_1 l_0 - 2\\Delta x \\cdot \\alpha l_0 + a_0 y_0 + u_0 y_1 = F_0$<br/><br/>\n",
      "$y_1\\left(l_0 + u_0\\right) + a_0 y_0 = F_0 + 2l_0\\Delta x\\cdot \\alpha$<br/><br/>\n",
      "\n",
      "</li>\n",
      "<li>You need to modify $a$, $b$, $l$ and $u$ to get what you need.</li>\n",
      "</ul>\n",
      "<li>Don't include the boundary conditions in the unknowns. (lopsided derivative method)<ul>\n",
      "<li>Example (around boundary):<br/>\n",
      "$y^\\prime = -\\frac{3}{2}y_{i-1} + 2y_i - \\frac{1}{2}y_{i+1} = \\alpha$<br/><br/>\n",
      "$y_{i-1} =\\frac{\\alpha \\Delta x - 2y_i + \\frac{1}{2}y_{i+1}}{\\frac{3}{2}}$<br/><br/>\n",
      "$l_i y_{i-1} + a_i y_i + u_i y_{i+1} = F_i \\Rightarrow   \\frac{\\alpha \\Delta x - 2y_i + \\frac{1}{2}y_{i+1}}{\\frac{3}{2}}l_i + \\left(a_i + \\frac{4}{3}l_i \\right) y_i + \\left(u_i - \\frac{1}{3}l_i\\right) y_{i+1} = \\left(F_i + \\frac{2}{3}\\alpha \\Delta x l_i\\right)$\n",
      "</li>\n",
      "</ul></li>\n",
      "</ol>\n",
      "</ul>\n",
      "<h3>Nonlinear stuff!!!</h3>\n",
      "Ex: $y^\\prime \\cdot y$\n",
      "$$y^{\\prime\\prime} + P(x,y,y^\\prime)y^\\prime + Q(x,y,y^\\prime)y = 0$$\n",
      "<p>How to solve? <ul>\n",
      "<li>Linearize <ul><li>Formal$\\rightarrow$ Taylor series</li><li>Cavalier$\\rightarrow \\left( \\frac{y_{i+1} - y_{i-1}}{2\\Delta x}\\right)^{\\text{new}} \\cdot \\left(y_i\\right)^{\\text{old}}$</li><li>Iterate</li></ul>\n",
      "</li></ul>\n",
      "$\\nabla \\cdot q = F$<br/>\n",
      "$\\frac{\\partial}{\\partial x} \\left(-k(T) \\frac{\\partial T}{\\partial x}\\right)$<br/><br/>\n",
      "$=T^\\prime \\cdot k^{\\text{old}\\prime} + k^\\text{old} T^{\\prime\\prime}$"
     ]
    },
    {
     "cell_type": "code",
     "collapsed": false,
     "input": [],
     "language": "python",
     "metadata": {},
     "outputs": []
    }
   ],
   "metadata": {}
  }
 ]
}