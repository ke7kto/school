{
 "metadata": {
  "name": "",
  "signature": "sha256:5d85ec088f3aeb15f6f6cf948705428e39e9d1788b4cfe8060e8db5dac06a3f2"
 },
 "nbformat": 3,
 "nbformat_minor": 0,
 "worksheets": [
  {
   "cells": [
    {
     "cell_type": "heading",
     "level": 1,
     "metadata": {},
     "source": [
      "ChEn 541: Exam 1: Winter 2015"
     ]
    },
    {
     "cell_type": "heading",
     "level": 1,
     "metadata": {},
     "source": [
      "Due Friday October 20, BEFORE 9:00 AM"
     ]
    },
    {
     "cell_type": "heading",
     "level": 1,
     "metadata": {},
     "source": [
      "Problem 2"
     ]
    },
    {
     "cell_type": "heading",
     "level": 2,
     "metadata": {},
     "source": [
      "Open book, open notes.  Closed homework, homework solutions, and closed code examples.  You may use the internet for Matlab and Python help only."
     ]
    },
    {
     "cell_type": "heading",
     "level": 3,
     "metadata": {},
     "source": [
      "Part a"
     ]
    },
    {
     "cell_type": "markdown",
     "metadata": {},
     "source": [
      "A chemical reaction occurs in a continuous stirred tank reactor (CSTR).  There is an inlet, and an outlet.  The contents are perfectly mixed and the outlet composition is the same as the reactor composition.\n",
      "\n",
      "The reactions are \n",
      "\n",
      "A + B --> C  (reaction 1)\n",
      "\n",
      "B + C --> D  (reaction 2)\n",
      "\n",
      "The reaction rates for the species are given by \n",
      "$$\\begin{align} \n",
      "r_A &= -k_1[A][B] \\\\\n",
      "r_B &= -k_1[A][B] - k_2[B][C] \\\\\n",
      "r_C &= k_1[A][B] - k_2[B][C] \\\\\n",
      "r_D &= k_2[B][C]\n",
      "\\end{align}$$\n",
      "\n",
      "The mass balance for each species in the CSTR is \n",
      "$$ \\frac{d[Y]}{dt} = \\frac{[Y]_{in}-[Y]}{\\tau} + r,$$\n",
      "where $[Y]$ is one of $[A]$, $[B]$, $[C]$, or $[D]$.  Also, $\\tau$ is the residence time in the reactor (volume divided by volumetric flow rate).\n",
      "\n"
     ]
    },
    {
     "cell_type": "markdown",
     "metadata": {},
     "source": [
      "Solve for the concentrations $[Y]$ as functions of time to an end time of $5\\tau$ as described below. Also solve for the selectivity $S=C/(C+D)$, where C is a desired product and D is undesired. (This is initially undefined, so set the initial selectivity to 1.0.\n",
      "\n",
      "\n",
      "The initial concentration in the tank is $[B]_0 = 1.0$ and all other species are zero.\n",
      "\n",
      "The inlet concentrations are $[A]_{in} = 1.0$, and $[B]_{in} = 1.0$.\n",
      "\n",
      "Take $\\tau=10.0$, $k_1=1.0$, $k_2=5.0$.  Use an initial stepsize of $dt=0.01$.\n",
      "\n",
      "You should plot the concentrations and selectivity on the same plot.  (Include a legend.)  Use a linestyle that includes symbols so the step size is clear.  On a separate plot, show the stepsize versus time.  Use a log scale for the stepsize.\n",
      "\n",
      "You should solve the problem using the Implicit Euler method.  This is a nonlinear, multidimensional problem.  You will need a nonlinear solver. Use Newton's method with an analytic Jacobian.  You can use a built-in (Matlab or Python) linear solver. Set the step size using the step doubling technique.  Use a relative tolerance of 0.005 for all error testing, and use the 2-norm.  You may want to solve this in steps, making sure things work before adding complexity.\n"
     ]
    },
    {
     "cell_type": "markdown",
     "metadata": {},
     "source": [
      "In order to solve this problem, we need a general formula for implicit Euler.\n",
      "<ol><li>$\\vec{y}_{n+1} = \\vec{y}_n + h\\left[\\vec{f}(\\vec{y}_{n+1})\\right]$<br/><br/></li>\n",
      "<li>Use Newton's method identity.<br/>$\\vec{y}_{n+1} \\approx \\vec{y}_n + h\\left[\\vec{f}(\\vec{y}_n) + \\frac{d\\vec{f}}{d\\vec{y}}\\Big\\vert_{\\vec{y}_n}\\cdot (\\vec{y}_{n+1} - \\vec{y}_n)\\right]$</li>\n",
      "<li>$\\vec{y}_{n+1} - \\vec{y}_n\\approx h\\left[\\vec{f}(\\vec{y}_n) + \\frac{d\\vec{f}}{d\\vec{y}}\\Big\\vert_{\\vec{y}_n}\\cdot (\\vec{y}_{n+1} - \\vec{y}_n)\\right]$</li>\n",
      "<li>$\\vec{y}_{n+1} - \\vec{y}_n\\approx h\\vec{f}(\\vec{y}_n) + h\\frac{d\\vec{f}}{d\\vec{y}}\\Big\\vert_{\\vec{y}_n}\\cdot (\\vec{y}_{n+1} - \\vec{y}_n)$</li>\n",
      "<li>$\\left(\\vec{y}_{n+1} - \\vec{y}_n\\right) -h\\frac{d\\vec{f}}{d\\vec{y}}\\Big\\vert_{\\vec{y}_n}\\cdot (\\vec{y}_{n+1} - \\vec{y}_n) \\approx h\\vec{f}(\\vec{y}_n)$</li>\n",
      "<li>$\\left(\\mathbf{I} -h\\frac{d\\vec{f}}{d\\vec{y}}\\Big\\vert_{\\vec{y}_n}\\right)\\left(\\vec{y}_{n+1} - \\vec{y}_n\\right) \\approx h\\vec{f}(\\vec{y}_n)$</li>\n",
      "<li>$\\:\\:\\:\\:\\:\\:\\:\\:\\:\\:\\:\\:\\:\\:\\mathbf{A}\\:\\:\\:\\:\\:\\:\\:\\:\\:\\:\\:\\:\\:\\:\\:\\:\\:\\:\\:\\:\\:\\vec{x} \\:\\:\\:\\:\\:\\:\\:\\: \\:\\: =\\:\\:\\:\\:\\:\\:\\:\\:\\:\\vec{b}$</li>\n",
      "<li>Solve $\\mathbf{A}\\vec{x}=\\vec{b}$ with built in solver.</li>\n",
      "<li>$\\vec{y}_{n+1} = \\vec{x}+\\vec{y}_{n}$. $QED$</li>\n",
      "\n",
      "\n",
      "</ol>\n"
     ]
    },
    {
     "cell_type": "code",
     "collapsed": false,
     "input": [
      "from scipy.integrate import odeint\n",
      "%matplotlib inline\n",
      "myBool = False"
     ],
     "language": "python",
     "metadata": {},
     "outputs": [],
     "prompt_number": 1
    },
    {
     "cell_type": "code",
     "collapsed": false,
     "input": [
      "tau = 10.\n",
      "k1 = 1.0\n",
      "k2 = 5.0\n",
      "dt = .01\n",
      "def f(y,t=0):\n",
      "    \"\"\"System of ODEs\"\"\"\n",
      "    dy = np.zeros(4)\n",
      "    #This is where we calculate the function\n",
      "    dy[0] = (1-y[0])/tau - k1*y[0]*y[1]\n",
      "    dy[1] = (1-y[1])/tau - k1*y[0]*y[1] - k2*y[1]*y[2]\n",
      "    dy[2] = -y[2]/tau    + k1*y[0]*y[1] - k2*y[1]*y[2]\n",
      "    dy[3] = -y[3]/tau                   + k2*y[1]*y[2]\n",
      "    return dy\n",
      "\n",
      "def Jac(y):\n",
      "    \"\"\"Analytical Jacobian to solve problem statement\"\"\"\n",
      "    J = np.zeros([4,4])\n",
      "    J[0,0] = -1/tau - k1*y[1]\n",
      "    J[0,1] =        - k1*y[1]\n",
      "    J[0,2] =          k1*y[1]\n",
      "    J[0,3] = 0\n",
      "    J[1,0] =        - k1*y[0]\n",
      "    J[1,1] = -1/tau - k1*y[0] - k2*y[2]\n",
      "    J[1,2] =          k1*y[0] - k2*y[2]\n",
      "    J[1,3] =                    k2*y[2]\n",
      "    J[2,0] = 0\n",
      "    J[2,1] =                  - k2*y[1]\n",
      "    J[2,2] = -1/tau           - k2*y[1]\n",
      "    J[2,3] =                    k2*y[1]\n",
      "    J[3,0] = 0\n",
      "    J[3,1] = 0\n",
      "    J[3,2] = 0\n",
      "    J[3,3] = -1/tau\n",
      "    return J\n",
      "def ODEstep(f,J,y0,dt0,tend=50,rtol=0.005,maxit=100000):\n",
      "    \"\"\"ODEstep requires a system of derivatives, and a Jacobian function\n",
      "    which it then uses to integrate the ODE using an adaptive step size\n",
      "    and first order method (implicit Euler, well, semi-implicit Euler)\"\"\"\n",
      "    y = np.zeros([1,5])\n",
      "    t = np.zeros(1)\n",
      "    m,n = np.shape(y)\n",
      "    #I = np.ones([4,4])\n",
      "    I = np.identity(4)\n",
      "    ###This work is scratch work to show what I'm doing###\n",
      "    #ynp1 = yn + fnp1*deltat\n",
      "    #fnp1 = J*ynp1 + b\n",
      "    #ynp1 = yn + (J*ynp1) * deltat\n",
      "    #ynp1 - J*ynp1 = yn * deltat\n",
      "    #(1-J)*ynp1 = yn * deltat\n",
      "    y[0,:4]=y0\n",
      "    y[0,-1]=1\n",
      "    it=1\n",
      "    dt = dt0\n",
      "    dtList = [dt0]\n",
      "    dtList2 = []\n",
      "    #Iterate through time\n",
      "    while t[-1] < tend:\n",
      "        try:\n",
      "            J2 = (I-dt*J(y[-1,:4]))\n",
      "            y1=y[-1,:4] + np.linalg.solve(J2,dt*f(y[-1,:4],t[-1]))\n",
      "            J2_2 = (I-dt*2*J(y[-1,:4]))\n",
      "            y2 = y[-1,:4] + np.linalg.solve(J2_2,dt*2*f(y[-1,:4],t[-1]))\n",
      "            err = np.linalg.norm(y2 - y1)\n",
      "            if err < (np.max(y1)*rtol):\n",
      "                t=np.vstack((t,t[-1]+dt))\n",
      "                y=np.vstack((y,np.hstack((y1,y1[2]/(y1[2]+y1[3]) ))))\n",
      "                dt = dt*(np.max(np.abs(y1*rtol))/err)**(1/2)\n",
      "                dtList.append(dt)\n",
      "               # dtList2.append([err,dt,t[-1]])\n",
      "            else:\n",
      "                dt = dt*(np.max(np.abs(y1*rtol))/err)\n",
      "                #dtList2.append([err,dt,t[-1]])\n",
      "            if it > maxit:\n",
      "                return y,t\n",
      "            it+=1\n",
      "        except (np.linalg.linalg.LinAlgError, IndexError) as Err:\n",
      "            print(J2,i)\n",
      "            print(Err)\n",
      "            break\n",
      "    return y,t,dtList#,dtList2\n",
      "tend = 5*tau\n",
      "#t = np.arange(0,tend,dt)\n",
      "y0 = [0.,1.,0.,0.]\n",
      "y,t,dts = ODEstep(f,Jac,y0,dt,tend)\n"
     ],
     "language": "python",
     "metadata": {},
     "outputs": [],
     "prompt_number": 2
    },
    {
     "cell_type": "code",
     "collapsed": false,
     "input": [
      "plt.plot(t,   y[:,0],'b-s',label = 'A')\n",
      "plt.plot(t,   y[:,1],'g-d',label = 'B')\n",
      "plt.plot(t,   y[:,2],'r-p',label = 'C')\n",
      "plt.plot(t,   y[:,3],'c-o',label = 'D')\n",
      "plt.plot(t,   y[:,4],label = 'Selectivity')\n",
      "plt.legend(loc='best')\n",
      "plt.xlabel('Time (time units)')\n",
      "muffle=plt.ylabel('Concentration')"
     ],
     "language": "python",
     "metadata": {},
     "outputs": [
      {
       "metadata": {},
       "output_type": "display_data",
       "png": "[encoded data removed]",
       "text": [
        "<matplotlib.figure.Figure at 0x7fa9605a5470>"
       ]
      }
     ],
     "prompt_number": 3
    },
    {
     "cell_type": "code",
     "collapsed": false,
     "input": [],
     "language": "python",
     "metadata": {},
     "outputs": []
    },
    {
     "cell_type": "code",
     "collapsed": false,
     "input": [
      "plt.semilogy(t,dts)\n",
      "plt.xlabel('Time (time units)')\n",
      "muffle=plt.ylabel('Step Size')\n"
     ],
     "language": "python",
     "metadata": {},
     "outputs": [
      {
       "metadata": {},
       "output_type": "display_data",
       "png": "[encoded data removed]",
       "text": [
        "<matplotlib.figure.Figure at 0x7fa97c6a2940>"
       ]
      }
     ],
     "prompt_number": 4
    },
    {
     "cell_type": "heading",
     "level": 3,
     "metadata": {},
     "source": [
      "Part b"
     ]
    },
    {
     "cell_type": "markdown",
     "metadata": {},
     "source": [
      "Write a function to solve the system $Ax=b$ using the Gauss Seidel method.  \n",
      "\n",
      "In Matlab fill in your function as:\n",
      "\n",
      "    function x = linear_gs(A, b)\n",
      "       % write the solution here\n",
      "    end\n",
      "\n",
      "In Python, fill in your function as:\n",
      "\n",
      "    def linear_gs(A,b) :\n",
      "        # write the solution here\n",
      "        return x\n",
      " "
     ]
    },
    {
     "cell_type": "code",
     "collapsed": false,
     "input": [
      "import scipy.sparse\n",
      "from scipy.sparse.linalg import spsolve\n",
      "from scipy.sparse import lil_matrix, spdiags"
     ],
     "language": "python",
     "metadata": {},
     "outputs": [],
     "prompt_number": 5
    },
    {
     "cell_type": "code",
     "collapsed": false,
     "input": [
      "def linear_gs(A,b,itMax=1000,atol=1e-6):\n",
      "    \"\"\"This method requires a diagonally dominant matrix,\n",
      "    or it may diverge...\"\"\"\n",
      "    n,m = np.shape(A)\n",
      "    nb, = np.shape(b)\n",
      "    if nb != n:\n",
      "        raise np.linalg.linalg.LinAlgError(\"A and b have different dimensions.\")\n",
      "    R = b.copy()\n",
      "    x = b.copy()\n",
      "    indx = np.arange(0,nb)\n",
      "    R[0]=100\n",
      "    it = 0\n",
      "    myBool = True\n",
      "    while myBool:\n",
      "        myBool = False\n",
      "        for i in range(n):\n",
      "            if A[indx[i],i]==0:\n",
      "                myBool = True\n",
      "                if i == n-1:\n",
      "                    i = -1\n",
      "                    print(\"weird...\")\n",
      "                tmp = indx[i+1]\n",
      "                indx[i]=indx[i+1]\n",
      "                indx[i+1]=tmp\n",
      "        it +=1\n",
      "        if it > itMax:\n",
      "            print(\"Error, rank seems to be deficient\")\n",
      "            return b\n",
      "    Err = atol*100\n",
      "    while Err> atol:\n",
      "        for i in range(n):\n",
      "            \n",
      "            R[i] = b[indx[i]].copy()\n",
      "            for j in range(i):\n",
      "                R[i]-= A[indx[i],j]*x[j]\n",
      "            for j in range(i+1,n):\n",
      "                R[i]-= A[indx[i],j]*x[j]\n",
      "            x[i] = 1/A[indx[i],i]*R[i]\n",
      "        Err = np.linalg.norm(A.dot(x)-b)\n",
      "        it+=1\n",
      "        if it > itMax:\n",
      "            print(\"Bad day. Didn't converge. Here's my best guess.\")\n",
      "            return x[indx]\n",
      "    return x[indx]"
     ],
     "language": "python",
     "metadata": {},
     "outputs": [],
     "prompt_number": 6
    },
    {
     "cell_type": "code",
     "collapsed": false,
     "input": [
      "n = 30\n",
      "D = np.array([np.ones(n), -1.*np.ones(n), 4.*np.ones(n), -1.*np.ones(n), np.ones(n)])\n",
      "d = [-4,-2,0,2,6]\n",
      "A = spdiags(D,d,n,n)\n",
      "b = np.random.random(n)\n",
      "A = A.tocsr()\n",
      "x=linear_gs(A,b)\n",
      "print(x)"
     ],
     "language": "python",
     "metadata": {},
     "outputs": [
      {
       "output_type": "stream",
       "stream": "stdout",
       "text": [
        "[ 0.18319539  0.12417867  0.14735676  0.2408551  -0.02886785  0.19397407\n",
        " -0.01461684  0.06875749  0.13050456  0.16802139  0.19785488  0.17063006\n",
        "  0.06111556  0.09337086  0.10940218  0.15301659  0.15241022  0.00977278\n",
        "  0.10126594  0.0034752   0.19860389  0.07959604  0.24871339  0.05776231\n",
        "  0.25352871  0.10428161  0.07205428  0.23065035  0.20200302  0.25292217]\n"
       ]
      }
     ],
     "prompt_number": 7
    }
   ],
   "metadata": {}
  }
 ]
}