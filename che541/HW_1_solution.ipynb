{
 "metadata": {
  "name": "",
  "signature": "sha256:abb8679ed22b3d2583108313a0a35809cc5321019e660cf1e6e142cc6661548d"
 },
 "nbformat": 3,
 "nbformat_minor": 0,
 "worksheets": [
  {
   "cells": [
    {
     "cell_type": "heading",
     "level": 1,
     "metadata": {},
     "source": [
      "Problem 1"
     ]
    },
    {
     "cell_type": "markdown",
     "metadata": {},
     "source": [
      "*Write a program to compute the solutions to the quadratic equation.  The program should specify the coefficients a, b, c of $ax^2+bx+c=0$. The quadratic solution should be performed in a single function.  Verify your solution for $a=c=1$, and $b=4$.  Document the function for clarity.*"
     ]
    },
    {
     "cell_type": "code",
     "collapsed": false,
     "input": [
      "import numpy as np\n",
      "from __future__ import division"
     ],
     "language": "python",
     "metadata": {},
     "outputs": [],
     "prompt_number": 1
    },
    {
     "cell_type": "code",
     "collapsed": false,
     "input": [
      "def quad(a,b,c) :\n",
      "    # compute the roots of ax^2 + bx + c = 0.\n",
      "    # return real or complex roots\n",
      "    \n",
      "    disc = b**2 -4*a*c\n",
      "    if disc >= 0.0 :\n",
      "        x1 = (-b + np.sqrt(disc))/(2*a)\n",
      "        x2 = (-b - np.sqrt(disc))/(2*a)\n",
      "    else :\n",
      "        x1 = [-b/(2*a),  np.sqrt(-disc)/(2*a)]\n",
      "        x2 = [-b/(2*a), -np.sqrt(-disc)/(2*a)]\n",
      "        \n",
      "    return x1,x2"
     ],
     "language": "python",
     "metadata": {},
     "outputs": [],
     "prompt_number": 2
    },
    {
     "cell_type": "code",
     "collapsed": false,
     "input": [
      "a = 1; b = 1; c = 4;\n",
      "x1,x2=quad(a,b,c)\n",
      "print x1, x2"
     ],
     "language": "python",
     "metadata": {},
     "outputs": [
      {
       "output_type": "stream",
       "stream": "stdout",
       "text": [
        "[-0.5, 1.9364916731037085] [-0.5, -1.9364916731037085]\n"
       ]
      }
     ],
     "prompt_number": 3
    },
    {
     "cell_type": "heading",
     "level": 1,
     "metadata": {},
     "source": [
      "Problem 2"
     ]
    },
    {
     "cell_type": "heading",
     "level": 2,
     "metadata": {},
     "source": [
      "Part a"
     ]
    },
    {
     "cell_type": "markdown",
     "metadata": {},
     "source": [
      "*Recursion is a powerful programming technique in which a function calls itself as part of the solution process. This often simplifies algorithms and may improve computational speed. Write a recursive function that computes the factorial of an integer (positive or zero). Document the program appropriately. The program should be able to handle negative input.*"
     ]
    },
    {
     "cell_type": "code",
     "collapsed": false,
     "input": [
      "def fact(n) :\n",
      "    # A very simple recursive function to compute the factorial of a number\n",
      "    # Integer input is assumed\n",
      "    \n",
      "    n = int(n)\n",
      "    if n<0 :\n",
      "        print 'error in fact: n<0'\n",
      "        return n\n",
      "    if n<= 1 :\n",
      "        return 1\n",
      "    else :\n",
      "        return n*fact(n-1)"
     ],
     "language": "python",
     "metadata": {},
     "outputs": [],
     "prompt_number": 4
    },
    {
     "cell_type": "code",
     "collapsed": false,
     "input": [
      "print fact(4)"
     ],
     "language": "python",
     "metadata": {},
     "outputs": [
      {
       "output_type": "stream",
       "stream": "stdout",
       "text": [
        "24\n"
       ]
      }
     ],
     "prompt_number": 5
    },
    {
     "cell_type": "heading",
     "level": 2,
     "metadata": {},
     "source": [
      "Part b"
     ]
    },
    {
     "cell_type": "markdown",
     "metadata": {},
     "source": [
      "*Recursive functions have a so-called recusion depth (how how many times the function calls itself). What happens to your program if you enter too high a number (like 1000)? Based on this, would you recommend a recursive routine for this calculation?*"
     ]
    },
    {
     "cell_type": "markdown",
     "metadata": {},
     "source": [
      "The program takes forever and crashes."
     ]
    },
    {
     "cell_type": "heading",
     "level": 2,
     "metadata": {},
     "source": [
      "Part c"
     ]
    },
    {
     "cell_type": "markdown",
     "metadata": {},
     "source": [
      "*Report the run time for your algorithm compared to the built in function (called factorial). Write a script to compute the run time for computing the factorial of integers between 1 and 150 for your function and built in factorial function. Have the script plot the results on linear and log-log scales using the subplot command. You should include axis labels and legends. Comment on the results.* \n"
     ]
    },
    {
     "cell_type": "code",
     "collapsed": false,
     "input": [
      "%matplotlib inline\n",
      "import matplotlib.pyplot as plt\n",
      "import time\n",
      "\n",
      "times_fact      = np.zeros(150)\n",
      "times_factorial = np.zeros(150)\n",
      "x               = np.arange(1,151)\n",
      "\n",
      "for i in range(150) :\n",
      "    tstart = time.time()\n",
      "    fact(i+1)\n",
      "    times_fact[i] = time.time()-tstart \n",
      "    \n",
      "    tstart = time.time()\n",
      "    np.math.factorial(i+1)\n",
      "    times_factorial[i] = time.time()-tstart\n",
      " \n",
      "\n",
      "plt.subplot(2,1,1)\n",
      "plt.plot(x,times_fact,'k-', label='recusive')\n",
      "plt.plot(x,times_factorial, 'b-', label='built-in')\n",
      "plt.ylabel('x!')\n",
      "plt.legend(loc='upper left')\n",
      "\n",
      "plt.subplot(2,1,2)\n",
      "plt.yscale('log')\n",
      "plt.plot(x,times_fact,'k-', label='recursive')\n",
      "plt.plot(x,times_factorial, 'b-', label='built-in')\n",
      "plt.xlabel('x')\n",
      "plt.ylabel('x!')\n",
      "plt.legend(loc='upper left')\n",
      "\n"
     ],
     "language": "python",
     "metadata": {},
     "outputs": [
      {
       "metadata": {},
       "output_type": "pyout",
       "prompt_number": 6,
       "text": [
        "<matplotlib.legend.Legend at 0x1098d0850>"
       ]
      },
      {
       "metadata": {},
       "output_type": "display_data",
       "png": "[encoded data removed]",
       "text": [
        "<matplotlib.figure.Figure at 0x108c2f750>"
       ]
      }
     ],
     "prompt_number": 6
    },
    {
     "cell_type": "markdown",
     "metadata": {},
     "source": [
      "Clearly, the built-in function is much faster and is the one to use."
     ]
    },
    {
     "cell_type": "heading",
     "level": 1,
     "metadata": {},
     "source": [
      "Problem 3"
     ]
    },
    {
     "cell_type": "markdown",
     "metadata": {},
     "source": [
      "*List and describe five problems that require the use of numerical methods in your research or coursework. Each problem should require a different class of numerical method (such as a linear system of equations, or solution of ODEs, etc.).*"
     ]
    },
    {
     "cell_type": "markdown",
     "metadata": {},
     "source": [
      "1. Moving data from a nonuniform grid to a uniform grid.  Requires linear interpolation.\n",
      "2. Computing constants for a turbulent velocity field. Requires numerical integration.\n",
      "3. Solving for the chemical evolution of systems with many chemical species.  Requires stiff ODE integrators.\n",
      "4. Solving chemical equilibrium compositions.  Requires solving systems of coupled nonlinear equations.\n",
      "5. Solving composition profiles in steady reaction-diffusion systems via an iterative approach: requires solving a system of linear equations repeatedly."
     ]
    },
    {
     "cell_type": "code",
     "collapsed": false,
     "input": [],
     "language": "python",
     "metadata": {},
     "outputs": [],
     "prompt_number": 6
    }
   ],
   "metadata": {}
  }
 ]
}