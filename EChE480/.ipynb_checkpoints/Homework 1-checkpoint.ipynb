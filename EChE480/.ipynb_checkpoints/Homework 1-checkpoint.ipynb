{
 "metadata": {
  "name": "",
  "signature": "sha256:95fe8aaed2a0b0376b0d963687851640b1b199c6bed3aae431ad9241cfd3375c"
 },
 "nbformat": 3,
 "nbformat_minor": 0,
 "worksheets": [
  {
   "cells": [
    {
     "cell_type": "markdown",
     "metadata": {},
     "source": [
      "Assuming\u00a0that\u00a0an\u00a0empty\u00a0aluminum\u00a0beer\u00a0can\u00a0weighs\u00a020\u00a0g,\u00a0calculate\u00a0how\u00a0many\u00a0hours\u00a0you\u00a0\n",
      "could\u00a0operate\u00a0a\u00a0100-watt\u00a0light\u00a0bulb\u00a0[at\u00a0110V]\u00a0for\u00a0the same\u00a0amount\u00a0of\u00a0electricity that is consumed\u00a0in\u00a0producing\u00a0the\u00a0aluminum\u00a0for\u00a0the beer\u00a0can. The\u00a0aluminum reduction\u00a0proceeds\u00a0according\u00a0to:\u00a0\n",
      "2Al2O3\u00a0+\u00a03C\u00a0\u00a0\u00a0\u00a0\u00a0\u00a0\u00a0\u00a0\u00a0\u00a0\u00a0\u00a0\u00a0\u00a0\u00a0\u00a04Al\u00a0+\u00a03CO2\n",
      "The\u00a0Faradaic\u00a0efficiency\u00a0is\u00a090%. The\u00a0theoretical\u00a0Standard\u00a0Potential\u00a0(EMF)\u00a0for\u00a0the\u00a0reaction\u00a0\n",
      "is\u00a01.8V.\u00a0\u00a0However, a\u00a0voltage\u00a0of\u00a04.64\u00a0is\u00a0actually applied across\u00a0the\u00a0cell.  (For simplicity, you may assume that\u00a0the\u00a0light bulb\u00a0operates\u00a0on\u00a0D.C.)\u00a0\u00a0Determine:\n",
      "\n",
      "<ol start=\"1\" type=\"alphabetical\"><li> the\u00a0voltage\u00a0efficiency\u00a0of\u00a0the\u00a0process\n",
      "</li>\n",
      "<li> the\u00a0power\u00a0efficiency\u00a0of\u00a0the\u00a0process\n",
      "</li>\n",
      "<li>where\u00a0you think\u00a0the\u00a0voltage\u00a0is\u00a0dissipated and\u00a0what\u00a0you could\u00a0do about it\n",
      "</li><li> how\u00a0many\u00a0hours\u00a0can\u00a0you\u00a0operate\u00a0the\u00a0light\u00a0bulb?\u00a0\n",
      "</li><li>how\u00a0expensive\u00a0it\u00a0is\u00a0to\u00a0refine\u00a0the\u00a0aluminum\u00a0(assuming\u00a0a\u00a0[low] cost of\u00a0electricity,\u00a05\u00a0\u00a2/kW\u00a0hr).\u00a0\n",
      "</li><li>\u00a0Please\u00a0explain\u00a0briefly\u00a0which\u00a0method\u00a0is\u00a0more\u00a0relevant,\u00a0and\u00a0if\u00a0there\u00a0is\u00a0a\u00a0difference\u00a0between\u00a0the\u00a0results\u00a0from\u00a0the\u00a0two\u00a0methods,\u00a0the\u00a0source\u00a0for\u00a0the\u00a0difference.\u00a0\u00a0\u00a0\n",
      "</li>\n",
      "</ol>\n",
      "Note:\u00a0You\u00a0can\u00a0solve\u00a0parts (d)\u00a0and\u00a0(e)\u00a0in\u00a0two\u00a0ways: (i)\u00a0assuming\u00a0that the\u00a0same\u00a0number of\u00a0\n",
      "coulombs\u00a0are\u00a0used in\u00a0both\u00a0the aluminum\u00a0electrowinning and\u00a0in\u00a0the lighting of\u00a0the bulb;\u00a0\n",
      "or\u00a0(ii) that\u00a0the\u00a0same\u00a0power\u00a0is used\u00a0in\u00a0both\u00a0processes. For\u00a0full\u00a0credit, please\u00a0show both solutions for\u00a0parts\u00a0(d)\u00a0and\u00a0(e).\u00a0\u00a0\n",
      "\n",
      "(The\u00a0purpose\u00a0of\u00a0this\u00a0problem\u00a0is\u00a0to\u00a0realize\u00a0the\u00a0importance\u00a0of\u00a0irreversibilities\u00a0in\u00a0\n",
      "electrochemical\u00a0systems,\u00a0the\u00a0physical\u00a0implication\u00a0of\u00a0the\u00a0magnitude\u00a0of\u00a0the\u00a0Faraday\u00a0\n",
      "number,\u00a0and\u00a0the\u00a0cost\u00a0of\u00a0electrochemical\u00a0processes.)"
     ]
    },
    {
     "cell_type": "code",
     "collapsed": false,
     "input": [
      "from __future__ import division\n",
      "E0 = 1.8\n",
      "Vapplied = 4.64\n",
      "Veff = E0/Vapplied\n",
      "print(\"The voltage efficiency is {:.2%}\".format(Veff))"
     ],
     "language": "python",
     "metadata": {},
     "outputs": [
      {
       "output_type": "stream",
       "stream": "stdout",
       "text": [
        "The voltage efficiency is 38.79%\n"
       ]
      }
     ],
     "prompt_number": 1
    },
    {
     "cell_type": "code",
     "collapsed": false,
     "input": [
      "print(\"The power efficiency is {:.2%}\".format(Veff*.9))"
     ],
     "language": "python",
     "metadata": {},
     "outputs": [
      {
       "output_type": "stream",
       "stream": "stdout",
       "text": [
        "The power efficiency is 34.91%\n"
       ]
      }
     ],
     "prompt_number": 2
    },
    {
     "cell_type": "markdown",
     "metadata": {},
     "source": [
      "The voltage is probably being dissipated by side reactions in the medium. There is a tremendous amount of overpotential, which can probably be avoided with a clean setup, or just by reducing the overpotential. Using something other than aluminum, or removing impurities might be useful."
     ]
    },
    {
     "cell_type": "code",
     "collapsed": false,
     "input": [
      "#Assume constant coulombs\n",
      "import scipy.constants as c\n",
      "Vdc = 110\n",
      "P = 100\n",
      "#P = IV\n",
      "I = Vdc/P\n",
      "w = 20\n",
      "n_electrons = 3\n",
      "M = 26.981\n",
      "F = 96485\n",
      "t = F*w*n_electrons/M/I/(Veff*.9)\n",
      "price = 0.05\n",
      "Ncoulombs = F*w*n_electrons/M\n",
      "print(\"With the same number of coulombs, I can run the light bulb for {:.1f} hours\".format(t/3600))\n",
      "print(\"The cost of refining the Aluminum is ${:,.2f}\".format(P*t*0.05/1000))"
     ],
     "language": "python",
     "metadata": {},
     "outputs": [
      {
       "output_type": "stream",
       "stream": "stdout",
       "text": [
        "With the same number of coulombs, I can run the light bulb for 155.2 hours\n",
        "The cost of refining the Aluminum is $2,793.40\n"
       ]
      }
     ],
     "prompt_number": 3
    },
    {
     "cell_type": "code",
     "collapsed": false,
     "input": [
      "cost = price*t/3600*P/1000\n",
      "print(\"The cost is ${:.2f}\".format(cost))"
     ],
     "language": "python",
     "metadata": {},
     "outputs": [
      {
       "output_type": "stream",
       "stream": "stdout",
       "text": [
        "The cost is $0.78\n"
       ]
      }
     ],
     "prompt_number": 4
    },
    {
     "cell_type": "code",
     "collapsed": false,
     "input": [
      "It = F*w*n_electrons/M/(Veff*0.9)\n",
      "V = 4.64\n",
      "E_al = V*It/1000/3600\n",
      "print(\"The energy used to make 20 grams of Al is {:.2f} kWh\".format(E_al))\n",
      "print(\"The light bulb could run for {:.2f} hours\".format(E_al/(P/1000)))\n",
      "print(\"The cost is ${:.2f}\".format(E_al*price))"
     ],
     "language": "python",
     "metadata": {},
     "outputs": [
      {
       "output_type": "stream",
       "stream": "stdout",
       "text": [
        "The energy used to make 20 grams of Al is 0.79 kWh\n",
        "The light bulb could run for 7.92 hours\n",
        "The cost is $0.04\n"
       ]
      }
     ],
     "prompt_number": 5
    },
    {
     "cell_type": "markdown",
     "metadata": {},
     "source": [
      "Problem 2"
     ]
    },
    {
     "cell_type": "code",
     "collapsed": false,
     "input": [
      "PteaKettle = 1000\n",
      "Etransformer = 0.85\n",
      "Erxn = 0.8\n",
      "Vcell = 5\n",
      "Icell = PteaKettle/Vcell\n",
      "Hrxn = -1669.8e3\n",
      "molperS = (Icell *0.8)/F\n",
      "JouleHeating = (Vcell - E0)*Icell + PteaKettle/(1+1-Etransformer)\n",
      "print(\"There is a need for {:,.2f} Watts of cooling\".format(JouleHeating))\n",
      "#print(\"The current is {:.2f} Amps\".format(Icell))"
     ],
     "language": "python",
     "metadata": {},
     "outputs": [
      {
       "output_type": "stream",
       "stream": "stdout",
       "text": [
        "There is a need for 1,509.57 Watts of cooling\n"
       ]
      }
     ],
     "prompt_number": 6
    },
    {
     "cell_type": "code",
     "collapsed": false,
     "input": [
      "dT = 900 - 25\n",
      "k = 0.05 #W/m K\n",
      "SA = 6\n",
      "dx = k * SA*  dT/JouleHeating\n",
      "print(\"The length of a side is {:.2f} m\".format(dx))\n",
      "1/dx"
     ],
     "language": "python",
     "metadata": {},
     "outputs": [
      {
       "output_type": "stream",
       "stream": "stdout",
       "text": [
        "The length of a side is 0.17 m\n"
       ]
      },
      {
       "metadata": {},
       "output_type": "pyout",
       "prompt_number": 7,
       "text": [
        "5.7507246376811585"
       ]
      }
     ],
     "prompt_number": 7
    },
    {
     "cell_type": "code",
     "collapsed": false,
     "input": [
      "Tinner = dx/2 * JouleHeating/(k*SA) + 25\n",
      "print(\"The temperature inside the box is {:.2f} C\".format(Tinner))"
     ],
     "language": "python",
     "metadata": {},
     "outputs": [
      {
       "output_type": "stream",
       "stream": "stdout",
       "text": [
        "The temperature inside the box is 462.50 C\n"
       ]
      }
     ],
     "prompt_number": 8
    },
    {
     "cell_type": "code",
     "collapsed": false,
     "input": [
      "weightGrams = Icell*3600*Erxn/(F*n_electrons)*M\n",
      "print(\"You would be making {:.2f} grams of aluminum per hour\".format(weightGrams))\n",
      "170*3600*.8/(3*49500)*27\n",
      "F"
     ],
     "language": "python",
     "metadata": {},
     "outputs": [
      {
       "output_type": "stream",
       "stream": "stdout",
       "text": [
        "You would be making 53.69 grams of aluminum per hour\n"
       ]
      },
      {
       "metadata": {},
       "output_type": "pyout",
       "prompt_number": 9,
       "text": [
        "96485"
       ]
      }
     ],
     "prompt_number": 9
    },
    {
     "cell_type": "code",
     "collapsed": false,
     "input": [
      "ElectricPrice = 0.12 #/kWh\n",
      "gramsPerHour = weightGrams\n",
      "costPerHour = ElectricPrice*PteaKettle/1000\n",
      "costCom = 0.7/(c.lb/c.gram)\n",
      "costPerGram = costPerHour/gramsPerHour\n",
      "print(\"i:   The operation would be ${:.2f} per hour\".format(costPerHour))\n",
      "print(\"ii:  The Aluminum would be {:.3f} cents per gram\".format(costPerGram*100))\n",
      "print(\"iii: Commercial aluminum costs {:.3f} cents per gram, which is {:.2%} of the cost I estimated.\".format(costCom*100,costCom/costPerGram))\n",
      "print(\"iv:  The difference comes from the difference in electrical cost, which is the biggest expense in refining aluminum\")"
     ],
     "language": "python",
     "metadata": {},
     "outputs": [
      {
       "output_type": "stream",
       "stream": "stdout",
       "text": [
        "i:   The operation would be $0.12 per hour\n",
        "ii:  The Aluminum would be 0.224 cents per gram\n",
        "iii: Commercial aluminum costs 0.154 cents per gram, which is 69.05% of the cost I estimated.\n",
        "iv:  The difference comes from the difference in electrical cost, which is the biggest expense in refining aluminum\n"
       ]
      }
     ],
     "prompt_number": 10
    },
    {
     "cell_type": "code",
     "collapsed": false,
     "input": [
      "costPerCan = 0.08\n",
      "ozPerCan  = 0.57\n",
      "costPerOz = costPerCan/ozPerCan\n",
      "if(costPerOz/(c.ounce*c.gram) > costCom):\n",
      "    print(\"The amount you get for your can is {:.2f} cents per gram, which is higher, due to subsidization.\"\n",
      "      .format(costPerOz/(c.ounce/c.gram)*100))\n",
      "else:\n",
      "    print(\"The amount you get for your can is {:.2f} cents per gram, which is lower, due to the cost of recycling.\"\n",
      "      .format(costPerOz/(c.ounce/c.gram)*100))\n",
      "costPerOz/(c.ounce/c.lb)"
     ],
     "language": "python",
     "metadata": {},
     "outputs": [
      {
       "output_type": "stream",
       "stream": "stdout",
       "text": [
        "The amount you get for your can is 0.50 cents per gram, which is higher, due to subsidization.\n"
       ]
      },
      {
       "metadata": {},
       "output_type": "pyout",
       "prompt_number": 11,
       "text": [
        "2.2456140350877196"
       ]
      }
     ],
     "prompt_number": 11
    },
    {
     "cell_type": "code",
     "collapsed": false,
     "input": [
      "MWCu = 63.546\n",
      "CuRate = .1/F*MWCu/2\n",
      "MWAg = 107.8682\n",
      "AgRate = .1/F*MWAg\n",
      "print(\"AgRate {:.2e}\\nCuRate {:.2e}\".format(AgRate,CuRate))\n",
      "t = .1/(AgRate - CuRate)\n",
      "print(\"Equal weight comes after {:,.2f} seconds, {:.2f} minutes or {:.2f} hours.\".format(t,t/60,t/3600))"
     ],
     "language": "python",
     "metadata": {},
     "outputs": [
      {
       "output_type": "stream",
       "stream": "stdout",
       "text": [
        "AgRate 1.12e-04\n",
        "CuRate 3.29e-05\n",
        "Equal weight comes after 1,267.95 seconds, 21.13 minutes or 0.35 hours.\n"
       ]
      }
     ],
     "prompt_number": 12
    },
    {
     "cell_type": "markdown",
     "metadata": {},
     "source": [
      "Hydrogen\u2010oxygen\u00a0fuel\u00a0cells\u00a0have\u00a0been\u00a0suggested\u00a0for\u00a0automotive\u00a0application.\u00a0My\u00a0current\u00a0\n",
      "gasoline\u00a0tank\u00a0holds\u00a0about\u00a018\u00a0Gal\u00a0giving\u00a0me\u00a0a\u00a0range\u00a0of\u00a0about\u00a0250\u00a0miles.\u00a0The\u00a0energy\u00a0\n",
      "content\u00a0of\u00a0gasoline,\u00a0which\u00a0you\u00a0may\u00a0assume\u00a0consists\u00a0of\u00a0isopentane\u00a0(C H5 12 ),\u00a0is\u00a0\n",
      "3239.18kJ\n",
      "mol .\u00a0Assume\u00a0that\u00a0the\u00a0gasoline\u00a0engine\u00a0has\u00a0an\u00a0overall\u00a0efficiency\u00a0of\u00a020%.\u00a0My\u00a0car\u00a0\n",
      "is\u00a0about\u00a0200\u00a0HP,\u00a0but\u00a0I\u00a0am\u00a0willing\u00a0to\u00a0drop\u00a0to\u00a0100\u00a0HP\u00a0for\u00a0the\u00a0benefit\u00a0of\u00a0going\u00a0electric.\u00a0\n",
      "<h5>Please\u00a0calculate\u00a0the\u00a0volume\u00a0of\u00a0a\u00a0hydrogen\u00a0tank\u00a0that\u00a0will\u00a0give\u00a0you\u00a0a\u00a0similar\u00a0range.\u00a0</h5>\n",
      "Assume\u00a0two\u00a0cases:\u00a0\n",
      "<ol start=\"1\"><li>the\u00a0hydrogen\u00a0is\u00a0at\u00a0500\u00a0atm.\u00a0</li>\n",
      "<li>the\u00a0hydrogen\u00a0is\u00a0liquefied.\u00a0(what\u00a0is\u00a0\n",
      "the\u00a0pressure\u00a0for\u00a0this\u00a0case?)\u00a0Assume\u00a0that\u00a0the\u00a0fuel\u00a0cell\u00a0is\u00a0air\u00a0breathing\u00a0(i.e.,\u00a0no\u00a0need\u00a0to\u00a0\n",
      "carry\u00a0oxygen,\u00a0only\u00a0the\u00a0hydrogen).\u00a0\n",
      "</li>\n",
      "</ol>\n",
      "<ul>\n",
      "<li>Assume\u00a0that\u00a0the\u00a0fuel\u00a0cell\u00a0operates\u00a0at\u00a00.8\u00a0V\u00a0(instead\u00a0of\u00a0the\u00a0theoretical\u00a0\u2019x\u2019\u00a0V\u2014what\u00a0is\u00a0\u2018x\u2019?\u00a0) and\u00a0\n",
      "</li><li>10%\u00a0of\u00a0the\u00a0hydrogen\u00a0crosses\u00a0over\u00a0and\u00a0reacts\u00a0on\u00a0the\u00a0oxygen\u00a0cathode.\u00a0Make\u00a0any\u00a0reasonable\u00a0assumptions\u00a0that\u00a0you\u00a0need.\u00a0\u00a0\n",
      "(The\u00a0purpose\u00a0of\u00a0this\u00a0problem\u00a0is\u00a0to\u00a0use\u00a0simple\u00a0engineering\u00a0estimations\u00a0to\u00a0critically\u00a0\n",
      "analyze\u00a0technical\u00a0proposals).\u00a0</li></ul>"
     ]
    },
    {
     "cell_type": "code",
     "collapsed": false,
     "input": [
      "tankSize = 18 * c.gallon\n",
      "tankRange = 250 * c.mile\n",
      "Egas = 3239.18e3\n",
      "Vfc = 0.8\n",
      "CarEff = .2\n",
      "print(\"x is 1.23 V\")\n",
      "Current = 100*c.hp / Vfc/.9\n",
      "print(\"The car uses {:,.2f} Amps\".format(Current))\n",
      "T = 298\n",
      "R = 8.314472\n",
      "P = 500 * c.atm\n",
      "Vol = P/R*T\n",
      "EVfc = 0.8/1.23\n",
      "EIfc = 0.9\n",
      "dIsopentane = 616\n",
      "MWiso = 72.15\n",
      "EperMoleIso = 3239.18e3\n",
      "EperCuMeterIso = EperMoleIso/(MWiso*1e3/dIsopentane)\n",
      "print(\"There are {:.2f} Joules in my gas tank\".format(EperCuMeterIso*tankSize))\n",
      "nMoleH2PerS = Current/F\n",
      "VPerS = nMoleH2PerS/Vol\n",
      "print(\"The car uses {:.2f} moles (of Hydrogen) per second\".format(nMoleH2PerS))\n",
      "print(\"That's {:.2e} gallons per hour\".format(VPerS/c.gallon*3600))"
     ],
     "language": "python",
     "metadata": {},
     "outputs": [
      {
       "output_type": "stream",
       "stream": "stdout",
       "text": [
        "x is 1.23 V\n",
        "The car uses 103,569.43 Amps\n",
        "There are 1884.37 Joules in my gas tank\n",
        "The car uses 1.07 moles (of Hydrogen) per second\n",
        "That's 5.62e-04 gallons per hour\n"
       ]
      }
     ],
     "prompt_number": 13
    },
    {
     "cell_type": "code",
     "collapsed": false,
     "input": [
      "tankSize = 18*c.gallon\n",
      "tankRange = 250*c.mile\n",
      "Egas = 3239.18e3 # J/mol\n",
      "MWiso = 72.15\n",
      "MWh2o = 18.01528\n",
      "rhoGas = 616 #kg/m^3\n",
      "Ewater = 285.8\n",
      "Vfc = 0.8\n",
      "E0 = 1.23\n",
      "rhoVapor = 500*c.atm / c.R / 298 # mol/m^3\n",
      "Vliq = 70.85 #kg/m^3 (Thermophysical Properties of Hydrogen , nist.gov, accessed 2012-09-14)\n",
      "ErhoGas = Egas / (MWiso * c.gram) * rhoGas #J/mol * (mol/kg) * kg/m^3 = J/m^3\n",
      "ErhoH2Vap = Ewater * rhoVapor # J/mol * mol/m^3\n",
      "ErhoH2Liq = Ewater / (MWh2o * c.gram) * Vliq\n",
      "gasEfficiency = 0.2\n",
      "Vaporm3 = tankSize / (ErhoGas * gasEfficiency) * (ErhoH2Vap * .9 * Vfc/E0) \n",
      "liquidm3 = tankSize / (ErhoGas * gasEfficiency) * (ErhoH2Liq * .9 * Vfc/E0) \n",
      "print(\"An H2 vapor tank would need to be {:.2f} gallons\".format(Vaporm3/c.gallon))\n",
      "PLiqH2 = 200 *c.giga\n",
      "print(\"An H2 liquid tank would need to be {:.2f} gallons and would be at insanely high pressure.\\\n",
      "      \\r\\nHydrogen is above it's critical point here\".format(liquidm3/c.gallon))\n"
     ],
     "language": "python",
     "metadata": {},
     "outputs": [
      {
       "output_type": "stream",
       "stream": "stdout",
       "text": [
        "An H2 vapor tank would need to be 0.01 gallons\n",
        "An H2 liquid tank would need to be 0.00 gallons and would be at insanely high pressure.      \r\n",
        "Hydrogen is above it's critical point here\n"
       ]
      }
     ],
     "prompt_number": 54
    },
    {
     "cell_type": "code",
     "collapsed": false,
     "input": [],
     "language": "python",
     "metadata": {},
     "outputs": [],
     "prompt_number": 42
    },
    {
     "cell_type": "code",
     "collapsed": false,
     "input": [],
     "language": "python",
     "metadata": {},
     "outputs": [],
     "prompt_number": 42
    },
    {
     "cell_type": "code",
     "collapsed": false,
     "input": [],
     "language": "python",
     "metadata": {},
     "outputs": []
    }
   ],
   "metadata": {}
  }
 ]
}