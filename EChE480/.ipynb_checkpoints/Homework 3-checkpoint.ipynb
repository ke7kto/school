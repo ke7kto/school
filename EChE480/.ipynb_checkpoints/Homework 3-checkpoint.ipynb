{
 "cells": [
  {
   "cell_type": "code",
   "execution_count": 66,
   "metadata": {
    "collapsed": false
   },
   "outputs": [],
   "source": [
    "import scipy.constants as c\n",
    "F = c.physical_constants['Faraday constant'][0]"
   ]
  },
  {
   "cell_type": "markdown",
   "metadata": {},
   "source": [
    "<h5>Problem 1</h5>\n",
    "Two parallel plate copper electrodes are immersed in 0.1 M CuSO_4 electrolyte supported by 1 M H_2SO_4. Each electrode is 4 cm^2 in area and the inter-electrode gap is 0.5 cm. Convection provides a uniform boundary layer thickness of 0.1 mm\n",
    "<ol style=\"list-style-type: lower-alpha\">\n",
    "<li>Assuming that the only significant potential drop is ohmic (neglecting concentration variations and kinetic limitations), estimate the voltage required to pass a current of 40 mA. (Assume complete dissociation of H_2SO_4 to H+ and SO4^= although this is not likely to be true.)</li>\n",
    "<li>Sketch schematically, the concentration profiles of all species present: $Cu^{++}, H^+, SO_4^=$. For simplicity assume again complete dissociation of H_2SO_4</li>\n",
    "<li>Determine quantitatively the concentration of all species at the electrodes.</li>\n",
    "<li>Repeat part (c) if the current is raised to 200 mA.</li>\n",
    "<li>What is the limiting current for the system?</li>\n",
    "<li>Can you estimate the conductivity of the solution, and the IR drop?</li>\n",
    "<li>Repeat parts (e) and (f) if the acid was completely removed</li>\n",
    "</ol>"
   ]
  },
  {
   "cell_type": "code",
   "execution_count": 67,
   "metadata": {
    "collapsed": false
   },
   "outputs": [
    {
     "name": "stdout",
     "output_type": "stream",
     "text": [
      "88.68\n",
      "The voltage required to pass a current with only ohmic effects is 5.64 milliVolts\n"
     ]
    }
   ],
   "source": [
    "CuSO4 = 0.1/c.liter\n",
    "H2SO4 = 1/c.liter\n",
    "lambdaCu = 54.*c.centi**2\n",
    "lambdaH = 350.*c.centi**2\n",
    "lambdaSO4 = 80.*c.centi**2\n",
    "I =40*c.milli\n",
    "A = 4 * c.centi**2\n",
    "l = 0.5*c.centi\n",
    "\n",
    "kappa = (2 * CuSO4 * lambdaCu + 2 * CuSO4 * lambdaSO4 + (2 * H2SO4) * lambdaH + 2 * H2SO4*lambdaSO4) #S/m\n",
    "print(kappa)\n",
    "#V = IR\n",
    "#V = I/S\n",
    "R = 1/kappa * l/A\n",
    "V = I*R\n",
    "print(\"The voltage required to pass a current with only ohmic effects is {:.3g} milliVolts\".format(V/c.milli))"
   ]
  },
  {
   "cell_type": "code",
   "execution_count": 68,
   "metadata": {
    "collapsed": false
   },
   "outputs": [
    {
     "data": {
      "text/plain": [
       "<matplotlib.legend.Legend at 0x7f08fed8c2b0>"
      ]
     },
     "execution_count": 68,
     "metadata": {},
     "output_type": "execute_result"
    },
    {
     "data": {
      "image/png": "[encoded data removed]",
      "text/plain": [
       "<matplotlib.figure.Figure at 0x7f08fee6be10>"
      ]
     },
     "metadata": {},
     "output_type": "display_data"
    }
   ],
   "source": [
    "x = np.linspace(-1,1,100)\n",
    "y = x**13\n",
    "y = y - np.min(y)\n",
    "Cu = y\n",
    "H = (-y + np.max(y))+2*10\n",
    "SO4 = Cu + H/2\n",
    "deln = 0.1 * c.milli\n",
    "\n",
    "plt.plot(x,Cu,label='$Cu^{2+}$')\n",
    "plt.plot(x,H,label='$H^{+}$')\n",
    "plt.plot(x,SO4,label='$SO_4^{2-}$')\n",
    "plt.xticks([-0.85,0.85],['0.1 mm', '4.9 mm'])#,\"anode\"])\n",
    "plt.yticks([])\n",
    "plt.annotate('Anode',xy=(1,(np.max(SO4)+np.min(H))/2),\\\n",
    "             xytext=(0.5,(np.max(SO4)+np.min(H))/2),\\\n",
    "             arrowprops=dict(facecolor='black', arrowstyle='->'),)\n",
    "plt.annotate('Cathode',xy=(-1,(np.max(SO4)+np.min(H))/2),\\\n",
    "             xytext=(-0.75,(np.max(SO4)+np.min(H))/2),\\\n",
    "             arrowprops=dict(facecolor='black', arrowstyle='->'),)\n",
    "plt.ylabel('Concentration')\n",
    "plt.legend(loc='center')"
   ]
  },
  {
   "cell_type": "markdown",
   "metadata": {
    "collapsed": false
   },
   "source": [
    "c) Determine quantitatively the concentration of all species at the electrodes."
   ]
  },
  {
   "cell_type": "code",
   "execution_count": 69,
   "metadata": {
    "collapsed": false
   },
   "outputs": [
    {
     "name": "stdout",
     "output_type": "stream",
     "text": [
      "The concentration of copper at the cathode is 0.09999942 mol/L\n",
      "The concentration of sulfate at the cathode is 1.099994 mol/L\n",
      "The concentration of hydrogen ion at the cathode is 1.999988 mol/L\n",
      "\n",
      "The concentration of copper at the anode is 0.10003 mol/L\n",
      "The concentration of sulfate at the anode is 1.1003 mol/L\n",
      "The concentration of hydrogen ion at the anode is 2.0006 mol/L\n"
     ]
    }
   ],
   "source": [
    "i = 40*c.milli\n",
    "Cb = np.array([CuSO4, CuSO4+H2SO4, 2*H2SO4])\n",
    "lamda = np.array([lambdaCu,lambdaSO4,lambdaH])\n",
    "stuff = ['copper','sulfate','hydrogen ion']\n",
    "z = np.array([2,-2,1])\n",
    "tR = Cb*lamda*z/np.sum(Cb*lamda*z)\n",
    "T = 298\n",
    "sR = np.array([1,1,1])\n",
    "n = np.array([2,2,1])\n",
    "U = lamda/F**2/z\n",
    "D = c.R*T*U\n",
    "Ce = Cb - tR*np.abs(i)*deln/(n*F*D)\n",
    "\n",
    "Ce[2] = -(Ce[0]*z[0] +Ce[1]*z[1])/z[2]\n",
    "for i in range(len(Ce)):\n",
    "    print(\"The concentration of {:} at the cathode is {:.7g} mol/L\".format(stuff[i],Ce[i]*c.liter))\n",
    "Ce = Cb + tR*np.abs(i)*deln/(n*F*D)\n",
    "Ce[2] = -(Ce[0]*z[0] +Ce[1]*z[1])/z[2]\n",
    "print(\"\")\n",
    "for i in range(len(Ce)):\n",
    "    print(\"The concentration of {:} at the anode is {:.5g} mol/L\".format(stuff[i],Ce[i]*c.liter))\n"
   ]
  },
  {
   "cell_type": "markdown",
   "metadata": {},
   "source": [
    "d) Repeat (c) for i=200 mA"
   ]
  },
  {
   "cell_type": "code",
   "execution_count": 70,
   "metadata": {
    "collapsed": false
   },
   "outputs": [
    {
     "name": "stdout",
     "output_type": "stream",
     "text": [
      "The concentration of copper at the cathode is 0.09999709 mol/L\n",
      "The concentration of sulfate at the cathode is 1.099968 mol/L\n",
      "The concentration of hydrogen ion at the cathode is 1.999942 mol/L\n",
      "\n",
      "The concentration of copper at the anode is 0.10003 mol/L\n",
      "The concentration of sulfate at the anode is 1.1003 mol/L\n",
      "The concentration of hydrogen ion at the anode is 2.0006 mol/L\n"
     ]
    }
   ],
   "source": [
    "i = 200*c.milli\n",
    "Ce = Cb - tR*np.abs(i)*deln/(n*F*D)\n",
    "\n",
    "Ce[2] = -(Ce[0]*z[0] +Ce[1]*z[1])/z[2]\n",
    "for i in range(len(Ce)):\n",
    "    print(\"The concentration of {:} at the cathode is {:.7g} mol/L\".format(stuff[i],Ce[i]*c.liter))\n",
    "Ce = Cb + tR*np.abs(i)*deln/(n*F*D)\n",
    "Ce[2] = -(Ce[0]*z[0] +Ce[1]*z[1])/z[2]\n",
    "print(\"\")\n",
    "for i in range(len(Ce)):\n",
    "    print(\"The concentration of {:} at the anode is {:.5g} mol/L\".format(stuff[i],Ce[i]*c.liter))\n"
   ]
  },
  {
   "cell_type": "markdown",
   "metadata": {},
   "source": [
    "e) What is the limiting current of the system?"
   ]
  },
  {
   "cell_type": "markdown",
   "metadata": {},
   "source": [
    "f) Can you estimate the conductivity of the solution, and the IR drop?"
   ]
  },
  {
   "cell_type": "code",
   "execution_count": 71,
   "metadata": {
    "collapsed": false
   },
   "outputs": [
    {
     "name": "stdout",
     "output_type": "stream",
     "text": [
      "The limiting current is 14.15 mA/cm^2\n",
      "The conductivity is around 88.68 S/m\n",
      "The IR drop at limiting current is 156884.01 Volts/m^2\n"
     ]
    }
   ],
   "source": [
    "iLimiting = (n*F*D*Cb/(sR*(1-tR)*deln))[0]\n",
    "print(\"The limiting current is {:.2f} mA/cm^2\".format(iLimiting*c.centi**2/c.milli))\n",
    "IR = l/A*kappa*iLimiting\n",
    "print(\"The conductivity is around {:.2f} S/m\\nThe IR drop at limiting current is {:.2f} Volts/m^2\".format(kappa,IR))"
   ]
  },
  {
   "cell_type": "markdown",
   "metadata": {},
   "source": [
    "g) Repeat (e) and (f) if the acid is removed."
   ]
  },
  {
   "cell_type": "code",
   "execution_count": 72,
   "metadata": {
    "collapsed": false
   },
   "outputs": [
    {
     "name": "stdout",
     "output_type": "stream",
     "text": [
      "The limiting current is 4.51 mA/cm^2\n",
      "The conductivity is around 2.68 S/m\n",
      "The IR drop at limiting current is 1509.77 Volts/m^2\n"
     ]
    }
   ],
   "source": [
    "H2SO4 = 0\n",
    "Cb = np.array([CuSO4, CuSO4+H2SO4, 2*H2SO4])\n",
    "tR = Cb*lamda*z/np.sum(Cb*lamda*z)\n",
    "kappa = (2 * CuSO4 * lambdaCu + 2 * CuSO4 * lambdaSO4 + (2 * H2SO4) * lambdaH + 2 * H2SO4*lambdaSO4) #S/m\n",
    "iLimiting = (n*F*D*Cb/(sR*(1-tR)*deln))[0]\n",
    "print(\"The limiting current is {:.2f} mA/cm^2\".format(iLimiting*c.centi**2/c.milli))\n",
    "IR = l/A*kappa*iLimiting\n",
    "print(\"The conductivity is around {:.2f} S/m\\nThe IR drop at limiting current is {:.2f} Volts/m^2\".format(kappa,IR))"
   ]
  },
  {
   "cell_type": "markdown",
   "metadata": {},
   "source": [
    "Gold is plated out of potassium gold cyanide complex solution (KAu(CN)2) of about 1 troy ounce per gallon, supported by 15 g/L monosodium phosphate and 20 g/L dipotassium phosphate. This solution yields a pH of about neutral (6.5-7.5)"
   ]
  },
  {
   "cell_type": "markdown",
   "metadata": {},
   "source": [
    "a) Considering that gold is tied down to a negative ion which does not dissociate to any appreciable extent, how does the gold get to the cathode and plate out?"
   ]
  },
  {
   "cell_type": "markdown",
   "metadata": {},
   "source": [
    "<ul><li>The gold diffuses to the cathode, against the effects of migration. The electroneutrality assumption provides some insight here, as it shows that even in an electric field, anions exist everywhere in solution. The gold has to dissociate to plate, but not to be in the region around the cathode.</li></ul>"
   ]
  },
  {
   "cell_type": "markdown",
   "metadata": {},
   "source": [
    "b) estimate the transport number of gold in this electrolyte"
   ]
  },
  {
   "cell_type": "code",
   "execution_count": 83,
   "metadata": {
    "collapsed": false
   },
   "outputs": [
    {
     "name": "stdout",
     "output_type": "stream",
     "text": [
      "The transport number of gold in this electrolyte is 0.033\n"
     ]
    }
   ],
   "source": [
    "MWAu = 196.96657 *c.gram\n",
    "MWNaH2PO4 = 119.98 *c.gram\n",
    "MWK2HPO4 = 174.2 * c.gram\n",
    "AuConc = 1*c.troy_ounce/c.gallon/MWAu #mol/m^3\n",
    "NaH2PO4Conc = 15*c.gram/c.liter/MWNaH2PO4\n",
    "K2HPO4Conc = 20*c.gram/c.liter/MWK2HPO4\n",
    "K = AuConc + 2*K2HPO4Conc\n",
    "Na = NaH2PO4Conc\n",
    "AuCN2 = AuConc\n",
    "PO4 = NaH2PO4Conc + K2HPO4Conc\n",
    "lK = 73 *c.centi**2\n",
    "lNa = 50 * c.centi**2\n",
    "lAuCN2 = 50*c.centi**2\n",
    "lPO4 = 50*c.centi**2\n",
    "tAu = lAuCN2*1*AuCN2/(lAuCN2*1*AuCN2 + lK*1*K + lNa*1*Na + lPO4*3*PO4)\n",
    "print(\"The transport number of gold in this electrolyte is {:.2g}\".format(tAu))"
   ]
  },
  {
   "cell_type": "markdown",
   "metadata": {},
   "source": [
    "c) What is the limiting current, assuming a boundary layer of 0.1mm"
   ]
  },
  {
   "cell_type": "code",
   "execution_count": 88,
   "metadata": {
    "collapsed": false
   },
   "outputs": [
    {
     "name": "stdout",
     "output_type": "stream",
     "text": [
      "The limiting current is 5.54 mA/cm^2\n"
     ]
    }
   ],
   "source": [
    "deln = 0.1 * c.milli\n",
    "z = 1\n",
    "U = lAuCN2/F**2/z\n",
    "D = c.R*T*U\n",
    "iLimiting = (1*F*D*AuConc/((1-tAu)*deln))\n",
    "print(\"The limiting current is {:.2f} mA/cm^2\".format(iLimiting/c.milli*c.centi**2))"
   ]
  },
  {
   "cell_type": "markdown",
   "metadata": {},
   "source": [
    "What is the electric field in a cell where a current of 1 A passes between two 50 cm^2 electrodes, placed 0.5 cm apart? The electrolyte consists of 0.05 M KOH"
   ]
  },
  {
   "cell_type": "code",
   "execution_count": 107,
   "metadata": {
    "collapsed": false
   },
   "outputs": [
    {
     "name": "stdout",
     "output_type": "stream",
     "text": [
      "The electric field is 1.5 V/cm\n",
      "If we added KOH so that the electrolyte concentration is 1 M,\n",
      "we would have an electric field of 0.07 V/cm\n"
     ]
    }
   ],
   "source": [
    "I = 1\n",
    "A = 50*c.centi**2\n",
    "l = 0.5*c.centi\n",
    "K = 0.05 /c.liter\n",
    "OH = 0.05 /c.liter\n",
    "lOH = 200*c.centi**2\n",
    "kappa = K*lK + OH*lOH\n",
    "V = I/(kappa*l/A)\n",
    "U = lOH/F**2/z\n",
    "D = c.R*T*U\n",
    "iLimiting = (1*F*D*OH/((0.5)*deln))\n",
    "K2 = 1/c.liter\n",
    "OH2 = 1/c.liter\n",
    "kappa2 = K2*lK + OH2*lOH\n",
    "V2 = I/(kappa2*l/A)\n",
    "print(\"The electric field is {:.2g} V/cm\".format(V*c.centi/l))\n",
    "print(\"If we added KOH so that the electrolyte concentration is 1 M,\\n\\\n",
    "we would have an electric field of {:.2f} V/cm\".format(V2*c.centi/l))"
   ]
  },
  {
   "cell_type": "code",
   "execution_count": null,
   "metadata": {
    "collapsed": true
   },
   "outputs": [],
   "source": []
  }
 ],
 "metadata": {
  "kernelspec": {
   "display_name": "Python 3",
   "language": "python",
   "name": "python3"
  },
  "language_info": {
   "codemirror_mode": {
    "name": "ipython",
    "version": 3
   },
   "file_extension": ".py",
   "mimetype": "text/x-python",
   "name": "python",
   "nbconvert_exporter": "python",
   "pygments_lexer": "ipython3",
   "version": "3.4.3"
  }
 },
 "nbformat": 4,
 "nbformat_minor": 0
}
