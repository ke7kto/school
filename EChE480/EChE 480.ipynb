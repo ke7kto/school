{
 "metadata": {
  "name": "",
  "signature": "sha256:7dd3bb2b916c2ca5f32f76c6f10076aa3baf58710388b455a81e8ce5e6fdb569"
 },
 "nbformat": 3,
 "nbformat_minor": 0,
 "worksheets": [
  {
   "cells": [
    {
     "cell_type": "markdown",
     "metadata": {},
     "source": [
      "Next time: Fundamental concepts: Faraday's laws, electronic and ionic conduction, the double layer"
     ]
    },
    {
     "cell_type": "markdown",
     "metadata": {},
     "source": [
      "<h1>Dr. Landau is the Professor</h1>\n",
      "- There is no T.A.\n",
      "- He likes to go over on time."
     ]
    },
    {
     "cell_type": "markdown",
     "metadata": {},
     "source": [
      "This is probably the biggest class I've seen here. There is room for approximately 36 here."
     ]
    },
    {
     "cell_type": "markdown",
     "metadata": {},
     "source": [
      "We are doing a combined class with some undergraduates. Graduate students will need to do a little bit of heavier lifting."
     ]
    },
    {
     "cell_type": "markdown",
     "metadata": {},
     "source": [
      "We will meet at 5:45 pm from here on out."
     ]
    },
    {
     "cell_type": "markdown",
     "metadata": {},
     "source": [
      "Class objectives\n",
      "- Gain understanding of fundamentals\n",
      "- apply quantitative engineering approach to the rational design, scale up analysis, and control of electrochemical cells and processes.\n",
      "- Gain familiarity with important electrochemical systems <i>And the issues associated with them</i>\n",
      "- Enhance knowledge of transport, thermo, reactions and a little bit of process design."
     ]
    },
    {
     "cell_type": "markdown",
     "metadata": {},
     "source": [
      "Details will be presented and students will solve problems based on applications in \n",
      "- Batteries\n",
      "- Plating systems\n",
      "- corrosion, electrodissolution, and electropolishing\n",
      "- electro-synthesis of elements and compounds\n",
      "\n",
      "Graduate students will be required to make and present a term paper, and some additional homeworks that require a little more digging."
     ]
    },
    {
     "cell_type": "markdown",
     "metadata": {},
     "source": [
      "Two mid terms will be required, both with open notes. These are pre-announced.\n",
      "There will be an open-notes final.\n",
      "\n",
      "Term papers and oral presentations for graduate students."
     ]
    },
    {
     "cell_type": "markdown",
     "metadata": {},
     "source": [
      "There is no printed book that covers the material we're covering. There are optional supports, \n",
      "- Geofferey Prentice, \"Electrochemical Engineering Principles\", Prentice Hall, 1991\n",
      "  - many times simplistic, has some errors\n",
      "- John Newman, \"Electrochemical Systems\", Prentice Hall - Great, but very dry and according to Dr. Landau, very uninteresting\n",
      "- A. J. Bard and L. R. Faulkner, \"Electrochemical Methods\", John Wiley and Sons, 2001 (Not a book on electrochemical engineering, more chemistry oriented)\n",
      "- Computer Aided Design Software for Electrochemical Cells\n",
      "\n",
      "Homework 20%\n",
      "Mid-Terms 30%\n",
      "Term Paper 20%\n",
      "Final 30%\n",
      "\n",
      "Students will be rank-ordered and graded according to their cumulative score.\n",
      "\n",
      "Term papers and oral presentations: Topics will be suggested by students, selected from a suggested list, and will be pre-approved by the instructor.\n",
      "\n",
      "Communications: HW assignments and lecture notes will be posted on Blackboard.\n",
      "\n",
      "Generous grader, 1/2 class A's \"You do your part I do my part\"\n",
      "\n",
      "There exists a detailed lecture plan"
     ]
    },
    {
     "cell_type": "markdown",
     "metadata": {},
     "source": [
      "Dr. Landau will post lectures on blackboard.\n",
      "\n"
     ]
    },
    {
     "cell_type": "markdown",
     "metadata": {},
     "source": [
      "Homework will be assigned weekly on Tuesday, expected back one week later. This will be adjusted as needed, but one week to do homework is guaranteed."
     ]
    },
    {
     "cell_type": "markdown",
     "metadata": {},
     "source": [
      "You will grade your own homework. Each of the graduate students will be assigned one of the weeks, and they will grade everyone's homework for that week."
     ]
    },
    {
     "cell_type": "markdown",
     "metadata": {},
     "source": [
      "Combs are made out of bakelite, or something similar"
     ]
    },
    {
     "cell_type": "markdown",
     "metadata": {},
     "source": [
      "1. What is electrochemistry\n",
      "    - electrochemistry is the science of studying the interaction of charged ionic species under an applied electric field\n",
      "2. Why practice electrochemistry\n",
      "    - Very prevalent in our lives\n",
      "    - Rust\n",
      "    - Batteries\n",
      "    - All of the non-Ferrous metals are made or refined by electrodeposition - 90% of the elements are either made or refined via electrochemistry. Only Iron is not.\n",
      "    - The largest volume chemical in use is Chlorine, used to make PVC, extracted by electrodeposition\n",
      "    - Electrolyzers and fuel cells\n",
      "    - Electroforming\n",
      "    - Electromachining\n",
      "    - Shaping of chemicals\n",
      "    - Some organic reactions\n",
      "    - the precursor in nylon production is made by an electrochemical process\n",
      "    - Biologically, the brain uses electrochemical processes\n",
      "    - Nerve stimulation, biosensors\n",
      "    - Electrodialysis\n",
      "    - Electrophoresis\n",
      "3. What are the main features\n",
      "    - \n",
      "4. Electrochemical Cells: Modes of operation\n",
      "    - Electrical Energy $\\rightarrow$ Chemical Products\n",
      "        - Electrolysis, plating or battery charging\n",
      "        - External driving force is applied to drive a chemical reaction against its spontaneous direction\n",
      "    - Chemical Reaction $\\rightarrow$ Electrical Energy\n",
      "        - Battery or fuel-cell\n",
      "        - a spontaneous chmical reaction is used to create an electromotive force.\n",
      "5. The Electrochemical Cell\n",
      "    - Main Components\n",
      "        1. Electrolyte (liquid that contains ionic species)\n",
      "        2. A minimum of 2 electrodes (Cathode[s] and Anode[s])\n",
      "            - Reduction, the charge number goes down. This is done at the cathode\n",
      "            - Oxidation, the oxidation number goes up. This is done at the anode\n",
      "        3. Electron Pathway (Power supply or load)\n",
      "            - Free electrons can only exist in a metal (or semi-metal)\n",
      "            - If there is no conductivity, large localized voltages can be generated. (No Van-De Graff effect)            \n",
      "        4. Separator (which is optional)\n",
      "            - Solutions have ions, which can move through the solution (Duh.)\n",
      "            - \n",
      "    - Conservation of charge $\\Rightarrow$ Charge may be circulated, but never generated!\n",
      "        - Electroneutrality: <b>$\\Sigma Z_j C_j = 0$</b>\n",
      "            - Even a small separation of charge results in huge voltages!\n",
      "    - Electrode/Electrolyte Interface - The Double Layer\n",
      "        - \n",
      "    - Energy requirements at the electrode:\n",
      "        - 10-100 KCal $\\approx$ 4 eV\n",
      "        - 0-4 Volts\n",
      "    - The cell is essentially a pump, not a generator.\n",
      "    - Decomposition:\n",
      "        - Water: 1.23 V\n",
      "        - Organics (CHO) 1 V\n",
      "        - Lithium ($Li^+ + e^- \\rightarrow Li^0$) -4V (This is the theoretical maximum)\n",
      "6. Peculiarities and Disadvantages\n",
      "    - Low specific rates elading to large area and volume requirements\n",
      "    - Large number of small parallel-units (1000-10,000)\n",
      "    - High currents (special equipment, voltage loss in busses)\n",
      "    - Dilute solutions (Transport limitations)\n",
      "    - High resistivity media\n",
      "    - Costly maintenance (corrosive environment)\n",
      "    - Energy intensive (high electrical cost)\n",
      "    - Interdisciplinary field: requires knowledge from multiple disciplines: Chemistry, Chemical Engineering, Materials Science, Physics, Surface Science, Electrical Engineering\n",
      "    - Batch Processes\n",
      "    - Typically involves unsteady-state processes\n",
      "    - Non-uniform distribution of local reaction rates\n",
      "    - Multiple simultaneous reactions\n",
      "    - Shape Change\n",
      "    - Multiple phases\n",
      "    - Practice almost always precedes the science\n",
      "7. Scope of applications\n",
      "    - Electroreduction of metals from molten salts:\n",
      "        - Al, Mg, Ti, Na, Li, K\n",
      "    - Electrowinning and refining of metals\n",
      "        - Cu, Zn, Pb, Ni, Cr, Cd, Sn, Mn, Ag, Au, Pt, Pd\n",
      "    - Industrial electrolysis: (The chlor-alkali industry, chlorates, water electrolysis)\n",
      "        - $\\mathrm{Cl_2}$, NaOH, Chlorates, $\\mathrm{H_2}$, $\\mathrm{O_2}$\n",
      "    - Surface Finishing\n",
      "        - Plating\n",
      "        - Electroforming\n",
      "        - Electrotyping\n",
      "    - Electropolishing, Electrochemical Machining, Deburring, Anodizing\n",
      "    - Energy Conversion:\n",
      "        - Batteries (primary, secondary)\n",
      "        - Fuel Cells\n",
      "        - \"Hydrogen Economy\"\n",
      "        - Solar Cells\n",
      "    - Electro-organic Synthesis\n",
      "        - Nylon\n",
      "        - Pharmaceuticals\n",
      "    - Electrolytic Capacitors\n",
      "    - Corrosion and its Prevention\n",
      "    - Electrochemical Sensors\n",
      "    - Electro-analytical techniques\n",
      "        - pH\n",
      "        - Ion specific\n",
      "        - p$\\mathrm{O_2}$\n",
      "    - Electrochemical Separations\n",
      "        - Electrophoresis\n",
      "        - Electrodialysis\n",
      "        - Electrosmosis\n",
      "        - Membranes\n",
      "        - Waste Disposal\n",
      "    - Biological Implications\n",
      "        - Transport across cells\n",
      "        - Nerve conduction\n",
      "        - Brain Processes\n",
      "        - Photosynthesis\n",
      "7. The Plating Process\n",
      "    - Coating a substrate with a metallic layer by electrochemically reducing metallic ions from an electrolytic solution.\n",
      "        - Uses:\n",
      "            1. Modify surface properties (mechanical, electrical, magnetic, optical, chemical$\\ldots$)\n",
      "            2. Generate patterns and structures\n",
      "            3. Lay-down layers of alloys and compounds\n",
      "            4. Synthesize, refine and separate metals."
     ]
    },
    {
     "cell_type": "markdown",
     "metadata": {},
     "source": [
      "Mercury is an electrode because it conducts electronically, not ionically. $\\mathrm{Ce^+ Zr O}$ is a ceramic (as is $\\mathrm{Na}$ in  $\\mathrm{Al_2 O_3}$), but Oxygen ions move, although it is not conductive in the electron bands. It is therefore an electrolyte."
     ]
    },
    {
     "cell_type": "markdown",
     "metadata": {},
     "source": [
      " The Hydrogen evolution reaction:\n",
      "- $\\mathrm{Zn\\rightharpoonup Zn^{++} + 2e^-}$\n",
      "-  $\\mathrm{4 H_2 O + e^-\\rightharpoonup 4OH^-}$\n"
     ]
    },
    {
     "cell_type": "markdown",
     "metadata": {},
     "source": [
      "Separators:\n",
      "- Many cells can operate without one\n",
      "- Many cells need one\n",
      "1. If you get cathodic electrolyte on the anode of certain cells, you will get cathodic plating on the anodic electrode\n",
      "2. Need to allow some ion transfer\n",
      "    - Some separators just slow down diffusion\n",
      "    - Others are selective membranes"
     ]
    },
    {
     "cell_type": "markdown",
     "metadata": {},
     "source": [
      "<h3>Double Layer</h3>\n",
      "<img src=\"DoubleLayer.png\"/>\n",
      "- $\\phi_m$ is the electrode, it's about $1\\:mm$\n",
      "- $\\phi_1$ is the double layer boundary, it's about $10\\:nm$\n",
      "- $\\phi_2$ is the boundary layer, it's about $5\\: \\mu m$\n",
      "- $\\phi_s$ is the bulk, it's about $1\\:cm$\n",
      "1. The double layer is 10-100 Angstroms thick\n",
      "2. Consists of charged ions absorbed or attracted to the electrode\n",
      "3. Acts as a capacitor\n",
      "4. Electroneutrality does not hold\n",
      "5. Vital, but doesn't contribute to bulk effects\n",
      "<img src=\"charscales.png\"/>"
     ]
    },
    {
     "cell_type": "code",
     "collapsed": false,
     "input": [
      "def electrical(x):\n",
      "    return 1/x**2\n",
      "def lj(x):\n",
      "    return 1/x**6\n",
      "x2 = np.arange(-8,-1)\n",
      "print(len(x2))\n",
      "x = np.zeros(len(x2))\n",
      "print(len(x))\n",
      "for i in range(len(x2)):\n",
      "    x[i] = 10**x2[i]\n",
      "print(np.log10(x))\n",
      "plt.figure()\n",
      "plt.plot(np.log10(x),np.log10(electrical(x)),'r-o')\n",
      "plt.plot(np.log10(x),np.log10(lj(x)),'b-o')"
     ],
     "language": "python",
     "metadata": {},
     "outputs": [
      {
       "output_type": "stream",
       "stream": "stdout",
       "text": [
        "7\n",
        "7\n",
        "[-8. -7. -6. -5. -4. -3. -2.]\n"
       ]
      },
      {
       "metadata": {},
       "output_type": "pyout",
       "prompt_number": 21,
       "text": [
        "[<matplotlib.lines.Line2D at 0x7f3f3d17a390>]"
       ]
      },
      {
       "metadata": {},
       "output_type": "display_data",
       "png": "[encoded data removed]",
       "text": [
        "<matplotlib.figure.Figure at 0x7f3f3d0af550>"
       ]
      }
     ],
     "prompt_number": 21
    },
    {
     "cell_type": "markdown",
     "metadata": {},
     "source": [
      "Electrode types:\n",
      "1. Active - plating or dissolving\n",
      "2. Passivated - covered with a resistive layer, typically anodic film, often highly polarized"
     ]
    },
    {
     "cell_type": "markdown",
     "metadata": {},
     "source": []
    },
    {
     "cell_type": "markdown",
     "metadata": {},
     "source": [
      "<h3>The Helmholtz Compact Double-Layer Model</h3>\n",
      "- \n",
      "<img src=\"dlHelmholtz.png\"/>"
     ]
    },
    {
     "cell_type": "markdown",
     "metadata": {},
     "source": [
      "<h3>The Gouy-Chapman Double-Layer Model</h3>\n",
      "<img src=\"dlGouyChapman.png\"/>"
     ]
    },
    {
     "cell_type": "markdown",
     "metadata": {},
     "source": [
      "<img src=\"electrochemical cell w variables.png\"/>"
     ]
    },
    {
     "cell_type": "markdown",
     "metadata": {},
     "source": [
      "<img src=\"steps of rxns.png\"/>\n"
     ]
    },
    {
     "cell_type": "markdown",
     "metadata": {},
     "source": [
      "<h3>Electrochemical Experiment and Variables in Electrochemical Cells</h3>\n",
      "- $\\eta = E - E_{eq}$\n",
      "- $i(\\mathrm{Amps}) = \\frac{dQ}{dt}(\\mathrm{\\frac{Coulombs}{s}})$\n",
      "- $\\frac{Q}{nF}\\left(\\mathrm{\\frac{Coulombs}{\\frac{Coulombs}{mol}}}\\right) = N (\\mathrm{moles\\ electrolyzed})$ \n",
      "- $\\mathrm{Rate\\ \\left(\\frac{mol}{s}\\right)} = \\frac{dN}{dt} = \\frac{i}{nF}$\n",
      "- $\\mathrm{Rate\\ \\left(\\frac{mol}{s\\cdot cm^2}\\right)} = \\frac{i}{nFA}$\n",
      "<img src=\"electrode cell setup.png\"/>\n"
     ]
    },
    {
     "cell_type": "markdown",
     "metadata": {},
     "source": [
      "<h3>Mass Transport</h3>\n",
      "Modes of Mass Transport\n",
      "- Migration -- movement of a charged body under the influence of an electric field\n",
      "- Diffusion -- movement of species under the influence\n",
      "- Convection -- stirring or hydrodynamic transport\n",
      "$$J_i(x) = -D_i \\frac{dC_i(x)}{dx} - \\frac{z_i F}{RT} D_i C_i \\frac{d\\phi(x)}{dx} - C_i \\nu(x)$$\n",
      "- $J_i(x)$ = Flux of $I (\\mathrm{\\frac{mol\\cdot cm^2}{s}})$\n",
      "- $D$ = Diffusion coefficient $(\\mathrm{\\frac{cm^2}{s}})$\n",
      "- $C$ = Concentration $(\\frac{mol}{cm^3})$\n",
      "- $\\frac{d\\phi(x)}{dx}$ = Potential Gradient\n",
      "- $z$ = charge on species\n",
      "- $\\nu(x)$ = velocity $(\\frac{cm}{s})$"
     ]
    },
    {
     "cell_type": "markdown",
     "metadata": {},
     "source": [
      "<h5>Diffusion Layer thickness</h5><br/>\n",
      "- $I = (2Dt)^\\frac{1}{2}$\n",
      "- $\\nu_{mt} = D_0 (\\frac{dC_0}{dx})_{x=0}$\n",
      "- <b>$\\nu_{mt} = D_0 \\frac{(C_0^* - C_0(x=0))}{\\delta_0} = \\frac{i}{nFA} = D_r\\frac{(C_r(x=0)-C_r^*)}{\\delta_r}$</b>"
     ]
    },
    {
     "cell_type": "markdown",
     "metadata": {},
     "source": [
      "<h3>Current-Voltage Curve Shapes</h3>\n",
      "<img src=\"nernstierotexample.png\"/>"
     ]
    },
    {
     "cell_type": "markdown",
     "metadata": {},
     "source": [
      "<h3>Poisson's Equation</h3>\n",
      "- $$\\nabla\\cdot( \\epsilon E) = \\rho_e$$\n",
      "- $$-\\nabla\\cdot( \\epsilon \\nabla \\Phi) = F\\sum_j z_j C_j$$\n",
      "- $$\\nabla^2 \\Phi = -\\frac{F}{\\epsilon} \\sum_j z_j C_j$$\n",
      "$$\\frac{F}{e} = \\frac{10^5}{10^{-13}}=10^{18}$$\n",
      "<h3>Laplace's Equation</h3>\n",
      "This is an approximation, order $10^{18}$ accurate\n",
      "$$\\nabla^2 \\Phi = 0$$"
     ]
    },
    {
     "cell_type": "markdown",
     "metadata": {},
     "source": [
      "$I = -\\frac{\\nabla \\Phi}{R} = -\\frac{\\nabla\\Phi}{\\rho\\frac{\\nabla L}{A}} = =\\frac{\\nabla\\Phi A}{\\rho \\nabla L} = -\\kappa\\frac{\\nabla\\phi A}{\\nabla L}$\n",
      "\n",
      "- $i = \\frac{I}{A} = -\\kappa\\frac{\\nabla \\Phi}{\\nabla L} = -\\kappa\\nabla \\Phi$\n",
      "- $i=-\\kappa \\nabla\\Phi$ is OHM'S Law for electrochemists\n",
      "- $$\\kappa = F^2\\sum_j z_j^2 u_j C_j = \\Lambda|z|c = (\\lambda_+ + \\lambda_-)|z|C= \\sum_j\\lambda_jz_jc_j$$"
     ]
    },
    {
     "cell_type": "markdown",
     "metadata": {},
     "source": [
      "Walden's Rules\n",
      "$\\Lambda\\mu = \\mathrm{constant}$"
     ]
    },
    {
     "cell_type": "markdown",
     "metadata": {},
     "source": [
      "$$\\frac{\\kappa_e}{\\kappa_c} = (1-f)^\\frac{3}{2}$$"
     ]
    },
    {
     "cell_type": "markdown",
     "metadata": {},
     "source": []
    }
   ],
   "metadata": {}
  }
 ]
}