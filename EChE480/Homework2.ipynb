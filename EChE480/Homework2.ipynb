{
 "cells": [
  {
   "cell_type": "code",
   "execution_count": 2,
   "metadata": {
    "collapsed": false
   },
   "outputs": [],
   "source": [
    "import scipy.constants as c\n",
    "import scipy.integrate as sci\n",
    "import scipy.optimize as sco"
   ]
  },
  {
   "cell_type": "markdown",
   "metadata": {},
   "source": [
    "<h5>Problem 1</h5>\n",
    "Calculate the potential of 10 cc water in a beaker containing an excess of 1 gr. ion/liter of \n",
    "positive ions. For simplicity assume a spherical geometry. (Note that $10^{‐8}$ gr. ions/liter is \n",
    "just below our conventional means of detection. Also note that electroneutrality is not a \n",
    "fundamental law of nature.) \n",
    "(The purpose of this problem is to demonstrate the validity of the electroneutrality \n",
    "approximation)"
   ]
  },
  {
   "cell_type": "code",
   "execution_count": 3,
   "metadata": {
    "collapsed": false
   },
   "outputs": [
    {
     "name": "stdout",
     "output_type": "stream",
     "text": [
      "The charge on the sphere is 6.49e+14 Volts, or 648.83 teravolts\n"
     ]
    }
   ],
   "source": [
    "V = 10*c.milli*c.liter\n",
    "#V = 4/3 *pi*r**3\n",
    "r = (3/4*V/pi)**(1/3)\n",
    "#\\nabla^2 \\phi = 0\n",
    "#\\nabla \\phi = E\n",
    "#Use any book on electrostatics or physics. What is the charge of a sphere\n",
    "#integrate \\phi from r to \\infty to get the potential\n",
    "#Voltage in the sphere is going to be constant.\n",
    "\n",
    "#Assume H3O+ ion is the only ion present.\n",
    "MWion = 19. *c.gram/19\n",
    "densityIons = 1* c.gram /c.liter\n",
    "nIons = V*densityIons/MWion #moles ion\n",
    "F = c.physical_constants['Faraday constant'][0]\n",
    "q = F*nIons #Coulombs\n",
    "e0 = c.epsilon_0\n",
    "Voltage = q/(4*pi*e0*r) - q/(4*pi*e0*np.inf)\n",
    "print(\"The charge on the sphere is {:.3g} Volts, or {:,.5g} teravolts\"\\\n",
    "      .format(Voltage,Voltage/c.tera))"
   ]
  },
  {
   "cell_type": "markdown",
   "metadata": {},
   "source": [
    "<h5>Problem 2</h5>\n",
    "Estimate the conductivity of water at: \n",
    "    1. pH = 13 (basic) \n",
    "    2. pH =  7 (neutral) \n",
    "    3. pH =  1 (acidic) \n",
    "Assume only H+ and OH‐ are present and contribute to the conductivity.  (Is this a good assumption?)  Remember: \n",
    "[H+][OH-] =  10‐14 (always). Also,  recall that pH = ‐log[H+]. \n",
    "(The purpose of this problem is to demonstrate the different mobilities of H+\n",
    " and OH‐\n",
    " and \n",
    "the fact that pure water is highly resistive.) "
   ]
  },
  {
   "cell_type": "code",
   "execution_count": 4,
   "metadata": {
    "collapsed": false
   },
   "outputs": [
    {
     "name": "stdout",
     "output_type": "stream",
     "text": [
      "Assuming a total [H+][OH-] of 10^-14:\n",
      "\tpH = 13.0, conductivity = 0.02 S/cm\n",
      "\tpH = 7.0, conductivity = 5.5e-08 S/cm\n",
      "\tpH = 1.0, conductivity = 0.035 S/cm\n"
     ]
    }
   ],
   "source": [
    "pH=np.array([13.,7,1])\n",
    "pOH  = 14 - pH\n",
    "H = 10**(-pH)\n",
    "OH = 10**(-pOH)\n",
    "lambdaH = 350\n",
    "lambdaOH = 200\n",
    "kappa = (lambdaH*H + lambdaOH*OH)/1000\n",
    "print(\"Assuming a total [H+][OH-] of 10^-14:\")\n",
    "for i in range(len(kappa)):\n",
    "    print(\"\\tpH = {:}, conductivity = {:.2g} S/cm\".format(pH[i],kappa[i]))"
   ]
  },
  {
   "cell_type": "markdown",
   "metadata": {},
   "source": [
    "<h5>Problem 3</h5>\n",
    "Estimate the conductivity of 0.5 M aqueous solution of cupric sulfate at pH 2 and compare \n",
    "it to the same solution at pH =0. "
   ]
  },
  {
   "cell_type": "code",
   "execution_count": 5,
   "metadata": {
    "collapsed": false
   },
   "outputs": [
    {
     "name": "stdout",
     "output_type": "stream",
     "text": [
      "Assuming that the pH is caused by an excess of sulfate anions (sulfuric acid):\n",
      "\tpH = 2.0, conductivity = 0.139 S/cm\n",
      "\tpH = 0.0, conductivity = 0.564 S/cm\n",
      "Assuming that the pH difference is caused by magic:\n",
      "\tpH = 2.0, conductivity = 0.138 S/cm\n",
      "\tpH = 0.0, conductivity = 0.485 S/cm\n"
     ]
    }
   ],
   "source": [
    "pH=np.array([2.,0])\n",
    "pOH  = 14 - pH\n",
    "H = 10**(-pH)\n",
    "OH = 10**(-pOH)\n",
    "lambdaSO4 = 79.6\n",
    "lambdaCu = 55\n",
    "CuSO4 = Cu = 0.5\n",
    "SO4 = Cu + (H-OH)/2\n",
    "zCu = zSO4 = 2\n",
    "kappa = (lambdaSO4 *zSO4* SO4 + lambdaCu* zCu*Cu + H*lambdaH + OH*lambdaOH)/1000\n",
    "kappa2 = (lambdaSO4 *zSO4* CuSO4 + lambdaCu* zCu*CuSO4 + H*lambdaH + OH*lambdaOH)/1000\n",
    "print(\"Assuming that the pH is caused by an excess of sulfate anions (sulfuric acid):\")\n",
    "for i in range(len(kappa)):\n",
    "    print(\"\\tpH = {:}, conductivity = {:.3g} S/cm\".format(pH[i],kappa[i]))\n",
    "print(\"Assuming that the pH difference is caused by magic:\")\n",
    "for i in range(len(kappa)):\n",
    "    print(\"\\tpH = {:}, conductivity = {:.3g} S/cm\".format(pH[i],kappa2[i]))\n"
   ]
  },
  {
   "cell_type": "markdown",
   "metadata": {},
   "source": [
    "<h5>Problem 4</h5>\n",
    "Assuming  crystallographic  radii  (see  data  below),  and  Stokes  resistance  to movement  of \n",
    "spherical charge, determine the following: \n",
    " 1. Mobilities of Na+ and Cl‐ (Both absolute and relative mobilities). \n",
    " 2. Using the mobilities from part (a), estimate the conductivity of 1 molar NaCl at 25$^\\circ$C. \n",
    " 3. Compare your results from parts (a) and (b) with the following experimental values: \n",
    " \n",
    "     $\\lambda^\\circ$Na+ = 43.5               $\\lambda^\\circ$Cl‐ = 65.5        [Ω‐1cm2/mole]\n",
    "     \n",
    "     $\\Lambda$NaCl (1M) = 74.35 [ Ω‐1cm2/mole].\n",
    "     \n",
    "    If there is a difference, please explain. \n",
    " 4. Compare the data given in (c) with the rough estimate method discussed in class: \n",
    " \n",
    " $\\lambda^+ = \\lambda^- \\approx 50$;\n",
    " \n",
    " $\\lambda H^+ \\approx 350$\n",
    " \n",
    " $\\lambda OH-=200$.\n",
    " \n",
    " Notice how much less effort is required. \n",
    " \n",
    " Data\n",
    " \n",
    " e0 = 1.602 x 10‐19 [cb/electron]\n",
    " \n",
    " μ = 0.01 [gr. cm‐1 sec‐1]\n",
    " \n",
    " rNa+ = 0.95 Ǻ  rCl‐= 1.8 Ǻ \n",
    "\n",
    "(The purpose of this problem is (1) to remind you of the simplicity of estimating \n",
    "conductivities with reasonable accuracy and (2) to acquire experience in handling physical \n",
    "parameters with different units)  "
   ]
  },
  {
   "cell_type": "code",
   "execution_count": 7,
   "metadata": {
    "collapsed": false
   },
   "outputs": [
    {
     "name": "stdout",
     "output_type": "stream",
     "text": [
      "The relative mobility of Na+ is 8.95e-04 cm^2/(V sec)\n",
      "The relative mobility of Cl- is -4.72e-04 cm^2/(V sec)\n",
      "\n",
      "The absolute mobility of Na+ is 9.27e-09 (cm^2 mole)/(J sec)\n",
      "The absolute mobility of Cl- is 4.89e-09 (cm^2 mole)/(J sec)\n",
      "\n",
      "(b)\n",
      "The conductivity of 1 Molar NaCl is 0.132 S/(Ω cm)\n",
      "\n",
      "(c)\n",
      "The lambda of Na+ is 0.0044, which is 98.43% off from my estimate, which was 0.0086\n",
      "The lambda of Cl- is 0.0066, which is 30.45% off from my estimate, which was 0.0046\n",
      "The differences come from the solvated radii, as opposed to the \n",
      "        crystallographic radii. H3O+ will be attracted to the \n",
      "      sodium ions more because they have a more concentrated charge, which will make them larger\n",
      "\n",
      "(d)\n",
      "The approximated conductivity is 0.10 S/cm\n"
     ]
    }
   ],
   "source": [
    "e0 = 1.602e-19 #Coulombs/electron\n",
    "MW = np.array([22.9898,35.453 ])*c.gram\n",
    "mu = 0.01 /c.centi*c.gram #/MW #gram->mole/cm->m/sec\n",
    "r = np.array([0.95,1.8])*c.angstrom #angs->m\n",
    "rLabel = ['Na+','Cl-']\n",
    "z = np.array([1,-1])\n",
    "mobility = e0*z/(6*pi*mu*r)#C/el/(kg/sec) = C s/(kg)\n",
    "absmobil = e0/(6*pi*mu*r*F)\n",
    "for i in range(len(mobility)):\n",
    "    lab = rLabel[i]\n",
    "    mobil=mobility[i]\n",
    "    print(\"The relative mobility of {:} is {:>6.2e} cm^2/(V sec)\"\\\n",
    "          .format(lab,float(mobil/c.centi**2)))\n",
    "print()\n",
    "for i in range(len(mobility)):\n",
    "    lab = rLabel[i]\n",
    "    absmob=absmobil[i]\n",
    "    print(\"The absolute mobility of {:} is {:.3g} (cm^2 mole)/(J sec)\"\\\n",
    "          .format(lab,float(absmob/c.centi**2)))\n",
    "kPH7 = 1e-7 * lambdaH + 1e-7*lambdaOH\n",
    "C = 1/c.liter\n",
    "kappa = F**2*(C*absmobil[0] + C*absmobil[1])+kPH7*c.centi\n",
    "print(\"\",\"(b)\",sep=\"\\n\")\n",
    "print(\"The conductivity of 1 Molar NaCl is {:,.3f} S/(Ω cm)\".format(kappa*c.centi))\n",
    "print(\"\",\"(c)\",sep=\"\\n\")\n",
    "lamdas = np.array([43.5,65.5])*c.centi**2\n",
    "for i in range(len(absmobil)):\n",
    "    print(\"The lambda of {:} is {:.2g}, which is {:.2%} off from my estimate, which was {:.2g}\"\\\n",
    "          .format(rLabel[i],\\\n",
    "        lamdas[i],abs(absmobil[i]*F**2- lamdas[i])/lamdas[i],absmobil[i]*F**2),sep='\\n')\n",
    "print(\"The differences come from the solvated radii, as opposed to the \\n\\\n",
    "        crystallographic radii. H3O+ will be attracted to the \\n\\\n",
    "      sodium ions more because they have a more concentrated charge, which will make them larger\")\n",
    "\n",
    "kappaEst = 1e-7*350 + 1e-7*200 + 1*50 + 1*50\n",
    "print(\"\",\"(d)\",\"The approximated conductivity is {:.2f} S/cm\"\\\n",
    "      .format(kappaEst*c.liter),sep=\"\\n\")"
   ]
  },
  {
   "cell_type": "markdown",
   "metadata": {},
   "source": [
    "<h5>Problem 5</h5>\n",
    "We have calculated in class the steady‐state velocity of an ion subject to an electric field. I \n",
    "am now interested in determining its acceleration period till it reaches this steady state. \n",
    "Assume that an ion (assume Na+) is suddenly being subject to an electric field of 1 V/cm in \n",
    "dilute aqueous solution (=1cp [=10‐2 poise=10‐2 g cm‐1s\n",
    "‐1]).  \n",
    "1. Estimate the ion’s steady‐state velocity\n",
    "2. Use Newtonian mechanics to determine the ion acceleration assuming a drag force \n",
    "that follows Stokes law.  \n",
    "3. How long will it take for the ion to reach its steady‐state velocity?  \n",
    "4. What is the time constant the ion acceleration? The time constant is defined as the \n",
    "time that is required to reach 63.2% of the steady‐state velocity.    \n",
    "5. How far will the ion travel before reaching 90% of its terminal velocity?  \n",
    "Data for Na+\n",
    " ion: r=1.8 A; q=1.6x10‐19 C; m=3.82x10‐23 g.  \n",
    "Find any other parameters that you may need in textbooks, notes, the web, etc. "
   ]
  },
  {
   "cell_type": "markdown",
   "metadata": {},
   "source": [
    "We have electrical force with the equation from class\n",
    "$$F_d = 6\\pi \\mu r v$$\n",
    "$$\\Sigma F = ma$$\n",
    "$$q\\frac{dV}{dx} - F_d$$, where $v_0=0$. As the velocity builds up, the acceleration drops. \n",
    "\n",
    "We typically ask, what is the time constant, because things don't really reach steady state. Use $\\tau=t(v_{63\\%})$\n",
    "\n",
    "Integrate it\n"
   ]
  },
  {
   "cell_type": "code",
   "execution_count": 9,
   "metadata": {
    "collapsed": false
   },
   "outputs": [
    {
     "name": "stdout",
     "output_type": "stream",
     "text": [
      "The steady state velocity is 4.7e-06 m/s\n"
     ]
    },
    {
     "data": {
      "image/png": "[encoded data removed]",
      "text/plain": [
       "<matplotlib.figure.Figure at 0x7f3f1c3fb278>"
      ]
     },
     "metadata": {},
     "output_type": "display_data"
    },
    {
     "name": "stdout",
     "output_type": "stream",
     "text": [
      "The ion will never actually reach its steady state velocity. (t=infinity)\n",
      "The time to reach 63.2% of steady state velocity is 11.3 femtoseconds\n",
      "The ion will travel 7e-20 meters (74.41 zm) before reaching 90% of its terminal velocity\n"
     ]
    }
   ],
   "source": [
    "dVdx = 1/c.centi\n",
    "mu = 1e-2/c.centi*c.gram\n",
    "r = 1.8*c.angstrom\n",
    "q = 1.6e-19\n",
    "m = 3.82e-23*c.gram\n",
    "#Fd = 6*pi*mu*r*vss\n",
    "vss = q*dVdx/(6*pi*mu*r)\n",
    "def dxdt(x,t):\n",
    "    dx = np.zeros(2)\n",
    "    dx[0] = x[1]\n",
    "    dx[1] = (q*dVdx - 6*pi*mu*r*x[1])/m\n",
    "    return dx\n",
    "x = np.array([0,0])\n",
    "t = np.linspace(0,.1e-12,10000)\n",
    "x = sci.odeint(dxdt,x,t)\n",
    "#print(x)\n",
    "def vsteady(tEnd):\n",
    "    t = np.array([0,tEnd*c.femto])\n",
    "    x = np.array([0,0])\n",
    "    return (sci.odeint(dxdt,x,t)[1,1] - vss*.632)*1e6\n",
    "def xsteady(tEnd):\n",
    "    t = np.array([0,tEnd*c.femto])\n",
    "    x = np.array([0,0])\n",
    "    return (sci.odeint(dxdt,x,t)[1,1] - vss*.90)*1e7\n",
    "tSS = sco.fsolve(vsteady,1.126e-2)*c.femto\n",
    "print(\"The steady state velocity is {:.2g} m/s\".format(vss))\n",
    "plt.plot(t/c.femto,x[:,1]/c.micron)\n",
    "plt.plot(np.array([tSS,tSS])/c.femto,np.array([0,vss*0.632])/c.micron,label='$v_{\\\\tau}$')\n",
    "plt.legend(loc='best')\n",
    "plt.xlabel(\"time (femtoseconds)\")\n",
    "plt.ylabel(\"Velocity ($\\mu$m/s)\")\n",
    "plt.show()\n",
    "print(\"The ion will never actually reach its steady state velocity. (t=infinity)\")\n",
    "print(\"The time to reach 63.2% of steady state velocity is {:.1f} femtoseconds\"\\\n",
    "      .format(float(tSS)/c.femto))\n",
    "t90 = sco.fsolve(xsteady,1.126e-2)*c.femto\n",
    "x90 = sci.odeint(dxdt,np.array([0,0]),np.array([0,t90]))[1,0]\n",
    "print(\"The ion will travel {:.1g} meters ({:.2f} zm) before reaching 90% of \\\n",
    "its terminal velocity\"\\\n",
    "      .format(x90,x90/c.zepto))\n",
    "v2 = sci.odeint(dxdt,np.array([0,0]),np.array([0,1.126e-14]))[1,1]#tSS]))[1,1]"
   ]
  },
  {
   "cell_type": "code",
   "execution_count": null,
   "metadata": {
    "collapsed": true
   },
   "outputs": [],
   "source": []
  }
 ],
 "metadata": {
  "kernelspec": {
   "display_name": "Python 3",
   "language": "python",
   "name": "python3"
  },
  "language_info": {
   "codemirror_mode": {
    "name": "ipython",
    "version": 3
   },
   "file_extension": ".py",
   "mimetype": "text/x-python",
   "name": "python",
   "nbconvert_exporter": "python",
   "pygments_lexer": "ipython3",
   "version": "3.4.3"
  }
 },
 "nbformat": 4,
 "nbformat_minor": 0
}
