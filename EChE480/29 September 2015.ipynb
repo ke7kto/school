{
 "metadata": {
  "name": "",
  "signature": "sha256:7d5fc3242fb821c0b99cf942be9075e27e7993db06a9e3a0a0f746973501a5ff"
 },
 "nbformat": 3,
 "nbformat_minor": 0,
 "worksheets": [
  {
   "cells": [
    {
     "cell_type": "code",
     "collapsed": false,
     "input": [
      "import scipy.constants as scs"
     ],
     "language": "python",
     "metadata": {},
     "outputs": [],
     "prompt_number": 5
    },
    {
     "cell_type": "code",
     "collapsed": false,
     "input": [
      "R = scs.R\n",
      "T = 298\n",
      "n = 2\n",
      "F = scs.physical_constants['Faraday constant'][0]\n",
      "Ecu = .34\n",
      "Ezn = -0.76\n",
      "a_zn = 1\n",
      "a_cu =1\n",
      "Ecell = Ecu - Ezn + R*T/(n*F)*np.log(a_cu/a_zn)"
     ],
     "language": "python",
     "metadata": {},
     "outputs": [],
     "prompt_number": 7
    },
    {
     "cell_type": "code",
     "collapsed": false,
     "input": [
      "R = scs.R"
     ],
     "language": "python",
     "metadata": {},
     "outputs": []
    },
    {
     "cell_type": "code",
     "collapsed": false,
     "input": [
      "scs?"
     ],
     "language": "python",
     "metadata": {},
     "outputs": [
      {
       "output_type": "stream",
       "stream": "stdout",
       "text": [
        "Object `scs` not found.\n"
       ]
      }
     ],
     "prompt_number": 4
    },
    {
     "cell_type": "code",
     "collapsed": false,
     "input": [
      "R = scs.R"
     ],
     "language": "python",
     "metadata": {},
     "outputs": []
    },
    {
     "cell_type": "code",
     "collapsed": false,
     "input": [],
     "language": "python",
     "metadata": {},
     "outputs": []
    }
   ],
   "metadata": {}
  }
 ]
}