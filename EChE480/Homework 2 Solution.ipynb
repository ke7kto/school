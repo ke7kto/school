{
 "cells": [
  {
   "cell_type": "code",
   "execution_count": 2,
   "metadata": {
    "collapsed": true
   },
   "outputs": [],
   "source": [
    "import scipy.constants as c\n",
    "import scipy.integrate as sci\n",
    "import scipy.optimize as sco"
   ]
  },
  {
   "cell_type": "code",
   "execution_count": 13,
   "metadata": {
    "collapsed": false
   },
   "outputs": [
    {
     "name": "stdout",
     "output_type": "stream",
     "text": [
      "r = 1.3365cm\n"
     ]
    }
   ],
   "source": [
    "V = 10*c.milli*c.liter\n",
    "r = np.power(3/(4*pi)*V,1/3.)\n",
    "print(\"r = {:.4f}cm\".format(r/c.centi))"
   ]
  },
  {
   "cell_type": "code",
   "execution_count": 18,
   "metadata": {
    "collapsed": false
   },
   "outputs": [
    {
     "name": "stdout",
     "output_type": "stream",
     "text": [
      "[  9.64853365e-06   9.64853365e+02]\n"
     ]
    }
   ],
   "source": [
    "cH = np.array([1e-8,1])/c.liter\n",
    "MWH = 1\n",
    "q = cH/MWH*c.physical_constants['Faraday constant'][0]*V\n",
    "print(q)"
   ]
  },
  {
   "cell_type": "code",
   "execution_count": 36,
   "metadata": {
    "collapsed": false
   },
   "outputs": [
    {
     "name": "stdout",
     "output_type": "stream",
     "text": [
      "[ -6.47139521e+05  -6.47139521e+13]\n"
     ]
    }
   ],
   "source": [
    "minusDelPhi = q/(4*pi*c.epsilon_0*r**2)\n",
    "r = .134\n",
    "answer = (-q/(4*pi*c.epsilon_0*r))\n",
    "print(answer)"
   ]
  },
  {
   "cell_type": "code",
   "execution_count": 26,
   "metadata": {
    "collapsed": false
   },
   "outputs": [
    {
     "name": "stdout",
     "output_type": "stream",
     "text": [
      "8.854187817620389e-12\n",
      "[  6.52335938e+06   6.52335938e+14]\n"
     ]
    }
   ],
   "source": [
    "print(c.epsilon_0)\n",
    "r = 1.33*c.centi\n",
    "\n",
    "print(q/(4*3.14*c.epsilon_0*r))"
   ]
  },
  {
   "cell_type": "code",
   "execution_count": 34,
   "metadata": {
    "collapsed": false
   },
   "outputs": [
    {
     "name": "stdout",
     "output_type": "stream",
     "text": [
      "[ -2.74537674e+08  -2.74537674e+00]\n"
     ]
    }
   ],
   "source": [
    "print(1.79e15/answer)"
   ]
  },
  {
   "cell_type": "code",
   "execution_count": 37,
   "metadata": {
    "collapsed": false
   },
   "outputs": [
    {
     "data": {
      "text/plain": [
       "652299858488733.9"
      ]
     },
     "execution_count": 37,
     "metadata": {},
     "output_type": "execute_result"
    }
   ],
   "source": [
    "964.8/(4*3.14*c.epsilon_0*1.33*c.centi)"
   ]
  },
  {
   "cell_type": "code",
   "execution_count": 38,
   "metadata": {
    "collapsed": false
   },
   "outputs": [
    {
     "data": {
      "text/plain": [
       "0.15134081494559173"
      ]
     },
     "execution_count": 38,
     "metadata": {},
     "output_type": "execute_result"
    }
   ],
   "source": [
    "1.34e-12/c.epsilon_0"
   ]
  },
  {
   "cell_type": "code",
   "execution_count": 43,
   "metadata": {
    "collapsed": false
   },
   "outputs": [
    {
     "name": "stdout",
     "output_type": "stream",
     "text": [
      "[  2.00000000e-02   5.50000000e-08   3.50000000e-02]\n"
     ]
    }
   ],
   "source": [
    "cH = 10**(-np.array([13.,7,1]))/c.liter\n",
    "cOH = 10**(-(14-np.array([13.,7,1])))/c.liter\n",
    "lOH = 200*c.centi**2\n",
    "lH = 350*c.centi**2\n",
    "kappa = lH*cH + lOH*cOH\n",
    "print(kappa*c.centi)"
   ]
  },
  {
   "cell_type": "code",
   "execution_count": 44,
   "metadata": {
    "collapsed": false
   },
   "outputs": [
    {
     "data": {
      "text/plain": [
       "1000.0"
      ]
     },
     "execution_count": 44,
     "metadata": {},
     "output_type": "execute_result"
    }
   ],
   "source": [
    "20/.02"
   ]
  },
  {
   "cell_type": "code",
   "execution_count": null,
   "metadata": {
    "collapsed": true
   },
   "outputs": [],
   "source": []
  }
 ],
 "metadata": {
  "kernelspec": {
   "display_name": "Python 3",
   "language": "python",
   "name": "python3"
  },
  "language_info": {
   "codemirror_mode": {
    "name": "ipython",
    "version": 3
   },
   "file_extension": ".py",
   "mimetype": "text/x-python",
   "name": "python",
   "nbconvert_exporter": "python",
   "pygments_lexer": "ipython3",
   "version": "3.4.3"
  }
 },
 "nbformat": 4,
 "nbformat_minor": 0
}
