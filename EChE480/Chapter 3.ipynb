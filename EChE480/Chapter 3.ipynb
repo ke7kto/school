{
 "metadata": {
  "name": "",
  "signature": "sha256:3cfd92a8d92cd57a31d5e26c5a12af85bec17af06f5e1c9538270171e9abfd1a"
 },
 "nbformat": 3,
 "nbformat_minor": 0,
 "worksheets": [
  {
   "cells": [
    {
     "cell_type": "markdown",
     "metadata": {},
     "source": [
      "Ionic flux is due to \n",
      "\n",
      "- Diffusion $-D_j\\nabla C_j$\n",
      "- Migration $-U_j z_j F C_j\\nabla \\Phi$\n",
      "- Convection $C_j \\nu$\n",
      "\n",
      "$$J_i(x) = -D_i \\frac{dC_i(x)}{dx} - \\frac{z_i F}{RT} D_i C_i \\frac{d\\phi(x)}{dx} - C_i \\nu(x)$$"
     ]
    },
    {
     "cell_type": "code",
     "collapsed": false,
     "input": [
      "C = np.ones(100)\n",
      "nu = 3\n",
      "dPhidx = .2\n",
      "\n",
      "def J(C,D,nu,z=1):\n",
      "    return -D*dC(C)/dx(C) - z*F/(R*T)*D*C*dPhidx - C*nu"
     ],
     "language": "python",
     "metadata": {},
     "outputs": []
    }
   ],
   "metadata": {}
  }
 ]
}