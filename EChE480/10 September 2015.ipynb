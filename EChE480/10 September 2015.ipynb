{
 "metadata": {
  "name": "",
  "signature": "sha256:0be14838fee95ceee933458cdc9b83f4cbba7f67b2a6a6f9cb2ee677dfe45a30"
 },
 "nbformat": 3,
 "nbformat_minor": 0,
 "worksheets": [
  {
   "cells": [
    {
     "cell_type": "markdown",
     "metadata": {},
     "source": [
      "$$i = \\sum z_j F N_j = - F\\sum z_j D_j \\nabla C_j - F^2 \\sum U_j z_j^2 c_j \\nabla \\Phi _ F \\sum z_j C_j V$$\n",
      "$$i = - F\\sum z_j D_j \\nabla C_j - \\kappa \\nabla \\Phi$$"
     ]
    },
    {
     "cell_type": "markdown",
     "metadata": {},
     "source": [
      "Transport number\n",
      "$$t_j = \\frac{i_j^M}{i^M} = \\frac{\\lambda_jZ_jC_j\\nabla\\Phi}{\\sum_{j=1}^N \\lambda_jZ_jC_j\\nabla\\Phi}=\\frac{\\lambda_jZ_jC_j}{\\sum_{j=1}^N \\lambda_jZ_jC_j} = \\frac{\\kappa_j}{\\kappa}$$"
     ]
    },
    {
     "cell_type": "markdown",
     "metadata": {},
     "source": [
      "$$i = -\\frac{z_RD_RF\\nabla C_R}{1-t_R} \\approx - \\frac{z_R D_R F (C^B - C^E)}{(1-t_R) \\delta_{N,R}}$$\n",
      "\n",
      "Limiting current is the maximum current you can push. Set $C^E=C^{Electrode}=0$. $C^B= C^{Bulk}$ This is an identical problem to limiting flux.\n",
      "Delta is very sensitive to agitation. You want to make electrochemical systems operate as close to the limiting current as they can."
     ]
    },
    {
     "cell_type": "code",
     "collapsed": false,
     "input": [],
     "language": "python",
     "metadata": {},
     "outputs": []
    }
   ],
   "metadata": {}
  }
 ]
}