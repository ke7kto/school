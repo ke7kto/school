{
 "metadata": {
  "name": "",
  "signature": "sha256:d823abb388ecc71e6d751056513284e972bc4b8c447fe9b35b3a87978b350780"
 },
 "nbformat": 3,
 "nbformat_minor": 0,
 "worksheets": [
  {
   "cells": [
    {
     "cell_type": "code",
     "collapsed": false,
     "input": [
      "import pandas as pd\n",
      "import scipy.interpolate as sci"
     ],
     "language": "python",
     "metadata": {},
     "outputs": [],
     "prompt_number": 4
    },
    {
     "cell_type": "code",
     "collapsed": false,
     "input": [
      "data = pd.read_excel('rotameterdata.xls')\n",
      "Pscale = data['Pscale'].as_matrix()\n",
      "Pflow = data['Pflow'].as_matrix()\n",
      "Rscale = data['Rscale'][:-1].as_matrix()\n",
      "Rflow = data['Rflow'][:-1].as_matrix()\n",
      "rflow = sci.interp1d(Rscale,Rflow,'cubic',bounds_error=False)\n",
      "rscale = sci.interp1d(Rflow,Rscale,'cubic',bounds_error=False)\n",
      "pflow = sci.interp1d(Pscale,Pflow,'cubic',bounds_error=False)\n",
      "def getFlowRate(permeateScale,stageCut=0.2):\n",
      "    \"\"\"Get a retentate scale to set a value to based on a permeate\n",
      "    flow and a stage cut\"\"\"\n",
      "    PF = pflow(permeateScale)\n",
      "    retentateFlow = PF/stageCut - PF\n",
      "    return rscale(retentateFlow)\n",
      "PressureSettings = np.array([100,120,140])\n",
      "scaleSettings = np.array([25,30,35])\n",
      "stageSettings = np.array([0.2,0.3,0.4])\n",
      "pSet, stageSet = np.meshgrid(scaleSettings,stageSettings)"
     ],
     "language": "python",
     "metadata": {},
     "outputs": [],
     "prompt_number": 62
    },
    {
     "cell_type": "code",
     "collapsed": false,
     "input": [
      "conditions = np.array([pSet.flatten(),stageSet.flatten()]).T\n",
      "conditions = np.repeat(conditions,3,axis=0)\n",
      "np.random.shuffle(conditions)\n",
      "conditions"
     ],
     "language": "python",
     "metadata": {},
     "outputs": [
      {
       "metadata": {},
       "output_type": "pyout",
       "prompt_number": 63,
       "text": [
        "array([[ 35. ,   0.4],\n",
        "       [ 35. ,   0.3],\n",
        "       [ 30. ,   0.4],\n",
        "       [ 35. ,   0.2],\n",
        "       [ 30. ,   0.2],\n",
        "       [ 25. ,   0.3],\n",
        "       [ 30. ,   0.2],\n",
        "       [ 30. ,   0.2],\n",
        "       [ 30. ,   0.3],\n",
        "       [ 25. ,   0.3],\n",
        "       [ 30. ,   0.4],\n",
        "       [ 35. ,   0.4],\n",
        "       [ 25. ,   0.4],\n",
        "       [ 35. ,   0.3],\n",
        "       [ 25. ,   0.4],\n",
        "       [ 30. ,   0.3],\n",
        "       [ 25. ,   0.2],\n",
        "       [ 25. ,   0.2],\n",
        "       [ 25. ,   0.4],\n",
        "       [ 35. ,   0.2],\n",
        "       [ 35. ,   0.3],\n",
        "       [ 35. ,   0.2],\n",
        "       [ 25. ,   0.3],\n",
        "       [ 35. ,   0.4],\n",
        "       [ 25. ,   0.2],\n",
        "       [ 30. ,   0.3],\n",
        "       [ 30. ,   0.4]])"
       ]
      }
     ],
     "prompt_number": 63
    },
    {
     "cell_type": "code",
     "collapsed": false,
     "input": [
      "def getFlowArr(permeateAndStage):\n",
      "    \"\"\"Get a retentate scale to set a value to based on a permeate\n",
      "    flow and a stage cut\"\"\"\n",
      "    permeateScale = permeateAndStage[:,0]\n",
      "    stageCut = permeateAndStage[:,1]\n",
      "    PF = pflow(permeateScale)\n",
      "    retentateFlow = PF/stageCut - PF\n",
      "    return rscale(retentateFlow)"
     ],
     "language": "python",
     "metadata": {},
     "outputs": [],
     "prompt_number": 66
    },
    {
     "cell_type": "code",
     "collapsed": false,
     "input": [
      "trials = np.array([PressureSettings,getFlowArr(conditions)]).T\n",
      "trials"
     ],
     "language": "python",
     "metadata": {},
     "outputs": [
      {
       "metadata": {},
       "output_type": "pyout",
       "prompt_number": 73,
       "text": [
        "array([array([100, 120, 140]),\n",
        "       array([ 18.35329042,  27.57742652,  15.48090398,  44.66997937,\n",
        "        37.78272121,  19.10495259,  37.78272121,  37.78272121,\n",
        "        23.16695763,  19.10495259,  15.48090398,  18.35329042,\n",
        "        12.86624675,  27.57742652,  12.86624675,  23.16695763,\n",
        "        31.35089048,  31.35089048,  12.86624675,  44.66997937,\n",
        "        27.57742652,  44.66997937,  19.10495259,  18.35329042,\n",
        "        31.35089048,  23.16695763,  15.48090398])], dtype=object)"
       ]
      }
     ],
     "prompt_number": 73
    },
    {
     "cell_type": "code",
     "collapsed": false,
     "input": [
      "x = np.array([1,3,5,7])\n",
      "y = np.array([0,3,-1,5])\n",
      "lin = sci.interp1d(x,y,kind='linear')\n",
      "cub = sci.interp1d(x,y,kind='cubic')\n",
      "ner = sci.interp1d(x,y,kind='nearest')\n",
      "x2 = np.linspace(1,7,100)\n",
      "plt.plot(x,y,'ro')\n",
      "plt.plot(x2,lin(x2),label='linear')\n",
      "plt.plot(x2,cub(x2),label='cubic')\n",
      "plt.plot(x2,ner(x2),label='nearest')\n",
      "plt.legend(loc='best')"
     ],
     "language": "python",
     "metadata": {},
     "outputs": [
      {
       "metadata": {},
       "output_type": "pyout",
       "prompt_number": 70,
       "text": [
        "<matplotlib.legend.Legend at 0x7f10f9f1d588>"
       ]
      },
      {
       "metadata": {},
       "output_type": "display_data",
       "png": "[encoded data removed]",
       "text": [
        "<matplotlib.figure.Figure at 0x7f10f9f63710>"
       ]
      }
     ],
     "prompt_number": 70
    },
    {
     "cell_type": "code",
     "collapsed": false,
     "input": [
      "pScale = 30\n",
      "rScale = 24\n",
      "print(\"retentate flow is\\t{:.2f} L\\min\\nPermeate flow is\\t{:.2f} L\\min\".format(float(rflow(rScale)),float(pflow(pScale))))\n",
      "retPercent = .11\n",
      "permPercent = .455\n",
      "airPercent = .209\n",
      "x = rflow(rScale)\n",
      "y=pflow(pScale)\n",
      "airFlow = x+y\n",
      "error = abs(airPercent*(x+y)-x*retPercent - y*permPercent)\n",
      "print(\"The feed is supposedly {:.2f} L\\min, which leaves the mass balance at {:.1%} off\".format(airFlow,error))\n"
     ],
     "language": "python",
     "metadata": {},
     "outputs": [
      {
       "output_type": "stream",
       "stream": "stdout",
       "text": [
        "retentate flow is\t8.02 L\\min\n",
        "Permeate flow is\t3.30 L\\min\n",
        "The feed is supposedly 11.32 L\\min, which leaves the mass balance at 1.9% off\n"
       ]
      }
     ],
     "prompt_number": 102
    },
    {
     "cell_type": "code",
     "collapsed": false,
     "input": [
      "x+y"
     ],
     "language": "python",
     "metadata": {},
     "outputs": [
      {
       "metadata": {},
       "output_type": "pyout",
       "prompt_number": 77,
       "text": [
        "23.266999999999975"
       ]
      }
     ],
     "prompt_number": 77
    },
    {
     "cell_type": "code",
     "collapsed": false,
     "input": [],
     "language": "python",
     "metadata": {},
     "outputs": []
    }
   ],
   "metadata": {}
  }
 ]
}