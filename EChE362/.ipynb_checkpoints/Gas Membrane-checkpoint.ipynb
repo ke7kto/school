{
 "metadata": {
  "name": "",
  "signature": "sha256:9f885f0761d6bb6316f9533f953a0e311ce52f44672129aae5c1ebae286f0d29"
 },
 "nbformat": 3,
 "nbformat_minor": 0,
 "worksheets": [
  {
   "cells": [
    {
     "cell_type": "code",
     "collapsed": false,
     "input": [
      "import scipy.integrate as sci\n",
      "import scipy.optimize as sco\n",
      "import numpy as np\n",
      "import scipy.constants as c"
     ],
     "language": "python",
     "metadata": {},
     "outputs": [],
     "prompt_number": 84
    },
    {
     "cell_type": "code",
     "collapsed": false,
     "input": [
      "Nmod = 4\n",
      "lf = 1.45\n",
      "Dp = 2.43*c.centi\n",
      "Do = 495*c.micron\n",
      "Di = 245*c.micron\n",
      "V = 11 *c.liter/c.minute\n",
      "mu = 1.983 * 1e-5\n",
      "eta = 0.5\n",
      "perm = 5\n",
      "P = 110*c.psi\n",
      "Nfb = pi*eta/(2*sqrt(3))*(Dp/Do)**2\n",
      "Nf = Nfb*Nmod\n",
      "A = pi*Nf*Do*lf\n",
      "#A = area\n",
      "#P = Retentate pressure\n",
      "#p = Permeate pressure\n",
      "#Vp = Permeate flow rate\n",
      "#Vp = perm*A*(P-p)\n",
      "Dis = np.arange(40,400)*1e-6\n",
      "Dos = 16*Dis**0.62\n",
      "def dV(y,L,Di,Do):\n",
      "    u = V/Nf*4/(pi*Di**2)\n",
      "    dy = np.zeros(2)\n",
      "    dy[0] = pi*Nf*Do*perm*(P-y[1])\n",
      "    dy[1] = 32*mu*u/Di**2\n",
      "    return dy\n",
      "V0 = 1\n",
      "P0 = 32*c.psi\n",
      "L = np.array([0,lf])\n",
      "def getP0(VP,Di,Do):\n",
      "    P0=VP[0]\n",
      "    outputConditions = sci.odeint(dV,[V0,P0],L,args=(Di,Do))\n",
      "    return V - outputConditions[1,0]\n",
      "#p = sco.fsolve(getP0,[P0])/c.psi\n",
      "p = np.zeros(len(Dis))\n",
      "for i in range(len(Dis)):\n",
      "    p[i] = sco.fsolve(getP0,[P0],args=(Dis[i],Dos[i]))\n",
      "plt.plot(Dis,p)\n",
      "plt.ylim(0,P/2)\n",
      "plt.xlim(0.000048,0.00006)\n",
      "print(0.000048/c.micron,0.00006/c.micron)"
     ],
     "language": "python",
     "metadata": {},
     "outputs": [
      {
       "output_type": "stream",
       "stream": "stdout",
       "text": [
        "48.0 60.00000000000001\n"
       ]
      },
      {
       "metadata": {},
       "output_type": "display_data",
       "png": "[encoded data removed]",
       "text": [
        "<matplotlib.figure.Figure at 0x7fa76cdd4160>"
       ]
      }
     ],
     "prompt_number": 106
    },
    {
     "cell_type": "code",
     "collapsed": false,
     "input": [
      "p"
     ],
     "language": "python",
     "metadata": {},
     "outputs": [
      {
       "metadata": {},
       "output_type": "pyout",
       "prompt_number": 93,
       "text": [
        "array([ 109.82018839])"
       ]
      }
     ],
     "prompt_number": 93
    },
    {
     "cell_type": "code",
     "collapsed": false,
     "input": [],
     "language": "python",
     "metadata": {},
     "outputs": []
    }
   ],
   "metadata": {}
  }
 ]
}